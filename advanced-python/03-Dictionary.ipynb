{
  "cells": [
    {
      "cell_type": "markdown",
      "metadata": {
        "id": "vlGUJsdLSc1d"
      },
      "source": [
        "# Dictionaries\n",
        "A dictionary is a collection which is unordered, changeable and indexed. A dictionary consists of a collection of key-value pairs. Each key-value pair maps the key to its associated value. A dictionary is written in braces. Each key is separated from its value by a colon (:), and the items are separated by commas.\n",
        "\n",
        "`my_dict = {\"name\":\"Max\", \"age\":28, \"city\":\"New York\"}`"
      ]
    },
    {
      "cell_type": "markdown",
      "metadata": {
        "id": "WQR7W23xSc1i"
      },
      "source": [
        "#### Create a dictionary\n",
        "Create a dictionary with braces, or with the built-in dict funtion."
      ]
    },
    {
      "cell_type": "code",
      "execution_count": 1,
      "metadata": {
        "id": "Zq0_pemYSc1j",
        "outputId": "e044ead2-5cb2-4a6a-c6ce-818969a8fa23",
        "colab": {
          "base_uri": "https://localhost:8080/"
        }
      },
      "outputs": [
        {
          "output_type": "stream",
          "name": "stdout",
          "text": [
            "{'name': 'Max', 'age': 28, 'city': 'New York'}\n",
            "{'name': 'Lisa', 'age': 27, 'city': 'Boston'}\n"
          ]
        }
      ],
      "source": [
        "my_dict = {\"name\":\"Max\", \"age\":28, \"city\":\"New York\"}\n",
        "print(my_dict)\n",
        "\n",
        "# or use the dict constructor, note: no quotes necessary for keys\n",
        "my_dict_2 = dict(name=\"Lisa\", age=27, city=\"Boston\")\n",
        "print(my_dict_2)"
      ]
    },
    {
      "cell_type": "markdown",
      "metadata": {
        "id": "yJu0tAy2Sc1l"
      },
      "source": [
        "#### Access items"
      ]
    },
    {
      "cell_type": "code",
      "execution_count": null,
      "metadata": {
        "id": "1y5WR5NMSc1m",
        "outputId": "99e458a4-4337-4d3f-addd-e1260f40f206"
      },
      "outputs": [
        {
          "name": "stdout",
          "output_type": "stream",
          "text": [
            "Max\n"
          ]
        }
      ],
      "source": [
        "name_in_dict = my_dict[\"name\"]\n",
        "print(name_in_dict)\n",
        "\n",
        "# KeyError if no key is found\n",
        "# print(my_dict[\"lastname\"])"
      ]
    },
    {
      "cell_type": "markdown",
      "metadata": {
        "id": "lUL0a_tVSc1m"
      },
      "source": [
        "#### Add and change items\n",
        "Simply add or access a key and asign the value."
      ]
    },
    {
      "cell_type": "code",
      "execution_count": 2,
      "metadata": {
        "id": "yRdCVw0TSc1n",
        "outputId": "cb0f8628-a0a6-4add-9559-a4b9fc47c9c9",
        "colab": {
          "base_uri": "https://localhost:8080/"
        }
      },
      "outputs": [
        {
          "output_type": "stream",
          "name": "stdout",
          "text": [
            "{'name': 'Max', 'age': 28, 'city': 'New York', 'email': 'max@xyz.com'}\n",
            "{'name': 'Max', 'age': 28, 'city': 'New York', 'email': 'coolmax@xyz.com'}\n"
          ]
        }
      ],
      "source": [
        "# add a new key\n",
        "my_dict[\"email\"] = \"max@xyz.com\"\n",
        "print(my_dict)\n",
        "\n",
        "# or overwrite the now existing key\n",
        "my_dict[\"email\"] = \"coolmax@xyz.com\"\n",
        "print(my_dict)"
      ]
    },
    {
      "cell_type": "markdown",
      "metadata": {
        "id": "9wME3cSgSc1n"
      },
      "source": [
        "#### Delete items"
      ]
    },
    {
      "cell_type": "code",
      "execution_count": null,
      "metadata": {
        "id": "SHq-kmzkSc1o",
        "outputId": "4c0233f0-bfe5-46ba-e103-83d65d74f6c2"
      },
      "outputs": [
        {
          "name": "stdout",
          "output_type": "stream",
          "text": [
            "popped value: 28\n",
            "popped item: ('city', 'New York')\n",
            "{'name': 'Max'}\n"
          ]
        }
      ],
      "source": [
        "# delete a key-value pair\n",
        "del my_dict[\"email\"]\n",
        "\n",
        "# this returns the value and removes the key-value pair\n",
        "print(\"popped value:\", my_dict.pop(\"age\"))\n",
        "\n",
        "# return and removes the last inserted key-value pair\n",
        "# (in versions before Python 3.7 it removes an arbitrary pair)\n",
        "print(\"popped item:\", my_dict.popitem())\n",
        "\n",
        "print(my_dict)\n",
        "\n",
        "# clear() : remove all pairs\n",
        "# my_dict.clear()"
      ]
    },
    {
      "cell_type": "markdown",
      "metadata": {
        "id": "psPJeRpbSc1o"
      },
      "source": [
        "#### Check for keys"
      ]
    },
    {
      "cell_type": "code",
      "execution_count": null,
      "metadata": {
        "id": "_a7sjnQPSc1p",
        "outputId": "0aeea4d0-de3e-4632-9616-2156ed68221f"
      },
      "outputs": [
        {
          "name": "stdout",
          "output_type": "stream",
          "text": [
            "Max\n",
            "No key found\n"
          ]
        }
      ],
      "source": [
        "my_dict = {\"name\":\"Max\", \"age\":28, \"city\":\"New York\"}\n",
        "# use if .. in ..\n",
        "if \"name\" in my_dict:\n",
        "    print(my_dict[\"name\"])\n",
        "\n",
        "# use try except\n",
        "try:\n",
        "    print(my_dict[\"firstname\"])\n",
        "except KeyError:\n",
        "    print(\"No key found\")"
      ]
    },
    {
      "cell_type": "markdown",
      "metadata": {
        "id": "kEhomwBZSc1p"
      },
      "source": [
        "#### Looping through dictionary"
      ]
    },
    {
      "cell_type": "code",
      "execution_count": null,
      "metadata": {
        "id": "1ok72NbPSc1p",
        "outputId": "475785a1-1df6-4d5e-a4e1-6da330f19bc5"
      },
      "outputs": [
        {
          "name": "stdout",
          "output_type": "stream",
          "text": [
            "name Max\n",
            "age 28\n",
            "city New York\n",
            "name\n",
            "age\n",
            "city\n",
            "Max\n",
            "28\n",
            "New York\n",
            "name Max\n",
            "age 28\n",
            "city New York\n"
          ]
        }
      ],
      "source": [
        "# loop over keys\n",
        "for key in my_dict:\n",
        "    print(key, my_dict[key])\n",
        "\n",
        "# loop over keys\n",
        "for key in my_dict.keys():\n",
        "    print(key)\n",
        "\n",
        "# loop over values\n",
        "for value in my_dict.values():\n",
        "    print(value)\n",
        "\n",
        "# loop over keys and values\n",
        "for key, value in my_dict.items():\n",
        "    print(key, value)"
      ]
    },
    {
      "cell_type": "markdown",
      "metadata": {
        "id": "L0qtxToXSc1q"
      },
      "source": [
        "#### Copy a dictionary\n",
        "Be careful when copying references."
      ]
    },
    {
      "cell_type": "code",
      "execution_count": null,
      "metadata": {
        "id": "cQNJqJWcSc1q",
        "outputId": "88a423f6-0901-41d7-e263-4d582fd83831"
      },
      "outputs": [
        {
          "name": "stdout",
          "output_type": "stream",
          "text": [
            "{'name': 'Lisa', 'age': 28, 'city': 'New York'}\n",
            "{'name': 'Lisa', 'age': 28, 'city': 'New York'}\n",
            "{'name': 'Lisa', 'age': 28, 'city': 'New York'}\n",
            "{'name': 'Max', 'age': 28, 'city': 'New York'}\n"
          ]
        }
      ],
      "source": [
        "dict_org = {\"name\":\"Max\", \"age\":28, \"city\":\"New York\"}\n",
        "\n",
        "# this just copies the reference to the dict, so be careful\n",
        "dict_copy = dict_org\n",
        "\n",
        "# now modifying the copy also affects the original\n",
        "dict_copy[\"name\"] = \"Lisa\"\n",
        "print(dict_copy)\n",
        "print(dict_org)\n",
        "\n",
        "# use copy(), or dict(x) to actually copy the dict\n",
        "dict_org = {\"name\":\"Max\", \"age\":28, \"city\":\"New York\"}\n",
        "\n",
        "dict_copy = dict_org.copy()\n",
        "# dict_copy = dict(dict_org)\n",
        "\n",
        "# now modifying the copy does not affect the original\n",
        "dict_copy[\"name\"] = \"Lisa\"\n",
        "print(dict_copy)\n",
        "print(dict_org)"
      ]
    },
    {
      "cell_type": "markdown",
      "metadata": {
        "id": "RJlW5Y_zSc1q"
      },
      "source": [
        "#### Merge two dictionaries"
      ]
    },
    {
      "cell_type": "code",
      "execution_count": null,
      "metadata": {
        "id": "qZEs4_qhSc1r",
        "outputId": "11bfd165-0d73-4c0a-ae79-b45ddcbb71b7"
      },
      "outputs": [
        {
          "name": "stdout",
          "output_type": "stream",
          "text": [
            "{'name': 'Lisa', 'age': 27, 'email': 'max@xyz.com', 'city': 'Boston'}\n"
          ]
        }
      ],
      "source": [
        "# Use the update() method to merge 2 dicts\n",
        "# existing keys are overwritten, new keys are added\n",
        "my_dict = {\"name\":\"Max\", \"age\":28, \"email\":\"max@xyz.com\"}\n",
        "my_dict_2 = dict(name=\"Lisa\", age=27, city=\"Boston\")\n",
        "\n",
        "my_dict.update(my_dict_2)\n",
        "print(my_dict)"
      ]
    },
    {
      "cell_type": "markdown",
      "metadata": {
        "id": "C0ujatOFSc1r"
      },
      "source": [
        "#### Possible key types\n",
        "Any immutable type, like strings or numbers can be used as a key.\n",
        "Also, a tuple can be used if it contains only immutable elements."
      ]
    },
    {
      "cell_type": "code",
      "execution_count": null,
      "metadata": {
        "id": "rD64ZSRHSc1r",
        "outputId": "94da60ca-0cdb-4b33-909e-5bbde40481cc"
      },
      "outputs": [
        {
          "name": "stdout",
          "output_type": "stream",
          "text": [
            "9 36 81\n",
            "15\n"
          ]
        }
      ],
      "source": [
        "# use numbers as key, but be careful\n",
        "my_dict = {3: 9, 6: 36, 9:81}\n",
        "# do not mistake the keys as indices of a list, e.g my_dict[0] is not possible here\n",
        "print(my_dict[3], my_dict[6], my_dict[9])\n",
        "\n",
        "# use a tuple with immutable elements (e.g. number, string)\n",
        "my_tuple = (8, 7)\n",
        "my_dict = {my_tuple: 15}\n",
        "\n",
        "print(my_dict[my_tuple])\n",
        "# print(my_dict[8, 7])\n",
        "\n",
        "# a list is not possible because it is not immutable\n",
        "# this will raise an Error:\n",
        "# my_list = [8, 7]\n",
        "# my_dict = {my_list: 15}"
      ]
    },
    {
      "cell_type": "markdown",
      "metadata": {
        "id": "TthEUYoDSc1s"
      },
      "source": [
        "#### Nested dictionaries\n",
        "The values can also be container types (e.g. lists, tuples, dictionaries)."
      ]
    },
    {
      "cell_type": "code",
      "execution_count": null,
      "metadata": {
        "id": "jp3ZQ2RFSc1s",
        "outputId": "a88625e1-9aa9-4fb9-a592-70a073f27faa"
      },
      "outputs": [
        {
          "name": "stdout",
          "output_type": "stream",
          "text": [
            "{'dictA': {'name': 'Max', 'age': 28}, 'dictB': {'name': 'Alex', 'age': 25}}\n"
          ]
        }
      ],
      "source": [
        "my_dict_1 = {\"name\": \"Max\", \"age\": 28}\n",
        "my_dict_2 = {\"name\": \"Alex\", \"age\": 25}\n",
        "nested_dict = {\"dictA\": my_dict_1,\n",
        "               \"dictB\": my_dict_2}\n",
        "print(nested_dict)"
      ]
    }
  ],
  "metadata": {
    "kernelspec": {
      "display_name": "Python [conda env:pythonengineer_env]",
      "language": "python",
      "name": "conda-env-pythonengineer_env-py"
    },
    "language_info": {
      "codemirror_mode": {
        "name": "ipython",
        "version": 3
      },
      "file_extension": ".py",
      "mimetype": "text/x-python",
      "name": "python",
      "nbconvert_exporter": "python",
      "pygments_lexer": "ipython3",
      "version": "3.7.3"
    },
    "colab": {
      "provenance": []
    }
  },
  "nbformat": 4,
  "nbformat_minor": 0
}