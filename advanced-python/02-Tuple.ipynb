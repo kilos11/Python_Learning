{
  "cells": [
    {
      "cell_type": "markdown",
      "metadata": {
        "id": "I-BKuo10P5Lt"
      },
      "source": [
        "# Tuple\n",
        "\n",
        "A tuple is a collection of objects which is ordered and immutable. Tuples are similar to lists, the main difference ist the immutability. In Python tuples are written with round brackets and comma separated values.\n",
        "\n",
        "`my_tuple = (\"Max\", 28, \"New York\")`\n",
        "\n",
        "#### Reasons to use a tuple over a list\n",
        "\n",
        "- Generally used for objects that belong together.\n",
        "- Use tuple for heterogeneous (different) datatypes and list for homogeneous (similar) datatypes.\n",
        "- Since tuple are immutable, iterating through tuple is slightly faster than with list.\n",
        "- Tuples with their immutable elements can be used as key for a dictionary. This is not possible with lists.\n",
        "- If you have data that doesn't change, implementing it as tuple will guarantee that it remains write-protected."
      ]
    },
    {
      "cell_type": "markdown",
      "metadata": {
        "id": "hvXKQSNwP5Ly"
      },
      "source": [
        "#### Create a tuple\n",
        "\n",
        "Tuples are created with round brackets and comma separated values. Or use the built-in tuple function."
      ]
    },
    {
      "cell_type": "code",
      "execution_count": 1,
      "metadata": {
        "id": "JL-nSxJ5P5Ly",
        "outputId": "3fe9eb91-f9e5-4b7a-8f5d-ac9bb8db35f6",
        "colab": {
          "base_uri": "https://localhost:8080/"
        }
      },
      "outputs": [
        {
          "output_type": "stream",
          "name": "stdout",
          "text": [
            "('Max', 28, 'New York')\n",
            "('Linda', 25, 'Miami')\n",
            "(25,)\n",
            "(1, 2, 3)\n"
          ]
        }
      ],
      "source": [
        "tuple_1 = (\"Max\", 28, \"New York\")\n",
        "tuple_2 = \"Linda\", 25, \"Miami\" # Parentheses are optional\n",
        "\n",
        "# Special case: a tuple with only one element needs to have a comma at the end,\n",
        "# otherwise it is not recognized as tuple\n",
        "tuple_3 = (25,)\n",
        "print(tuple_1)\n",
        "print(tuple_2)\n",
        "print(tuple_3)\n",
        "\n",
        "# Or convert an iterable (list, dict, string) with the built-in tuple function\n",
        "tuple_4 = tuple([1,2,3])\n",
        "print(tuple_4)"
      ]
    },
    {
      "cell_type": "markdown",
      "metadata": {
        "id": "hnA2EDfvP5L0"
      },
      "source": [
        "#### Access elements\n",
        "You access the tuple items by referring to the index number. Note that the indices start at 0."
      ]
    },
    {
      "cell_type": "code",
      "execution_count": null,
      "metadata": {
        "id": "c0TroatWP5L1",
        "outputId": "a329dd97-1f70-4a77-b247-9d25352b2a6e"
      },
      "outputs": [
        {
          "name": "stdout",
          "output_type": "stream",
          "text": [
            "Max\n",
            "New York\n"
          ]
        }
      ],
      "source": [
        "item = tuple_1[0]\n",
        "print(item)\n",
        "# You can also use negative indexing, e.g -1 refers to the last item,\n",
        "# -2 to the second last item, and so on\n",
        "item = tuple_1[-1]\n",
        "print(item)"
      ]
    },
    {
      "cell_type": "markdown",
      "metadata": {
        "id": "RZLhoVrBP5L1"
      },
      "source": [
        "#### Add or change items\n",
        "Not possible and will raise a TypeError."
      ]
    },
    {
      "cell_type": "code",
      "execution_count": null,
      "metadata": {
        "id": "37uQYwbtP5L2",
        "outputId": "1b22b80f-3041-4356-fe56-f56a2279518d"
      },
      "outputs": [
        {
          "ename": "TypeError",
          "evalue": "'tuple' object does not support item assignment",
          "output_type": "error",
          "traceback": [
            "\u001b[0;31m---------------------------------------------------------------------------\u001b[0m",
            "\u001b[0;31mTypeError\u001b[0m                                 Traceback (most recent call last)",
            "\u001b[0;32m<ipython-input-5-c391d8981369>\u001b[0m in \u001b[0;36m<module>\u001b[0;34m\u001b[0m\n\u001b[0;32m----> 1\u001b[0;31m \u001b[0mtuple_1\u001b[0m\u001b[0;34m[\u001b[0m\u001b[0;36m2\u001b[0m\u001b[0;34m]\u001b[0m \u001b[0;34m=\u001b[0m \u001b[0;34m\"Boston\"\u001b[0m\u001b[0;34m\u001b[0m\u001b[0;34m\u001b[0m\u001b[0m\n\u001b[0m",
            "\u001b[0;31mTypeError\u001b[0m: 'tuple' object does not support item assignment"
          ]
        }
      ],
      "source": [
        "tuple_1[2] = \"Boston\""
      ]
    },
    {
      "cell_type": "markdown",
      "metadata": {
        "id": "v1z-bsbrP5L2"
      },
      "source": [
        "#### Delete a tuple"
      ]
    },
    {
      "cell_type": "code",
      "execution_count": null,
      "metadata": {
        "collapsed": true,
        "id": "yG6SuYK8P5L3"
      },
      "outputs": [],
      "source": [
        "del tuple_2"
      ]
    },
    {
      "cell_type": "markdown",
      "metadata": {
        "id": "u1dWNMobP5L3"
      },
      "source": [
        "#### Iterating"
      ]
    },
    {
      "cell_type": "code",
      "execution_count": null,
      "metadata": {
        "id": "pk8yMk6AP5L4",
        "outputId": "6c16d27f-0a62-4e3d-dcc0-16dec9363cf2"
      },
      "outputs": [
        {
          "name": "stdout",
          "output_type": "stream",
          "text": [
            "Max\n",
            "28\n",
            "New York\n"
          ]
        }
      ],
      "source": [
        "# Iterating over a tuple by using a for in loop\n",
        "for i in tuple_1:\n",
        "    print(i)"
      ]
    },
    {
      "cell_type": "markdown",
      "metadata": {
        "id": "QQ0QJz_vP5L4"
      },
      "source": [
        "#### Check if an item exists"
      ]
    },
    {
      "cell_type": "code",
      "execution_count": null,
      "metadata": {
        "id": "XS93nierP5L4",
        "outputId": "170f7213-cbe5-4677-f354-fae56d6ab3f2"
      },
      "outputs": [
        {
          "name": "stdout",
          "output_type": "stream",
          "text": [
            "yes\n"
          ]
        }
      ],
      "source": [
        "if \"New York\" in tuple_1:\n",
        "    print(\"yes\")\n",
        "else:\n",
        "    print(\"no\")"
      ]
    },
    {
      "cell_type": "markdown",
      "metadata": {
        "id": "6k4tugCpP5L4"
      },
      "source": [
        "#### Usefule methods"
      ]
    },
    {
      "cell_type": "code",
      "execution_count": null,
      "metadata": {
        "id": "DdQ3Gi6ZP5L5",
        "outputId": "4a757a5d-85a8-437f-9a04-faa646cd7ee3"
      },
      "outputs": [
        {
          "name": "stdout",
          "output_type": "stream",
          "text": [
            "5\n",
            "2\n",
            "3\n",
            "('a', 'b', 'a', 'b', 'a', 'b', 'a', 'b', 'a', 'b')\n",
            "(1, 2, 3, 4, 5, 6)\n",
            "('a', 'b', 'c', 'd')\n",
            "['a', 'b', 'c', 'd']\n",
            "('H', 'e', 'l', 'l', 'o')\n"
          ]
        }
      ],
      "source": [
        "my_tuple = ('a','p','p','l','e',)\n",
        "\n",
        "# len() : get the number of elements in a tuple\n",
        "print(len(my_tuple))\n",
        "\n",
        "# count(x) : Return the number of items that is equal to x\n",
        "print(my_tuple.count('p'))\n",
        "\n",
        "# index(x) : Return index of first item that is equal to x\n",
        "print(my_tuple.index('l'))\n",
        "\n",
        "# repetition\n",
        "my_tuple = ('a', 'b') * 5\n",
        "print(my_tuple)\n",
        "\n",
        "# concatenation\n",
        "my_tuple = (1,2,3) + (4,5,6)\n",
        "print(my_tuple)\n",
        "\n",
        "# convert list to a tuple and vice versa\n",
        "my_list = ['a', 'b', 'c', 'd']\n",
        "list_to_tuple = tuple(my_list)\n",
        "print(list_to_tuple)\n",
        "\n",
        "tuple_to_list = list(list_to_tuple)\n",
        "print(tuple_to_list)\n",
        "\n",
        "# convert string to tuple\n",
        "string_to_tuple = tuple('Hello')\n",
        "print(string_to_tuple)"
      ]
    },
    {
      "cell_type": "markdown",
      "metadata": {
        "id": "hbsb93OEP5L5"
      },
      "source": [
        "#### Slicing\n",
        "Access sub parts of the tuple wih the use of colon (:), just as with strings."
      ]
    },
    {
      "cell_type": "code",
      "execution_count": null,
      "metadata": {
        "id": "4m-2N3GqP5L5",
        "outputId": "3096caff-2d7a-4c7e-a74d-6a0245b4aeae"
      },
      "outputs": [
        {
          "name": "stdout",
          "output_type": "stream",
          "text": [
            "(2, 3)\n",
            "(3, 4, 5, 6, 7, 8, 9, 10)\n",
            "(1, 2, 3)\n",
            "(1, 3, 5, 7, 9)\n",
            "(10, 9, 8, 7, 6, 5, 4, 3, 2, 1)\n"
          ]
        }
      ],
      "source": [
        "# a[start:stop:step], default step is 1\n",
        "a = (1, 2, 3, 4, 5, 6, 7, 8, 9, 10)\n",
        "b = a[1:3] # Note that the last index is not included\n",
        "print(b)\n",
        "b = a[2:] # until the end\n",
        "print(b)\n",
        "b = a[:3] # from beginning\n",
        "print(b)\n",
        "b = a[::2] # start to end with every second item\n",
        "print(b)\n",
        "b = a[::-1] # reverse tuple\n",
        "print(b)"
      ]
    },
    {
      "cell_type": "markdown",
      "metadata": {
        "id": "i8bytrkoP5L5"
      },
      "source": [
        "#### Unpack tuple"
      ]
    },
    {
      "cell_type": "code",
      "execution_count": null,
      "metadata": {
        "id": "sUkqCoZhP5L6",
        "outputId": "e341013e-8d1e-4f79-e99d-3dc4068ea242"
      },
      "outputs": [
        {
          "name": "stdout",
          "output_type": "stream",
          "text": [
            "Max\n",
            "28\n",
            "New York\n",
            "0\n",
            "[1, 2, 3, 4]\n",
            "5\n"
          ]
        }
      ],
      "source": [
        "# number of variables have to match number of tuple elements\n",
        "tuple_1 = (\"Max\", 28, \"New York\")\n",
        "name, age, city = tuple_1\n",
        "print(name)\n",
        "print(age)\n",
        "print(city)\n",
        "\n",
        "# tip: unpack multiple elements to a list with *\n",
        "my_tuple = (0, 1, 2, 3, 4, 5)\n",
        "item_first, *items_between, item_last = my_tuple\n",
        "print(item_first)\n",
        "print(items_between)\n",
        "print(item_last)"
      ]
    },
    {
      "cell_type": "markdown",
      "metadata": {
        "id": "W0gVN2XgP5L6"
      },
      "source": [
        "#### Nested tuples\n",
        "Tuples can contain other tuples (or other container types)."
      ]
    },
    {
      "cell_type": "code",
      "execution_count": null,
      "metadata": {
        "id": "qQ4VWsvJP5L6",
        "outputId": "c5baf853-21da-4612-dc31-f3b1f0c50456"
      },
      "outputs": [
        {
          "name": "stdout",
          "output_type": "stream",
          "text": [
            "((0, 1), ('age', 'height'))\n",
            "(0, 1)\n"
          ]
        }
      ],
      "source": [
        "a = ((0, 1), ('age', 'height'))\n",
        "print(a)\n",
        "print(a[0])"
      ]
    },
    {
      "cell_type": "markdown",
      "metadata": {
        "id": "Tzm1eRR_P5L6"
      },
      "source": [
        "#### Compare tuple and list\n",
        "The immutability of tuples enables Python to make internal optimizations. Thus, tuples can be more efficient when working with large data."
      ]
    },
    {
      "cell_type": "code",
      "execution_count": null,
      "metadata": {
        "id": "wMHuzD89P5L6",
        "outputId": "5c8fb0fe-d683-424b-a663-b1d25f58b5ea"
      },
      "outputs": [
        {
          "name": "stdout",
          "output_type": "stream",
          "text": [
            "104 bytes\n",
            "88 bytes\n",
            "0.12474981700000853\n",
            "0.014836141000017733\n"
          ]
        }
      ],
      "source": [
        "# compare the size\n",
        "import sys\n",
        "my_list = [0, 1, 2, \"hello\", True]\n",
        "my_tuple = (0, 1, 2, \"hello\", True)\n",
        "print(sys.getsizeof(my_list), \"bytes\")\n",
        "print(sys.getsizeof(my_tuple), \"bytes\")\n",
        "\n",
        "# compare the execution time of a list vs. tuple creation statement\n",
        "import timeit\n",
        "print(timeit.timeit(stmt=\"[0, 1, 2, 3, 4, 5]\", number=1000000))\n",
        "print(timeit.timeit(stmt=\"(0, 1, 2, 3, 4, 5)\", number=1000000))"
      ]
    }
  ],
  "metadata": {
    "kernelspec": {
      "display_name": "Python [conda env:pythonengineer_env]",
      "language": "python",
      "name": "conda-env-pythonengineer_env-py"
    },
    "language_info": {
      "codemirror_mode": {
        "name": "ipython",
        "version": 3
      },
      "file_extension": ".py",
      "mimetype": "text/x-python",
      "name": "python",
      "nbconvert_exporter": "python",
      "pygments_lexer": "ipython3",
      "version": "3.7.3"
    },
    "colab": {
      "provenance": []
    }
  },
  "nbformat": 4,
  "nbformat_minor": 0
}