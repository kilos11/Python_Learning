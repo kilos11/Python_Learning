{
  "cells": [
    {
      "cell_type": "markdown",
      "metadata": {
        "id": "view-in-github",
        "colab_type": "text"
      },
      "source": [
        "<a href=\"https://colab.research.google.com/github/kilos11/Python_Learning/blob/main/Control__Flows.ipynb\" target=\"_parent\"><img src=\"https://colab.research.google.com/assets/colab-badge.svg\" alt=\"Open In Colab\"/></a>"
      ]
    },
    {
      "cell_type": "code",
      "execution_count": null,
      "metadata": {
        "colab": {
          "base_uri": "https://localhost:8080/"
        },
        "id": "CO5BPb_LTXXY",
        "outputId": "37187934-2495-41d4-889b-f92c468ec401"
      },
      "outputs": [
        {
          "name": "stdout",
          "output_type": "stream",
          "text": [
            "1\n",
            "1\n",
            "2\n",
            "3\n",
            "5\n",
            "8\n"
          ]
        }
      ],
      "source": [
        "#Fibonacci series:\n",
        "# the sum of two elements defines the next\n",
        "a, b = 0, 1\n",
        "while b < 10:\n",
        "    print(b)\n",
        "    a, b = b, a+b"
      ]
    },
    {
      "cell_type": "code",
      "execution_count": null,
      "metadata": {
        "colab": {
          "base_uri": "https://localhost:8080/"
        },
        "id": "AI-DRyJeZ66S",
        "outputId": "88159c5c-2d7e-4b9e-e5bd-b3dcd888357c"
      },
      "outputs": [
        {
          "name": "stdout",
          "output_type": "stream",
          "text": [
            "cat 3\n",
            "window 6\n",
            "defenestrate 12\n"
          ]
        }
      ],
      "source": [
        "# Measure some strings:\n",
        "words = ['cat', 'window', 'defenestrate']\n",
        "for w in words:\n",
        "    print(w, len(w))"
      ]
    },
    {
      "cell_type": "code",
      "execution_count": null,
      "metadata": {
        "colab": {
          "base_uri": "https://localhost:8080/"
        },
        "id": "B8yf0SkJa4Kp",
        "outputId": "e38a38a7-4182-4b12-8313-454756568cfe"
      },
      "outputs": [
        {
          "name": "stdout",
          "output_type": "stream",
          "text": [
            "range(0, 10)\n"
          ]
        },
        {
          "data": {
            "text/plain": [
              "[0, 1, 2, 3, 4, 5, 6, 7, 8, 9]"
            ]
          },
          "execution_count": 4,
          "metadata": {},
          "output_type": "execute_result"
        }
      ],
      "source": [
        "print(range(10))\n",
        "list(range(10))"
      ]
    },
    {
      "cell_type": "markdown",
      "metadata": {
        "id": "JLz4zKZ6b-AA"
      },
      "source": [
        "Prime_Numbers"
      ]
    },
    {
      "cell_type": "code",
      "execution_count": null,
      "metadata": {
        "id": "vqiUP_wZpiZH"
      },
      "outputs": [],
      "source": []
    },
    {
      "cell_type": "code",
      "execution_count": null,
      "metadata": {
        "colab": {
          "base_uri": "https://localhost:8080/"
        },
        "id": "8WBfox3fbl4I",
        "outputId": "2115ddb5-e951-47d6-e02a-05d409a55c6b"
      },
      "outputs": [
        {
          "name": "stdout",
          "output_type": "stream",
          "text": [
            "2 is a prime number\n",
            "3 is a prime number\n",
            "4 equals 2 * 2\n",
            "5 is a prime number\n",
            "6 equals 2 * 3\n",
            "7 is a prime number\n",
            "8 equals 2 * 4\n",
            "9 equals 3 * 3\n"
          ]
        }
      ],
      "source": [
        "for n in range(2, 10):\n",
        "    for x in range(2, n):\n",
        "        if n % x == 0:\n",
        "            print(n, 'equals', x, '*', n//x)\n",
        "            break\n",
        "    else:\n",
        "        # loop fell through without finding a factor\n",
        "        print(n, 'is a prime number')"
      ]
    },
    {
      "cell_type": "markdown",
      "metadata": {
        "id": "zPY5Dp3HpkFp"
      },
      "source": [
        "Continue Statement"
      ]
    },
    {
      "cell_type": "code",
      "execution_count": null,
      "metadata": {
        "colab": {
          "base_uri": "https://localhost:8080/"
        },
        "id": "P8XZSEg9prBn",
        "outputId": "f811e437-0984-453b-9250-f29b6c507aa1"
      },
      "outputs": [
        {
          "name": "stdout",
          "output_type": "stream",
          "text": [
            "Found an even number 2\n",
            "Found a number 3\n",
            "Found an even number 4\n",
            "Found a number 5\n",
            "Found an even number 6\n",
            "Found a number 7\n",
            "Found an even number 8\n",
            "Found a number 9\n"
          ]
        }
      ],
      "source": [
        "for num in range(2, 10):\n",
        "    if num % 2 == 0:\n",
        "        print(\"Found an even number\", num)\n",
        "        continue\n",
        "    print(\"Found a number\", num)"
      ]
    },
    {
      "cell_type": "code",
      "execution_count": null,
      "metadata": {
        "colab": {
          "base_uri": "https://localhost:8080/"
        },
        "id": "YWcHiiL-qgZX",
        "outputId": "b3ec8195-f992-4dcb-d609-63d0a604a42c"
      },
      "outputs": [
        {
          "name": "stdout",
          "output_type": "stream",
          "text": [
            "0 1 1 2 3 5 8 13 21 34 55 89 144 233 377 610 987 1597 \n"
          ]
        }
      ],
      "source": [
        "def fib(n):    # write Fibonacci series up to n\n",
        "    \"\"\"Print a Fibonacci series up to n.\"\"\"\n",
        "    a, b = 0, 1\n",
        "    while a < n:\n",
        "        print(a, end=' ')\n",
        "        a, b = b, a+b\n",
        "    print()\n",
        "\n",
        "# Now call the function we just defined:\n",
        "fib(2000)"
      ]
    },
    {
      "cell_type": "markdown",
      "metadata": {
        "id": "r8zLrdXRsnKb"
      },
      "source": [
        "Default_Aegument_Values"
      ]
    },
    {
      "cell_type": "code",
      "execution_count": null,
      "metadata": {
        "colab": {
          "base_uri": "https://localhost:8080/"
        },
        "id": "fzqwirUTskL_",
        "outputId": "b85b81a1-55f0-4445-c982-6d4afe95e9fb"
      },
      "outputs": [
        {
          "name": "stdout",
          "output_type": "stream",
          "text": [
            "Do you really want to quit?No\n",
            "Please try again!\n",
            "Do you really want to quit?no\n",
            "OK to overwrite the file?yes\n",
            "OK to overwrite the file?no\n"
          ]
        }
      ],
      "source": [
        "\n",
        "def ask_ok(prompt, retries=4, reminder='Please try again!'):\n",
        "    # This function takes three arguments:\n",
        "    # - prompt: The message to display as a prompt\n",
        "    # - retries: The maximum number of retries allowed\n",
        "    # - reminder: The reminder message to display if the input is invalid\n",
        "\n",
        "    while True:\n",
        "        ok = input(prompt)  # Ask the user for input\n",
        "        if ok in ('y', 'ye', 'yes'):  # If the input matches any positive response\n",
        "            return True  # Return True to indicate affirmative response\n",
        "        if ok in ('n', 'no', 'nop', 'nope'):  # If the input matches any negative response\n",
        "            return False  # Return False to indicate negative response\n",
        "        retries = retries - 1  # Decrement the number of retries\n",
        "        if retries < 0:  # If no retries left\n",
        "            raise ValueError('invalid user response')  # Raise an exception for invalid response\n",
        "        print(reminder)  # Print the reminder message\n",
        "\n",
        "# This function can be called in several ways:\n",
        "\n",
        "# Call the function with only the mandatory argument:\n",
        "ask_ok('Do you really want to quit?')\n",
        "\n",
        "# Call the function with one of the optional arguments:\n",
        "ask_ok('OK to overwrite the file?', 2)\n",
        "\n",
        "# Call the function with all arguments:\n",
        "ask_ok('OK to overwrite the file?', 2, 'Come on, only yes or no!')"
      ]
    },
    {
      "cell_type": "markdown",
      "source": [
        "The default value is evaluated only once. This makes a difference when the default is a mutable object such as a list, dictionary, or instances of most classes. For example, the following function accumulates the arguments passed to it on subsequent calls:"
      ],
      "metadata": {
        "id": "UQfTUQ5zHJUo"
      }
    },
    {
      "cell_type": "code",
      "source": [
        "\n",
        "def f(a, L=[]):\n",
        "    # This function appends the input 'a' to the list 'L' and returns 'L'.\n",
        "    # If 'L' is not provided, it creates a new empty list.\n",
        "\n",
        "    L.append(a)  # Append 'a' to the list 'L'\n",
        "    return L  # Return the modified list 'L'\n",
        "\n",
        "print(f(1))  # Call the function with 'a' as 1, and 'L' as the default empty list\n",
        "# Output: [1]\n",
        "# Explanation: The first call to the function appends 1 to the empty list and returns the modified list [1].\n",
        "\n",
        "print(f(2))  # Call the function with 'a' as 2, and 'L' as the previously modified list [1]\n",
        "# Output: [1, 2]\n",
        "# Explanation: The second call to the function appends 2 to the previous list [1] and returns the modified list [1, 2].\n",
        "\n",
        "print(f(3))  # Call the function with 'a' as 3, and 'L' as the previously modified list [1, 2]\n",
        "# Output: [1, 2, 3]\n",
        "# Explanation: The third call to the function appends 3 to the previous list [1, 2] and returns the modified list [1, 2, 3]."
      ],
      "metadata": {
        "colab": {
          "base_uri": "https://localhost:8080/"
        },
        "id": "F3AeVczLHRKn",
        "outputId": "8beeac29-83e0-405c-9f40-fff2d28c4401"
      },
      "execution_count": null,
      "outputs": [
        {
          "output_type": "stream",
          "name": "stdout",
          "text": [
            "[1]\n",
            "[1, 2]\n",
            "[1, 2, 3]\n"
          ]
        }
      ]
    },
    {
      "cell_type": "markdown",
      "source": [
        "If you don’t want the default to be shared between subsequent calls, you can write the function like this instead:"
      ],
      "metadata": {
        "id": "CUTZp8JrIdj3"
      }
    },
    {
      "cell_type": "code",
      "source": [
        "\n",
        "def f(a, L=None):\n",
        "    # This function appends the input 'a' to the list 'L' and returns 'L'.\n",
        "    # If 'L' is not provided or None, it creates a new empty list.\n",
        "\n",
        "    if L is None:  # Check if 'L' is None\n",
        "        L = []  # If 'L' is None, assign an empty list to 'L'\n",
        "    L.append(a)  # Append 'a' to the list 'L'\n",
        "    return L  # Return the modified list 'L'\n",
        "\n",
        "print(f(1))  # Call the function with 'a' as 1, and 'L' as None\n",
        "# Output: [1]\n",
        "# Explanation: Since 'L' is None, a new empty list is created and 1 is appended to it. The function returns [1].\n",
        "\n",
        "print(f(2))  # Call the function with 'a' as 2, and 'L' as None\n",
        "# Output: [2]\n",
        "# Explanation: Since 'L' is None, a new empty list is created and 2 is appended to it. The function returns [2].\n",
        "\n",
        "print(f(3))  # Call the function with 'a' as 3, and 'L' as None\n",
        "# Output: [3]\n",
        "# Explanation: Since 'L' is None, a new empty list is created and 3 is appended to it. The function returns [3]."
      ],
      "metadata": {
        "colab": {
          "base_uri": "https://localhost:8080/"
        },
        "id": "lrupJ9cOIiBZ",
        "outputId": "597fe842-c3f2-44be-81cb-e3a3cdd43d05"
      },
      "execution_count": null,
      "outputs": [
        {
          "output_type": "stream",
          "name": "stdout",
          "text": [
            "[1]\n",
            "[2]\n",
            "[3]\n"
          ]
        }
      ]
    },
    {
      "cell_type": "markdown",
      "source": [
        "Functions can also be called using keyword arguments of the form kwarg=value. For instance, the following function:"
      ],
      "metadata": {
        "id": "ZF9EklChJU6q"
      }
    },
    {
      "cell_type": "code",
      "source": [
        "\n",
        "def parrot(voltage, state='a stiff', action='voom', type='Norwegian Blue'):\n",
        "    # This function prints out information about a parrot based on the provided arguments.\n",
        "    # - voltage: The voltage to put through the parrot.\n",
        "    # - state: The state of the parrot.\n",
        "    # - action: The action the parrot would perform.\n",
        "    # - type: The type or breed of the parrot.\n",
        "\n",
        "    print(\"-- This parrot wouldn't\", action, end=' ')\n",
        "    # Print the action the parrot wouldn't perform\n",
        "\n",
        "    print(\"if you put\", voltage, \"volts through it.\")\n",
        "    # Print the voltage required to make the parrot perform the action\n",
        "\n",
        "    print(\"-- Lovely plumage, the\", type)\n",
        "    # Print a statement about the lovely plumage of the parrot, mentioning its type or breed\n",
        "\n",
        "    print(\"-- It's\", state, \"!\")\n",
        "    # Print the state of the parrot\n",
        "\n",
        "# Example usage of the parrot function:\n",
        "\n",
        "parrot(1000)  # Call the function with only the mandatory argument 'voltage'\n",
        "# Output:\n",
        "# -- This parrot wouldn't voom if you put 1000 volts through it.\n",
        "# -- Lovely plumage, the Norwegian Blue\n",
        "# -- It's a stiff !\n",
        "\n",
        "parrot(voltage=1000, action='jump')  # Call the function with 'voltage' and 'action' arguments\n",
        "# Output:\n",
        "# -- This parrot wouldn't jump if you put 1000 volts through it.\n",
        "# -- Lovely plumage, the Norwegian Blue\n",
        "# -- It's a stiff !\n",
        "\n",
        "parrot(voltage=1000000, action='fly', type='Amazonian Green')  # Call the function with all arguments\n",
        "# Output:\n",
        "# -- This parrot wouldn't fly if you put 1000000 volts through it.\n",
        "# -- Lovely plumage, the Amazonian Green\n",
        "# -- It's a stiff !"
      ],
      "metadata": {
        "colab": {
          "base_uri": "https://localhost:8080/"
        },
        "id": "OwSSHRN6JW8d",
        "outputId": "ce13c355-4c49-4826-a365-9b50a0e7090b"
      },
      "execution_count": null,
      "outputs": [
        {
          "output_type": "stream",
          "name": "stdout",
          "text": [
            "-- This parrot wouldn't voom if you put 1000 volts through it.\n",
            "-- Lovely plumage, the Norwegian Blue\n",
            "-- It's a stiff !\n",
            "-- This parrot wouldn't jump if you put 1000 volts through it.\n",
            "-- Lovely plumage, the Norwegian Blue\n",
            "-- It's a stiff !\n",
            "-- This parrot wouldn't fly if you put 1000000 volts through it.\n",
            "-- Lovely plumage, the Amazonian Green\n",
            "-- It's a stiff !\n"
          ]
        }
      ]
    },
    {
      "cell_type": "code",
      "source": [
        "parrot(1000)                                          # 1 positional argument\n",
        "parrot(voltage=1000)                                  # 1 keyword argument\n",
        "parrot(voltage=1000000, action='VOOOOOM')             # 2 keyword arguments\n",
        "parrot(action='VOOOOOM', voltage=1000000)             # 2 keyword arguments\n",
        "parrot('a million', 'bereft of life', 'jump')         # 3 positional arguments\n",
        "parrot('a thousand', state='pushing up the daisies')  # 1 positional, 1 keyword"
      ],
      "metadata": {
        "colab": {
          "base_uri": "https://localhost:8080/"
        },
        "id": "_0CFB4nzKEer",
        "outputId": "91292392-fdde-462b-898d-85d775947301"
      },
      "execution_count": null,
      "outputs": [
        {
          "output_type": "stream",
          "name": "stdout",
          "text": [
            "-- This parrot wouldn't voom if you put 1000 volts through it.\n",
            "-- Lovely plumage, the Norwegian Blue\n",
            "-- It's a stiff !\n",
            "-- This parrot wouldn't voom if you put 1000 volts through it.\n",
            "-- Lovely plumage, the Norwegian Blue\n",
            "-- It's a stiff !\n",
            "-- This parrot wouldn't VOOOOOM if you put 1000000 volts through it.\n",
            "-- Lovely plumage, the Norwegian Blue\n",
            "-- It's a stiff !\n",
            "-- This parrot wouldn't VOOOOOM if you put 1000000 volts through it.\n",
            "-- Lovely plumage, the Norwegian Blue\n",
            "-- It's a stiff !\n",
            "-- This parrot wouldn't jump if you put a million volts through it.\n",
            "-- Lovely plumage, the Norwegian Blue\n",
            "-- It's bereft of life !\n",
            "-- This parrot wouldn't voom if you put a thousand volts through it.\n",
            "-- Lovely plumage, the Norwegian Blue\n",
            "-- It's pushing up the daisies !\n"
          ]
        }
      ]
    },
    {
      "cell_type": "markdown",
      "source": [
        "When a final formal parameter of the form **name is present, it receives a dictionary (see Mapping Types — dict) containing all keyword arguments except for those corresponding to a formal parameter. This may be combined with a formal parameter of the form *name (described in the next subsection) which receives a tuple containing the positional arguments beyond the formal parameter list. (*name must occur before **name.) For example, if we define a function like this:"
      ],
      "metadata": {
        "id": "azY-qXYkcaat"
      }
    },
    {
      "cell_type": "code",
      "source": [
        "\n",
        "def cheeseshop(kind, *arguments, **keywords):\n",
        "    # This function simulates a conversation at a cheeseshop.\n",
        "    # - kind: The kind of cheese being asked for.\n",
        "    # - *arguments: Variable-length arguments that can be passed after the kind of cheese.\n",
        "    # - **keywords: Variable-length keyword arguments that can be passed.\n",
        "\n",
        "    print(\"-- Do you have any\", kind, \"?\")\n",
        "    # Print a question about the availability of a specific kind of cheese\n",
        "\n",
        "    print(\"-- I'm sorry, we're all out of\", kind)\n",
        "    # Print a response indicating that the requested kind of cheese is not available\n",
        "\n",
        "    for arg in arguments:\n",
        "        print(arg)\n",
        "    # Print any additional arguments passed after the kind of cheese\n",
        "\n",
        "    print(\"-\" * 40)\n",
        "    # Print a separator line\n",
        "\n",
        "    keys = sorted(keywords.keys())\n",
        "    # Sort the keys of the keyword arguments in alphabetical order\n",
        "\n",
        "    for kw in keys:\n",
        "        print(kw, \":\", keywords[kw])\n",
        "    # Print each keyword argument and its corresponding value\n",
        "\n",
        "# Example usage of the cheeseshop function:\n",
        "\n",
        "cheeseshop(\"Camembert\", \"It's very runny, sir.\",\n",
        "            \"It's really very, VERY runny, sir.\",\n",
        "            shopkeeper=\"Michael Palin\",\n",
        "            client=\"John Cleese\",\n",
        "            sketch=\"Cheese Shop Sketch\")\n",
        "# Output:\n",
        "# -- Do you have any Camembert ?\n",
        "# -- I'm sorry, we're all out of Camembert\n",
        "# It's very runny, sir.\n",
        "# It's really very, VERY runny, sir.\n",
        "# ----------------------------------------\n",
        "# client : John Cleese\n",
        "# shopkeeper : Michael Palin\n",
        "# sketch : Cheese Shop Sketch\n",
        "\n",
        "# could be called like this:\n",
        "cheeseshop(\"Limburger\", \"It's very runny, sir.\",\n",
        "           \"It's really very, VERY runny, sir.\",\n",
        "           shopkeeper=\"Michael Palin\",\n",
        "           client=\"John Cleese\",\n",
        "           sketch=\"Cheese Shop Sketch\")"
      ],
      "metadata": {
        "colab": {
          "base_uri": "https://localhost:8080/"
        },
        "id": "Ea9LQSBIbvRk",
        "outputId": "704f332d-1a3b-46a6-f5fb-9f6998f4e447"
      },
      "execution_count": null,
      "outputs": [
        {
          "output_type": "stream",
          "name": "stdout",
          "text": [
            "-- Do you have any Camembert ?\n",
            "-- I'm sorry, we're all out of Camembert\n",
            "It's very runny, sir.\n",
            "It's really very, VERY runny, sir.\n",
            "----------------------------------------\n",
            "client : John Cleese\n",
            "shopkeeper : Michael Palin\n",
            "sketch : Cheese Shop Sketch\n",
            "-- Do you have any Limburger ?\n",
            "-- I'm sorry, we're all out of Limburger\n",
            "It's very runny, sir.\n",
            "It's really very, VERY runny, sir.\n",
            "----------------------------------------\n",
            "client : John Cleese\n",
            "shopkeeper : Michael Palin\n",
            "sketch : Cheese Shop Sketch\n"
          ]
        }
      ]
    },
    {
      "cell_type": "markdown",
      "source": [
        "Lambda Expressions"
      ],
      "metadata": {
        "id": "TA6B7I5A1SmY"
      }
    },
    {
      "cell_type": "code",
      "source": [
        "\n",
        "def make_incrementor(n):\n",
        "    # This function returns a lambda function that increments a given value by 'n'.\n",
        "    # - n: The value to increment by.\n",
        "\n",
        "    return lambda x: x + n\n",
        "    # Return a lambda function that takes a value 'x' and adds 'n' to it.\n",
        "\n",
        "f = make_incrementor(42)\n",
        "# Create a lambda function with 'n' as 42 and assign it to the variable 'f'.\n",
        "\n",
        "f(0)\n",
        "# Call the lambda function assigned to 'f' with 'x' as 0.\n",
        "# Output: 42\n",
        "# Explanation: The lambda function adds 42 to the value of 'x', which is 0, resulting in 42.\n",
        "\n",
        "f(1)\n",
        "# Call the lambda function assigned to 'f' with 'x' as 1.\n",
        "# Output: 43\n",
        "# Explanation: The lambda function adds 42 to the value of 'x', which is 1, resulting in 43."
      ],
      "metadata": {
        "colab": {
          "base_uri": "https://localhost:8080/"
        },
        "id": "c9e5ZJLo1Wto",
        "outputId": "3dcd41e0-cffd-49b4-a238-c3075e919f15"
      },
      "execution_count": null,
      "outputs": [
        {
          "output_type": "execute_result",
          "data": {
            "text/plain": [
              "43"
            ]
          },
          "metadata": {},
          "execution_count": 1
        }
      ]
    },
    {
      "cell_type": "markdown",
      "source": [
        "Lambda Expression"
      ],
      "metadata": {
        "id": "ln099ygU71ZW"
      }
    },
    {
      "cell_type": "code",
      "source": [
        "\n",
        "pairs = [(1, 'one'), (2, 'two'), (3, 'three'), (4, 'four')]\n",
        "# Create a list of tuples called 'pairs' containing pairs of numbers and their corresponding names.\n",
        "\n",
        "pairs.sort(key=lambda pair: pair[1])\n",
        "# Sort the list 'pairs' based on the second element (index 1) of each tuple.\n",
        "# The lambda function is used as the key function, which extracts the second element of each tuple for comparison.\n",
        "\n",
        "pairs\n",
        "# Output: [(4, 'four'), (1, 'one'), (3, 'three'), (2, 'two')]\n",
        "# Explanation: The list 'pairs' is sorted in ascending order based on the second element of each tuple.\n",
        "# The sorted list is [(4, 'four'), (1, 'one'), (3, 'three'), (2, 'two')]."
      ],
      "metadata": {
        "colab": {
          "base_uri": "https://localhost:8080/"
        },
        "id": "-3eScX7d7vYN",
        "outputId": "9fd52d8d-6402-4f42-bebe-62797e49cfb8"
      },
      "execution_count": null,
      "outputs": [
        {
          "output_type": "execute_result",
          "data": {
            "text/plain": [
              "[(4, 'four'), (1, 'one'), (3, 'three'), (2, 'two')]"
            ]
          },
          "metadata": {},
          "execution_count": 2
        }
      ]
    },
    {
      "cell_type": "markdown",
      "source": [
        "Function _Annotations:\n",
        "\n",
        "Annotations are stored in the __annotations__ attribute of the function as a dictionary and have no effect on any other part of the function. Parameter annotations are defined by a colon after the parameter name, followed by an expression evaluating to the value of the annotation. Return annotations are defined by a literal ->, followed by an expression, between the parameter list and the colon denoting the end of the def statement. The following example has a positional argument, a keyword argument, and the return value annotated:"
      ],
      "metadata": {
        "id": "-IeTJksXmFiY"
      }
    },
    {
      "cell_type": "code",
      "source": [
        "\n",
        "def f(ham: str, eggs: str = 'eggs') -> str:\n",
        "    # This function takes two arguments, 'ham' and 'eggs', both of type str.\n",
        "    # 'eggs' has a default value of 'eggs' if not provided.\n",
        "    # The function has a return type annotation of str.\n",
        "\n",
        "    print(\"Annotations:\", f.__annotations__)\n",
        "    # Print the annotations defined for the function. In this case, it will print {'ham': <class 'str'>, 'eggs': <class 'str'>, 'return': <class 'str'>}.\n",
        "\n",
        "    print(\"Arguments:\", ham, eggs)\n",
        "    # Print the values of the arguments passed to the function.\n",
        "\n",
        "    return ham + ' and ' + eggs\n",
        "    # Concatenate 'ham', 'and', and 'eggs' using the + operator and return the resulting string.\n",
        "\n",
        "f('spam')\n",
        "# Call the function with 'ham' as 'spam' and 'eggs' using the default value.\n",
        "# Output:\n",
        "# Annotations: {'ham': <class 'str'>, 'eggs': <class 'str'>, 'return': <class 'str'>}\n",
        "# Arguments: spam eggs\n",
        "# Explanation: The function is called with 'ham' as 'spam' and 'eggs' using the default value 'eggs'.\n",
        "# The function prints the annotations and the values of the arguments, then returns the string 'spam and eggs'."
      ],
      "metadata": {
        "colab": {
          "base_uri": "https://localhost:8080/",
          "height": 90
        },
        "id": "4eT_fa8xmK4E",
        "outputId": "82b15dcb-d94a-4f55-ebc2-3c21d77d4d82"
      },
      "execution_count": 1,
      "outputs": [
        {
          "output_type": "stream",
          "name": "stdout",
          "text": [
            "Annotations: {'ham': <class 'str'>, 'eggs': <class 'str'>, 'return': <class 'str'>}\n",
            "Arguments: spam eggs\n"
          ]
        },
        {
          "output_type": "execute_result",
          "data": {
            "text/plain": [
              "'spam and eggs'"
            ],
            "application/vnd.google.colaboratory.intrinsic+json": {
              "type": "string"
            }
          },
          "metadata": {},
          "execution_count": 1
        }
      ]
    }
  ],
  "metadata": {
    "colab": {
      "provenance": [],
      "authorship_tag": "ABX9TyNu7VAW8xAnzXYC9T5RF/1M",
      "include_colab_link": true
    },
    "kernelspec": {
      "display_name": "Python 3",
      "name": "python3"
    },
    "language_info": {
      "name": "python"
    }
  },
  "nbformat": 4,
  "nbformat_minor": 0
}