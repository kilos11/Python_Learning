{
  "nbformat": 4,
  "nbformat_minor": 0,
  "metadata": {
    "colab": {
      "provenance": [],
      "authorship_tag": "ABX9TyMf5AfeqH6PluWDBCBqCyyM",
      "include_colab_link": true
    },
    "kernelspec": {
      "name": "python3",
      "display_name": "Python 3"
    },
    "language_info": {
      "name": "python"
    }
  },
  "cells": [
    {
      "cell_type": "markdown",
      "metadata": {
        "id": "view-in-github",
        "colab_type": "text"
      },
      "source": [
        "<a href=\"https://colab.research.google.com/github/kilos11/Python_Learning/blob/main/ClassWithoutcontstructer.ipynb\" target=\"_parent\"><img src=\"https://colab.research.google.com/assets/colab-badge.svg\" alt=\"Open In Colab\"/></a>"
      ]
    },
    {
      "cell_type": "code",
      "execution_count": 1,
      "metadata": {
        "id": "UzdfkWltJfim"
      },
      "outputs": [],
      "source": [
        "class Phone:\n",
        "    model = \"\"\n",
        "\n",
        "\n",
        "class Employee:\n",
        "    firstName = \"\"\n",
        "    lastName = \"\"\n",
        "    personalPhone = Phone\n",
        "\n",
        "\n",
        "nokiaPhone = Phone()\n",
        "nokiaPhone.model = \"Nokia 6610\"\n",
        "\n",
        "iPhone5 = Phone()\n",
        "iPhone5.model = \"iPhone 5\"\n",
        "\n",
        "kim = Employee()\n",
        "kim.firstName = \"Victoria\"\n",
        "kim.lastName = \"Kim\"\n",
        "kim.personalPhone = iPhone5"
      ]
    }
  ]
}