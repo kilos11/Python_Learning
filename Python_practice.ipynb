{
  "nbformat": 4,
  "nbformat_minor": 0,
  "metadata": {
    "colab": {
      "provenance": [],
      "authorship_tag": "ABX9TyMcpTSPVMm7Q4aux/e5gSup",
      "include_colab_link": true
    },
    "kernelspec": {
      "name": "python3",
      "display_name": "Python 3"
    },
    "language_info": {
      "name": "python"
    }
  },
  "cells": [
    {
      "cell_type": "markdown",
      "metadata": {
        "id": "view-in-github",
        "colab_type": "text"
      },
      "source": [
        "<a href=\"https://colab.research.google.com/github/kilos11/Python_Learning/blob/main/Python_practice.ipynb\" target=\"_parent\"><img src=\"https://colab.research.google.com/assets/colab-badge.svg\" alt=\"Open In Colab\"/></a>"
      ]
    },
    {
      "cell_type": "code",
      "execution_count": null,
      "metadata": {
        "colab": {
          "base_uri": "https://localhost:8080/"
        },
        "id": "ZTWRgF21oQwC",
        "outputId": "1982d9a2-4c84-482a-a7ab-3af30c8cfed1"
      },
      "outputs": [
        {
          "output_type": "stream",
          "name": "stdout",
          "text": [
            "19861011\n",
            "Your Date of Birth is:\n",
            "11-10-1986\n",
            "The Day was Saturday\n",
            "    October 1986\n",
            "Su Mo Tu We Th Fr Sa\n",
            "          1  2  3  4\n",
            " 5  6  7  8  9 10 11\n",
            "12 13 14 15 16 17 18\n",
            "19 20 21 22 23 24 25\n",
            "26 27 28 29 30 31\n"
          ]
        }
      ],
      "source": [
        "import time, calendar\n",
        "#Enter date in this format -> 19990606\n",
        "# i.e. Year-month-day\n",
        "#That is 1999 - Year, 06 - month, 06 - day\n",
        "dt = input('')\n",
        "a = (dt[0:4])\n",
        "b = (dt[4:6])\n",
        "c = (dt[6:8])\n",
        "print ('Your Date of Birth is:')\n",
        "print (c + '-' + b + '-' + a)\n",
        "x = str(a) + \"-\" + str(b) + \"-\" + str(c)\n",
        "y = time.strftime(\"%A\", time.strptime(x,\"%Y-%m-%d\"))\n",
        "print ('The Day was ' + y)\n",
        "d = calendar.TextCalendar(calendar.SUNDAY)\n",
        "d.prmonth(int(a), int(b))"
      ]
    },
    {
      "cell_type": "code",
      "source": [
        "a = \"I love to code in Python\"\n",
        "print(\"Reverse is:-\",a[::-1])"
      ],
      "metadata": {
        "colab": {
          "base_uri": "https://localhost:8080/"
        },
        "id": "zZolW7a8pY18",
        "outputId": "2da39948-b127-4896-e308-d3cac30aca38"
      },
      "execution_count": null,
      "outputs": [
        {
          "output_type": "stream",
          "name": "stdout",
          "text": [
            "Reverse is:- nohtyP ni edoc ot evol I\n"
          ]
        }
      ]
    },
    {
      "cell_type": "code",
      "source": [
        "\n",
        "c = [\"Python\", \"Is\", \"Fun\"]\n",
        "print(\" \".join(c))\n",
        "\n",
        "print(\"-\".join(c))\n",
        "\n",
        "print(\"\\n\".join(c))"
      ],
      "metadata": {
        "colab": {
          "base_uri": "https://localhost:8080/"
        },
        "id": "xevF_OLKprUW",
        "outputId": "375ccddd-aece-4fc9-ac11-1b5c19aa3a91"
      },
      "execution_count": null,
      "outputs": [
        {
          "output_type": "stream",
          "name": "stdout",
          "text": [
            "Python Is Fun\n",
            "Python-Is-Fun\n",
            "Python\n",
            "Is\n",
            "Fun\n"
          ]
        }
      ]
    },
    {
      "cell_type": "code",
      "source": [
        "\n",
        "mylist = [1,2,3,4,2,2,3,1,4,4,4]\n",
        "print(max(set(mylist),key = mylist.count))\n",
        "\n",
        "\n",
        "mylist = [1,2,3,4,2,2,3,1,4,4,4]\n",
        "a = set(mylist)\n",
        "print(a)\n",
        "\n",
        "key = mylist.count\n",
        "print(key)\n",
        "print(max(a,key=mylist.count))"
      ],
      "metadata": {
        "colab": {
          "base_uri": "https://localhost:8080/"
        },
        "id": "g813J9JhqNFu",
        "outputId": "37342478-1d09-4132-dbd4-4c8ad31dc4ed"
      },
      "execution_count": null,
      "outputs": [
        {
          "output_type": "stream",
          "name": "stdout",
          "text": [
            "4\n",
            "{1, 2, 3, 4}\n",
            "<built-in method count of list object at 0x78ec8bb31180>\n",
            "4\n"
          ]
        }
      ]
    },
    {
      "cell_type": "code",
      "source": [
        "\n",
        "\n",
        " 4\n",
        " 5\n",
        " 6\n",
        " 7\n",
        " 8\n",
        " 9\n",
        "10\n",
        "11\n",
        "12\n",
        "13\n",
        "14\n",
        "15\n",
        "16\n",
        "17\n",
        "18\n",
        "19\n",
        "20\n",
        "21#_8 print string 'n' number oftimes\n",
        "n = 5\n",
        "a = \"Pysnake Blog\"\n",
        "print (a * n)\n",
        "print (a * n+'\\n')\n",
        "\n",
        "\n",
        "print (a+'\\n' * n)\n",
        "\n",
        "\n",
        "\n",
        "print ((a+'\\n') * n)"
      ],
      "metadata": {
        "id": "KuWd-reoq2DG"
      },
      "execution_count": null,
      "outputs": []
    },
    {
      "cell_type": "code",
      "source": [
        "#_9 return multiple values from functions\n",
        "def x():\n",
        " return 1,2,3,4\n",
        "\n",
        "a,b,c,d = x()\n",
        "print (a,b,c,d)"
      ],
      "metadata": {
        "colab": {
          "base_uri": "https://localhost:8080/"
        },
        "id": "L0F6YZP7rq9w",
        "outputId": "6d94d85f-7418-4b03-fc72-2e282bfc1e98"
      },
      "execution_count": null,
      "outputs": [
        {
          "output_type": "stream",
          "name": "stdout",
          "text": [
            "1 2 3 4\n"
          ]
        }
      ]
    },
    {
      "cell_type": "code",
      "source": [
        "\n",
        "\n",
        " 2\n",
        " 3\n",
        " 4\n",
        " 5\n",
        " 6\n",
        " 7\n",
        " 8\n",
        " 9\n",
        "10\n",
        "11\n",
        "12\n",
        "13\n",
        "14\n",
        "15#_10 use of enums in python\n",
        "class myName:\n",
        "     hello, world, of, python = range(4)\n",
        "\n",
        "\n",
        "\n",
        "\n",
        "\n",
        "print(myName.hello)\n",
        "\n",
        "print(myName.world)\n",
        "\n",
        "print(myName.of)\n",
        "\n",
        "print(myName.python)\n",
        "\n",
        "print(myName.hello,myName.world,myName.of,myName.python)"
      ],
      "metadata": {
        "colab": {
          "base_uri": "https://localhost:8080/"
        },
        "id": "MLAUREsAsE4e",
        "outputId": "958250f7-a093-4d15-b74e-d7eb70c2e2b1"
      },
      "execution_count": null,
      "outputs": [
        {
          "output_type": "stream",
          "name": "stdout",
          "text": [
            "0\n",
            "1\n",
            "2\n",
            "3\n",
            "0 1 2 3\n"
          ]
        }
      ]
    },
    {
      "cell_type": "code",
      "source": [
        "#_1 creating variables in one line in python\n",
        "a = 5; b = 10; c = a; d = a**2 ; e = d + 10\n",
        "print(a,b,c,d,e)"
      ],
      "metadata": {
        "colab": {
          "base_uri": "https://localhost:8080/"
        },
        "id": "HjtjePbMtRCR",
        "outputId": "e0d73d3f-2e7f-4974-d25f-6e7607bccc2f"
      },
      "execution_count": null,
      "outputs": [
        {
          "output_type": "stream",
          "name": "stdout",
          "text": [
            "5 10 5 25 35\n"
          ]
        }
      ]
    },
    {
      "cell_type": "code",
      "source": [
        "#_Sum no.2 Calculate area of a triangle\n",
        "# Note:- Area of a triangle is 1/2 * b * h\n",
        "base = float(input('Enter base of a triangle:- '))\n",
        "\n",
        "height = float(input('Enter height of triangle:- '))\n",
        "\n",
        "area = 1/2 * base * height\n",
        "print(area)\n",
        "\n",
        "print('Area of a triangle with base', base, 'and height', height, 'is', area)"
      ],
      "metadata": {
        "colab": {
          "base_uri": "https://localhost:8080/"
        },
        "id": "Lvi8e4GP6k6m",
        "outputId": "5ea9da44-6b3b-47cf-e539-a3711d7b3aa5"
      },
      "execution_count": null,
      "outputs": [
        {
          "output_type": "stream",
          "name": "stdout",
          "text": [
            "Enter base of a triangle:- 230\n",
            "Enter height of triangle:- 356\n",
            "40940.0\n",
            "Area of a triangle with base 230.0 and height 356.0 is 40940.0\n"
          ]
        }
      ]
    },
    {
      "cell_type": "code",
      "source": [
        "index = [1,2,3,4]\n",
        "print(index[0:3])\n",
        "\n",
        "\n",
        "# [::] returns everything\n",
        "print(index[::])\n",
        "\n",
        "\n",
        "# [::2] returns till index no. 2 but skips index no. 2 element\n",
        "print(index[::2])\n",
        "\n",
        "\n",
        "index.extend([5,6,7,8,9,10,11,12,13])\n",
        "print(index[-7:-3])\n",
        "\n",
        "\n",
        "# Reverse the list using [::-1]\n",
        "print(index[::-1])\n",
        "[13, 12, 11, 10, 9, 8, 7, 6, 5, 4, 3, 2, 1]\n",
        "\n",
        "# Another way of reverse is by using function reverse()\n",
        "index.reverse()\n",
        "print(index)"
      ],
      "metadata": {
        "colab": {
          "base_uri": "https://localhost:8080/"
        },
        "id": "3osU4ZcC8viW",
        "outputId": "593729b5-fa7f-459d-f103-2a40bb5c8b00"
      },
      "execution_count": null,
      "outputs": [
        {
          "output_type": "stream",
          "name": "stdout",
          "text": [
            "[1, 2, 3]\n",
            "[1, 2, 3, 4]\n",
            "[1, 3]\n",
            "[7, 8, 9, 10]\n",
            "[13, 12, 11, 10, 9, 8, 7, 6, 5, 4, 3, 2, 1]\n",
            "[13, 12, 11, 10, 9, 8, 7, 6, 5, 4, 3, 2, 1]\n"
          ]
        }
      ]
    },
    {
      "cell_type": "code",
      "source": [
        "Apple = [30,40,30,30,30,60,70,80,80,90,100,100,200]\n",
        "print(Apple.count(30))\n",
        "\n",
        "print(Apple.count(100))\n",
        "\n",
        "\n",
        "fruit = [\"apple\",\"apple\",\"mango\",\"mango\",\"mango\",\"banana\",\"banana\",\"cherry\"]\n",
        "print(fruit.count(\"mango\"))"
      ],
      "metadata": {
        "colab": {
          "base_uri": "https://localhost:8080/"
        },
        "id": "LEEj6Zb99kff",
        "outputId": "cb6ade40-f764-43f2-d042-efa95aec1446"
      },
      "execution_count": null,
      "outputs": [
        {
          "output_type": "stream",
          "name": "stdout",
          "text": [
            "4\n",
            "2\n",
            "3\n"
          ]
        }
      ]
    },
    {
      "cell_type": "code",
      "source": [
        "import tkinter as tk\n",
        "\n",
        "def text(n):\n",
        "       label = tk.Label(text=(str(n)), font=\"Forte 150\", fg='black', bg='white')\n",
        "       label.master.overrideredirect(True)\n",
        "       label.master.geometry(\"+512+312\")\n",
        "       label.master.lift()\n",
        "       label.master.wm_attributes(\"-topmost\",True)\n",
        "       label.master.wm_attributes(\"-disabled\",True)\n",
        "       label.master.wm_attributes(\"-transparentcolor\",\"white\")\n",
        "       label.after(1000 , label.master.destroy)\n",
        "       label.pack()"
      ],
      "metadata": {
        "id": "hdd7HaP9fG5P"
      },
      "execution_count": null,
      "outputs": []
    },
    {
      "cell_type": "code",
      "source": [
        "# We will be using python 3.7\n",
        "# We will scrap Index page from any website\n",
        "# Create by Joel Dcosta that is me\n",
        "# First we will search Google for Python PDFs\n",
        "# The following google search code are as follows:-\n",
        "# -inurl:(htm|html|php) intitle:\"index of\" + \"last modified\" +\"parent directory\" +description +size +(pdf) \"python\"\n",
        "# #################################################################################################################\n",
        "import requests\n",
        "import re\n",
        "\n",
        "f = open(\"INDEX_DATA.txt\", \"a+\")\n",
        "url = \"https://www.britannica.com/topic/Bawon-Samdi \"\n",
        "website = requests.get(url)\n",
        "html = website.text\n",
        "\n",
        "#PDF\n",
        "files = re.findall('href=\"(.*pdf)\"', html)\n",
        "\n",
        "for infile in sorted(x for x in (files)):\n",
        "    f.write(url + infile+\"\\n\")\n",
        "f.close()"
      ],
      "metadata": {
        "id": "KCgYa9ICf3Eu"
      },
      "execution_count": null,
      "outputs": []
    },
    {
      "cell_type": "code",
      "source": [
        "! apt install win32com"
      ],
      "metadata": {
        "colab": {
          "base_uri": "https://localhost:8080/"
        },
        "id": "R9X1EqPkviKt",
        "outputId": "64088b35-64e9-4d94-ddab-044f48ce633a"
      },
      "execution_count": 5,
      "outputs": [
        {
          "output_type": "stream",
          "name": "stdout",
          "text": [
            "Reading package lists... Done\n",
            "Building dependency tree... Done\n",
            "Reading state information... Done\n",
            "\u001b[1;31mE: \u001b[0mUnable to locate package win32com\u001b[0m\n"
          ]
        }
      ]
    },
    {
      "cell_type": "code",
      "source": [
        "\n",
        "import tkinter as tk\n",
        "import win32com.client\n",
        "\n",
        "class Application(tk.Frame):\n",
        "    def read(self):\n",
        "        print(\"reading...\")\n",
        "        speaker = win32com.client.Dispatch(\"SAPI.SpVoice\")\n",
        "        file = open(\"text_speech.txt\", \"r\")  # Open the text_speech.txt file for reading\n",
        "        string = file.read()  # Read the contents of the file\n",
        "        speaker.Speak(string)  # Use the SAPI.SpVoice object to speak the contents of the file\n",
        "\n",
        "    def create_Widget(self):\n",
        "        self.quit = tk.Button(self, text=\"Quit\", fg=\"red\", command=self.master.destroy)\n",
        "        self.quit.pack(side=\"right\")\n",
        "\n",
        "        self.start = tk.Button(self, text=\"Read\", fg=\"green\")\n",
        "        self.start[\"command\"] = self.read\n",
        "        self.start.pack(side=\"left\")\n",
        "\n",
        "    def __init__(self, master=None):\n",
        "        super().__init__(master)\n",
        "        self.master = master\n",
        "        self.pack()\n",
        "        self.create_Widget()\n",
        "\n",
        "root = tk.Tk()\n",
        "root.geometry(\"400x30\")\n",
        "app = Application(master=root)\n",
        "app.master.title(\"Speech App by Python\")\n",
        "app.mainloop()"
      ],
      "metadata": {
        "colab": {
          "base_uri": "https://localhost:8080/",
          "height": 662
        },
        "id": "Z0m6KVvevSdC",
        "outputId": "300456fd-31d5-46d1-df48-10b86edf2fa8"
      },
      "execution_count": 6,
      "outputs": [
        {
          "output_type": "error",
          "ename": "ModuleNotFoundError",
          "evalue": "No module named 'win32com'",
          "traceback": [
            "\u001b[0;31m---------------------------------------------------------------------------\u001b[0m",
            "\u001b[0;31mModuleNotFoundError\u001b[0m                       Traceback (most recent call last)",
            "\u001b[0;32m<ipython-input-6-66edf88ed93b>\u001b[0m in \u001b[0;36m<cell line: 2>\u001b[0;34m()\u001b[0m\n\u001b[1;32m      1\u001b[0m \u001b[0;32mimport\u001b[0m \u001b[0mtkinter\u001b[0m \u001b[0;32mas\u001b[0m \u001b[0mtk\u001b[0m\u001b[0;34m\u001b[0m\u001b[0;34m\u001b[0m\u001b[0m\n\u001b[0;32m----> 2\u001b[0;31m \u001b[0;32mimport\u001b[0m \u001b[0mwin32com\u001b[0m\u001b[0;34m.\u001b[0m\u001b[0mclient\u001b[0m\u001b[0;34m\u001b[0m\u001b[0;34m\u001b[0m\u001b[0m\n\u001b[0m\u001b[1;32m      3\u001b[0m \u001b[0;34m\u001b[0m\u001b[0m\n\u001b[1;32m      4\u001b[0m \u001b[0;32mclass\u001b[0m \u001b[0mApplication\u001b[0m\u001b[0;34m(\u001b[0m\u001b[0mtk\u001b[0m\u001b[0;34m.\u001b[0m\u001b[0mFrame\u001b[0m\u001b[0;34m)\u001b[0m\u001b[0;34m:\u001b[0m\u001b[0;34m\u001b[0m\u001b[0;34m\u001b[0m\u001b[0m\n\u001b[1;32m      5\u001b[0m     \u001b[0;32mdef\u001b[0m \u001b[0mread\u001b[0m\u001b[0;34m(\u001b[0m\u001b[0mself\u001b[0m\u001b[0;34m)\u001b[0m\u001b[0;34m:\u001b[0m\u001b[0;34m\u001b[0m\u001b[0;34m\u001b[0m\u001b[0m\n",
            "\u001b[0;31mModuleNotFoundError\u001b[0m: No module named 'win32com'",
            "",
            "\u001b[0;31m---------------------------------------------------------------------------\u001b[0;32m\nNOTE: If your import is failing due to a missing package, you can\nmanually install dependencies using either !pip or !apt.\n\nTo view examples of installing some common dependencies, click the\n\"Open Examples\" button below.\n\u001b[0;31m---------------------------------------------------------------------------\u001b[0m\n"
          ],
          "errorDetails": {
            "actions": [
              {
                "action": "open_url",
                "actionText": "Open Examples",
                "url": "/notebooks/snippets/importing_libraries.ipynb"
              }
            ]
          }
        }
      ]
    }
  ]
}