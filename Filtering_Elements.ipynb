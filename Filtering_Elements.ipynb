{
  "nbformat": 4,
  "nbformat_minor": 0,
  "metadata": {
    "colab": {
      "provenance": [],
      "authorship_tag": "ABX9TyPpywzDJuKuQJSoxFEfgIf1",
      "include_colab_link": true
    },
    "kernelspec": {
      "name": "python3",
      "display_name": "Python 3"
    },
    "language_info": {
      "name": "python"
    }
  },
  "cells": [
    {
      "cell_type": "markdown",
      "metadata": {
        "id": "view-in-github",
        "colab_type": "text"
      },
      "source": [
        "<a href=\"https://colab.research.google.com/github/kilos11/Python_Learning/blob/main/Filtering_Elements.ipynb\" target=\"_parent\"><img src=\"https://colab.research.google.com/assets/colab-badge.svg\" alt=\"Open In Colab\"/></a>"
      ]
    },
    {
      "cell_type": "code",
      "execution_count": 1,
      "metadata": {
        "colab": {
          "base_uri": "https://localhost:8080/"
        },
        "id": "ilM6HLHjZnXu",
        "outputId": "268e3dd9-9987-40e6-e241-518cca1e8a34"
      },
      "outputs": [
        {
          "output_type": "stream",
          "name": "stdout",
          "text": [
            "[1, 3, 5]\n"
          ]
        }
      ],
      "source": [
        "\n",
        "numbers = [1, 2, 3, 4, 5]\n",
        "oddItems = [item for item in numbers if item % 2]\n",
        "# oddItems is [1, 3, 5]\n",
        "print(oddItems)"
      ]
    }
  ]
}