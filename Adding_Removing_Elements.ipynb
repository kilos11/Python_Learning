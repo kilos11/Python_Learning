{
  "nbformat": 4,
  "nbformat_minor": 0,
  "metadata": {
    "colab": {
      "provenance": [],
      "authorship_tag": "ABX9TyOS0FCKm2Fd6mpWcdQfTJyC",
      "include_colab_link": true
    },
    "kernelspec": {
      "name": "python3",
      "display_name": "Python 3"
    },
    "language_info": {
      "name": "python"
    }
  },
  "cells": [
    {
      "cell_type": "markdown",
      "metadata": {
        "id": "view-in-github",
        "colab_type": "text"
      },
      "source": [
        "<a href=\"https://colab.research.google.com/github/kilos11/Python_Learning/blob/main/Adding_Removing_Elements.ipynb\" target=\"_parent\"><img src=\"https://colab.research.google.com/assets/colab-badge.svg\" alt=\"Open In Colab\"/></a>"
      ]
    },
    {
      "cell_type": "code",
      "execution_count": 1,
      "metadata": {
        "colab": {
          "base_uri": "https://localhost:8080/"
        },
        "id": "DiIHDVZlVjYm",
        "outputId": "c39722cd-021c-4848-b298-dd956f9ffb30"
      },
      "outputs": [
        {
          "output_type": "stream",
          "name": "stdout",
          "text": [
            "[2, 5, 7, 11]\n",
            "[2, 3, 5, 7, 11]\n",
            "[3, 5, 7, 11]\n",
            "[3, 7, 11]\n",
            "[3, 7, 11, 13, 17]\n"
          ]
        }
      ],
      "source": [
        "\n",
        "primeNumbers = [2, 5, 7]\n",
        "primeNumbers.append(11)\n",
        "# primeNumbers is [2, 5, 7, 11]\n",
        "print(primeNumbers)\n",
        "primeNumbers.insert(1, 3)\n",
        "# primeNumbers is [2, 3, 5, 7, 11]\n",
        "print(primeNumbers)\n",
        "primeNumbers.remove(2)\n",
        "# primeNumbers is [3, 5, 7, 11]\n",
        "print(primeNumbers)\n",
        "del primeNumbers[1]\n",
        "# primeNumbers is [3, 7, 11]\n",
        "print(primeNumbers)\n",
        "primeNumbers.extend([13, 17])\n",
        "# primeNumbers is [3, 7, 11, 13, 17]\n",
        "print(primeNumbers)"
      ]
    }
  ]
}