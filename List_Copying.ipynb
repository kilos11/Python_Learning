{
  "nbformat": 4,
  "nbformat_minor": 0,
  "metadata": {
    "colab": {
      "provenance": [],
      "authorship_tag": "ABX9TyPJHadnqTBrmWsL/gKdRpXw",
      "include_colab_link": true
    },
    "kernelspec": {
      "name": "python3",
      "display_name": "Python 3"
    },
    "language_info": {
      "name": "python"
    }
  },
  "cells": [
    {
      "cell_type": "markdown",
      "metadata": {
        "id": "view-in-github",
        "colab_type": "text"
      },
      "source": [
        "<a href=\"https://colab.research.google.com/github/kilos11/Python_Learning/blob/main/List_Copying.ipynb\" target=\"_parent\"><img src=\"https://colab.research.google.com/assets/colab-badge.svg\" alt=\"Open In Colab\"/></a>"
      ]
    },
    {
      "cell_type": "code",
      "execution_count": 1,
      "metadata": {
        "colab": {
          "base_uri": "https://localhost:8080/"
        },
        "id": "DqXdcUFAaYgB",
        "outputId": "d5797f8e-e977-4e46-de1e-1fded9d4e914"
      },
      "outputs": [
        {
          "output_type": "stream",
          "name": "stdout",
          "text": [
            "numbers1 id = 139154524023744\n",
            "numbers2 id = 139154524024768\n",
            "[1, 2, 3, 4, 5]\n",
            "numbers3 id = 139154524024000\n",
            "[1, 2, 3, 4, 5]\n",
            "numbers4 id = 139154524024256\n",
            "[1, 2, 3, 4, 5]\n"
          ]
        }
      ],
      "source": [
        "\n",
        "numbers1 = [1, 2, 3, 4, 5]\n",
        "# the first method\n",
        "numbers2 = list(numbers1)\n",
        "# the second method\n",
        "numbers3 = numbers1[:]\n",
        "# the third method with deep copy\n",
        "import copy\n",
        "numbers4 = copy.deepcopy(numbers1)\n",
        "print(\"numbers1 id = \" + str(id(numbers1)))\n",
        "print(\"numbers2 id = \" + str(id(numbers2)))\n",
        "print(numbers2)\n",
        "print(\"numbers3 id = \" + str(id(numbers3)))\n",
        "print(numbers3)\n",
        "print(\"numbers4 id = \" + str(id(numbers4)))\n",
        "print(numbers4)"
      ]
    }
  ]
}