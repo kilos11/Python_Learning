{
  "nbformat": 4,
  "nbformat_minor": 0,
  "metadata": {
    "colab": {
      "provenance": [],
      "authorship_tag": "ABX9TyOLAOCDAZjAamI1ylJxU3a8",
      "include_colab_link": true
    },
    "kernelspec": {
      "name": "python3",
      "display_name": "Python 3"
    },
    "language_info": {
      "name": "python"
    }
  },
  "cells": [
    {
      "cell_type": "markdown",
      "metadata": {
        "id": "view-in-github",
        "colab_type": "text"
      },
      "source": [
        "<a href=\"https://colab.research.google.com/github/kilos11/Python_Learning/blob/main/Class_With_constructer.ipynb\" target=\"_parent\"><img src=\"https://colab.research.google.com/assets/colab-badge.svg\" alt=\"Open In Colab\"/></a>"
      ]
    },
    {
      "cell_type": "code",
      "execution_count": 5,
      "metadata": {
        "colab": {
          "base_uri": "https://localhost:8080/"
        },
        "id": "UnWp5WGvQDm4",
        "outputId": "21a95011-0afd-48b0-d237-3741b0d6d270"
      },
      "outputs": [
        {
          "output_type": "stream",
          "name": "stdout",
          "text": [
            "Victoria\n",
            "Kim\n",
            "<__main__.Phone object at 0x782561bf3220>\n"
          ]
        }
      ],
      "source": [
        "class Phone:\n",
        "    def __init__(self, model):\n",
        "        self.model = model\n",
        "\n",
        "\n",
        "class Employee:\n",
        "    def __init__(self, first_name, last_name, personal_phone):\n",
        "        self.firstName = first_name\n",
        "        self.lastName = last_name\n",
        "        self.personalPhone = personal_phone\n",
        "\n",
        "\n",
        "class Phone:\n",
        "    def __init__(self, model):\n",
        "        self.model = model\n",
        "\n",
        "class Employee:\n",
        "    def __init__(self, firstName, lastName, phone):\n",
        "        self.firstName = firstName\n",
        "        self.lastName = lastName\n",
        "        self.phone = phone\n",
        "\n",
        "nokiaPhone = Phone(\"Nokia 6610\")\n",
        "kim = Employee(\"Victoria\", \"Kim\", nokiaPhone)\n",
        "\n",
        "print(kim.firstName)\n",
        "print (kim.lastName)\n",
        "print (kim. phone)"
      ]
    }
  ]
}