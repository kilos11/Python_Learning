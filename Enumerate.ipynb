{
  "nbformat": 4,
  "nbformat_minor": 0,
  "metadata": {
    "colab": {
      "provenance": [],
      "authorship_tag": "ABX9TyPpewv5ONTyGY6wgqjWFdTh",
      "include_colab_link": true
    },
    "kernelspec": {
      "name": "python3",
      "display_name": "Python 3"
    },
    "language_info": {
      "name": "python"
    }
  },
  "cells": [
    {
      "cell_type": "markdown",
      "metadata": {
        "id": "view-in-github",
        "colab_type": "text"
      },
      "source": [
        "<a href=\"https://colab.research.google.com/github/kilos11/Python_Learning/blob/main/Enumerate.ipynb\" target=\"_parent\"><img src=\"https://colab.research.google.com/assets/colab-badge.svg\" alt=\"Open In Colab\"/></a>"
      ]
    },
    {
      "cell_type": "code",
      "execution_count": 1,
      "metadata": {
        "colab": {
          "base_uri": "https://localhost:8080/"
        },
        "id": "PZkK0veC9J5f",
        "outputId": "f086203f-9cf0-4bc8-ca22-cfcd3bdbef76"
      },
      "outputs": [
        {
          "output_type": "stream",
          "name": "stdout",
          "text": [
            "gold = <PreciousMetal.Gold: 2>\n",
            "fall = <Season.Fall: 1>\n",
            "earth = <Planet.Earth: 3>\n"
          ]
        }
      ],
      "source": [
        "from enum import Enum\n",
        "\n",
        "\n",
        "class PreciousMetal(Enum):\n",
        "    Platinum = 1\n",
        "    Gold = 2\n",
        "    Silver = 3\n",
        "\n",
        "\n",
        "class Season(Enum):\n",
        "    Summer, Fall, Winter, Spring = range(4)\n",
        "\n",
        "\n",
        "Planet = Enum('Planet', 'Mercury Venus Earth')\n",
        "\n",
        "gold = PreciousMetal.Gold\n",
        "fall = Season.Fall\n",
        "earth = Planet.Earth\n",
        "\n",
        "print(f\"{gold = }\")\n",
        "print(f\"{fall = }\")\n",
        "print(f\"{earth = }\")"
      ]
    }
  ]
}