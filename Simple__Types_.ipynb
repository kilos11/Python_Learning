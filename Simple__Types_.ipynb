{
  "nbformat": 4,
  "nbformat_minor": 0,
  "metadata": {
    "colab": {
      "provenance": [],
      "authorship_tag": "ABX9TyPkKd8miqSXyY0KU4J7FjrF",
      "include_colab_link": true
    },
    "kernelspec": {
      "name": "python3",
      "display_name": "Python 3"
    },
    "language_info": {
      "name": "python"
    }
  },
  "cells": [
    {
      "cell_type": "markdown",
      "metadata": {
        "id": "view-in-github",
        "colab_type": "text"
      },
      "source": [
        "<a href=\"https://colab.research.google.com/github/kilos11/Python_Learning/blob/main/Simple__Types_.ipynb\" target=\"_parent\"><img src=\"https://colab.research.google.com/assets/colab-badge.svg\" alt=\"Open In Colab\"/></a>"
      ]
    },
    {
      "cell_type": "code",
      "source": [
        "import sys\n",
        "from typing import Final\n",
        "\n",
        "# \"Final\" for constants\n",
        "\n",
        "# Int\n",
        "number: int = 42\n",
        "otherNumber = 37\n",
        "maxInt = sys.maxsize\n",
        "MB: Final = 1048576\n",
        "\n",
        "# Float\n",
        "exp: float = 2.71828\n",
        "billion = 1E+9\n",
        "\n",
        "# String\n",
        "greeting: Final[str] = \"Hello\"\n",
        "\n",
        "# MultiLine String\n",
        "text1 = \"this is some\\n\" + \\\n",
        "        \"multiLine text\"\n",
        "\n",
        "text2: str = \"\"\"this is some\n",
        "multiLine text\"\"\"\n",
        "\n",
        "text3 = (\"this is some\\n\"\n",
        "         \"multiLine text\")\n",
        "\n",
        "# Bool\n",
        "sunIsStar = True\n",
        "earthIsStar = False\n",
        "\n",
        "# Character \"A\"\n",
        "charA = 'A'  # '\\u0041', chr(65);\n",
        "\n",
        "# Tuple (Int, String)\n",
        "one = (1, \"one\")\n",
        "\n",
        "print(f\"{number = }\")\n",
        "print(f\"{otherNumber = }\")\n",
        "print(f\"{maxInt = }\")\n",
        "print(f\"{MB = }\")\n",
        "print(f\"{exp = }\")\n",
        "print(f\"{billion = }\")\n",
        "print(f\"{greeting = }\")\n",
        "print(f\"{text1 = }\")\n",
        "print(f\"{text2 = }\")\n",
        "print(f\"{text3 = }\")\n",
        "print(f\"{sunIsStar = }\")\n",
        "print(f\"{earthIsStar = }\")\n",
        "print(f\"{charA = }\")\n",
        "print(f\"{one = }\")"
      ],
      "metadata": {
        "colab": {
          "base_uri": "https://localhost:8080/"
        },
        "id": "mZI88sQe8Hs4",
        "outputId": "3f6a0fd1-aca9-45bc-8765-c5bf2bef8afa"
      },
      "execution_count": 3,
      "outputs": [
        {
          "output_type": "stream",
          "name": "stdout",
          "text": [
            "number = 42\n",
            "otherNumber = 37\n",
            "maxInt = 9223372036854775807\n",
            "MB = 1048576\n",
            "exp = 2.71828\n",
            "billion = 1000000000.0\n",
            "greeting = 'Hello'\n",
            "text1 = 'this is some\\nmultiLine text'\n",
            "text2 = 'this is some\\nmultiLine text'\n",
            "text3 = 'this is some\\nmultiLine text'\n",
            "sunIsStar = True\n",
            "earthIsStar = False\n",
            "charA = 'A'\n",
            "one = (1, 'one')\n"
          ]
        }
      ]
    }
  ]
}