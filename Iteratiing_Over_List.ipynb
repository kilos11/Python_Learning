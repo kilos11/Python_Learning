{
  "nbformat": 4,
  "nbformat_minor": 0,
  "metadata": {
    "colab": {
      "provenance": [],
      "authorship_tag": "ABX9TyM9QSkL3sLjG9B2bBG3JoOH",
      "include_colab_link": true
    },
    "kernelspec": {
      "name": "python3",
      "display_name": "Python 3"
    },
    "language_info": {
      "name": "python"
    }
  },
  "cells": [
    {
      "cell_type": "markdown",
      "metadata": {
        "id": "view-in-github",
        "colab_type": "text"
      },
      "source": [
        "<a href=\"https://colab.research.google.com/github/kilos11/Python_Learning/blob/main/Iteratiing_Over_List.ipynb\" target=\"_parent\"><img src=\"https://colab.research.google.com/assets/colab-badge.svg\" alt=\"Open In Colab\"/></a>"
      ]
    },
    {
      "cell_type": "code",
      "execution_count": 1,
      "metadata": {
        "colab": {
          "base_uri": "https://localhost:8080/"
        },
        "id": "oCb7PST-Wm89",
        "outputId": "8062fcf4-8b6f-47b1-d441-5054b897fccd"
      },
      "outputs": [
        {
          "output_type": "stream",
          "name": "stdout",
          "text": [
            "2; 3; 5; 7; 11; 13; 17; \n"
          ]
        }
      ],
      "source": [
        "\n",
        "numbers = [2, 3, 5, 7, 11, 13, 17]\n",
        "string = \"\"\n",
        "for i in numbers:\n",
        "    string = string + str(i) + \"; \"\n",
        "# string is \"2; 3; 5; 7; 11; 13; 17; \"\n",
        "print(string)"
      ]
    }
  ]
}