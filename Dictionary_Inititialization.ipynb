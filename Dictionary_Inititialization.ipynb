{
  "nbformat": 4,
  "nbformat_minor": 0,
  "metadata": {
    "colab": {
      "provenance": [],
      "authorship_tag": "ABX9TyN6KUCbLvJWXQRIVbLddz3d",
      "include_colab_link": true
    },
    "kernelspec": {
      "name": "python3",
      "display_name": "Python 3"
    },
    "language_info": {
      "name": "python"
    }
  },
  "cells": [
    {
      "cell_type": "markdown",
      "metadata": {
        "id": "view-in-github",
        "colab_type": "text"
      },
      "source": [
        "<a href=\"https://colab.research.google.com/github/kilos11/Python_Learning/blob/main/Dictionary_Inititialization.ipynb\" target=\"_parent\"><img src=\"https://colab.research.google.com/assets/colab-badge.svg\" alt=\"Open In Colab\"/></a>"
      ]
    },
    {
      "cell_type": "code",
      "execution_count": 1,
      "metadata": {
        "colab": {
          "base_uri": "https://localhost:8080/"
        },
        "id": "X64Y0T9Cdp0W",
        "outputId": "0c6245dc-cbc8-45f3-e74b-70a72aaf1198"
      },
      "outputs": [
        {
          "output_type": "stream",
          "name": "stdout",
          "text": [
            "{}\n",
            "{}\n",
            "{1: 'one', 2: 'two'}\n",
            "{'one': 1, 'two': 2}\n",
            "{'one': 1, 'two': 2, 'three': 3}\n"
          ]
        }
      ],
      "source": [
        "\n",
        "# Empty dictionary\n",
        "d1 = {}\n",
        "d2 = dict()\n",
        "# init with some data\n",
        "d3 = {1 : \"one\", 2 : \"two\"}\n",
        "d4 = dict(one = 1, two = 2)\n",
        "# d4 is {'one': 1, 'two': 2}\n",
        "d5 = dict(d4, three = 3)\n",
        "# d4 is {'one': 1, 'two': 2, 'three': 3}\n",
        "print(d1)\n",
        "print(d2)\n",
        "print(d3)\n",
        "print(d4)\n",
        "print(d5)"
      ]
    }
  ]
}