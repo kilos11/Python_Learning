{
  "cells": [
    {
      "cell_type": "markdown",
      "metadata": {
        "id": "tQ1KB0V4ghdb"
      },
      "source": [
        "# Introducing Pandas Objects"
      ]
    },
    {
      "cell_type": "markdown",
      "metadata": {
        "id": "EdBij0qQghdd"
      },
      "source": [
        "At a very basic level, Pandas objects can be thought of as enhanced versions of NumPy structured arrays in which the rows and columns are identified with labels rather than simple integer indices.\n",
        "As we will see during the course of this chapter, Pandas provides a host of useful tools, methods, and functionality on top of the basic data structures, but nearly everything that follows will require an understanding of what these structures are.\n",
        "Thus, before we go any further, let's take a look at these three fundamental Pandas data structures: the `Series`, `DataFrame`, and `Index`.\n",
        "\n",
        "We will start our code sessions with the standard NumPy and Pandas imports:"
      ]
    },
    {
      "cell_type": "code",
      "execution_count": 3,
      "metadata": {
        "tags": [],
        "id": "kkMzmTTxghde"
      },
      "outputs": [],
      "source": [
        "import numpy as np\n",
        "import pandas as pd"
      ]
    },
    {
      "cell_type": "markdown",
      "metadata": {
        "id": "9JKC8VG2ghdg"
      },
      "source": [
        "## The Pandas Series Object\n",
        "\n",
        "A Pandas `Series` is a one-dimensional array of indexed data.\n",
        "It can be created from a list or array as follows:"
      ]
    },
    {
      "cell_type": "code",
      "execution_count": 4,
      "metadata": {
        "jupyter": {
          "outputs_hidden": false
        },
        "id": "FpsnNB1Ighdg",
        "outputId": "253a0df5-7003-4c2f-b99a-71aacb017461",
        "colab": {
          "base_uri": "https://localhost:8080/"
        }
      },
      "outputs": [
        {
          "output_type": "execute_result",
          "data": {
            "text/plain": [
              "0    0.25\n",
              "1    0.50\n",
              "2    0.75\n",
              "3    1.00\n",
              "dtype: float64"
            ]
          },
          "metadata": {},
          "execution_count": 4
        }
      ],
      "source": [
        "data = pd.Series([0.25, 0.5, 0.75, 1.0])\n",
        "data"
      ]
    },
    {
      "cell_type": "markdown",
      "metadata": {
        "id": "RuvSCLtmghdh"
      },
      "source": [
        "The `Series` combines a sequence of values with an explicit sequence of indices, which we can access with the `values` and `index` attributes.\n",
        "The `values` are simply a familiar NumPy array:"
      ]
    },
    {
      "cell_type": "code",
      "execution_count": 5,
      "metadata": {
        "jupyter": {
          "outputs_hidden": false
        },
        "id": "Uq0dHbFhghdh",
        "outputId": "7fe7e06b-238c-4d42-a80c-3540f48431e1",
        "colab": {
          "base_uri": "https://localhost:8080/"
        }
      },
      "outputs": [
        {
          "output_type": "execute_result",
          "data": {
            "text/plain": [
              "array([0.25, 0.5 , 0.75, 1.  ])"
            ]
          },
          "metadata": {},
          "execution_count": 5
        }
      ],
      "source": [
        "data.values"
      ]
    },
    {
      "cell_type": "markdown",
      "metadata": {
        "id": "ds9DnmjIghdh"
      },
      "source": [
        "The `index` is an array-like object of type `pd.Index`, which we'll discuss in more detail momentarily:"
      ]
    },
    {
      "cell_type": "code",
      "execution_count": 6,
      "metadata": {
        "jupyter": {
          "outputs_hidden": false
        },
        "id": "npvr5Mirghdi",
        "outputId": "848f7361-ee49-4cb8-bc43-e5d409dbafb4",
        "colab": {
          "base_uri": "https://localhost:8080/"
        }
      },
      "outputs": [
        {
          "output_type": "execute_result",
          "data": {
            "text/plain": [
              "RangeIndex(start=0, stop=4, step=1)"
            ]
          },
          "metadata": {},
          "execution_count": 6
        }
      ],
      "source": [
        "data.index"
      ]
    },
    {
      "cell_type": "markdown",
      "metadata": {
        "id": "i5gAzDyrghdi"
      },
      "source": [
        "Like with a NumPy array, data can be accessed by the associated index via the familiar Python square-bracket notation:"
      ]
    },
    {
      "cell_type": "code",
      "execution_count": null,
      "metadata": {
        "jupyter": {
          "outputs_hidden": false
        },
        "id": "5qsgaAkOghdi",
        "outputId": "9884db28-a3ab-444a-8093-a14182f92a59"
      },
      "outputs": [
        {
          "data": {
            "text/plain": [
              "0.5"
            ]
          },
          "execution_count": 5,
          "metadata": {},
          "output_type": "execute_result"
        }
      ],
      "source": [
        "data[1]"
      ]
    },
    {
      "cell_type": "code",
      "execution_count": 7,
      "metadata": {
        "jupyter": {
          "outputs_hidden": false
        },
        "id": "VeOJo3-Mghdj",
        "outputId": "15846d01-5e69-4c8a-9964-b2abc6642c9c",
        "colab": {
          "base_uri": "https://localhost:8080/"
        }
      },
      "outputs": [
        {
          "output_type": "execute_result",
          "data": {
            "text/plain": [
              "1    0.50\n",
              "2    0.75\n",
              "dtype: float64"
            ]
          },
          "metadata": {},
          "execution_count": 7
        }
      ],
      "source": [
        "data[1:3]"
      ]
    },
    {
      "cell_type": "markdown",
      "metadata": {
        "id": "uOb2X0-zghdj"
      },
      "source": [
        "As we will see, though, the Pandas `Series` is much more general and flexible than the one-dimensional NumPy array that it emulates."
      ]
    },
    {
      "cell_type": "markdown",
      "metadata": {
        "id": "8zsKw--Fghdj"
      },
      "source": [
        "### Series as Generalized NumPy Array"
      ]
    },
    {
      "cell_type": "markdown",
      "metadata": {
        "id": "olOMg8tVghdj"
      },
      "source": [
        "From what we've seen so far, the `Series` object may appear to be basically interchangeable with a one-dimensional NumPy array.\n",
        "The essential difference is that while the NumPy array has an *implicitly defined* integer index used to access the values, the Pandas `Series` has an *explicitly defined* index associated with the values.\n",
        "\n",
        "This explicit index definition gives the `Series` object additional capabilities. For example, the index need not be an integer, but can consist of values of any desired type.\n",
        "So, if we wish, we can use strings as an index:"
      ]
    },
    {
      "cell_type": "code",
      "execution_count": 8,
      "metadata": {
        "jupyter": {
          "outputs_hidden": false
        },
        "id": "12CgOn1-ghdk",
        "outputId": "43423dc9-940e-4bd3-ee21-6fff8ffc0fd5",
        "colab": {
          "base_uri": "https://localhost:8080/"
        }
      },
      "outputs": [
        {
          "output_type": "execute_result",
          "data": {
            "text/plain": [
              "a    0.25\n",
              "b    0.50\n",
              "c    0.75\n",
              "d    1.00\n",
              "dtype: float64"
            ]
          },
          "metadata": {},
          "execution_count": 8
        }
      ],
      "source": [
        "data = pd.Series([0.25, 0.5, 0.75, 1.0],\n",
        "                 index=['a', 'b', 'c', 'd'])\n",
        "data"
      ]
    },
    {
      "cell_type": "markdown",
      "metadata": {
        "id": "-LtGoWVwghdk"
      },
      "source": [
        "And the item access works as expected:"
      ]
    },
    {
      "cell_type": "code",
      "execution_count": 9,
      "metadata": {
        "jupyter": {
          "outputs_hidden": false
        },
        "id": "CrBp8UM4ghdk",
        "outputId": "7115d0d0-8bd9-434a-91d2-3c0c2a3bdb66",
        "colab": {
          "base_uri": "https://localhost:8080/"
        }
      },
      "outputs": [
        {
          "output_type": "execute_result",
          "data": {
            "text/plain": [
              "0.5"
            ]
          },
          "metadata": {},
          "execution_count": 9
        }
      ],
      "source": [
        "data['b']"
      ]
    },
    {
      "cell_type": "markdown",
      "metadata": {
        "id": "sAKYFvDFghdl"
      },
      "source": [
        "We can even use noncontiguous or nonsequential indices:"
      ]
    },
    {
      "cell_type": "code",
      "execution_count": 10,
      "metadata": {
        "jupyter": {
          "outputs_hidden": false
        },
        "id": "qrOMrdp8ghdl",
        "outputId": "c6d26320-e601-49fe-f3f7-a19c262f480e",
        "colab": {
          "base_uri": "https://localhost:8080/"
        }
      },
      "outputs": [
        {
          "output_type": "execute_result",
          "data": {
            "text/plain": [
              "2    0.25\n",
              "5    0.50\n",
              "3    0.75\n",
              "7    1.00\n",
              "dtype: float64"
            ]
          },
          "metadata": {},
          "execution_count": 10
        }
      ],
      "source": [
        "data = pd.Series([0.25, 0.5, 0.75, 1.0],\n",
        "                 index=[2, 5, 3, 7])\n",
        "data"
      ]
    },
    {
      "cell_type": "code",
      "execution_count": 11,
      "metadata": {
        "jupyter": {
          "outputs_hidden": false
        },
        "id": "6Y3aknagghdl",
        "outputId": "426cd154-3569-4848-f734-b42406cf0ec0",
        "colab": {
          "base_uri": "https://localhost:8080/"
        }
      },
      "outputs": [
        {
          "output_type": "execute_result",
          "data": {
            "text/plain": [
              "0.5"
            ]
          },
          "metadata": {},
          "execution_count": 11
        }
      ],
      "source": [
        "data[5]"
      ]
    },
    {
      "cell_type": "markdown",
      "metadata": {
        "id": "7EZMMmoeghdl"
      },
      "source": [
        "### Series as Specialized Dictionary\n",
        "\n",
        "In this way, you can think of a Pandas `Series` a bit like a specialization of a Python dictionary.\n",
        "A dictionary is a structure that maps arbitrary keys to a set of arbitrary values, and a `Series` is a structure that maps typed keys to a set of typed values.\n",
        "This typing is important: just as the type-specific compiled code behind a NumPy array makes it more efficient than a Python list for certain operations, the type information of a Pandas `Series` makes it more efficient than Python dictionaries for certain operations.\n",
        "\n",
        "The `Series`-as-dictionary analogy can be made even more clear by constructing a `Series` object directly from a Python dictionary, here the five most populous US states according to the 2020 census:"
      ]
    },
    {
      "cell_type": "code",
      "execution_count": 12,
      "metadata": {
        "jupyter": {
          "outputs_hidden": false
        },
        "id": "6YiIvPTTghdm",
        "outputId": "758c6f4b-6eba-42a7-ff08-32b84c1b8b0e",
        "colab": {
          "base_uri": "https://localhost:8080/"
        }
      },
      "outputs": [
        {
          "output_type": "execute_result",
          "data": {
            "text/plain": [
              "California      39538223\n",
              "Texas           29145505\n",
              "Florida         21538187\n",
              "New York        20201249\n",
              "Pennsylvania    13002700\n",
              "dtype: int64"
            ]
          },
          "metadata": {},
          "execution_count": 12
        }
      ],
      "source": [
        "population_dict = {'California': 39538223, 'Texas': 29145505,\n",
        "                   'Florida': 21538187, 'New York': 20201249,\n",
        "                   'Pennsylvania': 13002700}\n",
        "population = pd.Series(population_dict)\n",
        "population"
      ]
    },
    {
      "cell_type": "markdown",
      "metadata": {
        "id": "acoM8Zm-ghdm"
      },
      "source": [
        "From here, typical dictionary-style item access can be performed:"
      ]
    },
    {
      "cell_type": "code",
      "execution_count": 13,
      "metadata": {
        "jupyter": {
          "outputs_hidden": false
        },
        "id": "T8poamBqghdm",
        "outputId": "fcf3be1e-c796-4468-ce57-c1d1e222ddaa",
        "colab": {
          "base_uri": "https://localhost:8080/"
        }
      },
      "outputs": [
        {
          "output_type": "execute_result",
          "data": {
            "text/plain": [
              "39538223"
            ]
          },
          "metadata": {},
          "execution_count": 13
        }
      ],
      "source": [
        "population['California']"
      ]
    },
    {
      "cell_type": "markdown",
      "metadata": {
        "id": "ih_ybXSgghdn"
      },
      "source": [
        "Unlike a dictionary, though, the `Series` also supports array-style operations such as slicing:"
      ]
    },
    {
      "cell_type": "code",
      "execution_count": 14,
      "metadata": {
        "jupyter": {
          "outputs_hidden": false
        },
        "id": "yFY-JhBrghdn",
        "outputId": "e9a0f6e6-7bfa-420a-c59d-5833ff197b1b",
        "colab": {
          "base_uri": "https://localhost:8080/"
        }
      },
      "outputs": [
        {
          "output_type": "execute_result",
          "data": {
            "text/plain": [
              "California    39538223\n",
              "Texas         29145505\n",
              "Florida       21538187\n",
              "dtype: int64"
            ]
          },
          "metadata": {},
          "execution_count": 14
        }
      ],
      "source": [
        "population['California':'Florida']"
      ]
    },
    {
      "cell_type": "markdown",
      "metadata": {
        "id": "IHsMYrX6ghdn"
      },
      "source": [
        "We'll discuss some of the quirks of Pandas indexing and slicing in [Data Indexing and Selection](03.02-Data-Indexing-and-Selection.ipynb)."
      ]
    },
    {
      "cell_type": "markdown",
      "metadata": {
        "id": "XBJlOZ7Dghdn"
      },
      "source": [
        "### Constructing Series Objects\n",
        "\n",
        "We've already seen a few ways of constructing a Pandas `Series` from scratch. All of them are some version of the following:\n",
        "\n",
        "```python\n",
        "pd.Series(data, index=index)\n",
        "```\n",
        "\n",
        "where `index` is an optional argument, and `data` can be one of many entities.\n",
        "\n",
        "For example, `data` can be a list or NumPy array, in which case `index` defaults to an integer sequence:"
      ]
    },
    {
      "cell_type": "code",
      "execution_count": 15,
      "metadata": {
        "jupyter": {
          "outputs_hidden": false
        },
        "id": "y-b0iuiqghdo",
        "outputId": "8f89ae2b-ce48-45be-99bd-34d90429d2e9",
        "colab": {
          "base_uri": "https://localhost:8080/"
        }
      },
      "outputs": [
        {
          "output_type": "execute_result",
          "data": {
            "text/plain": [
              "0    2\n",
              "1    4\n",
              "2    6\n",
              "dtype: int64"
            ]
          },
          "metadata": {},
          "execution_count": 15
        }
      ],
      "source": [
        "pd.Series([2, 4, 6])"
      ]
    },
    {
      "cell_type": "markdown",
      "metadata": {
        "id": "4-Tk0U89ghdo"
      },
      "source": [
        "Or `data` can be a scalar, which is repeated to fill the specified index:"
      ]
    },
    {
      "cell_type": "code",
      "execution_count": 16,
      "metadata": {
        "jupyter": {
          "outputs_hidden": false
        },
        "id": "a57xVfGTghdo",
        "outputId": "c7f111cd-682f-4742-d21a-69975be64dc2",
        "colab": {
          "base_uri": "https://localhost:8080/"
        }
      },
      "outputs": [
        {
          "output_type": "execute_result",
          "data": {
            "text/plain": [
              "100    5\n",
              "200    5\n",
              "300    5\n",
              "dtype: int64"
            ]
          },
          "metadata": {},
          "execution_count": 16
        }
      ],
      "source": [
        "pd.Series(5, index=[100, 200, 300])"
      ]
    },
    {
      "cell_type": "markdown",
      "metadata": {
        "id": "R_bdjgPKghdo"
      },
      "source": [
        "Or it can be a dictionary, in which case `index` defaults to the dictionary keys:"
      ]
    },
    {
      "cell_type": "code",
      "execution_count": 17,
      "metadata": {
        "jupyter": {
          "outputs_hidden": false
        },
        "id": "OTt_Iwk0ghdp",
        "outputId": "2f85b80c-501b-4c70-afe7-14ad8bed9fe0",
        "colab": {
          "base_uri": "https://localhost:8080/"
        }
      },
      "outputs": [
        {
          "output_type": "execute_result",
          "data": {
            "text/plain": [
              "2    a\n",
              "1    b\n",
              "3    c\n",
              "dtype: object"
            ]
          },
          "metadata": {},
          "execution_count": 17
        }
      ],
      "source": [
        "pd.Series({2:'a', 1:'b', 3:'c'})"
      ]
    },
    {
      "cell_type": "markdown",
      "metadata": {
        "id": "UfZGJMKxghdp"
      },
      "source": [
        "In each case, the index can be explicitly set to control the order or the subset of keys used:"
      ]
    },
    {
      "cell_type": "code",
      "execution_count": 18,
      "metadata": {
        "jupyter": {
          "outputs_hidden": false
        },
        "id": "XoERkXTBghdp",
        "outputId": "aa8ecbb9-553e-4581-ee37-cd50364808cb",
        "colab": {
          "base_uri": "https://localhost:8080/"
        }
      },
      "outputs": [
        {
          "output_type": "execute_result",
          "data": {
            "text/plain": [
              "1    b\n",
              "2    a\n",
              "dtype: object"
            ]
          },
          "metadata": {},
          "execution_count": 18
        }
      ],
      "source": [
        "pd.Series({2:'a', 1:'b', 3:'c'}, index=[1, 2])"
      ]
    },
    {
      "cell_type": "markdown",
      "metadata": {
        "id": "XP6peajhghdp"
      },
      "source": [
        "## The Pandas DataFrame Object\n",
        "\n",
        "The next fundamental structure in Pandas is the `DataFrame`.\n",
        "Like the `Series` object discussed in the previous section, the `DataFrame` can be thought of either as a generalization of a NumPy array, or as a specialization of a Python dictionary.\n",
        "We'll now take a look at each of these perspectives."
      ]
    },
    {
      "cell_type": "markdown",
      "metadata": {
        "id": "iheVxTzJghdp"
      },
      "source": [
        "### DataFrame as Generalized NumPy Array\n",
        "If a `Series` is an analog of a one-dimensional array with explicit indices, a `DataFrame` is an analog of a two-dimensional array with explicit row and column indices.\n",
        "Just as you might think of a two-dimensional array as an ordered sequence of aligned one-dimensional columns, you can think of a `DataFrame` as a sequence of aligned `Series` objects.\n",
        "Here, by \"aligned\" we mean that they share the same index.\n",
        "\n",
        "To demonstrate this, let's first construct a new `Series` listing the area of each of the five states discussed in the previous section (in square kilometers):"
      ]
    },
    {
      "cell_type": "code",
      "execution_count": 19,
      "metadata": {
        "jupyter": {
          "outputs_hidden": false
        },
        "id": "9KVQiY0ighdq",
        "outputId": "45b5ec0d-98ef-4700-cca0-0ad13729a225",
        "colab": {
          "base_uri": "https://localhost:8080/"
        }
      },
      "outputs": [
        {
          "output_type": "execute_result",
          "data": {
            "text/plain": [
              "California      423967\n",
              "Texas           695662\n",
              "Florida         170312\n",
              "New York        141297\n",
              "Pennsylvania    119280\n",
              "dtype: int64"
            ]
          },
          "metadata": {},
          "execution_count": 19
        }
      ],
      "source": [
        "area_dict = {'California': 423967, 'Texas': 695662, 'Florida': 170312,\n",
        "             'New York': 141297, 'Pennsylvania': 119280}\n",
        "area = pd.Series(area_dict)\n",
        "area"
      ]
    },
    {
      "cell_type": "markdown",
      "metadata": {
        "id": "NFUxPBLeghdq"
      },
      "source": [
        "Now that we have this along with the `population` Series from before, we can use a dictionary to construct a single two-dimensional object containing this information:"
      ]
    },
    {
      "cell_type": "code",
      "execution_count": 20,
      "metadata": {
        "jupyter": {
          "outputs_hidden": false
        },
        "id": "bYXxxqZTghdq",
        "outputId": "3daf3c55-0ce4-403e-e953-e738a393295d",
        "colab": {
          "base_uri": "https://localhost:8080/",
          "height": 680
        }
      },
      "outputs": [
        {
          "output_type": "execute_result",
          "data": {
            "text/plain": [
              "              population    area\n",
              "California      39538223  423967\n",
              "Texas           29145505  695662\n",
              "Florida         21538187  170312\n",
              "New York        20201249  141297\n",
              "Pennsylvania    13002700  119280"
            ],
            "text/html": [
              "\n",
              "  <div id=\"df-b34fd104-116b-418a-a044-fb85b497366f\" class=\"colab-df-container\">\n",
              "    <div>\n",
              "<style scoped>\n",
              "    .dataframe tbody tr th:only-of-type {\n",
              "        vertical-align: middle;\n",
              "    }\n",
              "\n",
              "    .dataframe tbody tr th {\n",
              "        vertical-align: top;\n",
              "    }\n",
              "\n",
              "    .dataframe thead th {\n",
              "        text-align: right;\n",
              "    }\n",
              "</style>\n",
              "<table border=\"1\" class=\"dataframe\">\n",
              "  <thead>\n",
              "    <tr style=\"text-align: right;\">\n",
              "      <th></th>\n",
              "      <th>population</th>\n",
              "      <th>area</th>\n",
              "    </tr>\n",
              "  </thead>\n",
              "  <tbody>\n",
              "    <tr>\n",
              "      <th>California</th>\n",
              "      <td>39538223</td>\n",
              "      <td>423967</td>\n",
              "    </tr>\n",
              "    <tr>\n",
              "      <th>Texas</th>\n",
              "      <td>29145505</td>\n",
              "      <td>695662</td>\n",
              "    </tr>\n",
              "    <tr>\n",
              "      <th>Florida</th>\n",
              "      <td>21538187</td>\n",
              "      <td>170312</td>\n",
              "    </tr>\n",
              "    <tr>\n",
              "      <th>New York</th>\n",
              "      <td>20201249</td>\n",
              "      <td>141297</td>\n",
              "    </tr>\n",
              "    <tr>\n",
              "      <th>Pennsylvania</th>\n",
              "      <td>13002700</td>\n",
              "      <td>119280</td>\n",
              "    </tr>\n",
              "  </tbody>\n",
              "</table>\n",
              "</div>\n",
              "    <div class=\"colab-df-buttons\">\n",
              "\n",
              "  <div class=\"colab-df-container\">\n",
              "    <button class=\"colab-df-convert\" onclick=\"convertToInteractive('df-b34fd104-116b-418a-a044-fb85b497366f')\"\n",
              "            title=\"Convert this dataframe to an interactive table.\"\n",
              "            style=\"display:none;\">\n",
              "\n",
              "  <svg xmlns=\"http://www.w3.org/2000/svg\" height=\"24px\" viewBox=\"0 -960 960 960\">\n",
              "    <path d=\"M120-120v-720h720v720H120Zm60-500h600v-160H180v160Zm220 220h160v-160H400v160Zm0 220h160v-160H400v160ZM180-400h160v-160H180v160Zm440 0h160v-160H620v160ZM180-180h160v-160H180v160Zm440 0h160v-160H620v160Z\"/>\n",
              "  </svg>\n",
              "    </button>\n",
              "\n",
              "  <style>\n",
              "    .colab-df-container {\n",
              "      display:flex;\n",
              "      gap: 12px;\n",
              "    }\n",
              "\n",
              "    .colab-df-convert {\n",
              "      background-color: #E8F0FE;\n",
              "      border: none;\n",
              "      border-radius: 50%;\n",
              "      cursor: pointer;\n",
              "      display: none;\n",
              "      fill: #1967D2;\n",
              "      height: 32px;\n",
              "      padding: 0 0 0 0;\n",
              "      width: 32px;\n",
              "    }\n",
              "\n",
              "    .colab-df-convert:hover {\n",
              "      background-color: #E2EBFA;\n",
              "      box-shadow: 0px 1px 2px rgba(60, 64, 67, 0.3), 0px 1px 3px 1px rgba(60, 64, 67, 0.15);\n",
              "      fill: #174EA6;\n",
              "    }\n",
              "\n",
              "    .colab-df-buttons div {\n",
              "      margin-bottom: 4px;\n",
              "    }\n",
              "\n",
              "    [theme=dark] .colab-df-convert {\n",
              "      background-color: #3B4455;\n",
              "      fill: #D2E3FC;\n",
              "    }\n",
              "\n",
              "    [theme=dark] .colab-df-convert:hover {\n",
              "      background-color: #434B5C;\n",
              "      box-shadow: 0px 1px 3px 1px rgba(0, 0, 0, 0.15);\n",
              "      filter: drop-shadow(0px 1px 2px rgba(0, 0, 0, 0.3));\n",
              "      fill: #FFFFFF;\n",
              "    }\n",
              "  </style>\n",
              "\n",
              "    <script>\n",
              "      const buttonEl =\n",
              "        document.querySelector('#df-b34fd104-116b-418a-a044-fb85b497366f button.colab-df-convert');\n",
              "      buttonEl.style.display =\n",
              "        google.colab.kernel.accessAllowed ? 'block' : 'none';\n",
              "\n",
              "      async function convertToInteractive(key) {\n",
              "        const element = document.querySelector('#df-b34fd104-116b-418a-a044-fb85b497366f');\n",
              "        const dataTable =\n",
              "          await google.colab.kernel.invokeFunction('convertToInteractive',\n",
              "                                                    [key], {});\n",
              "        if (!dataTable) return;\n",
              "\n",
              "        const docLinkHtml = 'Like what you see? Visit the ' +\n",
              "          '<a target=\"_blank\" href=https://colab.research.google.com/notebooks/data_table.ipynb>data table notebook</a>'\n",
              "          + ' to learn more about interactive tables.';\n",
              "        element.innerHTML = '';\n",
              "        dataTable['output_type'] = 'display_data';\n",
              "        await google.colab.output.renderOutput(dataTable, element);\n",
              "        const docLink = document.createElement('div');\n",
              "        docLink.innerHTML = docLinkHtml;\n",
              "        element.appendChild(docLink);\n",
              "      }\n",
              "    </script>\n",
              "  </div>\n",
              "\n",
              "\n",
              "<div id=\"df-0058a0f2-2356-4a5b-a284-10f036482938\">\n",
              "  <button class=\"colab-df-quickchart\" onclick=\"quickchart('df-0058a0f2-2356-4a5b-a284-10f036482938')\"\n",
              "            title=\"Suggest charts\"\n",
              "            style=\"display:none;\">\n",
              "\n",
              "<svg xmlns=\"http://www.w3.org/2000/svg\" height=\"24px\"viewBox=\"0 0 24 24\"\n",
              "     width=\"24px\">\n",
              "    <g>\n",
              "        <path d=\"M19 3H5c-1.1 0-2 .9-2 2v14c0 1.1.9 2 2 2h14c1.1 0 2-.9 2-2V5c0-1.1-.9-2-2-2zM9 17H7v-7h2v7zm4 0h-2V7h2v10zm4 0h-2v-4h2v4z\"/>\n",
              "    </g>\n",
              "</svg>\n",
              "  </button>\n",
              "\n",
              "<style>\n",
              "  .colab-df-quickchart {\n",
              "      --bg-color: #E8F0FE;\n",
              "      --fill-color: #1967D2;\n",
              "      --hover-bg-color: #E2EBFA;\n",
              "      --hover-fill-color: #174EA6;\n",
              "      --disabled-fill-color: #AAA;\n",
              "      --disabled-bg-color: #DDD;\n",
              "  }\n",
              "\n",
              "  [theme=dark] .colab-df-quickchart {\n",
              "      --bg-color: #3B4455;\n",
              "      --fill-color: #D2E3FC;\n",
              "      --hover-bg-color: #434B5C;\n",
              "      --hover-fill-color: #FFFFFF;\n",
              "      --disabled-bg-color: #3B4455;\n",
              "      --disabled-fill-color: #666;\n",
              "  }\n",
              "\n",
              "  .colab-df-quickchart {\n",
              "    background-color: var(--bg-color);\n",
              "    border: none;\n",
              "    border-radius: 50%;\n",
              "    cursor: pointer;\n",
              "    display: none;\n",
              "    fill: var(--fill-color);\n",
              "    height: 32px;\n",
              "    padding: 0;\n",
              "    width: 32px;\n",
              "  }\n",
              "\n",
              "  .colab-df-quickchart:hover {\n",
              "    background-color: var(--hover-bg-color);\n",
              "    box-shadow: 0 1px 2px rgba(60, 64, 67, 0.3), 0 1px 3px 1px rgba(60, 64, 67, 0.15);\n",
              "    fill: var(--button-hover-fill-color);\n",
              "  }\n",
              "\n",
              "  .colab-df-quickchart-complete:disabled,\n",
              "  .colab-df-quickchart-complete:disabled:hover {\n",
              "    background-color: var(--disabled-bg-color);\n",
              "    fill: var(--disabled-fill-color);\n",
              "    box-shadow: none;\n",
              "  }\n",
              "\n",
              "  .colab-df-spinner {\n",
              "    border: 2px solid var(--fill-color);\n",
              "    border-color: transparent;\n",
              "    border-bottom-color: var(--fill-color);\n",
              "    animation:\n",
              "      spin 1s steps(1) infinite;\n",
              "  }\n",
              "\n",
              "  @keyframes spin {\n",
              "    0% {\n",
              "      border-color: transparent;\n",
              "      border-bottom-color: var(--fill-color);\n",
              "      border-left-color: var(--fill-color);\n",
              "    }\n",
              "    20% {\n",
              "      border-color: transparent;\n",
              "      border-left-color: var(--fill-color);\n",
              "      border-top-color: var(--fill-color);\n",
              "    }\n",
              "    30% {\n",
              "      border-color: transparent;\n",
              "      border-left-color: var(--fill-color);\n",
              "      border-top-color: var(--fill-color);\n",
              "      border-right-color: var(--fill-color);\n",
              "    }\n",
              "    40% {\n",
              "      border-color: transparent;\n",
              "      border-right-color: var(--fill-color);\n",
              "      border-top-color: var(--fill-color);\n",
              "    }\n",
              "    60% {\n",
              "      border-color: transparent;\n",
              "      border-right-color: var(--fill-color);\n",
              "    }\n",
              "    80% {\n",
              "      border-color: transparent;\n",
              "      border-right-color: var(--fill-color);\n",
              "      border-bottom-color: var(--fill-color);\n",
              "    }\n",
              "    90% {\n",
              "      border-color: transparent;\n",
              "      border-bottom-color: var(--fill-color);\n",
              "    }\n",
              "  }\n",
              "</style>\n",
              "\n",
              "  <script>\n",
              "    async function quickchart(key) {\n",
              "      const quickchartButtonEl =\n",
              "        document.querySelector('#' + key + ' button');\n",
              "      quickchartButtonEl.disabled = true;  // To prevent multiple clicks.\n",
              "      quickchartButtonEl.classList.add('colab-df-spinner');\n",
              "      try {\n",
              "        const charts = await google.colab.kernel.invokeFunction(\n",
              "            'suggestCharts', [key], {});\n",
              "      } catch (error) {\n",
              "        console.error('Error during call to suggestCharts:', error);\n",
              "      }\n",
              "      quickchartButtonEl.classList.remove('colab-df-spinner');\n",
              "      quickchartButtonEl.classList.add('colab-df-quickchart-complete');\n",
              "    }\n",
              "    (() => {\n",
              "      let quickchartButtonEl =\n",
              "        document.querySelector('#df-0058a0f2-2356-4a5b-a284-10f036482938 button');\n",
              "      quickchartButtonEl.style.display =\n",
              "        google.colab.kernel.accessAllowed ? 'block' : 'none';\n",
              "    })();\n",
              "  </script>\n",
              "</div>\n",
              "\n",
              "  <div id=\"id_2f35579c-a705-441e-8dae-25ede085f2b1\">\n",
              "    <style>\n",
              "      .colab-df-generate {\n",
              "        background-color: #E8F0FE;\n",
              "        border: none;\n",
              "        border-radius: 50%;\n",
              "        cursor: pointer;\n",
              "        display: none;\n",
              "        fill: #1967D2;\n",
              "        height: 32px;\n",
              "        padding: 0 0 0 0;\n",
              "        width: 32px;\n",
              "      }\n",
              "\n",
              "      .colab-df-generate:hover {\n",
              "        background-color: #E2EBFA;\n",
              "        box-shadow: 0px 1px 2px rgba(60, 64, 67, 0.3), 0px 1px 3px 1px rgba(60, 64, 67, 0.15);\n",
              "        fill: #174EA6;\n",
              "      }\n",
              "\n",
              "      [theme=dark] .colab-df-generate {\n",
              "        background-color: #3B4455;\n",
              "        fill: #D2E3FC;\n",
              "      }\n",
              "\n",
              "      [theme=dark] .colab-df-generate:hover {\n",
              "        background-color: #434B5C;\n",
              "        box-shadow: 0px 1px 3px 1px rgba(0, 0, 0, 0.15);\n",
              "        filter: drop-shadow(0px 1px 2px rgba(0, 0, 0, 0.3));\n",
              "        fill: #FFFFFF;\n",
              "      }\n",
              "    </style>\n",
              "    <button class=\"colab-df-generate\" onclick=\"generateWithVariable('states')\"\n",
              "            title=\"Generate code using this dataframe.\"\n",
              "            style=\"display:none;\">\n",
              "\n",
              "  <svg xmlns=\"http://www.w3.org/2000/svg\" height=\"24px\"viewBox=\"0 0 24 24\"\n",
              "       width=\"24px\">\n",
              "    <path d=\"M7,19H8.4L18.45,9,17,7.55,7,17.6ZM5,21V16.75L18.45,3.32a2,2,0,0,1,2.83,0l1.4,1.43a1.91,1.91,0,0,1,.58,1.4,1.91,1.91,0,0,1-.58,1.4L9.25,21ZM18.45,9,17,7.55Zm-12,3A5.31,5.31,0,0,0,4.9,8.1,5.31,5.31,0,0,0,1,6.5,5.31,5.31,0,0,0,4.9,4.9,5.31,5.31,0,0,0,6.5,1,5.31,5.31,0,0,0,8.1,4.9,5.31,5.31,0,0,0,12,6.5,5.46,5.46,0,0,0,6.5,12Z\"/>\n",
              "  </svg>\n",
              "    </button>\n",
              "    <script>\n",
              "      (() => {\n",
              "      const buttonEl =\n",
              "        document.querySelector('#id_2f35579c-a705-441e-8dae-25ede085f2b1 button.colab-df-generate');\n",
              "      buttonEl.style.display =\n",
              "        google.colab.kernel.accessAllowed ? 'block' : 'none';\n",
              "\n",
              "      buttonEl.onclick = () => {\n",
              "        google.colab.notebook.generateWithVariable('states');\n",
              "      }\n",
              "      })();\n",
              "    </script>\n",
              "  </div>\n",
              "\n",
              "    </div>\n",
              "  </div>\n"
            ]
          },
          "metadata": {},
          "execution_count": 20
        },
        {
          "output_type": "display_data",
          "data": {
            "text/plain": [
              "<google.colab._quickchart_helpers.SectionTitle at 0x7e53708cc6a0>"
            ],
            "text/html": [
              "<h4 class=\"colab-quickchart-section-title\">Distributions</h4>\n",
              "<style>\n",
              "  .colab-quickchart-section-title {\n",
              "      clear: both;\n",
              "  }\n",
              "</style>"
            ]
          },
          "metadata": {}
        },
        {
          "output_type": "display_data",
          "data": {
            "text/plain": [
              "from matplotlib import pyplot as plt\n",
              "states['population'].plot(kind='hist', bins=20, title='population')\n",
              "plt.gca().spines[['top', 'right',]].set_visible(False)"
            ],
            "text/html": [
              "      <div class=\"colab-quickchart-chart-with-code\" id=\"chart-9212f0fa-9356-436a-a1bd-d469fc4a1d51\">\n",
              "        <img style=\"width: 180px;\" src=\"data:image/png;base64,iVBORw0KGgoAAAANSUhEUgAAAioAAAG5CAYAAACgKh/DAAAAOXRFWHRTb2Z0d2FyZQBNYXRwbG90\n",
              "bGliIHZlcnNpb24zLjcuMSwgaHR0cHM6Ly9tYXRwbG90bGliLm9yZy/bCgiHAAAACXBIWXMAAA9h\n",
              "AAAPYQGoP6dpAAAiwElEQVR4nO3de1TUdf7H8dcI/eiigJIoK4yEiLdCxGAN7b7tqqt4a81aS1Qu\n",
              "mh7d47aaWVu2FXa2dTM7Jqa5ue7abqLGeqmTSa6lhuZlDfOCikOG0noBK0WB7+8Pz846CxiD85UP\n",
              "+nycMydm+PDlPd+m6XlmvszXYVmWJQAAAAM1aegBAAAAakOoAAAAYxEqAADAWIQKAAAwFqECAACM\n",
              "RagAAABjESoAAMBYhAoAADAWoQIAAIxFqAAwksPh0Nq1ay9rG2PGjFFqaqqPJgLQEPwbegAA8AWH\n",
              "w6EPP/xQP/nJT9y3zZ07twEnAuALvKICAACMRagAqOaee+7R+PHjNXjwYDVr1kzR0dFatGiR+/ur\n",
              "Vq1S9+7dFRQUpJiYGL3yyiuqqqpyf9/hcGjmzJlKSEhQ06ZNlZiYqK1bt7q/n5KSouHDh1f7nU8/\n",
              "/XSN8xQXF6tfv35q1aqVmjVrptjYWL377rvu73fp0kWS1L9/fzVt2lR9+vSp8fccOXJEQ4cOVatW\n",
              "rdSqVSs99NBD+vrrrz3mGjZsmMaPH6+QkBC1atVKzzzzTH12IQAfIVQA1GjBggUaOXKkTp48qdde\n",
              "e02pqan69NNPtWXLFg0aNEhTpkzR8ePHtWTJEs2cOVOvvfaax8/PmTNHb7/9to4fP66+ffuqT58+\n",
              "Ki0trdcslZWVGjVqlA4cOKATJ05o4sSJeuSRR5Sfny9J7n/+4x//0Lfffqs1a9bUuI1+/frJz89P\n",
              "+/bt0969e2VZlpKTk1VZWelet3z5cvXq1UslJSVasWKFZsyYodzc3HrNDeDyESoAatS3b1/1799f\n",
              "/v7+6tu3rwYNGqS33npL8+fP189//nMNHTpU/v7+6t69u37zm99UOx5k4sSJ6ty5swICAvTb3/5W\n",
              "/v7+ysnJqdcs4eHhGjx4sJo2barrrrtOo0ePVufOnbVu3bo6byMvL087d+7UnDlzFBQUpODgYL3x\n",
              "xhvatm2btmzZ4l7Xs2dPDRs2TH5+frrjjjsUFxenvLy8es0N4PIRKgBqdMstt1S7XlRUpKKiIrVr\n",
              "187je9HR0XK5XLX+fJMmTdS2bVsVFRXVa5aTJ08qLS1Nt9xyiwIDAxUcHKz8/HyVlJTUeRtFRUVq\n",
              "0aKFmjdv7r4tJCREzZs395j9Rz/6kcfP3XTTTTp9+nS95gZw+QgVADUqLCysdj08PFwRERE6cOCA\n",
              "x/cOHDggp9NZ689XVVXJ5XIpPDxcktSsWTN99913HusvPlbkfz355JPas2eP1q9fr9LSUp06dUpd\n",
              "unSRZVnuNQ6H45L3JyIiQidPntTJkyfdt504cUInT56sNjsAcxAqAGq0evVqrVq1SpWVlXr//fe1\n",
              "fPlyjRw5UqNGjdKqVauUnZ2tyspKbd++Xb///e+Vnp7u8fOzZs3Sl19+qXPnzunFF1/UuXPnlJyc\n",
              "LEm6/fbblZubqz179uj8+fN69dVXdejQoVpnKS0t1Y033qiQkBCdP39es2fPdh+X8h+tW7fW3r17\n",
              "a91GYmKibr31Vo0fP15lZWUqLS3VuHHjFBcXp4SEhMvYUwDsRKgAqNGoUaO0YMECBQcHa9y4cZo7\n",
              "d67uvPNO/fjHP9bSpUv14osvqnnz5vrFL36hCRMmaOLEiR4/P3bsWD366KNq0aKFcnJytHr1agUH\n",
              "B0uSfvnLX2rYsGFKSkpSRESETp06pZ49e9Y6ywsvvKAzZ86oVatWioyM1LFjx6qtz8zM1Msvv6zg\n",
              "4GD169ev2jb8/Py0cuVKlZeXKzo6Wu3bt1dFRYVycnLk5+d3+TsMgC0c1sWvnQKALvypcK9evfTC\n",
              "Cy/U6+dr+vA1AKgPXlEBAADGIlQAAICxeOsHAAAYi1dUAACAsQgVAABgLEIFAAAYi1ABAADGuipC\n",
              "ZdasWQ09AgAAsMFVESqHDx9u6BEAAIANropQAQAAVydCBQAAGItQAQAAxiJUAACAsQgVAABgLEIF\n",
              "AAAYi1ABAADGIlQAAICxCBUAAGAsQgUAABiLUAEAAMYiVAAAgLFsDZUJEyYoMjJSDodDO3bsqHXd\n",
              "ggUL1L59e7Vr105paWk6f/68nWMBAIBGwtZQefDBB/XJJ5+obdu2ta45dOiQnnnmGW3YsEEFBQU6\n",
              "duyY5s2bZ+dYAACgkbA1VO666y6Fh4dfcs3SpUuVnJys1q1by+FwaMyYMVqyZEmt68vLy1VWVuZx\n",
              "qays9PXoAADAAP4NPYDL5fJ4xSUyMlIul6vW9ZmZmZo+fbrHbT169LBltsgnV9myXUkqnPFz27aN\n",
              "/7Lz36FdeGw0fnY97nhs4FKu1sddozuYdurUqSotLfW4JCYmNvRYAADABg3+iorT6dSBAwfc1wsL\n",
              "C+V0OmtdHxAQoICAAI/b/Pz8bJsPAAA0nAZ/RWXIkCHKycnR0aNHZVmW5s6dq2HDhjX0WAAAwAC2\n",
              "hkpGRobCw8P11Vdf6Wc/+5mio6MlSampqcrJyZEkRUVFafr06erZs6eio6PVsmVLZWRk2DkWAABo\n",
              "JGx96ycrK6vG2+fPn+9xPS0tTWlpaXaOAgAAGqEGf+sHAACgNoQKAAAwFqECAACMRagAAABjESoA\n",
              "AMBYhAoAADAWoQIAAIxFqAAAAGMRKgAAwFiECgAAMBahAgAAjEWoAAAAYxEqAADAWIQKAAAwFqEC\n",
              "AACMRagAAABjESoAAMBYhAoAADAWoQIAAIxFqAAAAGMRKgAAwFiECgAAMBahAgAAjEWoAAAAYxEq\n",
              "AADAWIQKAAAwFqECAACMRagAAABjESoAAMBYhAoAADAWoQIAAIxFqAAAAGMRKgAAwFiECgAAMBah\n",
              "AgAAjEWoAAAAYxEqAADAWIQKAAAwFqECAACMRagAAABjESoAAMBYhAoAADAWoQIAAIxFqAAAAGMR\n",
              "KgAAwFiECgAAMBahAgAAjEWoAAAAYxEqAADAWIQKAAAwFqECAACMRagAAABjESoAAMBYhAoAADAW\n",
              "oQIAAIxFqAAAAGMRKgAAwFiECgAAMBahAgAAjEWoAAAAYxEqAADAWLaGyv79+5WUlKSYmBglJCQo\n",
              "Pz+/2pqqqipNmjRJnTt3VmxsrO69914VFBTYORYAAGgkbA2VjIwMpaena9++fZoyZYpSUlKqrcnJ\n",
              "ydGnn36qnTt36l//+pfuv/9+PfXUU3aOBQAAGgnbQqWkpERbt27V8OHDJUlDhgxRUVFRtVdLHA6H\n",
              "ysvLdfbsWVmWpbKyMoWHh9s1FgAAaET87dpwUVGRwsLC5O9/4Vc4HA45nU65XC5FR0e71/Xv31+5\n",
              "ublq3bq1mjVrpjZt2mj9+vW1bre8vFzl5eUet1VWVtpzJwAAQINq8INpt27dqi+++EJHjhzR119/\n",
              "rfvvv19jxoypdX1mZqaCgoI8Lnl5eVdwYgAAcKXYFioREREqLi5WRUWFJMmyLLlcLjmdTo91ixYt\n",
              "0n333afg4GA1adJEI0aMUG5ubq3bnTp1qkpLSz0uiYmJdt0NAADQgGwLldDQUMXHx2vx4sWSpOzs\n",
              "bIWHh3u87SNJUVFRWrdunc6dOydJWrlypW699dZatxsQEKDAwECPi5+fn113AwAANCDbjlGRpKys\n",
              "LKWkpOill15SYGCgFi5cKElKTU1VcnKykpOTNW7cOH355Zfq2rWrrrvuOrVu3Vpz5861cywAANBI\n",
              "2BoqHTp00KZNm6rdPn/+fPfXAQEBevPNN+0cAwAANFINfjAtAABAbQgVAABgLEIFAAAYi1ABAADG\n",
              "IlQAAICxCBUAAGAsQgUAABiLUAEAAMYiVAAAgLEIFQAAYCxCBQAAGItQAQAAxiJUAACAsQgVAABg\n",
              "LEIFAAAYi1ABAADGIlQAAICxCBUAAGAsQgUAABiLUAEAAMYiVAAAgLEIFQAAYCxCBQAAGItQAQAA\n",
              "xiJUAACAsQgVAABgLEIFAAAYi1ABAADGIlQAAICxCBUAAGAsQgUAABiLUAEAAMYiVAAAgLEIFQAA\n",
              "YCxCBQAAGItQAQAAxiJUAACAsQgVAABgLEIFAAAYi1ABAADGIlQAAICxCBUAAGAsQgUAABiLUAEA\n",
              "AMYiVAAAgLEIFQAAYCxCBQAAGItQAQAAxiJUAACAsQgVAABgLEIFAAAYi1ABAADGIlQAAICxCBUA\n",
              "AGAsQgUAABiLUAEAAMYiVAAAgLEIFQAAYCxCBQAAGItQAQAAxiJUAACAsQgVAABgLFtDZf/+/UpK\n",
              "SlJMTIwSEhKUn59f47pdu3bpnnvuUadOndSpUyctW7bMzrEAAEAj4W/nxjMyMpSenq6UlBQtXbpU\n",
              "KSkp2rJli8ea77//XgMGDNCiRYvUq1cvVVZW6sSJE3aOBQAAGgnbXlEpKSnR1q1bNXz4cEnSkCFD\n",
              "VFRUpIKCAo91f/3rX9WjRw/16tVLkuTn56eWLVvWut3y8nKVlZV5XCorK+26GwAAoAHZFipFRUUK\n",
              "CwuTv/+FF20cDoecTqdcLpfHut27dysgIED9+vVTXFycHnvsMX3zzTe1bjczM1NBQUEel7y8PLvu\n",
              "BgAAaEBeh8oHH3zg0wEqKiq0du1aZWVlafv27WrTpo3Gjh1b6/qpU6eqtLTU45KYmOjTmQAAgBm8\n",
              "DpXnn39eHTp00KxZs1RWVlbruoiICBUXF6uiokKSZFmWXC6XnE6nxzqn06l7771Xbdq0kcPh0PDh\n",
              "w7V58+ZatxsQEKDAwECPi5+fn7d3AwAANAJeh8qnn36qd955R1988YViYmL0+OOPa/fu3dXWhYaG\n",
              "Kj4+XosXL5YkZWdnKzw8XNHR0R7rhg4dqi1btrijZ/Xq1eratWt97gsAALjK1OsYlW7duunNN9/U\n",
              "+++/r5UrVyo2NlYPPPCAdu3a5bEuKytLWVlZiomJ0YwZM7Rw4UJJUmpqqnJyciRdeEXlqaeeUlJS\n",
              "kmJjY7Vu3TrNnTv3Mu8WAAC4GtTrz5PXrl2r2bNna9euXRo3bpxGjx6tjz/+WIMGDfL4q54OHTpo\n",
              "06ZN1X5+/vz5HtcfffRRPfroo/UZBQAAXMW8DpVOnTrp5ptv1oQJEzR48GD38SEPPvigFixY4PMB\n",
              "AQDAtcvrUFm8eLG6d+9e4/fWrFlz2QMBAAD8h9fHqHz++ecenxx7/Phxvfnmmz4dCgAAQKpHqMyZ\n",
              "M0ctWrRwXw8JCdGcOXN8OhQAAIBUj1CxLKvabXyEPQAAsIPXoRIWFqa///3v7ut/+9vfFBYW5tOh\n",
              "AAAApHocTPvqq69qwIABmjx5siTpxhtv1HvvvefzwQAAALwOlY4dO2r37t3au3evpAuflcJH2AMA\n",
              "ADvU6wPfHA6HgoODVVFRoSNHjkhStXP4AAAAXC6vQ+VPf/qTJkyYoOuuu05Nmlw4xMXhcKikpMTn\n",
              "wwEAgGub16Hyu9/9Tlu2bFGHDh3smAcAAMDN67/6ufnmm4kUAABwRXgdKgMHDtSrr76qkpISlZWV\n",
              "uS8AAAC+5vVbP9OmTZMkTZo0SQ6HQ5ZlyeFw8KFvAADA57wOlaqqKjvmAAAAqMbrt36kCycm/POf\n",
              "/yxJOnXqlIqLi306FAAAgFTPkxKOGjVKzz33nKQLZ09+5JFHfD0XAACA96Eyb948bd68WYGBgZKk\n",
              "du3a6ZtvvvH5YAAAAF6HSkBAgG644QaP2/z96/UBtwAAAJfkdai0bNlS+/btk8PhkHThk2r5+HwA\n",
              "AGCHep09+eGHH9aePXsUERGhwMBArVy50o7ZAADANc7rUImOjtZnn32mvXv3yrIszp4MAABs43Wo\n",
              "uFwuSdJNN90kSZw9GQAA2MbrUOnevbv7E2nPnj2r77//XiEhIZw9GQAA+JzXofK/f4q8bNky7dy5\n",
              "02cDAQAA/Ee9Ppn2YoMHD9aqVat8MQsAAIAHr19RufhMyZWVlfrss884ezIAALCF16ESHBzsPkbF\n",
              "z89P7du312uvvWbHbAAA4BrH2ZMBAICxLvsYFQAAALt4/YpKkyZN3B+ffzHLsuRwOFRZWemTwQAA\n",
              "ALwOleeff15nzpzR2LFjJUlz587VDTfcoF/96le+ng0AAFzjvA6V5cuX6/PPP3dff+GFF9S9e3dN\n",
              "mzbNp4MBAAB4fYzK6dOnPT6FtqSkRKdPn/bpUAAAAFI9XlH59a9/ra5du6pv376SpPfff1/PPfec\n",
              "r+cCAADwPlQyMjLUs2dP5ebmSpImTZqkLl26+HwwAAAAr0NFkkJCQnTbbbfpnnvuUUVFhc6dO6f/\n",
              "+7//8/VsAADgGuf1MSpLly5Vjx49NHLkSElSfn6+Bg4c6Ou5AAAAvA+VzMxMbdu2TcHBwZKkrl27\n",
              "6vDhw76eCwAAwPtQ8fPzU0hIiMdtvO0DAADs4HWoNGvWTMeOHXN/Ou1HH32kFi1a+HwwAAAArw+m\n",
              "ffnll9WnTx8dPHhQvXr10qFDh7Rq1So7ZgMAANc4r0KlqqpKlZWVys3N1caNG2VZlpKSktzHqwAA\n",
              "APiSV6HSpEkTpaena+fOnerTp49dMwEAAEiqxzEq7du3V0FBgR2zAAAAePD6GJUTJ04oLi5OSUlJ\n",
              "atq0qfv2ZcuW+XQwAACAOodKenq65s2bpxEjRig5OVnNmze3cy4AAIC6h8rWrVslSSNGjFB8fLy2\n",
              "bdtm21AAAABSPY5RkSTLsnw9BwAAQDV1fkXlzJkz2rVrlyzL0tmzZ91f/0dsbKwtAwIAgGuXV6GS\n",
              "nJzsvn7x1w6HQwcPHvTtZAAA4JpX51ApLCy0cQwAAIDq6nWMCgAAwJVAqAAAAGMRKgAAwFiECgAA\n",
              "MBahAgAAjEWoAAAAYxEqAADAWIQKAAAwFqECAACMZWuo7N+/X0lJSYqJiVFCQoLy8/NrXWtZlu67\n",
              "7z4FBwfbORIAAGhEbA2VjIwMpaena9++fZoyZYpSUlJqXfvHP/5R7dq1s3McAADQyNgWKiUlJdq6\n",
              "dauGDx8uSRoyZIiKiopUUFBQbW1+fr5WrFihJ5988ge3W15errKyMo9LZWWlz+cHAAANz7ZQKSoq\n",
              "UlhYmPz9L5z30OFwyOl0yuVyeaw7f/680tLSlJWVJT8/vx/cbmZmpoKCgjwueXl5ttwHAADQsBr8\n",
              "YNrp06dr8ODB6tSpU53WT506VaWlpR6XxMREm6cEAAANwd+uDUdERKi4uFgVFRXy9/eXZVlyuVxy\n",
              "Op0e69avXy+Xy6XXX39dFRUVKisrU2RkpLZs2aKWLVtW225AQIACAgI8bqvLKzEAAKDxse0VldDQ\n",
              "UMXHx2vx4sWSpOzsbIWHhys6Otpj3YYNG3T48GEVFhbqk08+UWBgoAoLC2uMFAAAcG2x9a2frKws\n",
              "ZWVlKSYmRjNmzNDChQslSampqcrJybHzVwMAgKuAbW/9SFKHDh20adOmarfPnz+/xvWRkZE6deqU\n",
              "nSMBAIBGpMEPpgUAAKgNoQIAAIxFqAAAAGMRKgAAwFiECgAAMBahAgAAjEWoAAAAYxEqAADAWIQK\n",
              "AAAwFqECAACMRagAAABjESoAAMBYhAoAADAWoQIAAIxFqAAAAGMRKgAAwFiECgAAMBahAgAAjEWo\n",
              "AAAAYxEqAADAWIQKAAAwFqECAACMRagAAABjESoAAMBYhAoAADAWoQIAAIxFqAAAAGMRKgAAwFiE\n",
              "CgAAMBahAgAAjEWoAAAAYxEqAADAWIQKAAAwFqECAACMRagAAABjESoAAMBYhAoAADAWoQIAAIxF\n",
              "qAAAAGMRKgAAwFiECgAAMBahAgAAjEWoAAAAYxEqAADAWIQKAAAwFqECAACMRagAAABjESoAAMBY\n",
              "hAoAADAWoQIAAIxFqAAAAGMRKgAAwFiECgAAMBahAgAAjEWoAAAAYxEqAADAWIQKAAAwFqECAACM\n",
              "RagAAABjESoAAMBYhAoAADAWoQIAAIxla6js379fSUlJiomJUUJCgvLz86utWbdunRITE9W5c2d1\n",
              "6dJFkydPVlVVlZ1jAQCARsLWUMnIyFB6err27dunKVOmKCUlpdqa5s2b65133tHu3bv1+eefa+PG\n",
              "jVq0aJGdYwEAgEbCtlApKSnR1q1bNXz4cEnSkCFDVFRUpIKCAo913bp1U1RUlCTp+uuvV1xcnAoL\n",
              "C2vdbnl5ucrKyjwulZWVdt0NAADQgGwLlaKiIoWFhcnf31+S5HA45HQ65XK5av2Zo0ePaunSperX\n",
              "r1+tazIzMxUUFORxycvL8/n8AACg4RlzMG1ZWZn69++vyZMn6/bbb6913dSpU1VaWupxSUxMvIKT\n",
              "AgCAK8Xfrg1HRESouLhYFRUV8vf3l2VZcrlccjqd1daePn1avXv31oABAzRp0qRLbjcgIEABAQEe\n",
              "t/n5+fl0dgAAYAbbXlEJDQ1VfHy8Fi9eLEnKzs5WeHi4oqOjPdZ9++236t27t3r37q2nn37arnEA\n",
              "AEAjZOtbP1lZWcrKylJMTIxmzJihhQsXSpJSU1OVk5MjSZo1a5by8vK0bNkyxcXFKS4uTi+++KKd\n",
              "YwEAgEbCtrd+JKlDhw7atGlTtdvnz5/v/nratGmaNm2anWMAAIBGypiDaQEAAP4XoQIAAIxFqAAA\n",
              "AGMRKgAAwFiECgAAMBahAgAAjEWoAAAAYxEqAADAWIQKAAAwFqECAACMRagAAABjESoAAMBYhAoA\n",
              "ADAWoQIAAIxFqAAAAGMRKgAAwFiECgAAMBahAgAAjEWoAAAAYxEqAADAWIQKAAAwFqECAACMRagA\n",
              "AABjESoAAMBYhAoAADAWoQIAAIxFqAAAAGMRKgAAwFiECgAAMBahAgAAjEWoAAAAYxEqAADAWIQK\n",
              "AAAwFqECAACMRagAAABjESoAAMBYhAoAADAWoQIAAIxFqAAAAGMRKgAAwFiECgAAMBahAgAAjEWo\n",
              "AAAAYxEqAADAWIQKAAAwFqECAACMRagAAABjESoAAMBYhAoAADAWoQIAAIxFqAAAAGMRKgAAwFiE\n",
              "CgAAMBahAgAAjEWoAAAAYxEqAADAWIQKAAAwFqECAACMRagAAABjESoAAMBYhAoAADCWraGyf/9+\n",
              "JSUlKSYmRgkJCcrPz69x3YIFC9S+fXu1a9dOaWlpOn/+vJ1jAQCARsLWUMnIyFB6err27dunKVOm\n",
              "KCUlpdqaQ4cO6ZlnntGGDRtUUFCgY8eOad68eXaOBQAAGgnbQqWkpERbt27V8OHDJUlDhgxRUVGR\n",
              "CgoKPNYtXbpUycnJat26tRwOh8aMGaMlS5bUut3y8nKVlZV5XCorK+26GwAAoAH527XhoqIihYWF\n",
              "yd//wq9wOBxyOp1yuVyKjo52r3O5XGrbtq37emRkpFwuV63bzczM1PTp0z1u69ixoyZNmuTjeyAN\n",
              "9vkW/2vSpI/qtK6yslJ5eXlKTEyUn5+fjRNdnWr6d2j6Pq3rY8Mkpu/TK80Xzx017dPG+NgwydX+\n",
              "OLXr/1mXetxd7j5t27atJk6ceMk1toWKXaZOnVotSgICAhQQENBAE9mrrKxMQUFB+uCDDxQYGNjQ\n",
              "41wV2Ke+xz71Pfap77FPfe9K7FPbQiUiIkLFxcWqqKiQv7+/LMuSy+WS0+n0WOd0OnXgwAH39cLC\n",
              "wmprLnY1RwkAAPBk2zEqoaGhio+P1+LFiyVJ2dnZCg8P93jbR7pw7EpOTo6OHj0qy7I0d+5cDRs2\n",
              "zK6xAABAI2LrX/1kZWUpKytLMTExmjFjhhYuXChJSk1NVU5OjiQpKipK06dPV8+ePRUdHa2WLVsq\n",
              "IyPDzrEAAEAjYesxKh06dNCmTZuq3T5//nyP62lpaUpLS7NzlEYrICBAzz77LG93+RD71PfYp77H\n",
              "PvU99qnvXYl96rAsy7Jt6wAAAJeBj9AHAADGIlQAAICxCBUAAGAsQgUAABiLUDHEhAkTFBkZKYfD\n",
              "oR07dtS45uOPP9YNN9yguLg49+XMmTNXdtBG4uzZsxo4cKBiYmLUtWtXPfDAA9XOM/UfK1euVMeO\n",
              "HdW+fXsNHjxYZWVlV3jaxqGu+7SwsFB+fn4ej9OLP9QRnn76058qNjZWcXFxuvPOO7V9+/Ya13GW\n",
              "+bqryz7l+bR+Fi5cKIfDoRUrVtT4fVueTy0YYf369VZRUZHVtm1ba/v27TWuyc3Ntbp27XpF52qs\n",
              "zpw5Y61atcqqqqqyLMuyZs+ebd19993V1p0+fdoKDQ21vvzyS8uyLGvcuHHWE088cSVHbTTquk8P\n",
              "HTpkBQUFXdnhGrGTJ0+6v162bJkVGxtbbc3BgwetsLAwq7i42KqqqrL69+9vvf7661dwysalLvuU\n",
              "51PvHTp0yLrjjjusHj16WMuXL6/2fbueT3lFxRB33XWXwsPDG3qMq8b111+vvn37yuFwSJJ69Oih\n",
              "wsLCauvWrFmjbt26qWPHjpKkxx9//JJn776W1XWfwjvBwcHur0tLS93792LenmX+WleXfQrvVFVV\n",
              "KTU1VbNnz671M1Psej5tdCclvNYdOHBA8fHx8vPz08iRI/X444839EiNwqxZszRgwIBqt9d09u6L\n",
              "z1GF2tW2TyXpu+++U0JCgiorKzVw4EBNmzbtqjxbra889thjys3NlSStXr262ve9Pcs8fnifSjyf\n",
              "emPmzJnq2bOnunfvXusau55PeSZuROLj4/XVV18pKChIX331lfr27aubb75ZQ4cObejRjPbSSy+p\n",
              "oKBAH31U+6nK4Z1L7dOwsDAdOXJEoaGhOnHihB566CH94Q9/0OTJkxtg0sZh0aJFkqS3335bU6ZM\n",
              "qfV/rKi7H9qnPJ/W3RdffKHs7Gz985//bJDfz1s/jUhgYKCCgoIkSeHh4Xr44Ye1YcOGBp7KbK+8\n",
              "8oqWLVumNWvW6MYbb6z2fafTqcOHD7uvFxYWKiwsjFdTLuGH9mlAQIBCQ0MlSS1atNCoUaN4nNbR\n",
              "iBEjlJubq+PHj3vcXtPj9FJnmcd/1bZPeT6tuw0bNqiwsFDt27dXZGSkNm/erPT0dL3xxhse6+x6\n",
              "PiVUGpHi4mJVVVVJkk6fPq2VK1eqW7duDTyVuWbOnKklS5boww8/9HjP+mK9e/fWtm3btGfPHknS\n",
              "nDlzOHv3JdRln5aUlLj/IqW8vFzLli3jcVqLU6dO6euvv3ZfX7FihUJCQtSiRQuPdZxlvu7quk95\n",
              "Pq27sWPHqri4WIWFhSosLFSPHj00b948jR071mOdbc+nl304LnwiPT3datOmjeXn52eFhoZa7dq1\n",
              "syzLskaPHm299957lmVd+CuLzp07W7GxsVbnzp2tZ5991v0XGPBUVFRkSbKioqKsrl27Wl27drUS\n",
              "ExMty7KsZ555xnrjjTfca9977z2rQ4cOVrt27awBAwZYp06daqixjVbXfZqdnW116dLF/TgdP368\n",
              "dfbs2YYc3ViFhYVWQkKCdeutt1qxsbHW/fff7/6rv4v/27csy5o3b54VFRVlRUVFWaNGjbLOnTvX\n",
              "QFObra77lOfT+rv77rvdf/VzJZ5POSkhAAAwFm/9AAAAYxEqAADAWIQKAAAwFqECAACMRagAAABj\n",
              "ESoAAKBOJkyYoMjISDkcDu3YseMH1+/atcvjDNWRkZHVPtPmh/DxmwAAoE4efPBBTZ48Wb169arT\n",
              "+ttuu80jaMaPH+/1SSJ5RQUAANTJXXfdpfDw8Gq3b9myRffdd59uv/12devWTe+++261NWfPntVf\n",
              "/vIXjR492qvfySsqAACg3k6dOqX09HStXr1aYWFh+ve//634+HglJSWpTZs27nXLli1TVFSU4uLi\n",
              "vNo+oQIAAOpt48aNOnjwoPr06eNx+969ez1CZcGCBV6/miIRKgAA4DJYlqUuXbpo48aNta45dOiQ\n",
              "Nm/erOzsbK+3zzEqAACg3pKSknTo0CGtXbvWfduOHTt07tw59/W33npLgwYNqvWs65fCSQkBAECd\n",
              "ZGRkaNWqVTp69KhCQkLUrFkzFRQUaNu2bXriiSd0/PhxnT9/Xk6nUytWrND111+vqqoqtW3bVosW\n",
              "LdK9997r9e8kVAAAgLF46wcAABiLUAEAAMYiVAAAgLEIFQAAYCxCBQAAGItQAQAAxiJUAACAsQgV\n",
              "AABgLEIFAAAYi1ABAADG+n9hkq5AZDZSwgAAAABJRU5ErkJggg==\n",
              "\">\n",
              "      </div>\n",
              "      <script type=\"text/javascript\">\n",
              "        (() => {\n",
              "          const chartElement = document.getElementById(\"chart-9212f0fa-9356-436a-a1bd-d469fc4a1d51\");\n",
              "          async function getCodeForChartHandler(event) {\n",
              "            const chartCodeResponse =  await google.colab.kernel.invokeFunction(\n",
              "                'getCodeForChart', [\"chart-9212f0fa-9356-436a-a1bd-d469fc4a1d51\"], {});\n",
              "            const responseJson = chartCodeResponse.data['application/json'];\n",
              "            await google.colab.notebook.addCell(responseJson.code, 'code');\n",
              "          }\n",
              "          chartElement.onclick = getCodeForChartHandler;\n",
              "        })();\n",
              "      </script>\n",
              "      <style>\n",
              "        .colab-quickchart-chart-with-code  {\n",
              "            display: block;\n",
              "            float: left;\n",
              "            border: 1px solid transparent;\n",
              "        }\n",
              "\n",
              "        .colab-quickchart-chart-with-code:hover {\n",
              "            cursor: pointer;\n",
              "            border: 1px solid #aaa;\n",
              "        }\n",
              "      </style>"
            ]
          },
          "metadata": {}
        },
        {
          "output_type": "display_data",
          "data": {
            "text/plain": [
              "from matplotlib import pyplot as plt\n",
              "states['area'].plot(kind='hist', bins=20, title='area')\n",
              "plt.gca().spines[['top', 'right',]].set_visible(False)"
            ],
            "text/html": [
              "      <div class=\"colab-quickchart-chart-with-code\" id=\"chart-5f0054ca-6126-42de-bd22-7cfe00d80490\">\n",
              "        <img style=\"width: 180px;\" src=\"data:image/png;base64,iVBORw0KGgoAAAANSUhEUgAAAjMAAAGrCAYAAAA1jxZxAAAAOXRFWHRTb2Z0d2FyZQBNYXRwbG90\n",
              "bGliIHZlcnNpb24zLjcuMSwgaHR0cHM6Ly9tYXRwbG90bGliLm9yZy/bCgiHAAAACXBIWXMAAA9h\n",
              "AAAPYQGoP6dpAAAl+UlEQVR4nO3de1CV94H/8c8RXGKygPFCISKwcnO9AcfAWM2tm7HS1qKL7sRs\n",
              "TBTDxc0aN0NnTFljq6YJdja6tbvriJFlN3VGaxCzjK7pxCbdYmPES0hTnagQ8YADss0F1Cjh8v39\n",
              "4eT8ciogh/Bw+Gbfr5lnxvN8v+fhe86ck7znnAcelzHGCAAAwFIjAr0AAACAr4KYAQAAViNmAACA\n",
              "1YgZAABgNWIGAABYjZgBAABWI2YAAIDViBkAAGA1YgYAAFiNmAEAAFYjZgAAgNWIGQDW+fzzzwO9\n",
              "BADDCDEDYFj4t3/7N02bNk1hYWGKjIzU448/rj/+8Y+SpPXr1+u+++7TunXrdM899yg1NVWS9MEH\n",
              "H2j+/Pn6xje+oQkTJuipp57StWvXvMf80Y9+pKSkJIWGhmrixIl6+umn9dlnnwXi4QFwEDEDYFiI\n",
              "jIxURUWFPv30Ux07dkznzp3T008/7R1/5513NHLkSH344Yc6ceKE/vjHP+r+++/Xww8/LI/Ho/fe\n",
              "e0/nzp3TM888471PYmKiDh8+rLa2Nr3++us6dOiQnn/++QA8OgBOchljTKAXAQB/av/+/crNzdVH\n",
              "H32k9evX6+WXX1ZjY6NcLpckacuWLXr11Vd19OhR731+97vf6a/+6q/02WefKSgo6JZj/vM//7N2\n",
              "7dqlkydPDtnjAOC84EAvAAAkqaKiQi+99JJqa2t148YNdXd369q1a+rq6pIkxcbGekNGks6fP6+T\n",
              "J09q9OjR3n3GGLlcLjU3N2vChAkqKSlRSUmJLl68qM7OTnV0dGjs2LFD/dAAOIyvmQAEXGNjo/7m\n",
              "b/5GTz/9tDwej9ra2vSLX/xC0s1AkaQRI3z/cxUZGan77rtPn376qXdrbW3VjRs3NGHCBB09elSr\n",
              "Vq3S5s2b1dzcrNbWVr3wwgviw2jg64eYARBwV69eVXd3t8aNG6c77rhD58+fV3FxcZ/3ycnJ0bvv\n",
              "vqtt27bps88+kzFGDQ0Neu211yRJra2tCgoK0vjx4zVy5EidOnVK//qv/zoEjwbAUCNmAATc5MmT\n",
              "VVxcrCeeeEKhoaFatmyZli5d2ud9YmJidPToUb3xxhuKj4/X6NGjNW/ePL3//vuSpG9/+9tauXKl\n",
              "HnroIYWHh+sf//EftWzZsqF4OACGGCcAAwAAq/HJDAAAsBoxAwAArEbMAAAAqxEzAADAasQMAACw\n",
              "GjEDAACsRswAAACrfe1jZuvWrYFeAgAAcNDXPmYuXrwY6CUAAAAHfe1jBgAAfL0RMwAAwGrEDAAA\n",
              "sBoxAwAArEbMAAAAqxEzAADAasQMAACwGjEDAACsRswAAACrETMAAMBqxAwAALAaMQMAAKzmWMzc\n",
              "uHFDCxcuVFJSklJSUjR37lzV1tb2OPfAgQOaPHmyEhMTlZ2drba2tn6NAQAAOPrJTH5+vs6ePav3\n",
              "3ntPCxYsUG5u7i1zrl69qieffFKvvfaazp8/r3vuuUfPP//8bccAAAAkB2Pmjjvu0He/+125XC5J\n",
              "0qxZs1RfX3/LvEOHDiktLU2TJ0+WJD311FPavXv3bcd60t7erra2Np+tq6trkB8ZAAAYToKH6gdt\n",
              "3bpVCxYsuGW/x+NRbGys93ZcXJyamprU2dnZ51hw8K1LLy4u1oYNG3z2zZo1axAfxf8X98ODjhxX\n",
              "kuo3fc+xYwMA8HUzJCcAv/jii6qtrVVxcbGjP6eoqEitra0+W0ZGhqM/EwAABJbjMfPSSy+poqJC\n",
              "hw4d0p133nnLeExMjC5evOi9XV9fr6ioKAUHB/c51pOQkBCFhYX5bEFBQYP/oAAAwLDhaMxs2bJF\n",
              "u3fv1htvvKHRo0f3OCczM1OnTp3SBx98IEnatm2blixZctsxAAAAycFzZhobG/WDH/xAkyZN0re+\n",
              "9S1JNz85OXbsmH70ox/pnnvu0cqVKxUaGqqdO3dq4cKF6uzs1LRp0/Sf//mfktTnGAAAgCS5jDEm\n",
              "0ItwUmFhobZs2TLox+UEYAAAhgf+AjAAALAaMQMAAKxGzAAAAKsRMwAAwGrEDAAAsBoxAwAArEbM\n",
              "AAAAqxEzAADAasQMAACwGjEDAACsRswAAACrETMAAMBqxAwAALAaMQMAAKxGzAAAAKsRMwAAwGrE\n",
              "DAAAsBoxAwAArEbMAAAAqxEzAADAasQMAACwGjEDAACsRswAAACrETMAAMBqxAwAALAaMQMAAKxG\n",
              "zAAAAKsRMwAAwGrEDAAAsBoxAwAArEbMAAAAqxEzAADAasQMAACwGjEDAACsRswAAACrORozq1ev\n",
              "VlxcnFwul2pqanqcU1ZWptTUVO82btw4ZWdnS5Lq6+sVFBTkM15XV+fkkgEAgGWCnTz44sWLtWbN\n",
              "Gt133329zsnJyVFOTo739rRp0/TYY495b4eGhvYaQgAAAI7GzAMPPODX/GPHjqmlpUVZWVkD+nnt\n",
              "7e1qb2/32dfV1TWgYwEAADsMq3NmSktL9fjjj2vkyJHefdeuXVN6errcbrc2btzYZ5wUFxcrPDzc\n",
              "Z6uurh6KpQMAgAAZNjFz7do17dmzR08++aR3X1RUlC5duqTjx4/r8OHDqqqq0ubNm3s9RlFRkVpb\n",
              "W322jIyMoVg+AAAIkGETM6+++qqmTp2qKVOmePeFhIQoIiJCkjRmzBitWLFCVVVVvR4jJCREYWFh\n",
              "PltQUJDjawcAAIEzbGKmtLTU51MZSWppaVFHR4ekm+fDVFRUKC0tLRDLAwAAw5SjMVNQUKDo6Gg1\n",
              "NjZq3rx5SkhIkCTl5uaqsrLSO+/s2bOqqanRI4884nP/I0eOKC0tTSkpKXK73YqMjNTatWudXDIA\n",
              "ALCMyxhjAr0IJxUWFmrLli2Dfty4Hx4c9GN+oX7T9xw7NgAAXzfD5msmAACAgSBmAACA1YgZAABg\n",
              "NWIGAABYjZgBAABWI2YAAIDViBkAAGA1YgYAAFiNmAEAAFYjZgAAgNWIGQAAYDViBgAAWI2YAQAA\n",
              "ViNmAACA1YgZAABgNWIGAABYjZgBAABWI2YAAIDViBkAAGA1YgYAAFiNmAEAAFYjZgAAgNWIGQAA\n",
              "YDViBgAAWI2YAQAAViNmAACA1YgZAABgNWIGAABYjZgBAABWI2YAAIDViBkAAGA1YgYAAFiNmAEA\n",
              "AFYjZgAAgNWIGQAAYDVHY2b16tWKi4uTy+VSTU1Nj3N+85vfaNSoUUpNTfVu169f946XlpYqMTFR\n",
              "8fHxysvLU0dHh5NLBgAAlnE0ZhYvXqwjR44oNja2z3nJycmqqanxbqNGjZIkXbhwQevWrVNVVZVq\n",
              "a2t1+fJl7dixw8klAwAAyzgaMw888ICio6MHfP/y8nJlZWUpMjJSLpdLK1eu1O7du3ud397erra2\n",
              "Np+tq6trwD8fAAAMf8PinJm6ujq53W6lp6dr27Zt3v0ej8fnU524uDh5PJ5ej1NcXKzw8HCfrbq6\n",
              "2tG1AwCAwAp4zLjdbjU2NurUqVPav3+/tm/frr179w7oWEVFRWptbfXZMjIyBnnFAABgOAl4zISF\n",
              "hSk8PFySFB0drUcffVRVVVWSpJiYGF28eNE7t76+XjExMb0eKyQkRGFhYT5bUFCQsw8AAAAEVMBj\n",
              "pqmpSd3d3ZKkK1eu6MCBA0pLS5MkLVq0SJWVlWpubpYxRtu3b9eSJUsCuVwAADDMOBozBQUFio6O\n",
              "VmNjo+bNm6eEhARJUm5uriorKyVJ+/bt0/Tp05WSkqJZs2Zp7ty5ysnJkSRNmjRJGzZs0Jw5c5SQ\n",
              "kKDx48eroKDAySUDAADLuIwxJtCLcFJhYaG2bNky6MeN++HBQT/mF+o3fc+xYwMA8HUT8K+ZAAAA\n",
              "vgpiBgAAWI2YAQAAViNmAACA1YgZAABgNWIGAABYjZgBAABWI2YAAIDViBkAAGA1YgYAAFiNmAEA\n",
              "AFYjZgAAgNWIGQAAYDViBgAAWI2YAQAAViNmAACA1YgZAABgNWIGAABYjZgBAABWI2YAAIDViBkA\n",
              "AGA1YgYAAFiNmAEAAFYjZgAAgNWIGQAAYDViBgAAWI2YAQAAViNmAACA1YgZAABgNWIGAABYjZgB\n",
              "AABWI2YAAIDViBkAAGA1YgYAAFiNmAEAAFZzNGZWr16tuLg4uVwu1dTU9DjnzTffVEZGhqZMmaKp\n",
              "U6dqzZo16u7uliTV19crKChIqamp3q2urs7JJQMAAMs4GjOLFy/WkSNHFBsb2+ucu+++W3v27NGZ\n",
              "M2d08uRJvf3223rllVe846GhoaqpqfFu8fHxTi4ZAABYJtjJgz/wwAO3nZOWlub99x133KHU1FTV\n",
              "19cP6Oe1t7ervb3dZ19XV9eAjgUAAOwwrM6ZaW5uVnl5uebPn+/dd+3aNaWnp8vtdmvjxo19xklx\n",
              "cbHCw8N9turq6qFYOgAACJBhEzNtbW36/ve/rzVr1ujee++VJEVFRenSpUs6fvy4Dh8+rKqqKm3e\n",
              "vLnXYxQVFam1tdVny8jIGKqHAAAAAmBYxMyVK1eUmZmpBQsWqLCw0Ls/JCREERERkqQxY8ZoxYoV\n",
              "qqqq6vU4ISEhCgsL89mCgoIcXz8AAAicgMfM1atXlZmZqczMTD333HM+Yy0tLero6JB083yYiooK\n",
              "n3NsAAAAHI2ZgoICRUdHq7GxUfPmzVNCQoIkKTc3V5WVlZKkrVu3qrq6WhUVFd5fv37hhRckSUeO\n",
              "HFFaWppSUlLkdrsVGRmptWvXOrlkAABgGZcxxgR6EU4qLCzUli1bBv24cT88OOjH/EL9pu85dmwA\n",
              "AL5uAv41EwAAwFdBzAAAAKsRMwAAwGrEDAAAsJrfMfOrX/3KiXUAAAAMiN8xs3HjRiUnJ2vr1q1q\n",
              "a2tzYk0AAAD95nfM/O53v9OePXv0hz/8QUlJSXrqqad05swZJ9YGAABwWwM6ZyYtLU0vv/yyXn/9\n",
              "dR04cEAzZszQ3Llz9f777w/2+gAAAPo0oJg5fPiwFixYoOzsbP393/+9mpubVVBQoL/+678e7PUB\n",
              "AAD0KdjfO/zlX/6lxo0bp9WrVys7O9t7IcfFixertLR00BcIAADQF79jZteuXZo5c2aPY4cOHfrK\n",
              "CwIAAPCH318znTx5Uh9//LH39kcffaSXX355UBcFAADQX37HzLZt2zRmzBjv7bFjx2rbtm2DuigA\n",
              "AID+8jtmerrIdldX16AsBgAAwF9+x0xUVJT27t3rvf3LX/5SUVFRg7ooAACA/vL7BOCf/exnWrBg\n",
              "gdasWSNJuvPOO/Vf//Vfg74wAACA/vA7ZiZPnqwzZ87o7NmzkqTk5GTvr2cDAAAMNb9jRpJcLpdG\n",
              "jx6tzs5OXbp0SZIUExMzqAsDAADoD79j5j/+4z+0evVqjRw5UiNG3DzlxuVyqaWlZdAXBwAAcDt+\n",
              "x8zzzz+v48ePKzk52Yn1AAAA+MXv32YaN24cIQMAAIYNv2Nm4cKF+tnPfqaWlha1tbV5NwAAgEDw\n",
              "+2umtWvXSpIKCwvlcrlkjJHL5eIP5wEAgIDwO2a6u7udWAcAAMCA+P01k3TzYpO/+MUvJEmffvqp\n",
              "mpqaBnVRAAAA/TWgC02uWLFC69evl3Tzqtl/+7d/O9jrAgAA6Be/Y2bHjh165513FBYWJkmKj4/X\n",
              "//7v/w76wgAAAPrD75gJCQnRqFGjfPYFBw/oDwkDAAB8ZX7HzPjx43Xu3Dm5XC5JN/8iMJcyAAAA\n",
              "gTKgq2Y/+uij+uCDDzRx4kSFhYXpwIEDTqwNAADgtvyOmYSEBB07dkxnz56VMYarZgMAgIDyO2Y8\n",
              "Ho8k6a677pIkrpoNAAACyu+YmTlzpvcv/964cUOfffaZxo4dy1WzAQBAQPgdM3/6a9gVFRV67733\n",
              "Bm1BAAAA/hjQXwD+suzsbB08eHAw1gIAAOA3v2Pmy1fK/uSTT/T666/3etXs1atXKy4uTi6XSzU1\n",
              "Nb0es7S0VImJiYqPj1deXp46Ojr6NQYAAOB3zIwePVp33323Ro8erYiICBUWFurnP/95j3MXL16s\n",
              "I0eOKDY2ttfjXbhwQevWrVNVVZVqa2t1+fJl7dix47ZjAAAA0gBipru7W11dXeru7lZHR4fOnDmj\n",
              "zMzMHuc+8MADio6O7vN45eXlysrKUmRkpFwul1auXKndu3ffdqwn7e3tPp8ctbW1qaury9+HCAAA\n",
              "LBLw6xB4PB6fT27i4uK8v/7d11hPiouLtWHDBp99s2bNGuQVOy/uh86cg1S/6XuOHBcIFN4rQP98\n",
              "3d8rfn8yM2LECAUFBd2yfbE/kIqKitTa2uqzZWRkBHRNAADAWX5/MrNx40Zdv35df/d3fydJ2r59\n",
              "u0aNGqVnnnlmQAuIiYlRXV2d93Z9fb33D/D1NdaTkJAQhYSE+OwLdGABAABn+f3JzP79+/XCCy8o\n",
              "Ojpa0dHR+slPfqKKigrddddd3r8K7I9FixapsrJSzc3NMsZo+/btWrJkyW3HAAAApAHEzJUrV3z+\n",
              "2m9LS4uuXLnS49yCggJFR0ersbFR8+bNU0JCgiQpNzdXlZWVkqRJkyZpw4YNmjNnjhISEjR+/HgV\n",
              "FBTcdgwAAEAawNdMP/jBD5SSkqLvfve7kqTXX39d69ev73FuSUlJj/t37tzpczsvL095eXk9zu1r\n",
              "DAAAwO+YKSgo0Jw5c/TWW29JkgoLCzV16tRBXxgAAEB/DOhXs8eOHavp06froYceUmdnpz7//HP9\n",
              "2Z/92WCvDQAA4Lb8PmemvLxcs2bNUk5OjiTp9OnTWrhw4WCvCwAAoF/8jpni4mKdOnVKo0ePliSl\n",
              "pKTo4sWLg70uAACAfvE7ZoKCgjR27FiffXzFBAAAAsXvmAkNDdXly5flcrkkSb/+9a81ZsyYQV8Y\n",
              "AABAf/h9AvBPf/pTfec739GHH36o++67TxcuXNDBg85c8wEAAOB2/IqZL66Y/dZbb+ntt9+WMUaz\n",
              "Z8/2nj8DAAAw1PyKmREjRig/P1/vvfeevvOd7zi1JgAAgH7z+5yZxMRE1dbWOrEWAAAAv/l9zszH\n",
              "H3+s1NRUzZ49W3/+53/u3V9RUTGoCwMAAOiPfsdMfn6+duzYoWXLlikrK0t33323k+sCAADol37H\n",
              "zIkTJyRJy5Ytk9vt1qlTpxxbFAAAQH/5fc6MJBljBnsdAAAAA9LvT2auX7+u999/X8YY3bhxw/vv\n",
              "L8yYMcORBQIAAPTFr5jJysry3v7yv10ulz788MPBXRkAAEA/9Dtm6uvrHVwGAADAwAzonBkAAIDh\n",
              "gpgBAABWI2YAAIDViBkAAGA1YgYAAFiNmAEAAFYjZgAAgNWIGQAAYDViBgAAWI2YAQAAViNmAACA\n",
              "1YgZAABgNWIGAABYjZgBAABWI2YAAIDViBkAAGA1YgYAAFiNmAEAAFZzNGbOnz+v2bNnKykpSenp\n",
              "6Tp9+vQtc8rKypSamurdxo0bp+zsbElSfX29goKCfMbr6uqcXDIAALBMsJMHLygoUH5+vpYvX67y\n",
              "8nItX75cx48f95mTk5OjnJwc7+1p06bpscce894ODQ1VTU2Nk8sEAAAWc+yTmZaWFp04cUJLly6V\n",
              "JC1atEgNDQ2qra3t9T7Hjh1TS0uLsrKyBvQz29vb1dbW5rN1dXUN6FgAAMAOjsVMQ0ODoqKiFBx8\n",
              "88Mfl8ulmJgYeTyeXu9TWlqqxx9/XCNHjvTuu3btmtLT0+V2u7Vx48Y+46S4uFjh4eE+W3V19eA9\n",
              "KAAAMOwMmxOAr127pj179ujJJ5/07ouKitKlS5d0/PhxHT58WFVVVdq8eXOvxygqKlJra6vPlpGR\n",
              "MRTLBwAAAeJYzEycOFFNTU3q7OyUJBlj5PF4FBMT0+P8V199VVOnTtWUKVO8+0JCQhQRESFJGjNm\n",
              "jFasWKGqqqpef2ZISIjCwsJ8tqCgoEF8VAAAYLhxLGYiIiLkdru1a9cuSdK+ffsUHR2thISEHueX\n",
              "lpb6fCoj3TzvpqOjQ9LN82EqKiqUlpbm1JIBAICFHP2aqaSkRCUlJUpKStKmTZtUVlYmScrNzVVl\n",
              "ZaV33tmzZ1VTU6NHHnnE5/5HjhxRWlqaUlJS5Ha7FRkZqbVr1zq5ZAAAYBlHfzU7OTlZR48evWX/\n",
              "zp07b5l35cqVW+ZlZ2d7/+YMAABAT4bNCcAAAAADQcwAAACrETMAAMBqxAwAALAaMQMAAKxGzAAA\n",
              "AKsRMwAAwGrEDAAAsBoxAwAArEbMAAAAqxEzAADAasQMAACwGjEDAACsRswAAACrETMAAMBqxAwA\n",
              "ALAaMQMAAKxGzAAAAKsRMwAAwGrEDAAAsBoxAwAArEbMAAAAqxEzAADAasQMAACwGjEDAACsRswA\n",
              "AACrETMAAMBqxAwAALAaMQMAAKxGzAAAAKsRMwAAwGrEDAAAsBoxAwAArEbMAAAAqxEzAADAao7G\n",
              "zPnz5zV79mwlJSUpPT1dp0+fvmXOb37zG40aNUqpqane7fr1697x0tJSJSYmKj4+Xnl5eero6HBy\n",
              "yQAAwDKOxkxBQYHy8/N17tw5Pfvss1q+fHmP85KTk1VTU+PdRo0aJUm6cOGC1q1bp6qqKtXW1ury\n",
              "5cvasWOHk0sGAACWcSxmWlpadOLECS1dulSStGjRIjU0NKi2trbfxygvL1dWVpYiIyPlcrm0cuVK\n",
              "7d69u9f57e3tamtr89m6urq+8mMBAADDl2Mx09DQoKioKAUHB0uSXC6XYmJi5PF4bplbV1cnt9ut\n",
              "9PR0bdu2zbvf4/EoNjbWezsuLq7H+3+huLhY4eHhPlt1dfUgPioAADDcBPwEYLfbrcbGRp06dUr7\n",
              "9+/X9u3btXfv3gEdq6ioSK2trT5bRkbGIK8YAAAMJ47FzMSJE9XU1KTOzk5JkjFGHo9HMTExPvPC\n",
              "wsIUHh4uSYqOjtajjz6qqqoqSVJMTIwuXrzonVtfX3/L/b8sJCREYWFhPltQUNBgPzQAADCMOBYz\n",
              "ERERcrvd2rVrlyRp3759io6OVkJCgs+8pqYmdXd3S5KuXLmiAwcOKC0tTdLN82wqKyvV3NwsY4y2\n",
              "b9+uJUuWOLVkAABgIUe/ZiopKVFJSYmSkpK0adMmlZWVSZJyc3NVWVkp6WbkTJ8+XSkpKZo1a5bm\n",
              "zp2rnJwcSdKkSZO0YcMGzZkzRwkJCRo/frwKCgqcXDIAALBMsJMHT05O1tGjR2/Zv3PnTu+/V61a\n",
              "pVWrVvV6jLy8POXl5TmyPgAAYL+AnwAMAADwVRAzAADAasQMAACwGjEDAACsRswAAACrETMAAMBq\n",
              "xAwAALAaMQMAAKxGzAAAAKsRMwAAwGrEDAAAsBoxAwAArEbMAAAAqxEzAADAasQMAACwGjEDAACs\n",
              "RswAAACrETMAAMBqxAwAALAaMQMAAKxGzAAAAKsRMwAAwGrEDAAAsBoxAwAArEbMAAAAqxEzAADA\n",
              "asQMAACwGjEDAACsRswAAACrETMAAMBqxAwAALAaMQMAAKxGzAAAAKsRMwAAwGrEDAAAsJqjMXP+\n",
              "/HnNnj1bSUlJSk9P1+nTp2+Z8+abbyojI0NTpkzR1KlTtWbNGnV3d0uS6uvrFRQUpNTUVO9WV1fn\n",
              "5JIBAIBlHI2ZgoIC5efn69y5c3r22We1fPnyW+bcfffd2rNnj86cOaOTJ0/q7bff1iuvvOIdDw0N\n",
              "VU1NjXeLj493cskAAMAyjsVMS0uLTpw4oaVLl0qSFi1apIaGBtXW1vrMS0tL06RJkyRJd9xxh1JT\n",
              "U1VfXz+gn9ne3q62tjafraur6ys9DgAAMLw5FjMNDQ2KiopScHCwJMnlcikmJkYej6fX+zQ3N6u8\n",
              "vFzz58/37rt27ZrS09Pldru1cePGPuOkuLhY4eHhPlt1dfXgPSgAADDsDJsTgNva2vT9739fa9as\n",
              "0b333itJioqK0qVLl3T8+HEdPnxYVVVV2rx5c6/HKCoqUmtrq8+WkZExVA8BAAAEgGMxM3HiRDU1\n",
              "Namzs1OSZIyRx+NRTEzMLXOvXLmizMxMLViwQIWFhd79ISEhioiIkCSNGTNGK1asUFVVVa8/MyQk\n",
              "RGFhYT5bUFDQID8yAAAwnDgWMxEREXK73dq1a5ckad++fYqOjlZCQoLPvKtXryozM1OZmZl67rnn\n",
              "fMZaWlrU0dEh6eb5MBUVFUpLS3NqyQAAwEKOfs1UUlKikpISJSUladOmTSorK5Mk5ebmqrKyUpK0\n",
              "detWVVdXq6Kiwvvr1y+88IIk6ciRI0pLS1NKSorcbrciIyO1du1aJ5cMAAAsE+zkwZOTk3X06NFb\n",
              "9u/cudP777Vr1/YaKNnZ2crOznZsfQAAwH7D5gRgAACAgSBmAACA1YgZAABgNWIGAABYjZgBAABW\n",
              "I2YAAIDViBkAAGA1YgYAAFiNmAEAAFYjZgAAgNWIGQAAYDViBgAAWI2YAQAAViNmAACA1YgZAABg\n",
              "NWIGAABYjZgBAABWI2YAAIDViBkAAGA1YgYAAFiNmAEAAFYjZgAAgNWIGQAAYDViBgAAWI2YAQAA\n",
              "ViNmAACA1YgZAABgNWIGAABYjZgBAABWI2YAAIDViBkAAGA1YgYAAFiNmAEAAFYjZgAAgNWIGQAA\n",
              "YDVHY+b8+fOaPXu2kpKSlJ6ertOnT/c4r7S0VImJiYqPj1deXp46Ojr6NQYAAOBozBQUFCg/P1/n\n",
              "zp3Ts88+q+XLl98y58KFC1q3bp2qqqpUW1ury5cva8eOHbcdAwAAkByMmZaWFp04cUJLly6VJC1a\n",
              "tEgNDQ2qra31mVdeXq6srCxFRkbK5XJp5cqV2r17923HetLe3q62tjafraury6mHCAAAhoFgpw7c\n",
              "0NCgqKgoBQff/BEul0sxMTHyeDxKSEjwzvN4PIqNjfXejouLk8fjue1YT4qLi7VhwwaffZMnT1Zh\n",
              "YeEtc7u6ulRdXa2MjAwFBQX5/fiy/b5H4BUW/npQjvNVn7v/q3jeBqav582p9+FgvVcCidfbwHxd\n",
              "n7eheK8M9nMXGxurf/iHf+jXXMdiJhCKiopuCZeQkBCFhITcMretrU3h4eH61a9+pbCwsKFa4tcC\n",
              "z93A8LwNDM/bwPC8DQzP28AF8rlzLGYmTpyopqYmdXZ2Kjg4WMYYeTwexcTE+MyLiYlRXV2d93Z9\n",
              "fb13Tl9jPektXAAAwNeXY+fMREREyO12a9euXZKkffv2KTo62ucrJunmuTSVlZVqbm6WMUbbt2/X\n",
              "kiVLbjsGAAAgOfzbTCUlJSopKVFSUpI2bdqksrIySVJubq4qKyslSZMmTdKGDRs0Z84cJSQkaPz4\n",
              "8SooKLjtGAAAgOTwOTPJyck6evToLft37tzpczsvL095eXk9HqOvsa8iJCREP/7xj/laagB47gaG\n",
              "521geN4GhudtYHjeBi6Qz53LGGOG/KcCAAAMEi5nAAAArEbMAAAAqxEzAADAasQMAACwmlUxs3r1\n",
              "asXFxcnlcqmmpsa7v6+rcw/12HB048YNLVy4UElJSUpJSdHcuXO918hqaWlRZmamEhMTNW3aNP32\n",
              "t7/13m+ox4arb3/725oxY4ZSU1N1//33691335XE666/ysrK5HK59Nprr0niNXc7cXFxSk5OVmpq\n",
              "qlJTU/XLX/5SEq+322lvb9eqVauUmJio6dOne68LyPPWt48++sj7WktNTVVSUpKCg4P18ccf2/Ve\n",
              "NRb5n//5H9PQ0GBiY2PNu+++693/rW99y5SVlRljjHn11VfNvffeG7Cx4ej69evm4MGDpru72xhj\n",
              "zL/8y7+YBx980BhjTE5Ojvnxj39sjDGmurraTJgwwXz++ecBGRuuPvnkE++/KyoqzIwZM4wxvO76\n",
              "48KFC+ab3/ymmTVrltm/f78xhtfc7fzpf9++wOutb88884xZtWqV979zTU1NxhieN3/90z/9k5k/\n",
              "f74xxq73qlUx84Uvv9kvX75sQkNDTUdHhzHGmO7ubvONb3zDnD9/fsjHbHH8+HETGxtrjDHmrrvu\n",
              "8r7pjTEmPT3dvPHGGwEZs0FZWZlJSUnhddcPXV1d5uGHHzYnTpwwDz74oDdmeM31raeY4fXWt6tX\n",
              "r5rQ0FDT2trqs5/nzX+TJ0+28r1q/YUm+7o6d3h4+JCO/emlGoarrVu3asGCBfroo4/U0dGhyMhI\n",
              "79gXVyYf6rHh7oknntBbb70lSfrv//5vXnf9sGXLFs2ZM0czZ8707uM11z9PPPGEjDHKyMjQpk2b\n",
              "eL3dRl1dncaMGaMXX3xRhw8f1qhRo7R+/XqNHj2a580Pb7/9tj755BPNnz/fuveqVefM4Kt78cUX\n",
              "VVtbq+Li4kAvxSqvvPKKGhoa9JOf/ETPPvtsoJcz7P3hD3/Qvn379NxzzwV6Kdb57W9/q9///vc6\n",
              "deqUxo0bp2XLlgV6ScNeZ2enLl68qClTpujEiRP6+c9/rkceeUSdnZ2BXppVSktL9cQTT3hjzCbW\n",
              "x8yXr84tyefq3EM9Nty99NJLqqio0KFDh3TnnXdq7NixCg4OVnNzs3fOF1cmH+oxWyxbtkxvvfWW\n",
              "oqOjed31oaqqSvX19UpMTFRcXJzeeecd5efna+/evbzmbuOLtY0cOVLPPPOMqqqq+O/cbcTExGjE\n",
              "iBF67LHHJElpaWn6i7/4C128eJHnrZ+uXr2qvXv3asWKFZJk3/8f+vVl1DDzp98pP/jggz4nXM2c\n",
              "OTNgY8PV5s2bjdvtNh9//LHP/mXLlvmccHXPPfd4T7ga6rHh6JNPPjGXLl3y3t6/f7+ZMGGC6e7u\n",
              "5nXnhy+fM8NrrndXr171OeF88+bN5v777zfG8N+525k7d645ePCgMcaYDz/80IwdO9Y0NjbyvPXT\n",
              "zp07zZw5c3z22fRetSpm8vPzzYQJE0xQUJCJiIgw8fHxxhhjPvjgAzNr1iyTmJhoZs6caX7/+997\n",
              "7zPUY8NRQ0ODkWQmTZpkUlJSTEpKisnIyDDGGNPc3Gzmzp1rEhISzJQpU8ybb77pvd9Qjw1H9fX1\n",
              "Jj093UybNs3MmDHDPPzww96Q5nXXf1+OGV5zvaurqzOpqalm+vTpZtq0aSYrK8tcuHDBGMPr7Xbq\n",
              "6urMQw895H2vlpeXG2N43vrrm9/8pvn3f/93n302vVe50CQAALCa9efMAACA/9uIGQAAYDViBgAA\n",
              "WI2YAQAAViNmAACA1YgZAABgNWIGAABYjZgBAABWI2YAAIDViBkAAGC1/wczMOrdLi3VmAAAAABJ\n",
              "RU5ErkJggg==\n",
              "\">\n",
              "      </div>\n",
              "      <script type=\"text/javascript\">\n",
              "        (() => {\n",
              "          const chartElement = document.getElementById(\"chart-5f0054ca-6126-42de-bd22-7cfe00d80490\");\n",
              "          async function getCodeForChartHandler(event) {\n",
              "            const chartCodeResponse =  await google.colab.kernel.invokeFunction(\n",
              "                'getCodeForChart', [\"chart-5f0054ca-6126-42de-bd22-7cfe00d80490\"], {});\n",
              "            const responseJson = chartCodeResponse.data['application/json'];\n",
              "            await google.colab.notebook.addCell(responseJson.code, 'code');\n",
              "          }\n",
              "          chartElement.onclick = getCodeForChartHandler;\n",
              "        })();\n",
              "      </script>\n",
              "      <style>\n",
              "        .colab-quickchart-chart-with-code  {\n",
              "            display: block;\n",
              "            float: left;\n",
              "            border: 1px solid transparent;\n",
              "        }\n",
              "\n",
              "        .colab-quickchart-chart-with-code:hover {\n",
              "            cursor: pointer;\n",
              "            border: 1px solid #aaa;\n",
              "        }\n",
              "      </style>"
            ]
          },
          "metadata": {}
        },
        {
          "output_type": "display_data",
          "data": {
            "text/plain": [
              "<google.colab._quickchart_helpers.SectionTitle at 0x7e5370897040>"
            ],
            "text/html": [
              "<h4 class=\"colab-quickchart-section-title\">2-d distributions</h4>\n",
              "<style>\n",
              "  .colab-quickchart-section-title {\n",
              "      clear: both;\n",
              "  }\n",
              "</style>"
            ]
          },
          "metadata": {}
        },
        {
          "output_type": "display_data",
          "data": {
            "text/plain": [
              "from matplotlib import pyplot as plt\n",
              "states.plot(kind='scatter', x='population', y='area', s=32, alpha=.8)\n",
              "plt.gca().spines[['top', 'right',]].set_visible(False)"
            ],
            "text/html": [
              "      <div class=\"colab-quickchart-chart-with-code\" id=\"chart-39609a80-c5ae-42b4-ad4f-09bb7545bd1f\">\n",
              "        <img style=\"width: 180px;\" src=\"data:image/png;base64,iVBORw0KGgoAAAANSUhEUgAAAkMAAAGnCAYAAAC0BFOSAAAAOXRFWHRTb2Z0d2FyZQBNYXRwbG90\n",
              "bGliIHZlcnNpb24zLjcuMSwgaHR0cHM6Ly9tYXRwbG90bGliLm9yZy/bCgiHAAAACXBIWXMAAA9h\n",
              "AAAPYQGoP6dpAAAloUlEQVR4nO3dfXBU1cHH8d9mb7LBhE15i8SGZItJdDSBDYQQoEqp0kJbX6pS\n",
              "LQVERZAWKdKOylh52mlL2hlNBZ0WW5moDaWVJqUdFVvsoMAoL46hFdpSItkkYGIgQEwyyZLd3OcP\n",
              "2p1uiTbB7G425/uZuTOw5yZ7PJOsX+69u9dh27YtAAAAQyXEegIAAACxRAwBAACjEUMAAMBoxBAA\n",
              "ADAaMQQAAIxGDAEAAKMRQwAAwGjEEAAAMBoxBAAAjEYM9cH69etjPQUAABAhxFAf1NXVxXoKAAAg\n",
              "QoghAABgNGIIAAAYjRgCAABGI4YAAIDRiCEAAGA0YggAABiNGAIAAEYjhgAAgNEiFkMtLS3yer2h\n",
              "LS8vT5Zl6fTp02pubtacOXOUm5ur/Px87dq1K/R10R4DAABmsyL1jUeNGqWDBw+G/v7YY4/p9ddf\n",
              "18iRI3X33XerpKREr7zyig4cOKAvf/nLqq2tVWJioh5++OGojgFAPOvqDqrdH1Cqy1JyojPW0wHi\n",
              "UsRi6L9t2rRJpaWlkqQXXnhBNTU1kqQpU6bosssu0+uvv67rr78+6mMAEI9OtvlVsdenVw69r87u\n",
              "oIYlOjU3f6wWTMvW6FRXrKcHxJWoxNAbb7yhM2fO6Etf+pJaWlrU3d2tsWPHhsY9Ho/q6+ujPtYb\n",
              "v98vv98f9lgwGPzYawAAA+Vkm1/3b6lWTXObki2nkqwEdfgDqthXp721p/XU/EKCCOiHqFxAvWnT\n",
              "Ji1atEiWFbUDURettLRUaWlpYdv+/ftjPS0ACKnY61NNc5vGpLo0IiVJKS5LI1KSNCbVpZrmNlW8\n",
              "yc2lgf6IeAy1t7frhRde0N133y3p/LVElmWpqakptI/P51NWVlbUx3qzZs0atba2hm3FxcUDth4A\n",
              "8HF0dQf1yqH3lWw5ZTnDX8ItZ4JcllPbDzepq5sj2kBfRTyGfvOb32jixIm68sorQ4/NmzdPGzdu\n",
              "lCQdOHBAJ06c0MyZM2My9t9cLpfcbnfY5nRyUSKAwaHdH1Bnd1BJVu8v3y4rQZ3nzl9UDaBvIn7e\n",
              "atOmTbr33nvDHvvxj3+shQsXKjc3V0lJSaqoqAi9syvaYwAQT1JdloYlOtXhDyill8uC/IEepSZb\n",
              "SnUN/ssSgMHCYdu2HetJDHarV69WWVlZrKcBAJKkn+w4os376jUm1RV2qiwQ7NHJdr8WTM3Wqtl5\n",
              "MZwhEF/4pwMAxJmF0zzaV3tGNc1tcllOuawE+QM98geCyk0frgXTsmM9RSCucDsOAIgzo1Ndemp+\n",
              "oRZMzVZqsqVAj63UZEsLpmbrSd5WD/QbR4YAIA6NTnVp1ew83feZy/kEauBjIoYAII4lJzqJIOBj\n",
              "4jQZAAAwGjEEAACMRgwBAACjEUMAAMBoxBAAADAaMQQAAIxGDAEAAKMRQwAAwGjEEAAAMBoxBAAA\n",
              "jEYMAQAAoxFDAADAaMQQAAAwGjEEAACMRgwBAACjEUMAAMBoxBAAADAaMQQAAIxGDAEAAKMRQwAA\n",
              "wGjEEAAAMBoxBAAAjEYMAQAAoxFDAADAaMQQAAAwGjEEAACMRgwBAACjEUMAAMBoxBAAADAaMQQA\n",
              "AIxGDAEAAKMRQwAAwGjEEAAAMBoxBAAAjEYMAQAAoxFDAADAaMQQAAAwGjEEAACMRgwBAACjEUMA\n",
              "AMBoxBAAADAaMQQAAIxGDAEAAKMRQwAAwGjEEAAAMBoxBAAAjBbRGPL7/VqxYoVyc3NVUFCgBQsW\n",
              "SJKOHj2q6dOnKy8vT1OmTNHhw4dDXxPtMQAAYDg7glatWmWvWLHC7unpsW3bthsbG23btu1Zs2bZ\n",
              "5eXltm3b9tatW+2ioqLQ10R7rC8eeOCBfu0PAADih8O2bTsSkdXR0aGMjAwdP35cbrc79Hhzc7Ny\n",
              "cnJ0+vRpWZYl27aVkZGhPXv2yO12R3UsJyfngnn7/X75/f6wxx599FGtX78+EssEAABiLGKnyd59\n",
              "912NHDlS69atU1FRka655hr9+c9/VkNDgzIyMmRZliTJ4XAoKytL9fX1UR/rTWlpqdLS0sK2/fv3\n",
              "R2qZAABAjEUshgKBgOrq6nTVVVfprbfe0oYNG3T77bcrEAhE6ikHxJo1a9Ta2hq2FRcXx3paAAAg\n",
              "QqxIfeOsrCwlJCToa1/7miSpsLBQn/rUp1RXV6fGxkYFAoHQaav6+nplZWXJ7XZHdaw3LpdLLpcr\n",
              "7DGn0xmpZQIAADEWsSNDo0eP1nXXXac//vGPkqTa2lrV1tZqxowZmjRpkioqKiRJlZWVyszMVE5O\n",
              "jtLT06M6BgAAELELqCXp2LFjuueee3Tq1CklJCRo7dq1uvXWW3XkyBEtXrxYLS0tcrvdKi8vV0FB\n",
              "gSRFfawvVq9erbKysgFeHQAAMBhENIaGCmIIAIChi0+gBgAARiOGAACA0YghAABgNGIIAAAYjRgC\n",
              "AABGI4YAAIDRiCEAAGA0YggAABiNGAIAAEYjhgAAgNGIIQAAYDRiCAAAGI0YAgAARiOGAACA0Ygh\n",
              "AABgNGIIAAAYjRgCAABGI4YAAIDRiCEAAGA0YggAABiNGAIAAEYjhgAAgNGIIQAAYDRiCAAAGI0Y\n",
              "AgAARiOGAACA0YghAABgNGIIAAAYjRgCAABGI4YAAIDRiCEAAGA0YggAABiNGAIAAEYjhgAAgNGI\n",
              "IQAAYDRiCAAAGI0YAgAARiOGAACA0YghAABgNGIIAAAYjRgCAABGI4YAAIDRiCEAAGA0YggAABiN\n",
              "GAIAAEYjhgAAgNGIIQAAYDRiCAAAGI0YAgAARotoDHk8Hl1xxRXyer3yer36zW9+I0k6evSopk+f\n",
              "rry8PE2ZMkWHDx8OfU20xwAAgOHsCMrOzrarq6sveHzWrFl2eXm5bdu2vXXrVruoqChmY33xwAMP\n",
              "9Gt/AAAQPxy2bduRCi2Px6Nt27bJ6/WGHmtublZOTo5Onz4ty7Jk27YyMjK0Z88eud3uqI7l5ORc\n",
              "MGe/3y+/3x/22KOPPqr169dHapkAAEAMRfyaoUWLFqmgoED33HOPTp48qYaGBmVkZMiyLEmSw+FQ\n",
              "VlaW6uvroz7Wm9LSUqWlpYVt+/fvj/QyAQCAGIloDO3atUt//etf9fbbb2v06NG68847I/l0A2LN\n",
              "mjVqbW0N24qLi2M9LQAAECFWJL95VlaWJCkxMVGrVq1SXl6exo0bp8bGRgUCgdBpq/r6emVlZcnt\n",
              "dkd1rDcul0sulyvsMafTGcllAgAAMRSxI0MdHR06e/Zs6O9btmxRYWGh0tPTNWnSJFVUVEiSKisr\n",
              "lZmZqZycnKiPAQAAROwC6mPHjunWW29VMBiUbdsaP3681q9fL4/HoyNHjmjx4sVqaWmR2+1WeXm5\n",
              "CgoKJCnqY32xevVqlZWVDfAKAQCAwSCi7yYbKoghAACGLj6BGgAAGI0YAgAARiOGAACA0YghAABg\n",
              "NGIIAAAYjRgCAABGI4YAAIDRiCEAAGA0YggAABiNGAIAAEYjhgAAgNGIIQAAYDRiCAAAGI0YAgAA\n",
              "RiOGAACA0YghAABgNGIIAAAYjRgCAABGI4YAAIDRiCEAAGA0YggAABiNGAIAAEYjhgAAgNGIIQAA\n",
              "YDRiCAAAGI0YAgAARiOGAACA0YghAABgNGIIAAAYjRgCAABGI4YAAIDRiCEAAGA0YggAABiNGAIA\n",
              "AEYjhgAAQMx0dQd1qt2vru5gzOZgxeyZAQCAsU62+VWx16dXDr2vzu6ghiU6NTd/rBZMy9boVFdU\n",
              "58KRIQAAEFUn2/y6f0u1Nu+rV4c/ICvBoQ5/QBX76rTiV9U61e6P6nyIIQAAEFUVe32qaW7TmFSX\n",
              "RqQkKcVlaURKksakulTT3KaKN+uiOh9iCAAARE1Xd1CvHHpfyZZTljM8QyxnglyWU9sPN0X1GqJ+\n",
              "x9DRo0c1d+5cXXbZZRo5cmRoAwAA+F/a/QF1dgeVZPWeIC4rQZ3ngmr3B6I2p37H0L333qvFixdr\n",
              "xIgRev3113Xbbbfp29/+diTmBgAAhphUl6VhiU6dC/T0Ou4P9GhYklOprui9x6vfMfTBBx/o9ttv\n",
              "V0JCggoKCvT0009r27ZtEZgaAAAYapITnZqTf6m6AkEFguFBFAj2yB8Iau7VY5Wc6IzanPodQ4mJ\n",
              "iZKk4cOHy+fzye/369SpUwM+MQAAMDQtnOZRTvpwnWz363THOXX4AzrdcU4n2/3KTR+uBdOyozqf\n",
              "fh+Duvbaa9XS0qIVK1Zo8uTJSkpK0h133BGJuQEAgCFodKpLT80vVMWbddp+uEmd54JKTbY07+rM\n",
              "mHzOkMO2bftiv7ihoUGtra3Kz88fyDkNOqtXr1ZZWVmspwEAwJDT1X3+YulUlxXVU2P/6aLeWl9Z\n",
              "Wal169Zp3LhxGjFihN55552BnhcAADBAcqJTo1NdMQsh6SJiaO3atXrmmWf07LPPnv8GCQlatmzZ\n",
              "QM8LAAAgKvodQ7///e/14osvKiUlRZKUkZGh9vb2AZ8YAABANPQ7hoYNGyanM/xQ1se47AgAACCm\n",
              "+h1D2dnZ2r17txwOh7q7u/W9731PXq/3I7+mvLxcDocj9HlEzc3NmjNnjnJzc5Wfn69du3aF9o32\n",
              "GAAAMFu/Y2jDhg364Q9/qHfeeUcpKSl644039JOf/ORD9/f5fPrFL36hkpKS0GMPP/ywSkpKdPTo\n",
              "UZWXl2v+/Pnq7u6OyRgAADCc3Q+BQMBev369bdu23dHRYbe3t3/k/sFg0L7uuuvst956y545c6b9\n",
              "u9/9zrZt205JSbEbGxtD+02ZMsXesWNHTMb64oEHHujzvgAAIL7068iQ0+nUc889J0m65JJLQhdR\n",
              "f5iysjLNmDFDkydPDj3W0tKi7u5ujR07NvSYx+NRfX191Md64/f79cEHH4RtwWD07pwLAACiq9+n\n",
              "yWbPnq3Nmzf/z/0OHTqkyspKfec737moicVKaWmp0tLSwrb9+/fHeloAACBC+h1DTz/9tBYuXKjk\n",
              "5GSNHDlSI0aM0MiRIy/Yb/fu3fL5fMrNzZXH49HevXu1dOlSvfDCC7IsS01NTaF9fT6fsrKyNGrU\n",
              "qKiO9WbNmjVqbW0N24qLi/u7TAAAIE70O4YOHjyo2tpaHTlyRNXV1Tp48KCqq6sv2G/58uVqbGyU\n",
              "z+eTz+dTSUmJfv7zn2v58uWaN2+eNm7cKEk6cOCATpw4oZkzZ0pS1Mf+m8vlktvtDtv++6MEAADA\n",
              "0NHvG7UOGzZM3/3ud3Xw4EF1dXWFHn/77bf7/D1+/OMfa+HChcrNzVVSUpIqKiqUmJgYkzEAAGC2\n",
              "ft+o9YYbbtCnP/1pbdq0SY8//riefvppFRYW6vvf/36k5hhz3KgVAIChq9+nyRoaGvTQQw/J5XLp\n",
              "hhtuUFVVlV599dVIzA0AACDi+h1DSUlJkqTk5GS1tLTIsiydOnVqwCcGAAAQDf2+ZigvL08tLS1a\n",
              "sGCBpk6dKrfbHfY5QgAAAPGk3zFUUVEhSfrmN7+poqIinTlzRnPmzBnwiQEAAERDv2PoP82YMWOg\n",
              "5gEAABAT/b5mCAAAYCghhgAAgNGIIQAAYDRiCAAAGI0YAgAARiOGAACA0YghAABgNGIIAAAYjRgC\n",
              "AABGI4YAAIDRiCEAAGA0YggAABiNGAIAAEYjhgAAgNGIIQAAYDRiCAAAGI0YAgAARiOGAACA0Ygh\n",
              "AABgNGIIAAAYjRgCAABGI4YAAIDRiCEAAGA0YggAABiNGAIAAEYjhgAAgNGIIQAAYDRiCAAAGI0Y\n",
              "AgAARiOGAACA0YghAABgNGIIAAAYjRgCAABGI4YAAIDRiCEAAGA0YggAABiNGAIAAEYjhgAAgNGI\n",
              "IQAAYDRiCAAAGI0YAgAARiOGAACA0YghAABgNGIIAAAYLaIx9LnPfU4TJkyQ1+vVNddco+rqaknS\n",
              "0aNHNX36dOXl5WnKlCk6fPhw6GuiPQYAAAxnR9CZM2dCf66qqrInTJhg27Ztz5o1yy4vL7dt27a3\n",
              "bt1qFxUVhfaL9lhfPPDAA/3aHwAAxA+Hbdt2NKLr2Wef1RNPPKE//elPysnJ0enTp2VZlmzbVkZG\n",
              "hvbs2SO32x3VsZycnD7NffXq1SorK4vwCgEAgFiwIv0EixYt0s6dOyVJL7/8shoaGpSRkSHLOv/U\n",
              "DodDWVlZqq+vV1paWlTHeoshv98vv98f9lgwGIzM4gAAgJiL+AXUzz//vBoaGvSDH/xADz30UKSf\n",
              "7mMrLS1VWlpa2LZ///5YTwsAAERI1N5Nduedd2rnzp3KzMxUY2OjAoGAJMm2bdXX1ysrK0vjxo2L\n",
              "6lhv1qxZo9bW1rCtuLg40ssDAABiJGIxdPbsWb333nuhv2/btk2jRo1Senq6Jk2apIqKCklSZWWl\n",
              "MjMzlZOTE/Wx3rhcLrnd7rDN6XRGapkAAECMRewC6rq6Os2bN0+dnZ1KSEjQmDFj9Nhjj8nr9erI\n",
              "kSNavHixWlpa5Ha7VV5eroKCAkmK+lhfcAE1AABDV9TeTRbPiCEAAIYuPoEaAAAYjRgCAABGI4YA\n",
              "AIDRiCEAAGA0YggAABiNGAIAAEYjhgAAgNGIIQAAYDRiCAAAGI0YAgAARiOGAACA0YghAABgNGII\n",
              "AAAYjRgCAABGI4YAAIDRiCEAAGA0YggAABiNGAIAAEYjhgAAgNGIIQAAYDRiCAAAGI0YAgAARiOG\n",
              "AACA0YghAABgNGIIAAAYjRgCAABGI4YAAIDRiCEAAGA0YggAABiNGAIAAEYjhgAAgNGIIQAAYDRi\n",
              "CAAAGI0YAgAARiOGAACA0YghAABgNGIIAAAYjRgCAABGI4YAAIDRiCEAAGA0YggAABiNGAIAAEYj\n",
              "hgAAgNGIIQAAYDRiCAAAGI0YAgAARiOGAACA0YghAABgNGIIAAAYjRgCAABGi1gMdXV16eabb1Ze\n",
              "Xp4mTpyo2bNnq6amRpLU3NysOXPmKDc3V/n5+dq1a1fo66I9BgAAzBbRI0NLly7VkSNH9Je//EU3\n",
              "3XSTlixZIkl6+OGHVVJSoqNHj6q8vFzz589Xd3d3TMYAAIDh7Cg5cOCAnZ2dbdu2baekpNiNjY2h\n",
              "sSlTptg7duyIydh/6+rqsltbW8O2lStXfpz/dAAAMIhF7Zqh9evX66abblJLS4u6u7s1duzY0JjH\n",
              "41F9fX3Ux3pTWlqqtLS0sG3//v0DuRQAAGAQiUoMrVu3TjU1NSotLY3G030sa9asUWtra9hWXFwc\n",
              "62kBAIAIiXgMPfbYY6qqqtL27dt1ySWXaNSoUbIsS01NTaF9fD6fsrKyoj7WG5fLJbfbHbY5nc6B\n",
              "XBIAADCIRDSGysrKtGXLFu3YsUOf+MQnQo/PmzdPGzdulCQdOHBAJ06c0MyZM2MyBgAAzOawbduO\n",
              "xDc+fvy4xo0bp/Hjx2v48OGSzh912bdvn95//30tXLhQtbW1SkpK0lNPPaVZs2ZJUtTH+mL16tUq\n",
              "KysbyOUBAACDRMRiaCghhgAAGLr4BGoAAGA0YggAABiNGAIAAEYjhgAAgNGIIQAAYDRiCAAAGI0Y\n",
              "AgAARiOGgDjW1R3UqXa/urqDsZ4KAMQtK9YTANB/J9v8qtjr0yuH3ldnd1DDEp2amz9WC6Zla3Sq\n",
              "K9bTA4C4wpEhIM6cbPPr/i3V2ryvXh3+gKwEhzr8AVXsq9OKX1XrVLs/1lMEgLhCDAFxpmKvTzXN\n",
              "bRqT6tKIlCSluCyNSEnSmFSXaprbVPFmXaynCABxhRgC4khXd1CvHHpfyZZTljP819dyJshlObX9\n",
              "cBPXEAFAPxBDQBxp9wfU2R1UktX7r67LSlDnuaDa/YEozwwA4hcxBMSRVJelYYlOnQv09DruD/Ro\n",
              "WJJTqS7eGwEAfUUMAXEkOdGpOfmXqisQVCAYHkSBYI/8gaDmXj1WyYnOGM0QAOIP/3wE4szCaR7t\n",
              "qz2jmuY2uSynXFaC/IHzIZSbPlwLpmXHeooAEFc4MgTEmdGpLj01v1ALpmYrNdlSoMdWarKlBVOz\n",
              "9eT8Qj5nCAD6iSNDQBwanerSqtl5uu8zl6vdH1Cqy+LUGABcJGIIiGPJiU4iCAA+Jk6TAQAAoxFD\n",
              "AADAaMQQAAAwGjEEAACMRgwBEdbVHdSpdj/3CwOAQYp3kwERcrLNr4q9Pr1y6H11dgc1LNGpuflj\n",
              "tWBaNp8FBACDCEeGgAg42ebX/VuqtXlfvTr8AVkJDnX4A6rYV6cVv6rWqXZ/rKcIAPgXYgiIgIq9\n",
              "PtU0t2lMqksjUpKU4rI0IiVJY1JdqmluU8WbdbGeIgDgX4ghYIB1dQf1yqH3lWw5ZTnDf8UsZ4Jc\n",
              "llPbDzdxDREADBLEEDDA2v0BdXYHlWT1/uvlshLUeS6odn8gyjMDAPSGGAIGWKrL0rBEp84Fenod\n",
              "9wd6NCzJqVQX718AgMGAGAIGWHKiU3PyL1VXIKhAMDyIAsEe+QNBzb16LPcUA4BBgn+aAhGwcJpH\n",
              "+2rPqKa5TS7LKZeVIH/gfAjlpg/XgmnZsZ4iAOBfODIERMDoVJeeml+oBVOzlZpsKdBjKzXZ0oKp\n",
              "2XpyfiGfMwQAgwhHhoAIGZ3q0qrZebrvM5er3R9Qqsvi1BgADELEEBBhyYlOIggABjFOkwEAAKMR\n",
              "QzHEDTwBAIg9TpPFADfwBABg8ODIUJRxA08AAAYXYijKuIEnAACDCzEURdzAEwCAwYcYiiJu4AkA\n",
              "wOBDDEURN/AEAGDwIYaiiBt4AgAw+HAIIsq4gScAAIMLR4aijBt4AgAwuHBkKAa4gScAAIMHMRRD\n",
              "3MATAIDY4zQZAAAwWkRjaOXKlfJ4PHI4HDp48GDo8aNHj2r69OnKy8vTlClTdPjw4ZiNAQAAs0U0\n",
              "hm677Tbt2bNH2dnh75BatmyZli5dqn/+85966KGHtHjx4piNAQAAszls27Yj/SQej0fbtm2T1+tV\n",
              "c3OzcnJydPr0aVmWJdu2lZGRoT179sjtdkd1LCcnp0/zX716tcrKyiK8SgAAIBaifgF1Q0ODMjIy\n",
              "ZFnnn9rhcCgrK0v19fVKS0uL6lhvMeT3++X3h985PhjkXmEAAAxVXED9X0pLS5WWlha27d+/P9bT\n",
              "AgAAERL1GBo3bpwaGxsVCJy/Galt26qvr1dWVlbUx3qzZs0atba2hm3FxcWRXhYAABAjUY+h9PR0\n",
              "TZo0SRUVFZKkyspKZWZmKicnJ+pjvXG5XHK73WGb08lnAQEAMFRF9ALqZcuW6aWXXlJTU5NGjRql\n",
              "4cOHq6amRkeOHNHixYvV0tIit9ut8vJyFRQUSFLUx/qCC6gBABi6ovJusnhHDAEAMHQRQ31wyy23\n",
              "yOPxxHoaERMMBrV//34VFxdzSnCAsKYDjzUdeKzpwGNNB97HWdPs7Gx985vf/J/7EUPQBx98oLS0\n",
              "NLW2tsrtdsd6OkMCazrwWNOBx5oOPNZ04EVjTXlrPQAAMBoxBAAAjEYMAQAAoxFDkMvl0v/93//J\n",
              "5XLFeipDBms68FjTgceaDjzWdOBFY025gBoAABiNI0MAAMBoxBAAADAaMQQAAIxGDBli5cqV8ng8\n",
              "cjgcOnjwYK/7vPbaaxo2bJi8Xm9o6+zsjO5E40hXV5duvvlm5eXlaeLEiZo9e7Zqamp63ffFF1/U\n",
              "lVdeqdzcXN1yyy364IMPojzb+NDXNfX5fHI6nWE/q++++24MZhwfPve5z2nChAnyer265pprVF1d\n",
              "3et+mzZtUm5uri6//HLde++96u7ujvJM40df1pTX1P4rLy+Xw+HQtm3beh2P2GupDSO8/vrrdkND\n",
              "g52dnW1XV1f3us/OnTvtiRMnRnVe8ayzs9N+6aWX7J6eHtu2bfvJJ5+0Z86cecF+bW1tdnp6uv33\n",
              "v//dtm3b/sY3vmF/+9vfjuZU40Zf17S2ttZOS0uL7uTi2JkzZ0J/rqqqsidMmHDBPseOHbMzMjLs\n",
              "xsZGu6enx77hhhvsp556KoqzjC99WVNeU/untrbWnjZtml1SUmL/7ne/u2A8kq+lHBkyxLXXXqvM\n",
              "zMxYT2NISU5O1he+8AU5HA5JUklJiXw+3wX7bd++XYWFhbryyislSV//+te1ZcuWaE41bvR1TdE/\n",
              "n/jEJ0J/bm1tDa3vf/rtb3+rG2+8UWPHjpXD4dB9993Hz+lH6Muaou96enq0ZMkSPfnkkx/6FvpI\n",
              "vpZaA/JdMGS8++67mjRpkpxOp+666y59/etfj/WU4sb69et10003XfB4fX29srOzQ3/3eDxqbGxU\n",
              "IBCQZfEr+FE+bE0lqaOjQ1OmTFEwGNTNN9+sRx55hBtjfoRFixZp586dkqSXX375gvHefk7r6+uj\n",
              "Nr949L/WVOI1ta/Kyso0Y8YMTZ48+UP3ieRrKa/ECJk0aZKOHz+utLQ0HT9+XF/4whc0evRofeUr\n",
              "X4n11Aa9devWqaamRn/+859jPZUh46PWNCMjQydOnFB6erpOnz6t22+/XY8//rgefPDBGMw0Pjz/\n",
              "/POSpOeee04PPfTQh/7PG333v9aU19S+OXTokCorK7Vr166YzYHTZAhxu91KS0uTJGVmZuqrX/2q\n",
              "du/eHeNZDX6PPfaYqqqqtH37dl1yySUXjGdlZamuri70d5/Pp4yMDI4KfYT/taYul0vp6emSpJEj\n",
              "R+ruu+/mZ7WP7rzzTu3cuVMtLS1hj/f2c5qVlRXt6cWlD1tTXlP7Zvfu3fL5fMrNzZXH49HevXu1\n",
              "dOlS/exnPwvbL5KvpcQQQhobG9XT0yNJamtr04svvqjCwsIYz2pwKysr05YtW7Rjx46wawj+05w5\n",
              "c/T222/rH//4hyTppz/9qe64444ozjK+9GVNm5ubQ+908vv9qqqq4mf1Q5w9e1bvvfde6O/btm3T\n",
              "qFGjNHLkyLD9br31Vv3hD39QU1OTbNvWxo0b+Tn9EH1dU15T+2b58uVqbGyUz+eTz+dTSUmJfv7z\n",
              "n2v58uVh+0XytZR/mhpi2bJleumll9TU1KTPf/7zGj58uGpqarRkyRLdeOONuvHGG1VZWamf/exn\n",
              "sixLgUBA8+bN01133RXrqQ9ax48f17e+9S2NHz9es2bNknT+iMW+ffu0du1aXXbZZbrvvvs0fPhw\n",
              "PfPMM7r55psVCASUn5+v5557LsazH5z6uqZ79uzR2rVr5XQ6FQgE9NnPflaPPPJIjGc/OLW2tmre\n",
              "vHnq7OxUQkKCxowZoxdffFEOhyPs93/8+PH63ve+pxkzZkiSPvOZz2jZsmUxnv3g1Nc15TX144vW\n",
              "ayn3JgMAAEbjNBkAADAaMQQAAIxGDAEAAKMRQwCM5fP5PvQda//p7Nmz+tGPfhT22JIlS0IfuAcg\n",
              "vnEBNQBj+Xw+eb1enT17dkD2AxCfODIEYFBxOBz6zne+o8LCQuXl5Wnz5s2hsT/+8Y+aNGmSJkyY\n",
              "oJkzZ+pvf/ubpPN3B8/Pz9eiRYuUn5+vyZMn6+DBg6Exr9cb+h6HDh2Sx+Pp9bm/9rWvqaioSBMm\n",
              "TNAXv/hFNTU1SZLuu+8+tbW1yev1qqioSNL5t57/+87azc3NuuWWW1RQUKD8/Hw9/fTToe/p8Xi0\n",
              "du1aTZs2TZ/61Kf0gx/8YIBWChh6Vq5cKY/HI4fDEfod/ijvvPOOvF5vaPN4PBd83lNf8DlDAAYd\n",
              "h8Oh6upqHTt2TEVFRZoxY4YuueQSzZ8/X6+99poKCgq0efNm3XbbbTp8+LAk6fDhw1q/fr2ef/55\n",
              "vfDCC7rjjjv097//vV/P+8QTT2jMmDGSpB/96Ef67ne/q40bN2rjxo3yer0f+uJ8//3364orrlBV\n",
              "VZWam5s1efJkTZw4USUlJZLOn2Z78803derUKV1++eW666679MlPfvLiFwgYom677TY9+OCD+vSn\n",
              "P92n/QsKCsJ+L1esWHFRN83lyBCAQWfJkiWSpPHjx+vaa6/Vrl27tG/fPhUUFKigoEDS+aM47733\n",
              "nk6cOCHp/BGY6667TpL0la98RU1NTWpoaOjX8/7qV79SUVGR8vPz9cwzz/TpX6aS9Oqrr4Y+oDA9\n",
              "PV233HKLXn311dD4/PnzJUmjR4/W+PHjVVtb2695Aaa49tprlZmZecHjBw4c0Gc/+1kVFRWpsLBQ\n",
              "W7duvWCfrq4ubd68Wffcc0+/n5cjQwAGvYv5l57D4ZDD4ZBlWQoGg6HHu7q6et1/z5492rBhg958\n",
              "802lp6frD3/4g9auXTsg801OTg79+d+fmg2gb86ePaulS5fq5ZdfVkZGhk6dOqVJkyZp+vTpYUdY\n",
              "q6qqNH78+LDT4n3FkSEAg055ebmk8xcu7969W9dcc41KSkr0zjvv6NChQ5KkX//61/rkJz8ZejH0\n",
              "+Xyhd3f99re/1aWXXqrMzEyNHz9edXV1OnnypCTpl7/8Za/PeebMGQ0fPlyjRo3SuXPnwq77cbvd\n",
              "6uzs1Llz53r92uuvv16/+MUvJEknT55UVVWVZs+ePQArAeCNN97QsWPHNHfuXHm9Xl1//fWSpCNH\n",
              "joTtt2nTpos6KiRxZAjAIBQMBlVYWKiOjg5t2LAhdMHz5s2btWjRIgUCAY0YMUJbt24NHYW5+uqr\n",
              "9eyzz2rlypVKSkrSli1b5HA4dNlll+nBBx9UcXGxLr30Us2dO7fX55wzZ44qKip0xRVXaNSoUbr+\n",
              "+utDp+BGjhypRYsWacKECUpNTdVbb70V9rUbNmzQ8uXLVVBQINu29cgjj2jq1KmRWyDAILZt6+qr\n",
              "r9Ybb7zxofvU1tZq7969qqysvKjn4K31AAYVh8OhM2fO9Onzf/7ttdde06pVq/p8jQ+Awc3j8Wjb\n",
              "tm3yer06c+aMrrrqKv3yl78MHRU6ePCgrrrqKiUlJUmSHn30UdXW1qqiouKino/TZAAAYFBYtmyZ\n",
              "MjMzdfz4cX3+859XTk6ORowYoZdeeknr1q3TxIkTddVVV+nhhx9WT0+PJKmnp0fPPvvsRZ8ikzgy\n",
              "BAAADMeRIQAAYDRiCAAAGI0YAgAARiOGAACA0YghAABgNGIIAAAYjRgCAABGI4YAAIDRiCEAAGA0\n",
              "YggAABiNGAIAAEb7fyx2PBU663HcAAAAAElFTkSuQmCC\n",
              "\">\n",
              "      </div>\n",
              "      <script type=\"text/javascript\">\n",
              "        (() => {\n",
              "          const chartElement = document.getElementById(\"chart-39609a80-c5ae-42b4-ad4f-09bb7545bd1f\");\n",
              "          async function getCodeForChartHandler(event) {\n",
              "            const chartCodeResponse =  await google.colab.kernel.invokeFunction(\n",
              "                'getCodeForChart', [\"chart-39609a80-c5ae-42b4-ad4f-09bb7545bd1f\"], {});\n",
              "            const responseJson = chartCodeResponse.data['application/json'];\n",
              "            await google.colab.notebook.addCell(responseJson.code, 'code');\n",
              "          }\n",
              "          chartElement.onclick = getCodeForChartHandler;\n",
              "        })();\n",
              "      </script>\n",
              "      <style>\n",
              "        .colab-quickchart-chart-with-code  {\n",
              "            display: block;\n",
              "            float: left;\n",
              "            border: 1px solid transparent;\n",
              "        }\n",
              "\n",
              "        .colab-quickchart-chart-with-code:hover {\n",
              "            cursor: pointer;\n",
              "            border: 1px solid #aaa;\n",
              "        }\n",
              "      </style>"
            ]
          },
          "metadata": {}
        },
        {
          "output_type": "display_data",
          "data": {
            "text/plain": [
              "<google.colab._quickchart_helpers.SectionTitle at 0x7e53708cc610>"
            ],
            "text/html": [
              "<h4 class=\"colab-quickchart-section-title\">Values</h4>\n",
              "<style>\n",
              "  .colab-quickchart-section-title {\n",
              "      clear: both;\n",
              "  }\n",
              "</style>"
            ]
          },
          "metadata": {}
        },
        {
          "output_type": "display_data",
          "data": {
            "text/plain": [
              "from matplotlib import pyplot as plt\n",
              "states['population'].plot(kind='line', figsize=(8, 4), title='population')\n",
              "plt.gca().spines[['top', 'right']].set_visible(False)"
            ],
            "text/html": [
              "      <div class=\"colab-quickchart-chart-with-code\" id=\"chart-60d3acd5-5f3f-45a4-bdd2-9ef83f118213\">\n",
              "        <img style=\"width: 180px;\" src=\"data:image/png;base64,iVBORw0KGgoAAAANSUhEUgAAAqQAAAFuCAYAAABX3QrmAAAAOXRFWHRTb2Z0d2FyZQBNYXRwbG90\n",
              "bGliIHZlcnNpb24zLjcuMSwgaHR0cHM6Ly9tYXRwbG90bGliLm9yZy/bCgiHAAAACXBIWXMAAA9h\n",
              "AAAPYQGoP6dpAABH2UlEQVR4nO3dd1yV9f/G8etw2Mpw4gYVlRyACxcqbjNzZWrD3DNHuarvt53l\n",
              "tzRyZ+WorMxtriwHuLei5tbEPcoBONj37w/y/CQnCJ4DvJ6Px3nUOec+93mfG4Kr+3zOhckwDEMA\n",
              "AACAldhZewAAAADkbARSAAAAWBWBFAAAAFZFIAUAAIBVEUgBAABgVQRSAAAAWBWBFAAAAFZFIAUA\n",
              "AIBVEUgBAABgVQRSAMhkJpNJq1ateqx99O3bVz179sygiQDAtthbewAAQGomk0krV65U48aNLbdN\n",
              "mTLFihMBQObiDCkAAACsikAKIFsLCQnRgAED1K5dO7m5ucnX11fff/+95f5ly5apatWq8vDwUNmy\n",
              "ZTVmzBglJydb7jeZTAoNDVX16tWVO3duBQUFaceOHZb7u3btqpdffvmu53z77bfvOc/58+fVsmVL\n",
              "eXl5yc3NTf7+/po7d67l/goVKkiSnn32WeXOnVtPP/30PZ/n7Nmz6tChg7y8vOTl5aWOHTvq3Llz\n",
              "qebq1KmTBgwYoHz58snLy0vvvPNOeg4hAGQ6AimAbG/atGnq1q2brl69qvHjx6tnz57auHGjtm/f\n",
              "rrZt2+qNN97Q5cuXNWvWLIWGhmr8+PGpHj958mR99913unz5slq0aKGnn35aUVFR6ZolKSlJ3bt3\n",
              "1/Hjx3XlyhUNHjxYL774ovbv3y9Jln8uWbJE169f16+//nrPfbRs2VJms1lHjhzR4cOHZRiGWrVq\n",
              "paSkJMt2CxcuVHBwsC5duqRFixbpf//7n8LCwtI1NwBkJgIpgGyvRYsWevbZZ2Vvb68WLVqobdu2\n",
              "mj59uqZOnapnnnlGHTp0kL29vapWrarhw4fftV5z8ODBKl++vJycnPTuu+/K3t5eixcvTtcsxYoV\n",
              "U7t27ZQ7d245ODioR48eKl++vNasWfPI+9i2bZv27NmjyZMny8PDQ56envryyy+1a9cubd++3bJd\n",
              "nTp11KlTJ5nNZtWqVUuBgYHatm1buuYGgMxk04F00KBB8vHxkclkUkRExEO337dvnwIDAy0XHx8f\n",
              "5c2bN/MHBWDTSpYsedf106dP6/Tp0ypdunSq+3x9fXXq1Kn7Pt7Ozk7e3t46ffp0uma5evWqevXq\n",
              "pZIlS8rd3V2enp7av3+/Ll269Mj7OH36tPLmzas8efJYbsuXL5/y5MmTavYiRYqkelyuXLkUExOT\n",
              "rrkBIDPZ9Kfs27dvrxEjRig4OPiRtq9UqVKq4DpgwACZTKZMmg5AVhEZGXnX9WLFisnBwUHHjx9P\n",
              "dd/x48dVokSJ+z4+OTlZp06dUrFixSRJbm5uOnPmTKrt71zL+W9vvvmmDh06pLVr16p48eIymUwK\n",
              "CAiQYRiWbR72c6t48eK6evWqrl69agmlV65c0dWrV++aHQCyAps+Q1qvXj3LD/07bd++XQ0bNlS1\n",
              "atVUuXLlVB8IuC02NlY//vijevTo8SRGBWDDli9frmXLlikpKUkrVqzQwoUL1a1bN3Xv3l3Lli3T\n",
              "/PnzlZSUpN27d2v06NHq3bt3qsePGzdOBw8eVHx8vD7++GPFx8erVatWkqRq1aopLCxMhw4dUkJC\n",
              "gsaOHasTJ07cd5aoqCi5uroqX758SkhI0IQJEyzrRm8rVKiQDh8+fN99BAUFqWLFihowYICio6MV\n",
              "FRWlV199VYGBgapevfpjHCkAsA6bDqT3cu3aNfXu3Vs//vijduzYoZUrV2ro0KE6e/Zsqu0WLFig\n",
              "UqVKKTAw0DqDArAZ3bt317Rp0+Tp6alXX31VU6ZMUd26dVWjRg3NmzdPH3/8sfLkyaPnn39egwYN\n",
              "0uDBg1M9vl+/furcubPy5s2rxYsXa/ny5fL09JQkvfTSS+rUqZNq166t4sWL69q1a6pTp859Zxk5\n",
              "cqRu3bolLy8v+fj46OLFi3dtP2rUKH366afy9PRUy5Yt79qH2WzW0qVLFRcXJ19fX5UpU0aJiYla\n",
              "vHixzGbz4x8wAHjCTMad7xPZKB8fHy1atEiBgYFavny5XnjhhVRruq5cuaJvv/1WDRs2tNzWqFEj\n",
              "Pffcc+rfv781RgZgI0JCQhQcHKyRI0em6/H3KqkHAGQsm15Dei+GYahChQratGnTfbc5ceKEtmzZ\n",
              "ovnz5z/ByQAAAJAeWe4t+9q1a+vEiROp/i50RESE4uPjLdenT5+utm3bWt5SAwAAgO2y6bfs+/Tp\n",
              "o2XLlunChQvKly+f3NzcdOzYMe3atUvDhg3T5cuXlZCQoBIlSmjRokVydnZWcnKyvL299f3336tB\n",
              "gwbWfgkAAAB4CJsOpAAAAMj+stxb9gAAAMheCKQAAACwKgIpAAAArMomA+m4ceOsPQIAAACeEJsM\n",
              "pCdPnrT2CAAAAHhCbDKQAgAAIOcgkAIAAMCqCKQAAACwqnQH0hkzZshkMmnRokX3vH/p0qXy8/NT\n",
              "mTJl1K5dO0VHR6f3qQAAAJCNpSuQRkZG6ptvvlHNmjXvef/169fVo0cPLVq0SEePHlWRIkX00Ucf\n",
              "PdagAAAAyJ7SHEiTk5PVs2dPTZgwQU5OTvfc5tdff1XlypXl5+cnSerfv79mzZr1eJMCAAAgW7JP\n",
              "6wNCQ0NVp04dVa1a9b7bnDp1St7e3pbrPj4+On/+vBITE2Vvn/op4+LiFBcXl+q2pKSktI4FAACA\n",
              "LCpNZ0j/+OMPzZ8/X2+//XaGDTBq1Ch5eHikumzbti3D9g8AAADblqZAun79ekVGRqpMmTLy8fHR\n",
              "li1b1Lt3b3355ZeptitRokSqcvvIyEgVLlz4rrOjkvTWW28pKioq1SUoKCidLwcAAABZjckwDCO9\n",
              "Dw4JCdFrr72mNm3apLo9JiZGpUuX1rp16+Tn56cBAwbI2dlZY8aMeaT9DhkyRKGhoekdCwAAAFlI\n",
              "mteQ3s+7776rIkWKqG/fvnJzc9PUqVPVpk0bJSYmqmLFivruu+8y6qkyXGxCkpwdzNYeAwAAIEd6\n",
              "rDOkmeVJniE9dfmm2k/ZpKFNy6pj9RJP5DkBAADw/3L8X2r6YetJXYqJ0xvz9+mNeXsVm8An/AEA\n",
              "AJ6kHB9I32zup2FNy8pkkmbvOK32Uzbp9JWb1h4LAAAgx8jxgdTOzqQBDcvo++5ByuPqoD/ORuvZ\n",
              "iRsUfviStUcDAADIEXJ8IL2tbpkCWjqorgKKeejazQR1+3a7xq46ouRkm1tiCwAAkK0QSO9Q1NNF\n",
              "c/rW0os1SsgwpLGrjqr7d9t17Wa8tUcDAADItgik/+Jkb9YnbStpzPMBcrK3U/jhv9Rywgb9cTbK\n",
              "2qMBAABkSwTS+2hftZgW9K+t4nlddObqLbX7cpPm7Dht7bEAAACyHQLpA1Qo4qGlA+qqoV9BxScm\n",
              "a8S8vXprAdVQAAAAGYlA+hAerg6a+ko1DW2SUg01a9tpPT9ls85cpRoKAAAgIxBIH4GdnUkDG5XR\n",
              "t92C5OnqoH1no9RywgatPfKXtUcDAADI8gikaVC/bAEtHRgs/3+qobrO2Kbxq49SDQUAAPAYCKRp\n",
              "VCyPq+b0qaUXglKqoUJXHlHP73co6maCtUcDAADIkgik6eDsYNaodpX0WXt/Odnbac2hS2o5cT3V\n",
              "UAAAAOlAIH0MHaoV1/x+KdVQp6/c0nNUQwEAAKQZgfQxVSyaUg3VoFwBxVmqofZRDQUAAPCICKQZ\n",
              "wMPVQdO6VNcQSzXUKXX4imooAACAR0EgzSB2diYNuqMaau+ZlGqodVRDAQAAPBCBNIPVL1tASwYE\n",
              "q1LRlGqoLlRDAQAAPBCBNBMUz+uquX1r6YWg4lRDAQAAPASBNJOkVEP567P2/nL8pxrq2YkbtP8c\n",
              "1VAAAAB3IpBmsg7VimtBv9oqlsdFp67cVLvJmzSXaigAAAALAukTULGoh5YODLZUQw2ft1f/WbhP\n",
              "cYlUQwEAABBInxBPV0dN61JdrzdOqYb6aespdZiyWWev3bL2aAAAAFZFIH2C7OxMGty4jGZ0rS5P\n",
              "VwftOROlluPXa/1RqqEAAEDORSC1gpByBS3VUFdvJuiV6ds0cQ3VUAAAIGcikFrJ7WqoTtVTqqHG\n",
              "/H5EvWfuUNQtqqEAAEDOQiC1ImcHs/73nL8+fa6SHO3ttOrgJT07YYMOnIu29mgAAABPDIHUBnSs\n",
              "XkLz+/5/NVTbyRs1f+cZa48FAADwRBBIbUSlYinVUPXLplRDDZ27R/+lGgoAAOQABFIb4unqqBld\n",
              "q2twozIymaQft55Sh6+2UA0FAACyNQKpjbGzM+n1JmU1vWt1ebg4aM/pa2o5fr02HP3b2qMBAABk\n",
              "CgKpjWpQrqCWDgxWxaLu/1RDbdWksGNUQwEAgGyHQGrDiud11by+tdWxWnElG9Lo3w5TDQUAALId\n",
              "AqmNc3Yw69P2/vpfu/+vhmo1kWooAACQfRBIs4hOQSnVUEU9XXTy8k21+5JqKAAAkD0QSLOQO6uh\n",
              "YhNSqqHeXkQ1FAAAyNoIpFlMnlyOmn5HNdQPW1Kqoc5RDQUAALIoAmkWZL5dDdXljmqoCRu08RjV\n",
              "UAAAIOshkGZhDfxSqqEqFHHXlRvx6jyNaigAAJD1EEizuOJ5XTW/X211qFbsjmqonVRDAQCALINA\n",
              "mg04O5j1WfuAO6qhLqr1xA06eJ5qKAAAYPsIpNlIp6ASmte3lop6uijy8k21nbxRC3dTDQUAAGwb\n",
              "gTSb8S/mqaUDg1Xvn2qo12fv0TuL/lB8YrK1RwMAALgnAmk2lCeXo2Z0ra5BjcpIkmZuOakOX23W\n",
              "+SiqoQAAgO1JcyBt2rSp/P39FRgYqLp162r37t13bRMeHi4XFxcFBgZaLrduEYaeJLOdSUOalNX0\n",
              "rtXk7myviNPX1HL8Bm2iGgoAANgY+7Q+YM6cOfL09JQkLVy4UF27dtWePXvu2q5cuXKKiIh43Pnw\n",
              "mBr6eWnpwLrq+8NOHTgfrZenbdWwZuXUr35pmUwma48HAACQ9jOkt8OoJEVFRRFqsoAS+Vy1oH9t\n",
              "ta+aUg312YqUaqjoWKqhAACA9aVrDekrr7yi4sWL65133tHMmTPvuc3x48dVpUoVVa9eXZMnT77v\n",
              "vuLi4hQdHZ3qkpTE32bPaM4OZo1u769P2laSo9lOKw9cVKsJG3ToAtVQAADAukyGYaT7z/p89913\n",
              "mj17tpYvX57q9ujoaBmGIQ8PD505c0YtWrTQ22+/rQ4dOty1j/fff18ffPBBqttq1qypzZs3p3cs\n",
              "PMSe09fU/8ddOnvtlpwd7PS/dv5qU7motccCAAA51GMFUklycXHRmTNnlC9fvvtuM2rUKJ07d04T\n",
              "Jky46764uDjFxcWluu2dd97RuHHjHmcsPMSVG/Ea/PNurT+a8iGnV2p56+1nysvRnuIFAADwZKUp\n",
              "fVy7dk3nzp2zXF+0aJHy5cunvHnzptru/PnzSk5O6b2MiYnR0qVLVbly5Xvu08nJSe7u7qkuZrM5\n",
              "ra8DaZQ3l6O+7RakgQ19JUnfbz6pjl9TDQUAAJ68NAXSqKgotWnTRpUqVVJAQIAmTpyopUuXymQy\n",
              "qWfPnlq8eLEkaf78+ZZtatasqSZNmqhbt26Z8gKQfmY7k4Y2LadpXVKqoXafohoKAAA8eY/9ln1m\n",
              "GDJkiEJDQ609Ro5y6vJN9flhpw6ej5adSRrezE9965eiRQEAAGQ6FgxCUko11ML+tfVclZRqqE9X\n",
              "HFLfH6iGAgAAmY9ACgtnB7PGPO+vj9tWlKPZTr/tv6jWEzfq8IUYa48GAACyMQIpUjGZTHqphrfm\n",
              "9q2lIh7OOvH3DbWZtFG/RJy19mgAACCbIpDingKKe2rpoLqqWya/biUkafDPEXp/8X7FJyZbezQA\n",
              "AJDNEEhxX/+uhvp2U6Q6fb1ZF6JirTwZAADITgikeKDb1VBTX6kmN2d77Tp1TS0nrNem41RDAQCA\n",
              "jEEgxSNpXN5LSwcG66nC7vr7erxenrpVU9Yelw22hgEAgCyGQIpH5p0vlxb0+/9qqP/9ekj9ftil\n",
              "GKqhAADAYyCQIk1cHFNXQ63Yf0GtJ27UkYtUQwEAgPQhkCLNbldDzfmnGurPv2+o9USqoQAAQPoQ\n",
              "SJFugcU9tWRgsIJ9qYYCAADpRyDFY8mX20nfdQ/Sqw1KS0qphnrhmy1UQwEAgEdGIMVjM9uZNLyZ\n",
              "n775pxpq58mrajlhvTYfv2zt0QAAQBZAIEWGaVLeS0sGBMuvkFtKNdS0rfqKaigAAPAQBFJkKJ/8\n",
              "ubSwfx21q1xUScmGRlENBQAAHoJAigzn4mjW5x0C9FGbinIwm6iGAgAAD0QgRaYwmUzqXNNbc/rU\n",
              "UuE7qqEW7zln7dEAAICNIZAiU1UukUdLBwarjm8+3UpI0qBZu/XBkv1KSKIaCgAApCCQItPly+2k\n",
              "77vXUP+QlGqoGRsj9cLXW3QxmmooAABAIMUTYrYzaURzP33duarcnOy14+RVPTN+g7b8STUUAAA5\n",
              "HYEUT1TTCoW0ZODtaqg4vTR1q75Z9yfVUAAA5GAEUjxxt6uh2v5TDfXx8oN69adduh6XaO3RAACA\n",
              "FRBIYRUujmaFdgjQR60ryMFs0vJ9F9Rq4gYdpRoKAIAch0AKqzGZTOpcy0ezb1dD/XVDrSdt1BKq\n",
              "oQAAyFEIpLC6Kv9UQ9UunU8345M0cNZufbjkANVQAADkEARS2ISUaqgg9funGmr6xhN68ZstukQ1\n",
              "FAAA2R6BFDbD3mynN+6ohtoeeVUtxm/QVqqhAADI1giksDlNKxTS4juqoV6kGgoAgGyNQAqbVDJ/\n",
              "Li3oX1ttAotQDQUAQDZHIIXNcnW01xcdA/XhHdVQrSdu0LFLVEMBAJCdEEhh00wmk16p5aOfe9dS\n",
              "IXdnHf/rhlpN3Kile6mGAgAguyCQIkuo6p1HSwcFq1aplGqoAT9RDQUAQHZBIEWWkT+3k2b2CFLf\n",
              "+lRDAQCQnRBIkaXYm+305tN++uqOaqhnJmzQthNXrD0aAABIJwIpsqRmFQrplwF1VM7LTX/FxOmF\n",
              "b7Zo6nqqoQAAyIoIpMiyShXIrYWv1lbrf6qhRi47qAGzdlMNBQBAFkMgRZbm6mivsR0D9UGrCrK3\n",
              "M2nZ3vNqM2kj1VAAAGQhBFJkeSaTSV1q+2h2n1rycnfSsUvX1XriRi3fd97aowEAgEdAIEW2UdU7\n",
              "j5YOrKuapfLqRnyS+v+4SyOXUg0FAICtI5AiWyng5qQfetRQn/qlJElTN5zQS99s1aUYqqEAALBV\n",
              "BFJkO/ZmO7319FOa8nJV5Xay17bIK3pm/AZtj6QaCgAAW0QgRbbVvGIhLR5QR2W9cqdUQ329RdM2\n",
              "nKAaCgAAG0MgRbZWqkBuLXq1jloFFFFisqGPlh7QwFm7dYNqKAAAbAaBFNmeq6O9xnUK1PvPlpe9\n",
              "nUlL955X60kbdezSdWuPBgAAlI5A2rRpU/n7+yswMFB169bV7t2777ndtGnTVKZMGZUuXVq9evVS\n",
              "QkLCYw8LpJfJZFLXOiU1u0/NO6qhNlANBQCADUhzIJ0zZ4727t2riIgIDRkyRF27dr1rmxMnTuid\n",
              "d97R+vXrdezYMV28eFFff/11RswLPJaq3nnvqob6eNkBJVINBQCA1aQ5kHp6elr+PSoqSiaT6a5t\n",
              "5s2bp1atWqlQoUIymUzq27evZs2a9ViDAhnFUg1VL6Ua6pv1J/TiVKqhAACwFvv0POiVV15RWFiY\n",
              "JGn58uV33X/q1Cl5e3tbrvv4+OjUqVP33FdcXJzi4uJS3ZaUlJSesYBHZm+201stnlJgcU8Nn7dX\n",
              "205cUcvxGzTppSqq7pPX2uMBAJCjpOtDTd9//71Onz6tkSNH6o033nisAUaNGiUPD49Ul23btj3W\n",
              "PoFH9XSlwvplQB2VKZhbl/6phppONRQAAE/UY33KvkuXLgoLC9Ply5dT3V6iRAmdPHnScj0yMlIl\n",
              "SpS45z7eeustRUVFpboEBQU9zlhAmpT+pxrq2X+qoT6kGgoAgCcqTYH02rVrOnfunOX6okWLlC9f\n",
              "PuXNm/otzueee06LFy/WhQsXZBiGpkyZok6dOt1zn05OTnJ3d091MZvN6XgpQPrlcrLX+E6Beu+O\n",
              "aqg2kzbq+F9UQwEAkNnSFEijoqLUpk0bVapUSQEBAZo4caKWLl0qk8mknj17avHixZKkUqVK6YMP\n",
              "PlCdOnXk6+urAgUKqE+fPpnyAoCMYjKZ1K1OSf3cu6YKujnp6KXraj1xo36lGgoAgExlMmxwsdyQ\n",
              "IUMUGhpq7TGQg12KidXAn3Zr64krkqTe9UppRLNysjfztyQAAMho/HYF7qGgm7N+7FlDvf+phvp6\n",
              "3Z96edpW/RUT95BHAgCAtCKQAvdhb7bTf1o8pckvVVEuR7O2/HlFLSes186TV6w9GgAA2QqBFHiI\n",
              "FpUK65cBwfItmFsXo+PU8astmrGRaigAADIKgRR4BL4Fc+uXV+uopX9hJSYb+mDJAb0yfZsOX4ix\n",
              "9mgAAGR5BFLgEeVysteEFyrr3Zbl5Wi20/qjf+vpcev09qJ9unydtaUAAKQXgRRIA5PJpO7BJbVy\n",
              "SD01r1BIyYb0w5ZTChkTrqnr/1R8YrK1RwQAIMshkALp4J0vl6Z0rqpZvWqqfGF3xcQmauSyg2r6\n",
              "xVr9vv8C60sBAEgDAinwGGqVzqclA4P12XP+yp/bSZGXb6r3zJ16aepWHTwfbe3xAADIEgikwGMy\n",
              "25nUoXpxhQ8PUf+Q0nK0t9Om45f1zPj1emvBPv3N+lIAAB6IQApkkNxO9hrR3E+rh9TXM/6FlWxI\n",
              "s7adUoPR4fpq7XHFJSZZe0QAAGwSgRTIYMXzumrSi1U0p08tVSrqoZi4RI369ZCahK7Tij9YXwoA\n",
              "wL8RSIFMElQyr355tY7GPB+ggm5OOnXlpvr+sFOdvt6iP85GWXs8AABsBoEUyER2dia1r1pMYcNC\n",
              "NLChr5zs7bT1xBU9O3GD3pi3V5diYq09IgAAVkcgBZ6AXE72Gtq0nNYMC1GrgCIyDGn2jtNqMDpc\n",
              "k8OPKTaB9aUAgJyLQAo8QUU9XTT+hcqa36+WAop76kZ8kj5bcViNQ9dq2d7zrC8FAORIBFLACqp6\n",
              "59XCfrX1RccAFXJ31pmrt/TqT7vU4avN2neG9aUAgJyFQApYiZ2dSW0rF9OaYfU1uFEZOTvYaXvk\n",
              "VbWatEHD5u7RxWjWlwIAcgYCKWBlro72er1JWYUNC1HbykVlGNK8nWfUYEy4Jqw+yvpSAEC2RyAF\n",
              "bERhDxd90TFQC/vXVuUSnroZn6TPVx5Ro8/XavGec6wvBQBkWwRSwMZULpFHC/rV1vgXKquIh7PO\n",
              "XrulQbN2q/2UzYo4fc3a4wEAkOEIpIANMplMahVQRKuHhmhok7JycTBr58mrajNpo4bMjtD5qFvW\n",
              "HhEAgAxDIAVsmIujWQMblVHYsBA9V6WYJGnB7rNqOGatxq46olvxrC8FAGR9BFIgCyjk4azPOwRo\n",
              "8YA6quadR7cSkjR21VE1/Dxci3afVXIy60sBAFkXgRTIQvyLeWpu31qa+GJlFfV00fmoWL02O0Lt\n",
              "vtykXaeuWns8AADShUAKZDEmk0kt/Yto9dD6Gt6snHI5mhVx+praTd6kQbN26+w11pcCALIWAimQ\n",
              "RTk7mPVqA1+FDQtRh2rFZDJJi/ecU8Mx4Qr9/bBuxCVae0QAAB4JgRTI4gq6O+uz9gFaMiBYQSXz\n",
              "Ki4xWePXHFPDz8M1f+cZ1pcCAGwegRTIJioW9dDs3jU15eUqKp7XRRej4zR07h61mbxROyKvWHs8\n",
              "AADui0AKZCMmk0nNKxbWytfr682n/ZTbyV57z0Sp/ZTNevWnXTp95aa1RwQA4C4EUiAbcnYwq2/9\n",
              "0gobFqIXgkrIZJKW7T2vRqFrNfq3Q7rO+lIAgA0hkALZWAE3J41qV0nLBtZVrVL5FJ+YrElhx9Vg\n",
              "TLjm7DjN+lIAgE0gkAI5QPki7vqpVw193bmqvPO56q+YOI2Yt1fPTtygrX9etvZ4AIAcjkAK5BAm\n",
              "k0lNKxTS76/X039bPCU3J3vtPxetjl9vUb8fdurUZdaXAgCsg0AK5DBO9mb1qldK4cND9HLNErIz\n",
              "Sb/+cUGNQ9fqf78eUkxsgrVHBADkMARSIIfKl9tJI9tU0q+D6ynYN7/ik5I1ZW3K+tKft51SEutL\n",
              "AQBPCIEUyOHKFXLTzB5Bmtalmkrlz6W/r8frzQX71HLCBm06/re1xwMA5AAEUgAymUxq9JSXVrxW\n",
              "T++0LC93Z3sdPB+tF7/Zqt7f71Dk3zesPSIAIBsjkAKwcLS3U4/gklo7vIG61PKW2c6k3w9cVJMv\n",
              "1uqT5QcVzfpSAEAmIJACuEueXI76oHVFrRhcV/XLFlBCkqGv1/2pkNHh+mHLSSUmJVt7RABANkIg\n",
              "BXBfZbzc9F33IM3oVl2lC+TSlRvxenvRH3pm/AZtOMr6UgBAxiCQAnioBuUKasVr9fRBqwrydHXQ\n",
              "4YsxennaVvX8brv+/Ou6tccDAGRxBFIAj8TBbKcutX0UPixE3er4yN7OpFUHL6npF+v00dIDirrJ\n",
              "+lIAQPoQSAGkiaero957toJWvFZPDf0KKjHZ0LQNJxQyJkzfb45kfSkAIM0IpADSxbdgbk3vWl3f\n",
              "dw9SWa/cunozQe/+sl9Pj1uvtUf+svZ4AIAsJE2BNDY2Vm3atFHZsmUVEBCgJk2a6NixY3dtFxkZ\n",
              "KbPZrMDAQMvl+PHjGTY0ANtRr2wBLR9UVx+1qag8rg46eum6ukzfpm4ztunYJdaXAgAeLs1nSHv3\n",
              "7q3Dhw9rz549at26tXr27HnP7dzc3BQREWG5lC5d+rGHBWCb7M126lzTW+HDG6hncEnZ25kUdvgv\n",
              "NRu7Tu8v3q+rN+KtPSIAwIalKZA6OzurRYsWMplMkqSaNWsqMjIyM+YCkAV5uDjo7Zbl9fvr9dT4\n",
              "KS8lJRv6dlOkQsaEa8bGE0pgfSkA4B4eaw3puHHj1Lp163ved+PGDVWvXl1VqlTRhx9+qKSkpHtu\n",
              "FxcXp+jo6FSX+20LIGsoVSC3pnapph971pBfITdF3UrQB0sOqNnYdQo7dEmGYVh7RACADTEZ6fzN\n",
              "8Mknn2jJkiVavXq1XF1dU90XFxenqKgoFSxYUFeuXFHHjh3VpEkTjRgx4q79vP/++/rggw9S3Vaz\n",
              "Zk1t3rw5PWMBsDFJyYZmbz+tz38/rMv/vHVfr2wBvf3MUyrr5Wbl6QAAtiBdgXTMmDH6+eeftWrV\n",
              "Knl6ej50+1mzZumnn37SkiVL7rovLi5OcXFxqW575513NG7cuLSOBcCGRccmaNKaY5q+8YQSkgyZ\n",
              "7Ux6MaiEXm9SVnlzOVp7PACAFaX5LfvQ0FDNmjVLK1euvG8YvXTpkhISUkqy4+LitGDBAlWuXPme\n",
              "2zo5Ocnd3T3VxWw2p3UsADbO3dlBb7V4SquG1FfzCoWUlGxo5paTqj86TFPX/6n4RNaXAkBOlaZA\n",
              "eubMGQ0dOlTXrl1TgwYNFBgYqBo1akiS3n33XU2ZMkWStGHDBlWuXFkBAQGqUqWKChUqpP/+978Z\n",
              "Pz2ALMc7Xy5N6VxVs3rVVPnC7oqJTdTIZQfVbOw6rTpwkfWlAJADpXsNaWYaMmSIQkNDrT0GgEyW\n",
              "lGxo3s7TGv3bEf19PWXpTh3ffHqnZXn5FXK38nQAgCeFv9QEwGrMdiZ1rF5CYcPqq19IaTma7bTx\n",
              "2GW1GLde/1m4zxJSAQDZG4EUgNW5OTvojeZ+Wj20vp6pVFjJhvTT1lNqMDpcX687rrhEquAAIDsj\n",
              "kAKwGcXzumrSS1U0p08tVSzqrpi4RH2y/JCafrFOK/64wPpSAMimCKQAbE5Qybxa/GqwRrf3V0E3\n",
              "J528fFN9f9ipF77Zov3noqw9HgAggxFIAdgkOzuTnq9WXGHDQjSwoa+c7O205c8rajlhg96cv1d/\n",
              "xbC+FACyCwIpAJuWy8leQ5uW0+qh9fVsQBEZhvTz9tNqMCZck8OPKTaB9aUAkNURSAFkCcXyuGrC\n",
              "C5U1r28tBRTz0PW4RH224rAah67V8n3nWV8KAFkYgRRAllLNJ68W9q+jLzoGqJC7s85cvaX+P+5S\n",
              "x6+26I+zrC8FgKyIQAogy7GzM6lt5WJaM6y+BjcqI2cHO22LvKJnJ27Q8Ll7dCk61tojAgDSgEAK\n",
              "IMtydbTX603Kas3QELUJTFlfOnfnGYWMCdfENUdZXwoAWQSBFECWV8TTRWM7VdaC/rUVWNxTN+OT\n",
              "NOb3I2r0+Vot2XOO9aUAYOMIpACyjSol8mhh/9oa1ylQRTycdfbaLQ2ctVvtp2zWntPXrD0eAOA+\n",
              "CKQAshWTyaTWgUW1emiIhjQpKxcHs3aevKrWkzZqyJwIXYhifSkA2BoCKYBsycXRrEGNyihsWIja\n",
              "VSkqSVqw66wajAnXuFVHdSue9aUAYCsIpACytUIezgrtEKhfXq2jat55dCshSV+sOqKGn4frl4iz\n",
              "rC8FABtAIAWQIwQU99TcvrU08cXKKurpovNRsRr8c4TafblJu05dtfZ4AJCjEUgB5Bgmk0kt/Yto\n",
              "9dD6Gt6snFwdzdp96praTd6kwT/v1rlrt6w9IgDkSARSADmOs4NZrzbwVfiwEHWoVkwmk/RLxDk1\n",
              "/DxcoSuP6GZ8orVHBIAchUAKIMcq6O6sz9oHaMmAYAWVzKvYhGSNX31UDcaEa8GuM0pOZn0pADwJ\n",
              "BFIAOV7Foh6a3bumvnypiornddHF6DgNmbNHbSdv1M6TV6w9HgBkewRSAFDK+tKnKxXWytfr643m\n",
              "fsrtZK89Z6L03JebNeCnXTpz9aa1RwSAbItACgB3cHYwq19IaYUNC9ELQcVlMklL955Xw8/Xasxv\n",
              "h3UjjvWlAJDRCKQAcA8F3Jw0qp2/lg4MVs1SeRWfmKyJYccUMiZcc3ecZn0pAGQgAikAPECFIh6a\n",
              "1aumvupcVd75XPVXTJyGz9urVpM2aOufl609HgBkCwRSAHgIk8mkZhUK6ffX6+m/LZ6Sm5O9/jgb\n",
              "rY5fb1H/H3fq9BXWlwLA4yCQAsAjcrI3q1e9UgobHqKXapSQnUlavu+CGn2+Vp+uOKSY2ARrjwgA\n",
              "WRKBFADSKH9uJ33ctpKWD66rYN/8ik9K1pfhx9VgzFr9vO2UklhfCgBpQiAFgHTyK+SumT2CNK1L\n",
              "NZXMn0t/X4/Tmwv2qeWEDdp8nPWlAPCoCKQA8BhMJpMaPeWl316rp3dalpe7s70Ono/WC99sUZ+Z\n",
              "O3Ty8g1rjwgANo9ACgAZwNHeTj2CSyp8eAO9UstbZjuTftt/UY1D12rU8oOKZn0pANyXyTAMm1vs\n",
              "NGTIEIWGhlp7DABItyMXY/TR0gNaf/RvSZKnq4MqFHGXl5uzCro7q6Cbk7zcnVXQ3emf25zk7GC2\n",
              "8tQAYB321h4AALKjsl5u+r57kMIP/6WRyw7o+F83tPHYg9eVujvby8vdOSWoujmlCq5e7k4qSHAF\n",
              "kE0RSAEgk5hMJjXwK6jgMvm1I/Kqzkfd0qWYOF2MjtWl6DhdionVxeiU63GJyYqOTVR07HUdvXT9\n",
              "gfv1cHH4/zOs/wTX24HVyz3l9gJuBFcAWQeBFAAymYPZTrVK57vv/YZhKDo2UZeiYy2B9eI/gfXS\n",
              "P4H19u1xicmKupWgqFsJaQuu/wqst28nuAKwBQRSALAyk8kkDxcHebg4qIyX2323uzO4XvzXGda/\n",
              "Yh4vuN65JODOwEpwBfAkEEgBIItIU3C9lZgqsN4OqreD68V/zr7eGVyPXHy04Ho7oHrdY40rwRVA\n",
              "ehBIASCbMZlM8nB1kIfrowXXi3csDbj975blAv+E2vg0BFdPV4dUZ1a93J3l9a+1rgRXAHcikAJA\n",
              "DnVncC37iMH19gey7gyudy4fiE9M1rWbCbp2M23B1bJc4F9rXgu6O8nJnuAKZHcEUgDAA6UluEbd\n",
              "SkjVJPDv4Hp7+UBag+vtrtbbH8z694e1CK5A1kYgBQBkCJPJJE9XR3m6Oj5ScL34rzOs/24UuBQd\n",
              "p/ik/w+uhy/GPPD5Hxxcb1dkEVwBW0QgBQA8UXcG13KF0hZcU30w65/wmtbgmsfVwXJW9d9VWLfX\n",
              "uRZwI7gCTxKBFABgk9ITXFOfYb3j3+8IrldvJuhqGoPrvxsFCrgRXIGMRCAFAGRpaQmu124m3PHH\n",
              "B24H1dR/kOCvmLQH11SNAneceSW4Ao8mTYE0NjZWnTp10oEDB+Ti4qKCBQvqyy+/lK+v713bLl26\n",
              "VMOGDVNSUpIqVaqkb7/9Vu7u7hk2OAAAaWEymZQnl6Py5Hq04HrxX+ta//0HCS7FxCohybAE10MX\n",
              "0h9cb69xJbgipzIZhmE86saxsbFas2aNnn76aZlMJk2cOFHz5s1TeHh4qu2uX7+u0qVLa+3atfLz\n",
              "89OAAQPk4uKi0aNHP9LzDBkyRKGhoWl6IQAAPEl3BteL0f9/pvV2cL2zYSAh6ZF/1SpvLkcVdHNS\n",
              "sTyu6lbHR3V882fiqwBsQ5oC6b/t2LFD7du3V2RkZKrb586dq2nTpmnFihWSpAMHDqhp06Y6c+bM\n",
              "I+2XQAoAyC4MI+Us6qV/Bdd7VWPdK7jWLZNfbzT3U8WiHlaYHngyHmsN6bhx49S6deu7bj916pS8\n",
              "vb0t1318fHT+/HklJibK3j71U8bFxSkuLi7VbUlJSY8zFgAANsNkMilvLkflzeUov0L33y452dC1\n",
              "WwmWJQJhhy7px60ntf7o31p/dINaBxbR0CblVCKf65MbHnhC7NL7wE8++UTHjh3TqFGjHmuAUaNG\n",
              "ycPDI9Vl27Ztj7VPAACyGju7lOD6VGF31S9bQO+3qqDVQ0LUOrCIJOmXiHNqFBqu9xfv1+XrcQ/Z\n",
              "G5C1pCuQjhkzRgsWLNCvv/4qV9e7/0+tRIkSOnnypOV6ZGSkChcufNfZUUl66623FBUVleoSFBSU\n",
              "nrEAAMhWSuRz1bhOlbV0YLDqlsmvhCRD326KVP3R4Rq/+qhuxCVae0QgQ6Q5kIaGhmrWrFlauXKl\n",
              "PD0977lN8+bNtWvXLh06dEiSNHnyZHXq1Ome2zo5Ocnd3T3VxWzmE4YAANxWsaiHZvaooR961FCl\n",
              "oh66Hpeo0JVHVH90uGZuOamEpGRrjwg8ljR9qOnMmTMqXry4SpUqJTe3lMoMJycnbd26Ve+++66K\n",
              "FCmivn37SpIWL16sESNGKDExURUrVtR3330nD49HW5DNh5oAALi35GRDy/ad15jfD+vk5ZuSJJ98\n",
              "rhrezE8tKhWSyWSy8oRA2j3Wp+wzC4EUAIAHi09M1s/bT2ncqqO6fCNekhRQzENvPO2n2qWpikLW\n",
              "ku4PNQEAAOtxtLfTK7V8tHZEA73WuIxcHc3acyZKL36zVV2mb9OBc9HWHhF4ZARSAACysNxO9nqt\n",
              "cVmtHd5AXWp5y97OpLVH/tIzE9br9dkROn3lprVHBB6KQAoAQDZQwM1JH7SuqFVD6uvZgCIyDGnh\n",
              "7rNq9PlafbjkgK7887Y+YIsIpAAAZCM++XNpwguVtWRAsOr45lN8UrKmbzyh+p+FaeKao7oZT1UU\n",
              "bA+BFACAbKhSMQ/92LOmZvYIUoUi7oqJS9SY31Oqon7cSlUUbAuBFACAbKxumQJaMiBY4zoFqnhe\n",
              "F/0VE6f/LvxDzb5Yp1/3nZcNlu0gByKQAgCQzdnZmdQ6sKhWDwnR+8+WV95cjvrz7xvq9+MutZm8\n",
              "SVv+vGztEZHDEUgBAMghHO3t1LVOSa0dHqJBjf6pijp9TZ2+3qJuM7bp4HmqomAdBFIAAHIYN2cH\n",
              "DWlSVuHDQ9S5ZkpVVNjhv9Ri/HoNmROhM1episKTRSAFACCHKujmrI/aVNTKIfX1jH9hGYa0YNdZ\n",
              "NRyzViOXHtBVqqLwhBBIAQDI4Urmz6VJL1bRL6/WUa1SKVVRUzecUL3PwjQp7JhuxSdZe0RkcwRS\n",
              "AAAgSQoo7qmfetXQd92D9FThlKqo0b8dVv3RYZq17ZQSqYpCJiGQAgAAC5PJpPplC2jZwGCN7Rio\n",
              "YnlcdCkmTm8t2KemY9dpxR8XqIpChiOQAgCAu9jZmdSmclGtHlpf77YsrzyuDvrzrxvq+8NOtfty\n",
              "k7aduGLtEZGNEEgBAMB9Odmb1T24pNaOaKCBDX3l4mDW7lPX1OGrzerx7XYdvhBj7RGRDRBIAQDA\n",
              "Q7k7O2ho03JaOzxEL9UoIbOdSasPXVLzces0bO4enb12y9ojIgsjkAIAgEdW0N1ZH7etpJWv11OL\n",
              "SoVkGNK8nWfUYEy4Pll+UNduUhWFtCOQAgCANCtVILcmv1RVC/vXVo2SeRWfmKyv1/2pup+F6cvw\n",
              "44pNoCoKj45ACgAA0q1yiTz6uXdNzehWXX6F3BQTm6hPVxxSyOhwzd5OVRQeDYEUAAA8FpPJpAbl\n",
              "CmrZoLoK7RCgop4uuhAdqzfm71Pzcev1+36qovBgBFIAAJAhzHYmtatSTKuH1tfbzzwlT1cHHbt0\n",
              "Xb1n7lT7KZu1PZKqKNwbgRQAAGQoZwezetYtpXUjGujVBqXl7GCnnSev6vkpm9Xzux06cpGqKKRG\n",
              "IAUAAJnC3dlBw5v5ae3wBnohKKUqatXBi2o+dp1GzNuj81FURSEFgRQAAGQqL3dnjWpXSb+9Vk/N\n",
              "KxRSsiHN2XFGIaPDNerXg4q6mWDtEWFlBFIAAPBE+BbMrSmdq2pB/9oKKplXcYnJ+mrtn6r72Rp9\n",
              "tZaqqJyMQAoAAJ6oKiXyaHbvmpretZrKebkpOjZRo349pAZjwjVnx2klJfOJ/JyGQAoAAJ44k8mk\n",
              "hn5eWj64rsY8H6AiHs46HxWrEfP26ulx67TqwEWqonIQAikAALAas51J7asW05phIfpvi6fk4eKg\n",
              "Ixevq+f3O9Thq83aeZKqqJyAQAoAAKzO2cGsXvVSqqL6hZSWk72dtkde1XNfblbv73fo2CWqorIz\n",
              "AikAALAZHi4OeqN5SlVUp+rFZWeSfj9wUU2/WKc35+/VhahYa4+ITEAgBQAANqeQh7P+95y/fn+9\n",
              "npqW91KyIf28/bTqjw7TpysOKeoWVVHZCYEUAADYLN+Cbvr6lWqa36+WqvvkUVxisr4MP656n4Xp\n",
              "m3V/UhWVTRBIAQCAzavqnVdz+tTS1FeqqUzB3Iq6laCPlx9UwzHhmrfzDFVRWRyBFAAAZAkmk0mN\n",
              "y3tpxWv19Fl7fxX2cNa5qFgNm7tHLcat15pDVEVlVQRSAACQpZjtTOpQrbjChoXoPy385OHioMMX\n",
              "Y9T92x3q+PUW7Tp11dojIo0IpAAAIEtydjCrd73SWje8gfrWT6mK2nbiitpN3qS+M3fq+F/XrT0i\n",
              "HhGBFAAAZGkerg5682k/hQ8PUcdqKVVRK/ZfUNMv1umtBft0MZqqKFtHIAUAANlCYQ8XfdreX7+9\n",
              "Vk9NynspKdnQrG2nVH90mEb/dkjRsVRF2SoCKQAAyFbKeLnpm1eqaW7fWqrqnUexCcmaFJZSFTV1\n",
              "/Z+KS6QqytYQSAEAQLZU3Sev5vWtpa87V5Vvwdy6djNBI5cdVMMxa7VgF1VRtoRACgAAsi2TyaSm\n",
              "FQppxeC6+vS5Sirk7qyz125pyJw9emb8eoUdvkRVlA0gkAIAgGzP3mynjtVLKGxYiN5o7ic3Z3sd\n",
              "uhCjbjO264Vvtiji9DVrj5ijEUgBAECO4eJoVr+Q0lo/ooF61yslR3s7bfnzitpM2qj+P+7Un1RF\n",
              "WQWBFAAA5Diero76T4unFDYsRO2rFpPJJC3fd0FNvlin/y7cp0tURT1RaQqkgwYNko+Pj0wmkyIi\n",
              "Iu65TXh4uFxcXBQYGGi53Lp1KyNmBQAAyFBFPV005vkArRhcT42fKqikZEM/bj2l+qPD9fnvhxVD\n",
              "VdQTkaZA2r59e23YsEHe3t4P3K5cuXKKiIiwXFxcXB5rSAAAgMxUrpCbpnaprjl9aqlKCU/dSkjS\n",
              "hDXHVH90uKZvOEFVVCZLUyCtV6+eihUrllmzAAAAWFVQybya36+2vupcVaUL5NKVG/H6cOkBNfp8\n",
              "rRbtPqtkqqIyRaasIT1+/LiqVKmi6tWra/LkyQ/cNi4uTtHR0akuSUn8XwgAALAOk8mkZhUK6bfX\n",
              "6ul/7SrJy91JZ67e0muzI/TMhA1ae+QvqqIyWIYH0ipVqujMmTPatWuXFi5cqClTpmjOnDn33X7U\n",
              "qFHy8PBIddm2bVtGjwUAAJAm9mY7dQoqofBhDTSieTm5Odvr4PlodZm+TS9N3ao9VEVlmAwPpO7u\n",
              "7vLw8JAkFStWTC+88ILWr19/3+3feustRUVFpboEBQVl9FgAAADp4uJoVv8QX60b3kC96paUo9lO\n",
              "m45fVutJG/XqT7t04u8b1h4xy8vwQHr+/HklJydLkmJiYrR06VJVrlz5vts7OTnJ3d091cVsNmf0\n",
              "WAAAAI8lTy5H/feZ8lozrL7aVSkqk0latve8moSu1TuL/tClGKqi0itNgbRPnz4qVqyYzpw5o2bN\n",
              "msnX11eS1LNnTy1evFiSNH/+fFWqVEkBAQGqWbOmmjRpom7dumX85AAAAFZQLI+rQjsEavmgumpQ\n",
              "roASkw3N3HJSIaPDFbryCFVR6WAybHBV7pAhQxQaGmrtMQAAAB5q8/HL+t+KQ5Y1pflyOWpgQ1+9\n",
              "WMNbjvb8DaJHwVECAAB4DLVK59Oi/rX15UtVVCp/Ll2+Ea/3lxxQo9Bw/RJBVdSjIJACAAA8JpPJ\n",
              "pKcrFdZvr9fTJ20rqYCbk05fuaXBP0fo2YkbtP7oX9Ye0aYRSAEAADKIg9lOL9YoobXDQzS8WTm5\n",
              "Odlr/7lodZ62TS9P3ap9Z6KsPaJNIpACAABkMFdHe73awFdrRzRQj+CUqqgNx/7WsxM3aOCs3Tp5\n",
              "maqoOxFIAQAAMkneXI56p2V5rR5aX+0qp1RFLdlzTo0+X6v3fvlDf1+Ps/aINoFACgAAkMmK53VV\n",
              "aMdALRtYVyH/VEV9t/mk6n8WprGrjuh6XKK1R7QqAikAAMATUr6Iu77tFqSfetVQQDEP3YhP0thV\n",
              "RxUyOkzfb45UfGKytUe0CgIpAADAE1a7dH4terWOJr9URSXz59Lf1+P17i/71eSLtVqy51yOq4oi\n",
              "kAIAAFiByWRSi0qF9fvr9TSyTUXlz+2kk5dvauCs3Wo9aaM2Hvvb2iM+MQRSAAAAK3Iw2+nlmt5a\n",
              "OzxEQ5uUVW4ne+07G6WXpm5V52lb9cfZ7F8VRSAFAACwAbmc7DWwURmtHR6ibnV85GA2af3Rv9Vy\n",
              "wgYN/nm3Tl2+ae0RMw2BFAAAwIbky+2k956toNVDQtQmsIgk6ZeIc2oUGq73F+/X5WxYFUUgBQAA\n",
              "sEEl8rlqbKfKWjowWPXKFlBCkqFvN0Wq3mdhGr/6qG5ko6ooAikAAIANq1jUQ993D9KPPWuoUtGU\n",
              "qqjQlUdUf3S4Zm45qYSkrF8VRSAFAADIAur45tcvr9bRxBcryzufq/6+Hqd3Fv2hJqFrtWzveRlG\n",
              "1q2KIpACAABkEXZ2JrX0L6KVr9fXR60rKH9uR0VevqlXf9qlNpM2akfkFWuPmC4EUgAAgCzG0d5O\n",
              "nWv5aO3wBnq9cVnlcjRrz5konbl6y9qjpYu9tQcAAABA+uRystfgxmX0Us0Smr39tFoFFLH2SOlC\n",
              "IAUAAMji8ud20qsNfK09Rrrxlj0AAACsikAKAAAAqyKQAgAAwKoIpAAAALAqAikAAACsikAKAAAA\n",
              "qyKQAgAAwKoIpAAAALAqAikAAACsikAKAAAAqyKQAgAAwKpMhmEY1h7i39q1aycfH58n9nxJSUna\n",
              "tm2bgoKCZDabn9jz2jqOy/1xbO6N43JvHJf749jcG8fl/jg292aN4+Lt7a3BgwdnyL5sMpA+adHR\n",
              "0fLw8FBUVJTc3d2tPY7N4LjcH8fm3jgu98ZxuT+Ozb1xXO6PY3NvWf248JY9AAAArIpACgAAAKsi\n",
              "kAIAAMCqCKSSnJyc9N5778nJycnao9gUjsv9cWzujeNybxyX++PY3BvH5f44NveW1Y8LH2oCAACA\n",
              "VXGGFAAAAFZFIAUAAIBVEUgBAABgVVkikCYmJuqDDz6Qn5+fKlasqMDAQPXu3VvXrl2772O+/fZb\n",
              "tWnTRpK0Y8cOdezY0XLfV199JT8/PwUGBury5csZNmeLFi10+PDhDNsfMldgYKACAwNVvnx5mc1m\n",
              "y/U7v1cASfLx8VG5cuUs3yM9e/ZU165dNXbs2DTv69y5c6pbt+5978+fP78iIyPTPyyeGB8fH/n5\n",
              "+SkxMdFyW7Vq1RQeHp6hz5OcnKx69erp66+/ttyWkJCgwMBAzZs375H38/777+u1117L0NmQ+udD\n",
              "+fLlNWnSJGuPJEmKjIyUp6dnpu1/8eLFev311zNsf/YZtqdM1KNHD125ckWbN29Wnjx5ZBiG5s2b\n",
              "pytXrjzSwa5WrZpmz55tuT527FjNmDFDtWrVStMcSUlJD/xzXMuXL0/T/mBdERERklL+ow0MDLRc\n",
              "B+5l9uzZCgwMtFzv2rVrmveRmJioIkWKaP369Rk3GKwqLi5O06ZNU58+fTLtOezs7PTtt98qODhY\n",
              "zZo1k7e3tz788ENVqFBB7du3f6R93BmakfFu/3w4efKk/P39VbduXfn7+1t7rEzVqlUrtWrVKsP2\n",
              "Z/NnSI8dO6a5c+dqxowZypMnjyTJZDLp+eefl6urqxo0aKCqVauqQoUKGjBggJKTk+/aR3h4uOUX\n",
              "Sfv27XX8+HF17drV8h/yzJkz5e/vL39/fz3zzDM6e/aspJSzrA0aNNBzzz2nSpUqadu2bTKZTPrk\n",
              "k08UFBSkkiVLasaMGZbn8fHxsYSa0NBQVa9eXYGBgapevbo2b96ciUcJGem3335TcHCwqlatqqCg\n",
              "IIWFhUmSevXqpQEDBkiSrly5otKlS2vdunWSpGHDhlm+3vXq1bOcKb9165Y6duyo8uXLKyAgQE2b\n",
              "NrXOi0Kmun79urp3766KFSuqYsWK+uCDDyz3hYSEaNCgQapVq5aaNm1611mLxYsX66mnnpK/v79G\n",
              "jBiRar/3+76C7Xj//ff10Ucf6ebNm3fdFxMTo169eikoKEj+/v7q3bu34uPjdeTIEZUtW1aSZBiG\n",
              "vLy89J///EeStG7dOjVs2PCufZUqVUrvvfeeevTooR07dmjmzJmaOHGiduzYodq1a8vf319BQUHa\n",
              "uHGjpP8/O/bGG2+oSpUqmjhxYqr9HThwQBUrVtSvv/6a0YckR/P29la5cuW0Z8+ee37tpZSfCcOG\n",
              "DVPdunVVunRp9e3b1/L4rl27qk+fPmrUqJHKli2rdu3aWR63ZMkS+fv7KzAwUBUrVtQvv/yiHTt2\n",
              "yM/PT3cWJtWuXfuur+vHH39s+f0lpfzMyps3r/766y/t27dPwcHBqlKlisqXL6+RI0datnv//ffV\n",
              "sWNHPfvssypfvrwaNmyoK1euSEr9TvSFCxceKY89kGHjZs+ebfj7+9/zvlu3bhkxMTGGYRhGYmKi\n",
              "8cwzzxizZs0yDMMwZsyYYbRu3dowDMMICwszAgICLI/z9vY2du/ebRiGYezbt8/w8vIyzpw5YxiG\n",
              "YYwcOdJo3ry5ZR8uLi7GoUOHLI+VZIwZM8YwDMM4ePCgkTt3biMhIeGu/V66dMnymM2bNxvlypV7\n",
              "jKOAzHTixAnDw8PDMAzDOH78uFGzZk0jKirKMAzDOHr0qFGoUCEjNjbWuHXrlhEQEGDMmTPHaNmy\n",
              "pfHJJ59Y9nHn13vWrFlGs2bNDMMwjAULFhhNmza13Hf58uUn8IqQ0by9vY2yZcsaAQEBRkBAgLFg\n",
              "wQKjS5cuxhdffGEYhmGMGDHCePHFF42kpCTj+vXrRmBgoPHzzz8bhmEY9evXN5o1a2bEx8cbhpH6\n",
              "++3ixYtG3rx5jf379xuGYRhfffWVIck4ceKEYRj3/76Cbbj9M//ll182Ro4caRiGYVStWtUICwsz\n",
              "DMMwevXqZXz33XeGYRhGcnKy0aNHD+Ozzz4zDMMwSpQoYZw8edKIiIgwatasaQQFBRmGYRhvv/22\n",
              "8fHHH9/3OZs3b254enoav/76qxEXF2cUL17cWLFihWEYhrF+/XrDy8vLiImJMU6cOGFIsjy/YRjG\n",
              "e++9ZwwePNgICwsznnrqKWPnzp0Zfkxyojt/9+/du9dwc3MzQkJC7vu1r1+/vtGmTRsjISHBuHnz\n",
              "puHj42Ns2rTJMAzD6NKlixEUFGTcuHHDSExMNGrXrm389NNPhmEYhr+/v2W7pKQk4+rVq4ZhGEbt\n",
              "2rWN3377zTAMw9i1a5fh6+trJCcnp/pZc+rUKaNAgQJGbGysYRiGMX36dKNdu3aGYRhGdHS05fab\n",
              "N28agYGBxubNmw3DSPme8fb2Nv7++2/DMAyjY8eOlt99d+asB+WxR2XzZ0gfJDk5WW+88YYCAgJU\n",
              "uXJl7dixI81vu4aFhal58+YqWrSoJKl///5as2aNkpKSJKX8n0a5cuVSPeall16SJPn5+cne3l4X\n",
              "Lly4a7+7d+9W/fr1VbFiRfXt21eHDx/WrVu30vEq8SStWLFCx44dU7169RQYGKj27dvLzs5Op06d\n",
              "krOzs+bOnauePXsqISFBb775puVxK1euVK1atVSxYkV9+OGHlu/DgIAAHTx4UP3799fs2bPl4OBg\n",
              "pVeGxzV79mxFREQoIiJCbdu2TXXfqlWr1KtXL9nZ2SlXrlx65ZVXtHLlSsv9L7/88j2/9lu2bJG/\n",
              "v7/Kly8vKWV5kqOjo+X++31fwbZ89NFHGjdu3F2fSVi0aJFGjx6twMBAVa5cWevXr9exY8ckSY0a\n",
              "NdKqVau0atUqde7cWXFxcbp27ZpWrVqlRo0a3fe5hg0bpmLFiql58+Y6fPiw7Ozs1KxZM0lScHCw\n",
              "vLy8LN8nDg4Oevnll1M9fs2aNerbt69WrFihKlWqZOBRyNk6duyowMBA9enTR9OnT9f+/fvv+7W/\n",
              "vb29vb1cXFwUGBio48ePW+5r27atXF1dZTabFRQUZLmvUaNGGjx4sD777DPt3bvX8k7L4MGDLWfA\n",
              "J02apP79+8tkMqWar3jx4qpcubIWL14sKeXsZrdu3SSlvJPXs2dPVapUSTVr1tTJkydT/axp3ry5\n",
              "8uXLJ0mqVatWqllvy4g8ZvNrSKtUqaKjR4/q8uXLlgNyW2hoqC5duqStW7fK2dlZQ4YMUWxs7GM9\n",
              "37+/iLlz575rG2dnZ8u/m83mu9bmxMfHq127dgoLC1P16tUVHR0tDw8PxcXFycXF5bHmQ+YyDENN\n",
              "mjTRTz/9dM/7Dx8+rFy5cunSpUuKj4+Xk5OTTp06pQEDBmj79u0qXbq09u7dq3r16klKeZvtwIED\n",
              "WrNmjVatWqURI0YoIiLCsvwE2dOj/Bx52OMe9H0F2+Lj46MXX3wx1VudUsrPk/nz51venr9T48aN\n",
              "tXTpUl29elXjxo3T0aNHtXDhQh09elTVqlW773OZzeYHfpbhzu8hV1dX2dmlPu/k6+urQ4cOacuW\n",
              "LSpRosSjvkQ8xL/XmPfr1+++X3vpwTnifveFhoZq//79CgsLU5cuXfTSSy9pxIgRateunUaMGKHd\n",
              "u3dr8eLFGjNmzD2fs3v37poxY4aqVq2qY8eOqXnz5pKk//znP8qfP792794te3t7tWvXLlWWeljm\n",
              "uT3b4+Yxmz9D6uvrq+eee049evSwfKr+9n/kO3fuVKFCheTs7KwLFy5o7ty5ad5/gwYNtGLFCp07\n",
              "d06SNGXKFDVq1OiB/8E/TGxsrOLj4y3/sU+YMCHd+8KT1axZM61atUp79+613LZt2zZJKQGhf//+\n",
              "WrVqlWrWrGn5tGpUVJQcHBxUuHBhGYaRaq3WmTNnZDKZ1KpVK40ZM0aGYej06dNP9DUh8zVu3FjT\n",
              "pk2TYRi6ceOGZs6c+UjrhWvVqqW9e/fq0KFDkqTp06db1os96PsKtuftt9/WDz/8YPldIklt2rTR\n",
              "p59+avkFfvXq1VRnSFevXq3IyEiVLVtWjRs31gcffKDg4OBH/v1Trlw5JScnW87Gb9q0SRcuXEgV\n",
              "jP6tRIkSWr16tUaOHJnqMxDIWA/62qfXoUOHLOsz+/Xrpy1btkiS7O3t1bdvX7Vq1Upt27a974e9\n",
              "27Rpo+3bt2vUqFF6+eWXZW9vb5mtWLFisre31+HDh1O9u/Oorl69+th5zOYDqZTyQzogIEA1atRQ\n",
              "hQoVVL58ef3+++8aN26ctm7dqgoVKqhz585q3LhxmvddsWJFjR49Ws2bN5e/v7/Wr1+vb7755rHm\n",
              "dXd318iRIxUUFKSqVaumegsOts3X11c//fST+vTpo4CAAD311FMaO3asEhMT1alTJ3300UcqX768\n",
              "vvjiC23btk2zZ89WpUqV1KlTJ1WoUEHVq1dPddZh3759qlOnjuVtjM6dO2f7T17mRO+8844cHBxU\n",
              "qVIl1ahRQ61atVKHDh0e+rgCBQpo+vTpatu2rQICAnT06FHLO0EP+r6C7cmfP78GDRqk8+fPW277\n",
              "4osvLG/J+vv7q1GjRpZKLy8vL3l5eVnaXurXr69z58498O36f3N0dNSCBQv03nvvyd/fX6+99prm\n",
              "zZv30DPyhQsX1po1azRp0iSNHz8+7S8WD/Wgr316/ec//1GFChVUuXJlzZw5U++//77lvh49eujs\n",
              "2bOpPrj0b05OTurQoYOmTp1qebteSvmfqRkzZsjf319vvvnmPT9U9zCDBw9+7DzG37IHAADIwubN\n",
              "m6cvv/xSq1evtvYo6Wbza0gBAABwb82bN9eRI0e0cOFCa4/yWDhDCgAAAKvKEmtIAQAAkH0RSAEA\n",
              "AGBVBFIAAABYFYEUAAAAVkUgBQAAgFURSAEAAGBVBFIAAABYFYEUAAAAVkUgBQAAgFX9HxfkzGdx\n",
              "Fh8iAAAAAElFTkSuQmCC\n",
              "\">\n",
              "      </div>\n",
              "      <script type=\"text/javascript\">\n",
              "        (() => {\n",
              "          const chartElement = document.getElementById(\"chart-60d3acd5-5f3f-45a4-bdd2-9ef83f118213\");\n",
              "          async function getCodeForChartHandler(event) {\n",
              "            const chartCodeResponse =  await google.colab.kernel.invokeFunction(\n",
              "                'getCodeForChart', [\"chart-60d3acd5-5f3f-45a4-bdd2-9ef83f118213\"], {});\n",
              "            const responseJson = chartCodeResponse.data['application/json'];\n",
              "            await google.colab.notebook.addCell(responseJson.code, 'code');\n",
              "          }\n",
              "          chartElement.onclick = getCodeForChartHandler;\n",
              "        })();\n",
              "      </script>\n",
              "      <style>\n",
              "        .colab-quickchart-chart-with-code  {\n",
              "            display: block;\n",
              "            float: left;\n",
              "            border: 1px solid transparent;\n",
              "        }\n",
              "\n",
              "        .colab-quickchart-chart-with-code:hover {\n",
              "            cursor: pointer;\n",
              "            border: 1px solid #aaa;\n",
              "        }\n",
              "      </style>"
            ]
          },
          "metadata": {}
        },
        {
          "output_type": "display_data",
          "data": {
            "text/plain": [
              "from matplotlib import pyplot as plt\n",
              "states['area'].plot(kind='line', figsize=(8, 4), title='area')\n",
              "plt.gca().spines[['top', 'right']].set_visible(False)"
            ],
            "text/html": [
              "      <div class=\"colab-quickchart-chart-with-code\" id=\"chart-74d510b2-9213-4f2b-b4ff-d266c5a703c6\">\n",
              "        <img style=\"width: 180px;\" src=\"data:image/png;base64,iVBORw0KGgoAAAANSUhEUgAAArwAAAFuCAYAAABjpMv6AAAAOXRFWHRTb2Z0d2FyZQBNYXRwbG90\n",
              "bGliIHZlcnNpb24zLjcuMSwgaHR0cHM6Ly9tYXRwbG90bGliLm9yZy/bCgiHAAAACXBIWXMAAA9h\n",
              "AAAPYQGoP6dpAABIzElEQVR4nO3deVhU9eI/8PeZGRgWGRCQRWVR2VQEXEAw1ywluy2WZrfcygXz\n",
              "13a9Xrdbt7qZ3Mosu3VTS6m0xbVu91suuWuiuGsmm8qmIrLvwyyf3x/oJIoGCHNg5v16nnkenc/M\n",
              "mfc5jMPbM+ecjySEECAiIiIislAKuQMQEREREbUkFl4iIiIismgsvERERERk0Vh4iYiIiMiisfAS\n",
              "ERERkUVj4SUiIiIii8bCS0REREQWjYWXiIiIiCwaCy8RERERWTQWXiIiIiKyaCy8RERERGTRWHiJ\n",
              "iNq4mpoauSMQEbVqLLxERK3Qxx9/jNDQUGg0Gnh5eWHChAnIz88HALz++usYOHAgXn31VXTs2BER\n",
              "EREAgOTkZPzpT3+Cp6cnOnXqhJkzZ6KiosK0zH/84x8ICgqCk5MTfHx88MILL6CyslKO1SMiMisW\n",
              "XiKiVsjLywubNm1CcXExDh06hNTUVLzwwgum8YMHD8LGxgbnz5/HkSNHkJ+fj0GDBmH48OHIysrC\n",
              "yZMnkZqaipdfftn0nMDAQGzfvh2lpaXYsmULNm/ejDfffFOGtSMiMi9JCCHkDkFERHf23XffYerU\n",
              "qSgoKMDrr7+OTz/9FDk5OZAkCQCwZMkSrF+/HomJiabn/PLLL7j33ntRWVkJpVJ5yzLff/99rFmz\n",
              "BkePHjXbehARyUEldwAiIrrVpk2bsHjxYqSnp6O6uhpGoxEVFRUwGAwAAD8/P1PZBYC0tDQcPXoU\n",
              "Li4upvuEEJAkCbm5uejUqROWL1+O5cuXIzMzE3q9HjqdDm5ubuZeNSIis+MhDURErUxOTg7Gjh2L\n",
              "F154AVlZWSgtLcXq1asB1JZYAFAo6n58e3l5YeDAgSguLjbdSkpKUF1djU6dOiExMRHPP/883nvv\n",
              "PeTm5qKkpARvvfUW+CUfEVkDFl4iolamvLwcRqMR7u7usLOzQ1paGuLj4+/4nGeeeQbHjx/Hf/7z\n",
              "H1RWVkIIgezsbHz//fcAgJKSEiiVSnTo0AE2NjY4duwYPvroIzOsDRGR/Fh4iYhamZCQEMTHx2Pi\n",
              "xIlwcnLCpEmTMH78+Ds+x9fXF4mJifj555/RrVs3uLi4YOTIkTh9+jQAYMSIEZgxYwaGDh0KZ2dn\n",
              "LFiwAJMmTTLH6hARyY4nrRERERGRReMeXiIiIiKyaCy8RERERGTRWHiJiIiIyKKx8BIRERGRRWPh\n",
              "JSIiIiKLxsJLRERERBaNhZeIiIiILJrVFt6lS5fKHYGIiIiIzMBqC29mZqbcEYiIiIjIDKy28BIR\n",
              "ERGRdWDhJSIiIiKLxsJLRERERBaNhZeIiIiILBoLLxERERFZNBZeIiIiIrJojSq8BQUFiIiIMN2C\n",
              "goKgUqlQWFiIvLw8xMbGIjAwEKGhodi7d6/peeYeIyIiIiK6TtWYB7u5ueHEiROmvy9evBh79uyB\n",
              "q6srnn32WURHR2PLli04fPgwRo8ejQsXLsDGxgbz5s0z6xgRERER0XV3dUjDypUrMWXKFADAunXr\n",
              "MGPGDABAZGQkOnbsiD179sgyRkRERER0XaP28N7owIEDKCoqwp/+9CcUFBRAp9PBy8vLNO7v74+s\n",
              "rCyzj9VHq9VCq9XWuc9gMDR11YmIiIioDWnyHt6VK1di4sSJUKma3JnNJj4+Hs7OznVuSUlJcsci\n",
              "IiIiIjNoUuEtLy/HunXr8OyzzwKoPbZXpVIhNzfX9JiMjAz4+vqafaw+8+fPR0lJSZ1bVFRUU1ad\n",
              "qMVV1ujx5v/9huV7zskdhYiIyCI0qfCuXbsW4eHhCAkJMd03duxYLFu2DABw+PBhXLx4EUOGDJFl\n",
              "7GZqtRoajabOTalUNmXViVpUSZUOE1YmYeX+C4jfnIwD5/LljkRERNTmNel4hJUrV2LatGl17nv7\n",
              "7bcxYcIEBAYGwtbWFmvWrDFdMcHcY0RtUX65FhNXJuG3y6Wm+xb9dBY//L+BUCgkGZMRERG1bZIQ\n",
              "QsgdQg6zZs3CkiVL5I5BBAC4WFyFCZ8dwvn8Cri3U+ODcRGYseYoyrV6fDAuAo/27iR3RCIiojaL\n",
              "M60Ryezc1XKM/eQAzudXoJOLPdbPiMHAQHc8N7QbAODdrSmo1vGqIkRERE3FwkskozOXSvDEskRc\n",
              "KqlG1w6OWD8jBl3cHQEAz97TBV4aO1wsrsLnBzLkDUpERNSGsfASyeRIRiGeXHEQBRU1CO2kwfq4\n",
              "GHR0sTeN29sqMXtkMADg413pKKyokSsqERFRm8bCSySDPalXMX7lIZRV6xHl74qvp0XDrZ36lseN\n",
              "7t0J3b01KKvW48MdaTIkJSIiavtYeInM7KfTlzH1i8Oo1hkxNLgDvng2Chq7+q8wolRIWDCq9vJ/\n",
              "aw5mIiO/wpxRiYiILAILL5EZrTucjee/PgadQeDBMG+smNAP9rZ3vib0oMAOGBLUAXqjwDtbk82U\n",
              "lIiIyHKw8BKZyWf7zmPOxlMwCuDJSB98+GRv2Koa9k9w/qgQKCTgp9O5OJpZ2MJJiYiILAsLL1EL\n",
              "E0Jgyc+pWPjjWQDA9MFdEf9YLygbMZlEiJcGY/p2BgC89eNZWOnls4mIiJqEhZeoBRmNAm/87zfT\n",
              "CWd/GxmM+Q+EQJIaP3ParPuDYW+jxLGsYmz5Nbe5oxIREVksFl6iFqI3GDF7w0nTNXT/+UhP/L9h\n",
              "AU0quwDg5WyHaYO6AAD+tSUZNXpjc0UlIiKyaCy8RC1Aqzdg5lfHsOnYRSgVEt4fF46JMf53vdzp\n",
              "Q7rBvZ0tMgsq8dWhzLsPSkREZAVYeImaWYVWjymfH8G2367AVqnAJ0/3wejenZtl2e3UKvzl/iAA\n",
              "wIc70lBSpWuW5RIREVkyFl6iZlRSqcP4lYewPz0fDrZKfP5MJEb09GrW1xjXzwcBHu1QVKnDf3an\n",
              "N+uyiYiILBELL1EzySurxrgViTieVQxnext8NbU/BgS4N/vrqJQKzIutnYwi4ZcM5BRVNvtrEBER\n",
              "WRIWXqJmkFNUiSeWJSI5twwdnNRYFxeD3r7tW+z1hnf3QHRXV9TojXhvW2qLvQ4REZElYOElukvp\n",
              "eWUY80kiMgoq0bm9PTbMiEGwl1OLvqYkSfj7qB4AgO+OX8TpnJIWfT0iIqK2jIWX6C78erEETyw/\n",
              "iNzSagR4tMOGGQPg5+Zoltfu1dkZj0R0BAAs+omTURAREd0OCy9REyVdKMSfVxxEYUUNwjo7Y11c\n",
              "DLyc7cyaYfaIYNiqFEg8X4BdKXlmfW0iIqK2goWXqAl2JedhwspDKNPq0b+LK76a2h+ujrZmz+Hj\n",
              "6oBnBvgDABb9lAy9gZNREBER3YyFl6iR/nfyEqZ9eQRavRH3hnjgi2ej4GRnI1uemcMC4OJgg/S8\n",
              "cqw7kiNbDiIiotaKhZeoEb5JysKL3x6H3ijwcHhHLJ/QF3Y2SlkzOdvb4MV7AwEAS35ORYVWL2se\n",
              "IiKi1oaFl6iBVuw9h/mbTkMI4On+vnh/XARslK3jn9D4aD/4uTkgv1yL5XvPyx2HiIioVWkdv62J\n",
              "WjEhBN7dmoxFPyUDAJ4b2g0LHw2FUiHJnOx3tioF5oysnYzi073ncaW0WuZERERErQcLL9EdGI0C\n",
              "//jvGXy86xwAYE5sMObGhkCSWk/ZvW5ULy/09nVBlc6AJZyMgoiIyISFl+g2dAYj/rr+JFYfzIQk\n",
              "AQsfDcXMoQFyx7otSZLwyoPdAQDrj2YjJbdM5kREREStAwsvUT2qdQY8t+YYvjt+EUqFhA/GRWB8\n",
              "tJ/csf5QXz9XxPb0glEA8ZvPyh2HiIioVWDhJbpJuVaPZxIOY/vZK1CrFFgxoS8eiegkd6wGm/tA\n",
              "CFQKCbtTrmJ/Wr7ccYiIiGTHwkt0g+LKGjz92SEkni+Ao60Snz8TheHdPeWO1Shd3B1Ne6MX/XQW\n",
              "RiOnHCYiIuvGwkt0zZXSajyxPBEns4vh4mCDr6dFI6abm9yxmuTF4YFwUqvw2+VSfHf8otxxiIiI\n",
              "ZMXCSwQgu7ASY5clIvVKOTw1aqyLi0G4j4vcsZrM1dEWM4fVnmC3eFsKqnUGmRMRERHJh4WXrF7a\n",
              "lTKMWXYAWYWV8HV1wIYZAxDk6SR3rLv2zD3+6Ohsh8sl1Vi5/4LccYiIiGTDwktW7VROMZ5Ynogr\n",
              "pVoEebbDhhkx8HF1kDtWs7CzUWL2yGAAwCe7z6GgXCtzIiIiInmw8JLVSjxXgKc+PYSiSh3CfVyw\n",
              "dnoMPDR2csdqVo9GdELPjhqUa/VYuiNN7jhERESyYOElq7Tj7BVMSkhCuVaPAd3c8NXU/mjvaCt3\n",
              "rGanUEj4+6jaySi+PpSF81fLZU5ERERkfiy8ZHX+e+Ii4lYfRY3eiPu6e2LV5Ei0U6vkjtViBgS4\n",
              "494QD+iNAm9vSZY7DhERkdmx8JJVWXMwEy+vPQG9UeDRiI74ZHwf2Nko5Y7V4uY/EAKFBGw9cwVJ\n",
              "FwrljkNERGRWLLxkNf6zOx2vfP8rhAAmxvhhyRMRsFFaxz+BQE8njIv0AVA7GYUQnIyCiIish3X8\n",
              "tierJoTAvzYn450tKQCA54cF4I2He0KhkGROZl5/uS8IDrZKnMguxo+nL8sdh4iIyGxYeMmiGYwC\n",
              "r3z/K5btOQeg9qv92SODIUnWVXYBwENjh+mDuwIA3t6SDK2ek1EQEZF1YOEli6UzGPGXtSfw1aEs\n",
              "SBIQ/1gvxA3pJncsWU0b1BUdnNTILqzC6sRMueMQERGZRaMLr1arxfPPP4/AwED06tUL48ePBwCk\n",
              "paVhwIABCAoKQmRkJM6cOWN6jrnHiKp1BsStPoofTl6CSiHhwyd7489RvnLHkp2jWoW/3h8EAPj3\n",
              "znSUVOpkTkRERNTyGl14582bB0mSkJqaitOnT2Px4sUAgLi4OEyfPh2pqamYO3cuJk+ebHqOucfI\n",
              "upVV6zBpVRJ2JudBrVLg04n98FB4R7ljtRpj+/kgyLMdSqp0+GgXJ6MgIiLLJ4lGnK5dUVEBb29v\n",
              "5OTkQKPRmO7Py8tDQEAACgsLoVKpIISAt7c39u/fD41GY9axgICABq3LrFmzsGTJksZvMWrVCitq\n",
              "MDkhCadySuCkVmHl5EhEdXGVO1arsys5D898fhi2SgV2/HWIxUynTEREVJ9G7eE9d+4cXF1dsWjR\n",
              "IvTr1w+DBg3Cjh07kJ2dDW9vb6hUtRfvlyQJvr6+yMrKMvtYfbRaLUpLS+vcDAaesGNpckuq8cTy\n",
              "RJzKKYGroy2+mR7NsnsbQ4M74J4AN9QYjHh3a4rccYiIiFpUowqvXq9HZmYmevTogSNHjuDDDz/E\n",
              "uHHjoNfrWypfs4iPj4ezs3OdW1JSktyxqBllFlRgzLIDSM8rh5fGDuviYhDayVnuWK2WJEmY/0B3\n",
              "SBLww8lLOJldLHckIiKiFtOowuvr6wuFQoGnn34aANC7d2906dIFmZmZuHz5sqn4CiGQlZUFX19f\n",
              "+Pj4mHWsPvPnz0dJSUmdW1RUVBM2F7VGKbllGLMsETlFVfB3c8D6GTEI8Ggnd6xWL7STM0ZHdAIA\n",
              "vMXJKIiIyII1qvC6u7tj+PDh2Lp1KwDgwoULuHDhAu655x706dMHa9asAQBs3LgRnTt3RkBAADw8\n",
              "PMw6Vh+1Wg2NRlPnplRa/nSy1uB4VhGeWJ6Iq2VahHg5Yd2MGB6P2gh/HRkMtUqBpAuF2H42T+44\n",
              "RERELaJRJ60BwPnz5zFlyhTk5+dDoVDgH//4Bx5//HGkpKRg8uTJKCgogEajQUJCAnr16gUAZh9r\n",
              "CJ601vYdSM/H1C+PoLLGgN6+Lvh8chScHWzkjtXmvL0lGZ/sPoeuHRyx9eXBVjPdMhERWY9GF15L\n",
              "wcLbtm07k4vnvzmOGr0R9wS4YcWEfnBUq+SO1SaVVusw9N3dKKyowZuPhmJCtJ/ckYiIiJoVd+VQ\n",
              "m7PpWA6e++oYavRGjOzpiVWTI1l274LGzgYvDQ8EACzdnoqyak5GQUREloWFl9qULxMzMGvdSRiM\n",
              "Ao/36YyPn+oDtYrHY9+tp/r7oou7I/LLa7B8z3m54xARETUrFl5qE4QQ+GhnGv7x39oppCcP8Me7\n",
              "Y8Kg4vGmzcJGqcDc2GAAwGf7z+NySZXMiYiIiJoP2wK1ekIIxG9OxuJtqQCAF4cH4rWHekChkGRO\n",
              "ZllG9vRCP7/2qNYZ8d61bU1ERGQJWHipVTMYBeZvOo0Ve2u/Zn/lwe6YdX8QJIllt7lJkoQFD3YH\n",
              "AGw8loPfLpXKnIiIiKh5sPBSq1WjN+LFb4/j28PZUEjAO4+HYeqgrnLHsmh9fNvjwV7eEAKI33xW\n",
              "7jhERETNgoWXWqWqGgOmrz6CH09dho1SwkdP9cETkT5yx7IKc2KDYaOUsC8tH3tSr8odh4iI6K6x\n",
              "8FKrU1qtw8RVh7A75SrsbBT4bFIkRvXyljuW1fBzc8SEaH8AQPxPZ2EwWuWluomIyIKw8FKrUlCu\n",
              "xZ9XHMThjCI42amwZkp/DAnqIHcsq/PCvQFwslMhObcMG4/lyB2HiIjorrDwUqtxqbgKTyxPxJlL\n",
              "pXBztMW306PRz99V7lhWqb2jLV64NwAA8N62FFTW6GVORERE1HQsvNQqXMivwNhliTh3tQIdne2w\n",
              "bkYMenZ0ljuWVZsY449OLva4UqrFyn0X5I5DRETUZCy8JLuzl0sxdlkiLhZXoau7I9Y/NwDdOrST\n",
              "O5bVs7NRYs61ySiW7TmHq2VamRMRERE1DQsvyepoZhHGLU9EfrkW3b01WBsXg04u9nLHomseCuuI\n",
              "sM7OqKgx4IPtnIyCiIjaJhZeks2+tKsY/9khlFbr0c+vPb6dHo0OTmq5Y9ENFAoJC0bVTkbx7eFs\n",
              "pOeVy5yIiIio8Vh4SRZbfs3FlM+PoEpnwKBAd3w5JQrO9jZyx6J6RHd1w33dPWEwCvxrc7LccYiI\n",
              "iBqNhZfMbsPRHMz86ihqDEY8EOqFzyb1g4OtSu5YdAfzHgiBUiFh+9krOHi+QO44REREjcLCS2aV\n",
              "8MsFzF5/EkYBjO3bGf/+c2+oVUq5Y9EfCPBohyevzXS36KezMHIyCiIiakNYeMkshBBYuj0Nb/zv\n",
              "NwDAlIFd8PbjYVAp+RZsK16+LwiOtkqcyinB/05dkjsOERFRg7FtUIsTQmDhj2fx/rWz/GfdH4RX\n",
              "HuwOhUKSORk1RgcnNWYM6QYAeGdLCqp1BpkTERERNQwLL7UovcGIORtOYeX+2okLXnuoB14cHghJ\n",
              "Ytlti6YO6gpPjRoXi6vwZWKG3HGIiIgahIWXWoxWb8AL3xzH+qM5UEjA4rHheOaeLnLHortgb6vE\n",
              "X0fUTkbx0c50FFXUyJyIiIjoj7HwUouorNFj6hdHsPnXXNgqFfjP030xpm9nuWNRM3i8T2eEeDmh\n",
              "tFqPf+9MlzsOERHRH2LhpWZXUqXDhJVJ2JeWD3sbJVZNjkRsqJfcsaiZKBUS5l+bjGL1wQxkFlTI\n",
              "nIiIiOjOWHipWV0t0+LJFQdxNLMIGjsV1kztj4GB7nLHomY2JKgDBgW6Q2cQeGdritxxiIiI7oiF\n",
              "l5rNxeIqPLE8EWcvl8K9nRpr42LQ16+93LGohSwY1R2SBPx46jKOZRXJHYeIiOi2WHipWZy7Wo6x\n",
              "nxzAhfwKdHKxx/oZMejurZE7FrWg7t4aPN6n9rjsRT+ehRCcjIKIiFonFl66a79eLMETyxJxqaQa\n",
              "XTs4Yv2MGHRxd5Q7FpnBX0cEwc5GgSOZRdh65orccYiIiOrFwkt35UhGIf786UEUVNQgtJMG6+Ni\n",
              "0NHFXu5YZCbezvaYOrArAODtLcnQGYwyJyIiIroVCy812Z7Uqxi/8hDKqvWI8nfF19Oi4dZOLXcs\n",
              "MrO4IV3h5miLC/kV+PpQltxxiIiIbsHCS03y0+nLmPrFYVTrjBga3AFfPBsFjZ2N3LFIBk52Nnj5\n",
              "/iAAwAfbU1FarZM5ERERUV0svNRo6w5n4/mvj0FnEHgwzBsrJvSDva1S7lgkoycjfdC1gyOKKnX4\n",
              "ZPc5ueMQERHVwcJLjfLZvvOYs/EUjAL4c5QPPnyyN2xVfBtZOxulAvNiQwAAq/ZfwMXiKpkTERER\n",
              "/Y5NhRpECIEl21Kw8MezAIDpg7ti0eheUCokmZNRa3F/D09EdXGFVm/Ee5yMgoiIWhEWXvpDRqPA\n",
              "G//7DR/uTAcA/G1kMOY/EAJJYtml30mShL9fm3L4uxMX8evFEpkTERER1WLhpTvSG4yYveEkPj+Q\n",
              "AQB485Ge+H/DAlh2qV7hPi54KLwjhAAW/cTJKIiIqHVg4aXb0uoNmPnVMWw6dhFKhYT3x4VjQoy/\n",
              "3LGolZszMhi2SgUOnCvA7pSrcschIiJi4aX6VWj1mPL5EWz77QpslQp88nQfjO7dWe5Y1Ab4uDpg\n",
              "0gA/AED85rPQczIKIiKSGQsv3aK4sgbjVx7C/vR8ONgq8fkzkRjR00vuWNSGPD8sEM72Nki9Uo4N\n",
              "R3PkjkNERFaOhZfqyCurxpMrDuJ4VjGc7W3w1dT+GBDgLncsamOcHWzwwr0BAID3fk5FhVYvcyIi\n",
              "IrJmjS68/v7+CA4ORkREBCIiIrB27VoAQFpaGgYMGICgoCBERkbizJkzpueYe4yaJruwEk8sS0Ry\n",
              "bhk6OKmxLi4GvX3byx2L2qgJMX7wcbXH1TItPt13Xu44RERkxZq0h3ft2rU4ceIETpw4gXHjxgEA\n",
              "4uLiMH36dKSmpmLu3LmYPHmy6fHmHqPGS88rw9hlicgoqISPqz02zIhBsJeT3LGoDVOrlJgzsnYy\n",
              "ihV7zyOvtFrmREREZK0k0cjrBvn7++P7779HRESE6b68vDwEBASgsLAQKpUKQgh4e3tj//790Gg0\n",
              "Zh0LCAho0HrMmjULS5YsadTGslS/XizBxFVJKKyoQaBHO6ye0h9eznZyxyILIITA6P8cwInsYvw5\n",
              "ygfxj4XJHYmIiKxQk/bwTpw4Eb169cKUKVNw9epVZGdnw9vbGyqVCkDtBeh9fX2RlZVl9rH6aLVa\n",
              "lJaW1rkZDIamrLrFOXS+AH9ecRCFFTUI6+yMtXExLLvUbCRJwt8frJ2MYu3hbKReKZM5ERERWaNG\n",
              "F969e/fi1KlTOHbsGNzd3TFp0qSWyNWs4uPj4ezsXOeWlJQkdyzZ7UrOw8RVSSjT6tG/iyu+mtof\n",
              "ro62csciCxPp74oRPTxhFMC/NifLHYeIiKxQowuvr68vAMDGxgYvv/wy9u3bBx8fH1y+fBl6fe2Z\n",
              "2EIIZGVlwdfX1+xj9Zk/fz5KSkrq3KKiohq76hblfycvYdqXR6DVGzE8xANfPBsFJzsbuWORhZr3\n",
              "QAhUCgk7k/NwID1f7jhERGRlGlV4KyoqUFxcbPr7N998g969e8PDwwN9+vTBmjVrAAAbN25E586d\n",
              "ERAQYPax+qjVamg0mjo3pVLZuC1lQb5JysKL3x6H3ijwcHhHLJvQF3Y21rs9qOV17dAOT/Wv/Q/p\n",
              "Wz+dhdHIKYeJiMh8GnXS2vnz5/H444/DYDBACIGuXbti6dKl8Pf3R0pKCiZPnoyCggJoNBokJCSg\n",
              "V69eAGD2sYaw1pPWlu85h/hrXys/3d8X/3wkFEqFJHMqsgYF5VoMeXc3yrV6vD8unDP3ERGR2TT6\n",
              "Kg2WwtoKrxACi7el4ONd5wAAzw3thjkjgyFJLLtkPh/vSse7W1PQ0dkOO2cP5TcLRERkFpxpzQoY\n",
              "jQL/+O8ZU9mdExuMubEhLLtkdlMGdoG3sx0ulVQj4ZcMueMQEZGVYOG1cDqDEX9dfxKrD2ZCkoCF\n",
              "j4Zi5tCGXauYqLnZ2Sgxe0QwAOA/u9JRWFEjcyIiIrIGLLwWrFpnwHNrjuG74xehUkj4YFwExkf7\n",
              "yR2LrNzo3p3Qw1uDMq0eH+5IkzsOERFZARZeC1Wu1eOZhMPYfvYK1CoFlk/oi0ciOskdiwgKhYQF\n",
              "o2ono1hzMBMX8itkTkRERJaOhdcCFVXU4OnPDiHxfAEcbZX4/JkoDO/uKXcsIpOBge4YGtwBeqPA\n",
              "O1s4GQUREbUsFl4Lc6W0GuNWJOJkdjHaO9jgm+nRiOnmJncsolvMf6A7FBKw+ddcHMkolDsOERFZ\n",
              "MBZeC5JdWImxyxKReqUcnho11sXFIKyzi9yxiOoV7OWEsX19AACLfjoLK71CIhERmQELr4VIvVKG\n",
              "xz85gKzCSvi6OmDDjAEI9HSSOxbRHc0aEQR7GyWOZRVj86+5cschIiILxcJrAU5mF+OJ5YnIK9Mi\n",
              "2NMJG2bEwMfVQe5YRH/IU2OHaYO7AgDe3pKMGr1R5kRERGSJWHjbuMRzBXjq04MortQh3McFa+Oi\n",
              "4aGxkzsWUYPFDe4K93ZqZBZUYs3BTLnjEBGRBWLhbcN2nL2CSQlJqKgxYEA3N3w1tT9cHGzljkXU\n",
              "KI5qFWbdHwQA+HBnGkqqdDInIiIiS8PC20b998RFxK0+ihq9Efd198SqyZFop1bJHYuoSZ7o1xkB\n",
              "Hu1QXKnDf3alyx2HiIgsDAtvG7T6YCZeXnsCeqPA6N6d8Mn4PrCzUcodi6jJVEoF5j8QAgBIOJCB\n",
              "7MJKmRMREZElYeFtY/6zOx2vfv8rhAAmxvjhvbHhsFHyx0ht370hHojp6oYavRGLt6XIHYeIiCwI\n",
              "m1IbIYTAvzYn450ttUXg+WEBeOPhnlAoJJmTETUPSfp9yuH/nriEUznF8gYiIiKLwcLbBhiMAn//\n",
              "/lcs23MOALBgVAhmjwyGJLHskmXp1dkZj0Z0BMDJKIiIqPmw8LZyOoMRf1l7Al8fyoIkAfGP9cL0\n",
              "wd3kjkXUYmaPDIatSoGD5wux42ye3HGIiMgCsPC2YtU6A+JWH8UPJy9BpZDw4ZO98ecoX7ljEbWo\n",
              "zu0d8Mw9/gCA+M1noTdwMgoiIro7LLytVFm1DhNXJWFnch7sbBT4dFI/PBTeUe5YRGYxc2gA2jvY\n",
              "4NzVCqw9ki13HCIiauNYeFuhwooaPPXpISRdKISTWoUvn+2PYcEecsciMhtnexu8ODwQAPD+z6ko\n",
              "1+plTkRERG0ZC28rk1tSjSeWJ+L0xRK4Otrim+nRiOriKncsIrN7ur8f/N0ckF9egxXXTtgkIiJq\n",
              "ChbeViSzoAJjlh1Ael45vDR2WBcXg9BOznLHIpKFrUqBObG1k1Gs2HceuSXVMiciIqK2ioW3lUjO\n",
              "LcWYZYnIKaqCv5sD1s+IQYBHO7ljEcnqgVAv9PF1QbXOiCU/czIKIiJqGhbeVuB4VhHGLT+Iq2Va\n",
              "hHg5Yd2MGPi4Osgdi0h2kiTh7w/WTkax/mgOknNLZU5ERERtEQuvzH5Jz8fTnx1CSZUOvX1dsHZ6\n",
              "DDyc7OSORdRq9PVzxQOhXhACiP8pWe44RETUBrHwymjbmVw8k3AYlTUGDAxwx5op/eHsYCN3LKJW\n",
              "Z25sCFQKCXtSr2Jf2lW54xARURvDwiuTTcdy8NxXx1BjMGJkT0+snNwPjmqV3LGIWiV/d0eMj/YD\n",
              "ACz6KRkGI6ccJiKihmPhlcEXBzIwa91JGIwCj/fpjI+f6gO1Sil3LKJW7cXhgXCyU+Hs5VJ8d/yi\n",
              "3HGIiKgNYeE1IyEEPtqZhtd+OAMAmDzAH++OCYNKyR8D0R9xdbTF/xsWAABYvDUFVTUGmRMREVFb\n",
              "waZlJkIIxG9OxuJtqQCAl4YH4rWHekChkGRORtR2TB7gj04u9sgtrcaqXy7IHYeIiNoIFl4zMBgF\n",
              "5m86jRV7zwMAXnmwO/5yfxAkiWWXqDHsbJT428hgAMAnu88hv1wrcyIiImoLWHhbWI3eiBe/PY5v\n",
              "D2dDIQHvPB6GqYO6yh2LqM16OLwjQjtpUK7VY+n2NLnjEBFRG8DC28LO55dj59k82CglfPRUHzwR\n",
              "6SN3JKI2TaGQsGBU7WQUXydl4dzVcpkTERFRa8fC28JCvDRYMbEvPpsUiVG9vOWOQ2QRBnRzx/AQ\n",
              "DxiMAm9v5mQURER0Zyy8ZjAosAOGBHWQOwaRRZn3QAgUErDttytIulAodxwiImrFWHiJqE0K9HTC\n",
              "uEhfAMBbP/4GIyejICKi22DhJaI26y/3B8LBVomTOSX4v9OX5Y5DREStFAsvEbVZHk52iBvcDQDw\n",
              "zpZkaPWcjIKIiG7FwktEbdq0wV3g4aRGTlEVVidmyh2HiIhaIRZeImrTHGxV+OuIIADAhzvSUFxZ\n",
              "I3MiIiJqbZpceBMSEiBJEr7//nsAQF5eHmJjYxEYGIjQ0FDs3bvX9FhzjxGRdRnT1wfBnk4ordbj\n",
              "o53pcschIqJWpkmFNyMjA59++imio6NN982bNw/R0dFIS0tDQkICnnrqKeh0OlnGiMi6KBUS5o0K\n",
              "AQB8mZiJrIJKmRMREVFr0ujCazQaMXXqVPz73/+GWq023b9u3TrMmDEDABAZGYmOHTtiz549sowR\n",
              "kfUZGtQBAwPcUWMw4p2tnIyCiIh+1+jCu2TJEtxzzz3o27ev6b6CggLodDp4eXmZ7vP390dWVpbZ\n",
              "x+qj1WpRWlpa52Yw8GxuIksiSRLmjwqBJAH/d+oyTmQXyx2JiIhaiUYV3l9//RUbN27EK6+80lJ5\n",
              "WkR8fDycnZ3r3JKSkuSORUTNrGdHZ4zu3QkAsOjHsxCCk1EQEVEjC+++ffuQkZGBwMBA+Pv74+DB\n",
              "g5g+fTrWrVsHlUqF3Nxc02MzMjLg6+sLNzc3s47VZ/78+SgpKalzi4qKasyqE1EbMXtEMNQqBZIy\n",
              "CrHttytyxyEiolagUYX3ueeew+XLl5GRkYGMjAxER0djxYoVeO655zB27FgsW7YMAHD48GFcvHgR\n",
              "Q4YMAQCzj91MrVZDo9HUuSmVysasOhG1ER1d7DFlYBcAwNubk6EzGGVOREREclM114LefvttTJgw\n",
              "AYGBgbC1tcWaNWtgY2MjyxgRWbcZQ7vh28PZOJ9fgW+TsjAhxl/uSEREJCNJWOlBbrNmzcKSJUvk\n",
              "jkFELeTLxAz8479n4OZoi91/GwonO/6HmIjIWnGmNSKySH+O8kVXd0cUVNRg2Z5zcschIiIZsfAS\n",
              "kUWyUSowJ7Z2MorP9l3A5ZIqmRMREZFcWHiJyGKN7OmJSP/20OqNWLw1Ve44REQkExZeIrJYkiRh\n",
              "wajuAIBNx3Pw26VSmRMREZEcWHiJyKL19m2PB8O8IQSw6CdORkFEZI1YeInI4s0dGQIbpYT96fnY\n",
              "k3pV7jhERGRmLLxEZPF83Rww8dq1eON/SobByL28RETWhIWXiKzCC/cGQGOnQsqVMmw8miN3HCIi\n",
              "MiMWXiKyCi4Otnjh3kAAwOJtKais0cuciIiIzIWFl4isxsQBfujc3h55ZVp8tu+C3HGIiMhMWHiJ\n",
              "yGqoVUrTZBTL9pxDXlm1zImIiMgcWHiJyKo8FOaN8M7OqKwx4IPtaXLHISIiM2DhJSKrcuNkFGsP\n",
              "ZyM9r0zmRERE1NJYeInI6vTv6ob7e3jCYBT41+ZkueMQEVELY+ElIqs074EQKBUStp/NQ+K5Arnj\n",
              "EBFRC2LhJSKr1K1DO/w5ygdA7ZTDRk5GQURksVh4ichqvXxfENqpVTh9sQQ/nLwkdxwiImohLLxE\n",
              "ZLXc26kxY0hXAMC7W1NQrTPInIiIiFoCCy8RWbUpA7vCS2OHi8VV+OJAhtxxiIioBbDwEpFVs7dV\n",
              "4q8jggAAH+1KR1FFjcyJiIioubHwEpHVe6xPZ4R4OaGsWo8Pd3IyCiIiS8PCS0RWT6n4fTKKNQcz\n",
              "kZFfIXMiIiJqTiy8REQABgd1wOCgDtAZBN7ZyskoiIgsCQsvEdE18x8IgSQBP53OxdHMIrnjEBFR\n",
              "M2HhJSK6pru3BmP6dAZQOxmFEJyMgojIErDwEhHd4K8jgmFno8DRzCJs+TVX7jhERNQMWHiJiG7g\n",
              "5WyHaYNqJ6N4e0syavRGmRMREdHdYuElIrpJ3JBucG9ni4yCSnx9KFPuOEREdJdYeImIbtJOrcLL\n",
              "99VORrF0RxpKqnQyJyIiorvBwktEVI8nI33QrYMjiip1+GT3ObnjEBHRXWDhJSKqh0qpwLwHaiej\n",
              "WPXLBVwsrpI5ERERNRULLxHRbdzX3QP9u7iiRm/E4q0pcschIqImYuElIroNSZLw9wdr9/J+d/wi\n",
              "fr1YInMiIiJqChZeIqI7COvsgofDOwIA3vqRk1EQEbVFLLxERH/gbyODYatUIPF8AXal5Mkdh4iI\n",
              "GomFl4joD/i4OmDyPf4AgPifkqE3cDIKIqK2hIWXiKgB/t/QADjb2yAtrxzrj+bIHYeIiBqBhZeI\n",
              "qAGcHWzw4vBAAMB721JRodXLnIiIiBqKhZeIqIEmRPvB19UB+eVarNh7Xu44RETUQCy8REQNZKtS\n",
              "YG5sCABgxd7zyCutljkRERE1RKML74gRIxAWFoaIiAgMGjQIx48fBwCkpaVhwIABCAoKQmRkJM6c\n",
              "OWN6jrnHiIhayqheXujt64IqnQFLfk6VOw4RETVAowvvunXrcOrUKZw4cQKzZs3C5MmTAQBxcXGY\n",
              "Pn06UlNTMXfuXNP9cowREbUUSZLw91G1k1GsO5KNlNwymRMREdEfkcRdXEX9888/xwcffIBt27Yh\n",
              "ICAAhYWFUKlUEELA29sb+/fvh0ajMetYQEDALTm1Wi20Wm2d+1599VUsXbq0qatORFZuxuqj2HIm\n",
              "F0ODO+DzZ6LkjkNERHfQpGN4J06cCB8fH7z66qtYvXo1srOz4e3tDZVKBaB2D4ivry+ysrLMPlaf\n",
              "+Ph4ODs717klJSU1ZdWJiAAAcx8IgUohYXfKVfySni93HCIiuoMmFd4vv/wS2dnZWLhwIebOndvc\n",
              "mZrd/PnzUVJSUucWFcU9MkTUdF3cHfF0f18AtVMOG42ccpiIqLW6q6s0TJo0Cbt27ULnzp1x+fJl\n",
              "6PW116UUQiArKwu+vr7w8fEx61h91Go1NBpNnZtSqbybVSciwovDA+GkVuG3y6X47vhFueMQEdFt\n",
              "NKrwFhcX49KlS6a/f//993Bzc4OHhwf69OmDNWvWAAA2btyIzp07IyAgwOxjRETm4tZOjeeGdQMA\n",
              "vLctBdU6g8yJiIioPo06aS0zMxNjx45FVVUVFAoFOnTogMWLFyMiIgIpKSmYPHkyCgoKoNFokJCQ\n",
              "gF69egGA2ccaYtasWViyZEmDH09EVJ9qnQH3Lt6NSyXVmBMbjJlD+R9vIqLW5q6u0tCWsfASUXPZ\n",
              "dCwHs9adRDu1Cnv+NhRu7dRyRyIiohtwpjUiorv0aEQn9OyoQblWjw93pMkdh4iIbsLCS0R0lxQK\n",
              "CQuuTUbx1aEsnL9aLnMiIiK6EQsvEVEzuCfAHcOCO0BvFHh7S7LccYiI6AYsvEREzWT+qO5QSMDW\n",
              "M1dwOKNQ7jhERHQNCy8RUTMJ8nTCE/18ANRORmGl5wQTEbU6LLxERM1o1v1BsLdR4kR2MX48fVnu\n",
              "OEREBBZeIqJm5aGxw/TBXQEA72xJgVbPySiIiOTGwktE1MymD+6KDk5qZBVWYs3BLLnjEBFZPRZe\n",
              "IqJm5qhWYdb9QQCAD3ekoaRSJ3MiIiLrxsJLRNQCxvbtjECPdiip0uHj3elyxyEismosvERELUCl\n",
              "VGD+qBAAwOe/ZCC7sFLmRERE1ouFl4iohQwL9sCAbm6oMRjx7tYUueMQEVktFl4iohYiSb9POfzD\n",
              "yUs4lVMsbyAiIivFwktE1IJCOzljdO9OADgZBRGRXFh4iYha2OyRwbBVKXDoQiG2n82TOw4RkdVh\n",
              "4SUiamGdXOzx7D1dAAD/2nwWeoNR5kRERNaFhZeIyAxmDuuG9g42OHe1At8ezpY7DhGRVWHhJSIy\n",
              "A42dDV4aHggA+GB7Ksq1epkTERFZDxZeIiIzeaq/H/zdHJBfXoPle87JHYeIyGqw8BIRmYmtSoF5\n",
              "D9RORvHpvvPILamWORERkXVg4SUiMqORPb3Qz689qnVGvLeNk1EQEZkDCy8RkRlJkoT51yaj2HAs\n",
              "B2cvl8qciIjI8rHwEhGZWV+/9niwlzeEABb9dFbuOEREFo+Fl4hIBnNig2GjlLAvLR97U6/KHYeI\n",
              "yKKx8BIRycDPzRHjo/0A1O7lNRg55TARUUth4SUiksmL9wbCyU6F5NwybDyWI3ccIiKLxcJLRCST\n",
              "9o62eH5YAADgvW0pqKoxyJyIiMgysfASEclo0gB/dHKxx5VSLVbuPy93HCIii8TCS0QkIzsbJebE\n",
              "BgMAPtl9DlfLtDInIiKyPCy8REQyeyisI3p1ckZFjQFLd6TKHYeIyOKw8BIRyUyhkLDg2mQU3yRl\n",
              "Iz2vXOZERESWhYWXiKgViOnmhvu6e8BgFPjX5mS54xARWRQWXiKiVmLeAyFQKiRsP3sFh84XyB2H\n",
              "iMhisPASEbUSAR5OGBfpA6B2MgojJ6MgImoWLLxERK3Iy/cFwtFWiZM5JfjfqUtyxyEisggsvERE\n",
              "rYiHkx3ihnQDALy7NQVaPSejICK6Wyy8REStzNRBXeDhpEZOURW+PJApdxwiojaPhZeIqJVxsFVh\n",
              "9ojaySj+vTMNxZU1MiciImrbWHiJiFqhx/t2RoiXE0qr9fj3znS54xARtWmNKrzV1dV49NFHERQU\n",
              "hPDwcNx///1IT6/9IM7Ly0NsbCwCAwMRGhqKvXv3mp5n7jEiorZOqZAw74EQAMCXiRnIKqiUORER\n",
              "UdvV6D2806dPR0pKCk6ePIlHHnkEU6dOBQDMmzcP0dHRSEtLQ0JCAp566inodDpZxoiILMGQoA4Y\n",
              "FOgOnUHg7a2cjIKIqKkaVXjt7OwwatQoSJIEAIiOjkZGRgYAYN26dZgxYwYAIDIyEh07dsSePXtk\n",
              "GSMisgSSJGH+A90hScCPpy7jeFaR3JGIiNqkuzqGd+nSpXjkkUdQUFAAnU4HLy8v05i/vz+ysrLM\n",
              "PlYfrVaL0tLSOjeDgZf6IaLWr0dHDR7r3RlA7WQUQnAyCiKixmpy4V20aBHS09MRHx/fnHlaRHx8\n",
              "PJydnevckpKS5I5FRNQgs0cGQa1S4HBGEbaeuSJ3HCKiNqdJhXfx4sXYtGkTNm/eDAcHB7i5uUGl\n",
              "UiE3N9f0mIyMDPj6+pp9rD7z589HSUlJnVtUVFRTVp2IyOy8ne0xdVAXAMDbW5KhMxhlTkRE1LY0\n",
              "uvAuWbIE33zzDX7++We4uLiY7h87diyWLVsGADh8+DAuXryIIUOGyDJ2M7VaDY1GU+emVCobu+pE\n",
              "RLKZMaQb3BxtcSG/At8k1X/4FhER1U8SjTggLCcnBz4+PujatSucnJwA1JbJQ4cO4cqVK5gwYQIu\n",
              "XLgAW1tbfPTRRxg2bBgAmH2sIWbNmoUlS5Y0+PFERHJbnZiBV/97Bq6Ottj9t6HQ2NnIHYmIqE1o\n",
              "VOG1JCy8RNTW6AxGjHx/L87nV2Dm0G6YExsidyQiojaBM60REbURNkqFaTKKlfsv4FJxlcyJiIja\n",
              "BhZeIqI25P4enojyd4VWb8TibSlyxyEiahNYeImI2hBJkrDgwe4AgO+OX8SvF0tkTkRE1Pqx8BIR\n",
              "tTERPi54KLwjhADiN3MyCiKiP8LCS0TUBs0ZGQxbpQK/pBdgd+pVueMQEbVqLLxERG2Qj6sDJsb4\n",
              "AQDifzoLPSejICK6LRZeIqI26vl7A+Bsb4PUK+XYcDRH7jhERK0WCy8RURvl4mCLF+4NAAAs+TkV\n",
              "lTV6mRMREbVOKrkDEBFR002I8cMXiRnILqzC39afwj0B7vDUqOHhZAdPjRpu7dRQKiS5YxIRyYqF\n",
              "l4ioDVOrlJgzMgQvfHMcP56+jB9PX64zrpAA93ZqeGrs4OGkhofGrk4hZjEmImvAwktE1Mb9Kcwb\n",
              "pdU6/HqxFHml1cgr0+JKaTXyy7UwCiCvTIu8Mu0dl8FiTESWjIWXiKiNkyQJT/f3u+V+g1GgoFyL\n",
              "K6Va5JVV40ppbRHOK9OyGBORVWHhJSKyUEqFBA+NHTw0dgCcb/u4G4vxlRuK8PVifKWsGnml2iYX\n",
              "Y0+NGh1uKsTXCzOLMRGZAwsvEZGVu7EY97pDMdYbjCisqGl0MT598favzWJMRObAwktERA2iUioa\n",
              "XIwLKmqQd0sxri3ELMZEZG4svERE1KxUSsW1YipPMe7g9HsR7nBTIWYxJrJOLLxERCSLphbj60X4\n",
              "xmJ8pVSLgmvFuPaQCxZjIvodCy8REbVqrakYe9xUiD01dvDQqOHmyGJM1Jqx8BIRkUVobDG+Ulr3\n",
              "0Inrl27LYzEmsjgsvEREZFVuLMZ30hLFWKmQ4N7OlsWYyMxYeImIiOpxN8X4SqkWV28qxvnlWhiM\n",
              "olHF+MYJPq4X4utXp2AxJmo4Fl4iIqK70NLF+E5YjIkahoWXiIjIDJpSjG8swldvmh66OYqxWzs1\n",
              "2jvYwNXBFi4OtnB1tIWLgw3sbJTNuepEsmPhJSIiakXkLMbXOdgq0d6htvzWlmBbuDrY1CnF7W/4\n",
              "s6ujLextlJAk7kWm1omFl4iIqA1qTDHOL6+55WS7vNJqFFbUoLhSh8LKGhRX1qCoUgeDUaCyxoDK\n",
              "mipcLK5qcB5bleLanuJby3BtUa4tzO0dbGsf52gDJ7WKJZnMgoWXiIjIgqmUCng528HL+c7FGACM\n",
              "RoEyrR5FFTUoqrxWhq/9uehaIb55rLhShxqDETV6I3JLq5FbWt3wbArppjJ84x7luoX5+pjGzgYK\n",
              "Ho9MjcTCS0RERAAAhUKCs70NnO1t4A/HBj1HCIGKGoOpCBdV6lBcWXOtKOtuuL8GRRXXxiprUK0z\n",
              "Qm8UyC+vPeyiwRklwOV6GXb4fe9xe4e6e5JdHWtLcnsHWzjb20ClVDR1s5AFYOElIiKiJpMkCe3U\n",
              "KrRTq+Dj6tDg51XVGOoU4aJrh1UUXvtzfXuUy7V6GAVQWFFbqM+josGvp7FT3XB4xe+Fub3jzeW5\n",
              "tii7ONjCVsWSbClYeImIiMjs7G2VsLe1R0cX+wY/R6s3oOTaMcdFNxTjOodeXN+zfO3PpdV6AEBp\n",
              "tb72zwWVDX69dmrVbU/ca3/TSXy199nyChetFAsvERERtQlqlRIeGiU8/uBEvRvpDUYUV+nq7j2u\n",
              "qOfQi8rfC3NxlQ5CAOVaPcq1euQUNfzkPXsbZb1l+Hphbn+tGN94FQwHW17hoqWx8BIREZHFUikV\n",
              "cG+nhns7dYOfYzQKlFbr6j8Oud5jlGvv0xsFqnQGVJUYcKmk4Sfv2SoVaH/tOOT2DrZof/04ZIe6\n",
              "e4/b37BnWWPHK1w0BgsvERER0Q0U164e4eJg2+DnCFF7hYviimuHXNx4eMUdrnpRozeixmBs1HWS\n",
              "getXuKhbkm85ce+G+6+fvGetV7hg4SUiIiK6S5IkQWNnA42dDXzdGnbynhC11zy+43HIN+xRvv6Y\n",
              "Kp3h2hUuapBfXtOIjICLvU2dvcXt73DiXntHW7hYyBUuWHiJiIiIZCBJEhzVKjiqVejcvuHPq9YZ\n",
              "brnMW51DL248RrmyBsUVOpRp9RAC14q0Dshv3BUu2l87Drl/F1csGNW9CWsrLxZeIiIiojbEzkYJ\n",
              "b2d7eDs3/AoXNXojiqtucwm4m07cu74nuaRKB+D3K1xkFlSiQyOOhW5NWHiJiIiILJytSgEPJzt4\n",
              "ODXuChclVbo6l3lrzHHNrQkLLxERERHdQqVUwK2dGm5tdK/ujdr+UchERERERHfAwktEREREFo2F\n",
              "l4iIiIgsWqMK74svvgh/f39IkoQTJ06Y7k9LS8OAAQMQFBSEyMhInDlzRrYxIiIiIqIbNarwjhkz\n",
              "Bvv374efn1+d++Pi4jB9+nSkpqZi7ty5mDx5smxjREREREQ3koQQorFP8vf3x/fff4+IiAjk5eUh\n",
              "ICAAhYWFUKlUEELA29sb+/fvh0ajMetYQEBAg9dh1qxZWLJkSWNXnYiIiIjamLu+LFl2dja8vb2h\n",
              "UtUuSpIk+Pr6IisrC87OzmYdu13h1Wq10Grrzk9tMBjudtWJiIiIqA2wipPW4uPj4ezsXOeWlJQk\n",
              "dywiIiIiMoO7Lrw+Pj64fPky9Ho9AEAIgaysLPj6+pp97Hbmz5+PkpKSOreoqKi7XXUiIiIiagPu\n",
              "uvB6eHigT58+WLNmDQBg48aN6Ny5MwICAsw+djtqtRoajabOTalU3u2qExEREVEb0KiT1uLi4vDj\n",
              "jz8iNzcXbm5ucHJyQnp6OlJSUjB58mQUFBRAo9EgISEBvXr1AgCzjzUUT1ojIiIisg5NukqDJXjs\n",
              "scfg7+9vltcyGAxISkpCVFQU9yzfgNvl9rht6sftcnvcNvXjdrk9bpv6cbvcnhzbxs/PDy+99NJd\n",
              "L8dqC685lZaWwtnZGSUlJdBoNHLHaTW4XW6P26Z+3C63x21TP26X2+O2qR+3y+215W1jFVdpICIi\n",
              "IiLrxcJLRERERBaNhZeIiIiILBoLrxmo1Wq89tprUKvVckdpVbhdbo/bpn7cLrfHbVM/bpfb47ap\n",
              "H7fL7bXlbcOT1oiIiIjIonEPLxERERFZNBZeIiIiIrJoLLxEREREZNFYeAHo9Xq88cYbCAkJQWho\n",
              "KCIiIjB9+nQUFxff9jmff/45Hn30UQDAkSNHMG7cONPY8uXLERISgoiICBQUFDRbzlGjRiElJaXZ\n",
              "lkctLyIiAhEREejRoweUSqXp7ze+X4j8/f0RHBxsen9MnToVkydPxgcffNDoZV26dAmDBg267bi7\n",
              "uzsyMjKaHpbMxt/fHyEhIdDr9ab7+vXrh927dzfr6xiNRgwePBgrVqww3afT6RAREYENGzY0eDmv\n",
              "v/46Xn755WbNRnU/H3r06IGPP/5Y7kgAgIyMDLi4uLTY8n/44Qf85S9/abblqZptSW3YlClTUFhY\n",
              "iMTERLRv3x5CCGzYsAGFhYUN+mH269cPa9euNf39gw8+QEJCAmJiYhqVw2Aw3HGqvp9++qlRyyP5\n",
              "nThxAkDtB0NERITp70Q3W7t2LSIiIkx/nzx5cqOXodfr0bFjR+zbt6/5gpGstFotVq5cibi4uBZ7\n",
              "DYVCgc8//xwDBw7EyJEj4efnh3/+85/o2bMnxowZ06Bl3FjKqfld/3zIzMxEWFgYBg0ahLCwMLlj\n",
              "taiHH34YDz/8cLMtz+r38Kanp2P9+vVISEhA+/btAQCSJGHs2LFwcHDAsGHD0LdvX/Ts2RPPP/88\n",
              "jEbjLcvYvXu36RfVmDFjcO7cOUyePNn0QbF69WqEhYUhLCwMDz74IC5evAigdi/xsGHD8Pjjj6NX\n",
              "r15ISkqCJElYtGgRoqKi0KVLFyQkJJhex9/f31SYlixZgsjISERERCAyMhKJiYktuJWouW3duhUD\n",
              "Bw5E3759ERUVhV27dgEApk2bhueffx4AUFhYiG7dumHv3r0AgNmzZ5t+5oMHDzbt7a+qqsK4cePQ\n",
              "o0cPhIeHY8SIEfKsFLWY8vJyPPvsswgNDUVoaCjeeOMN09jQoUPx4osvIiYmBiNGjLhlr8sPP/yA\n",
              "7t27IywsDHPmzKmz3Nu9p6j1eP311/Hmm2+isrLylrGysjJMmzYNUVFRCAsLw/Tp01FTU4PU1FQE\n",
              "BQUBAIQQ8PT0xIIFCwAAe/fuxb333nvLsrp27YrXXnsNU6ZMwZEjR7B69Wp89NFHOHLkCAYMGICw\n",
              "sDBERUXhl19+AfD73r25c+eiT58++Oijj+os77fffkNoaCg2b97c3JvEqvn5+SE4OBgnT56s92cP\n",
              "1H4mzJ49G4MGDUK3bt0wY8YM0/MnT56MuLg4DB8+HEFBQXjsscdMz/vf//6HsLAwREREIDQ0FP/9\n",
              "739x5MgRhISE4MYLeg0YMOCWn+tbb71l+t0F1H5mubq64urVqzh9+jQGDhyIPn36oEePHli4cKHp\n",
              "ca+//jrGjRuHhx56CD169MC9996LwsJCAHW/Sc/NzW1QH7sjYeXWrl0rwsLC6h2rqqoSZWVlQggh\n",
              "9Hq9ePDBB8U333wjhBAiISFBPPLII0IIIXbt2iXCw8NNz/Pz8xPHjx8XQghx+vRp4enpKXJycoQQ\n",
              "QixcuFDExsaalmFvby+Sk5NNzwUgFi9eLIQQ4uzZs6Jdu3ZCp9Pdsty8vDzTcxITE0VwcPBdbAVq\n",
              "aRcuXBDOzs5CCCHOnTsnoqOjRUlJiRBCiLS0NOHl5SWqq6tFVVWVCA8PF+vWrRN/+tOfxKJFi0zL\n",
              "uPFn/s0334iRI0cKIYTYtGmTGDFihGmsoKDADGtEzcnPz08EBQWJ8PBwER4eLjZt2iQmTZok3n//\n",
              "fSGEEHPmzBFPPfWUMBgMory8XERERIhvv/1WCCHEkCFDxMiRI0VNTY0Qou577cqVK8LV1VWcOXNG\n",
              "CCHE8uXLBQBx4cIFIcTt31PUOlz/zB8/frxYuHChEEKIvn37il27dgkhhJg2bZr44osvhBBCGI1G\n",
              "MWXKFPHOO+8IIYTw9fUVmZmZ4sSJEyI6OlpERUUJIYR45ZVXxFtvvXXb14yNjRUuLi5i8+bNQqvV\n",
              "Ch8fH7FlyxYhhBD79u0Tnp6eoqysTFy4cEEAML2+EEK89tpr4qWXXhK7du0S3bt3F0ePHm32bWKN\n",
              "bvzdf+rUKeHk5CSGDh1625/9kCFDxKOPPip0Op2orKwU/v7+4sCBA0IIISZNmiSioqJERUWF0Ov1\n",
              "YsCAAeLrr78WQggRFhZmepzBYBBFRUVCCCEGDBggtm7dKoQQ4tixYyIgIEAYjcY6nzVZWVmiQ4cO\n",
              "orq6WgghxKpVq8Rjjz0mhBCitLTUdH9lZaWIiIgQiYmJQoja94yfn5/Iz88XQggxbtw40++9G3vW\n",
              "nfpYQ1n9Ht47MRqNmDt3LsLDw9G7d28cOXKk0V9J79q1C7GxsejUqRMAYObMmdi5cycMBgOA2v8p\n",
              "BQcH13nO008/DQAICQmBSqVCbm7uLcs9fvw4hgwZgtDQUMyYMQMpKSmoqqpqwlqSuW3ZsgXp6ekY\n",
              "PHgwIiIiMGbMGCgUCmRlZcHOzg7r16/H1KlTodPpMG/ePNPzfv75Z8TExCA0NBT//Oc/Te/F8PBw\n",
              "nD17FjNnzsTatWthY2Mj05rR3Vi7di1OnDiBEydOYPTo0XXGtm/fjmnTpkGhUMDR0RETJ07Ezz//\n",
              "bBofP358vT/3gwcPIiwsDD169ABQe/iWra2tafx27ylqXd58800sXbr0lnNCvv/+e7z77ruIiIhA\n",
              "7969sW/fPqSnpwMAhg8fju3bt2P79u2YMGECtFotiouLsX37dgwfPvy2rzV79mx07twZsbGxSElJ\n",
              "gUKhwMiRIwEAAwcOhKenp+l9YmNjg/Hjx9d5/s6dOzFjxgxs2bIFffr0acatYN3GjRuHiIgIxMXF\n",
              "YdWqVThz5sxtf/bXH69SqWBvb4+IiAicO3fONDZ69Gg4ODhAqVQiKirKNDZ8+HC89NJLeOedd3Dq\n",
              "1CnTN0UvvfSSaQ/+xx9/jJkzZ0KSpDr5fHx80Lt3b/zwww8AavfOPvPMMwBqv4WcOnUqevXqhejo\n",
              "aGRmZtb5rImNjYWbmxsAICYmpk7W65qjj1n9Mbx9+vRBWloaCgoKTBv8uiVLliAvLw+HDh2CnZ0d\n",
              "Zs2aherq6rt6vZvfJO3atbvlMXZ2dqY/K5XKW46NqqmpwWOPPYZdu3YhMjISpaWlcHZ2hlarhb29\n",
              "/V3lo5YnhMD999+Pr7/+ut7xlJQUODo6Ii8vDzU1NVCr1cjKysLzzz+Pw4cPo1u3bjh16hQGDx4M\n",
              "oParyN9++w07d+7E9u3bMWfOHJw4ccJ0iA5ZnoZ8jvzR8+70nqLWxd/fH0899VSdr4KB2s+SjRs3\n",
              "mg5fuNF9992H//u//0NRURGWLl2KtLQ0fPfdd0hLS0O/fv1u+1pKpfKO55Lc+B5ycHCAQlF3v1lA\n",
              "QACSk5Nx8OBB+Pr6NnQV6Q/cfIz/c889d9ufPXDnHnG7sSVLluDMmTPYtWsXJk2ahKeffhpz5szB\n",
              "Y489hjlz5uD48eP44YcfsHjx4npf89lnn0VCQgL69u2L9PR0xMbGAgAWLFgAd3d3HD9+HCqVCo89\n",
              "9lidLvVHned6trvtY1a/hzcgIACPP/44pkyZYroqw/UPkaNHj8LLywt2dnbIzc3F+vXrG738YcOG\n",
              "YcuWLbh06RIAYNmyZRg+fPgdP1D+SHV1NWpqakwfJv/+97+bvCwyv5EjR2L79u04deqU6b6kpCQA\n",
              "tSVk5syZ2L59O6Kjo01nPJeUlMDGxgbe3t4QQtQ5Xi4nJweSJOHhhx/G4sWLIYRAdna2WdeJWtZ9\n",
              "992HlStXQgiBiooKrF69ukHHasfExODUqVNITk4GAKxatcp0vN6d3lPU+rzyyitYs2aN6XcJADz6\n",
              "6KN4++23TQWhqKiozh7eHTt2ICMjA0FBQbjvvvvwxhtvYODAgQ3+/RMcHAyj0Wj6NuHAgQPIzc2t\n",
              "U7xu5uvrix07dmDhwoV1zkGh5nWnn31TJScnm46Pfe6553Dw4EEAgEqlwowZM/Dwww9j9OjRtz2Z\n",
              "/9FHH8Xhw4cRHx+P8ePHQ6VSmbJ17twZKpUKKSkpdb6daqiioqK77mNWX3iB2l8C4eHh6N+/P3r2\n",
              "7IkePXpg27ZtWLp0KQ4dOoSePXtiwoQJuO+++xq97NDQULz77ruIjY1FWFgY9u3bh08//fSu8mo0\n",
              "GixcuBBRUVHo27dvna8oqfULCAjA119/jbi4OISHh6N79+744IMPoNfr8eSTT+LNN99Ejx498P77\n",
              "7yMpKQlr165Fr1698OSTT6Jnz56IjIyss+fk9OnTuOeee0xf9UyYMMHiz961Nq+++ipsbGzQq1cv\n",
              "9O/fHw8//DCeeOKJP3xehw4dsGrVKowePRrh4eFIS0szfZN1p/cUtT7u7u548cUXcfnyZdN977//\n",
              "vukr67CwMAwfPtx0yTlPT094enqarhY0ZMgQXLp06Y6HM9zM1tYWmzZtwmuvvYawsDC8/PLL2LBh\n",
              "wx9+o+Dt7Y2dO3fi448/xocfftj4laU/dKeffVMtWLAAPXv2RO/evbF69Wq8/vrrprEpU6bg4sWL\n",
              "dU5Mu5larcYTTzyBzz77zHQ4A1D7n7WEhASEhYVh3rx59Z40+Udeeumlu+5jkhA3nHpHRERERHSD\n",
              "DRs24JNPPsGOHTvkjtJkVn8MLxERERHVLzY2Fqmpqfjuu+/kjnJXuIeXiIiIiCwaj+ElIiIiIovG\n",
              "wktEREREFo2Fl4iIiIgsGgsvEREREVk0Fl4iIiIismgsvERERERk0Vh4iYiIiMiisfASERERkUVj\n",
              "4SUiIiIii/b/AUjbJIdbwcDzAAAAAElFTkSuQmCC\n",
              "\">\n",
              "      </div>\n",
              "      <script type=\"text/javascript\">\n",
              "        (() => {\n",
              "          const chartElement = document.getElementById(\"chart-74d510b2-9213-4f2b-b4ff-d266c5a703c6\");\n",
              "          async function getCodeForChartHandler(event) {\n",
              "            const chartCodeResponse =  await google.colab.kernel.invokeFunction(\n",
              "                'getCodeForChart', [\"chart-74d510b2-9213-4f2b-b4ff-d266c5a703c6\"], {});\n",
              "            const responseJson = chartCodeResponse.data['application/json'];\n",
              "            await google.colab.notebook.addCell(responseJson.code, 'code');\n",
              "          }\n",
              "          chartElement.onclick = getCodeForChartHandler;\n",
              "        })();\n",
              "      </script>\n",
              "      <style>\n",
              "        .colab-quickchart-chart-with-code  {\n",
              "            display: block;\n",
              "            float: left;\n",
              "            border: 1px solid transparent;\n",
              "        }\n",
              "\n",
              "        .colab-quickchart-chart-with-code:hover {\n",
              "            cursor: pointer;\n",
              "            border: 1px solid #aaa;\n",
              "        }\n",
              "      </style>"
            ]
          },
          "metadata": {}
        }
      ],
      "source": [
        "states = pd.DataFrame({'population': population,\n",
        "                       'area': area})\n",
        "states"
      ]
    },
    {
      "cell_type": "markdown",
      "metadata": {
        "id": "x77mraFjghdr"
      },
      "source": [
        "Like the `Series` object, the `DataFrame` has an `index` attribute that gives access to the index labels:"
      ]
    },
    {
      "cell_type": "code",
      "execution_count": 21,
      "metadata": {
        "jupyter": {
          "outputs_hidden": false
        },
        "id": "DIc3Xz3Wghdr",
        "outputId": "e8751f49-958e-4944-b822-f67054655a5d",
        "colab": {
          "base_uri": "https://localhost:8080/"
        }
      },
      "outputs": [
        {
          "output_type": "execute_result",
          "data": {
            "text/plain": [
              "Index(['California', 'Texas', 'Florida', 'New York', 'Pennsylvania'], dtype='object')"
            ]
          },
          "metadata": {},
          "execution_count": 21
        }
      ],
      "source": [
        "states.index"
      ]
    },
    {
      "cell_type": "markdown",
      "metadata": {
        "id": "RW7eCrP5ghdr"
      },
      "source": [
        "Additionally, the `DataFrame` has a `columns` attribute, which is an `Index` object holding the column labels:"
      ]
    },
    {
      "cell_type": "code",
      "execution_count": 22,
      "metadata": {
        "jupyter": {
          "outputs_hidden": false
        },
        "id": "UDDjsofeghdr",
        "outputId": "a7c05bad-f6ad-426f-e232-a9fd9bfd2f4b",
        "colab": {
          "base_uri": "https://localhost:8080/"
        }
      },
      "outputs": [
        {
          "output_type": "execute_result",
          "data": {
            "text/plain": [
              "Index(['population', 'area'], dtype='object')"
            ]
          },
          "metadata": {},
          "execution_count": 22
        }
      ],
      "source": [
        "states.columns"
      ]
    },
    {
      "cell_type": "markdown",
      "metadata": {
        "id": "qwRLKPfkghds"
      },
      "source": [
        "Thus the `DataFrame` can be thought of as a generalization of a two-dimensional NumPy array, where both the rows and columns have a generalized index for accessing the data."
      ]
    },
    {
      "cell_type": "markdown",
      "metadata": {
        "id": "guZYGzuyghds"
      },
      "source": [
        "### DataFrame as Specialized Dictionary\n",
        "\n",
        "Similarly, we can also think of a `DataFrame` as a specialization of a dictionary.\n",
        "Where a dictionary maps a key to a value, a `DataFrame` maps a column name to a `Series` of column data.\n",
        "For example, asking for the `'area'` attribute returns the `Series` object containing the areas we saw earlier:"
      ]
    },
    {
      "cell_type": "code",
      "execution_count": 23,
      "metadata": {
        "jupyter": {
          "outputs_hidden": false
        },
        "id": "GBs3Q0u_ghds",
        "outputId": "a7fb853d-e169-4a07-fe92-7a88dc471537",
        "colab": {
          "base_uri": "https://localhost:8080/"
        }
      },
      "outputs": [
        {
          "output_type": "execute_result",
          "data": {
            "text/plain": [
              "California      423967\n",
              "Texas           695662\n",
              "Florida         170312\n",
              "New York        141297\n",
              "Pennsylvania    119280\n",
              "Name: area, dtype: int64"
            ]
          },
          "metadata": {},
          "execution_count": 23
        }
      ],
      "source": [
        "states['area']"
      ]
    },
    {
      "cell_type": "markdown",
      "metadata": {
        "id": "r6Dw3t-Pghds"
      },
      "source": [
        "Notice the potential point of confusion here: in a two-dimensional NumPy array, `data[0]` will return the first *row*. For a `DataFrame`, `data['col0']` will return the first *column*.\n",
        "Because of this, it is probably better to think about ``DataFrame``s as generalized dictionaries rather than generalized arrays, though both ways of looking at the situation can be useful.\n",
        "We'll explore more flexible means of indexing ``DataFrame``s in [Data Indexing and Selection](03.02-Data-Indexing-and-Selection.ipynb)."
      ]
    },
    {
      "cell_type": "markdown",
      "metadata": {
        "id": "1QOWL6uZghdt"
      },
      "source": [
        "### Constructing DataFrame Objects\n",
        "\n",
        "A Pandas `DataFrame` can be constructed in a variety of ways.\n",
        "Here we'll explore several examples."
      ]
    },
    {
      "cell_type": "markdown",
      "metadata": {
        "id": "nKnksNdsghdt"
      },
      "source": [
        "#### From a single Series object\n",
        "\n",
        "A `DataFrame` is a collection of `Series` objects, and a single-column `DataFrame` can be constructed from a single `Series`:"
      ]
    },
    {
      "cell_type": "code",
      "execution_count": 24,
      "metadata": {
        "jupyter": {
          "outputs_hidden": false
        },
        "id": "6WRSdoB8ghdt",
        "outputId": "49d772e1-e1a7-4e4f-9d43-f949bb77e3f9",
        "colab": {
          "base_uri": "https://localhost:8080/",
          "height": 206
        }
      },
      "outputs": [
        {
          "output_type": "execute_result",
          "data": {
            "text/plain": [
              "              population\n",
              "California      39538223\n",
              "Texas           29145505\n",
              "Florida         21538187\n",
              "New York        20201249\n",
              "Pennsylvania    13002700"
            ],
            "text/html": [
              "\n",
              "  <div id=\"df-76898aa1-33de-446e-ae6c-5007145082b5\" class=\"colab-df-container\">\n",
              "    <div>\n",
              "<style scoped>\n",
              "    .dataframe tbody tr th:only-of-type {\n",
              "        vertical-align: middle;\n",
              "    }\n",
              "\n",
              "    .dataframe tbody tr th {\n",
              "        vertical-align: top;\n",
              "    }\n",
              "\n",
              "    .dataframe thead th {\n",
              "        text-align: right;\n",
              "    }\n",
              "</style>\n",
              "<table border=\"1\" class=\"dataframe\">\n",
              "  <thead>\n",
              "    <tr style=\"text-align: right;\">\n",
              "      <th></th>\n",
              "      <th>population</th>\n",
              "    </tr>\n",
              "  </thead>\n",
              "  <tbody>\n",
              "    <tr>\n",
              "      <th>California</th>\n",
              "      <td>39538223</td>\n",
              "    </tr>\n",
              "    <tr>\n",
              "      <th>Texas</th>\n",
              "      <td>29145505</td>\n",
              "    </tr>\n",
              "    <tr>\n",
              "      <th>Florida</th>\n",
              "      <td>21538187</td>\n",
              "    </tr>\n",
              "    <tr>\n",
              "      <th>New York</th>\n",
              "      <td>20201249</td>\n",
              "    </tr>\n",
              "    <tr>\n",
              "      <th>Pennsylvania</th>\n",
              "      <td>13002700</td>\n",
              "    </tr>\n",
              "  </tbody>\n",
              "</table>\n",
              "</div>\n",
              "    <div class=\"colab-df-buttons\">\n",
              "\n",
              "  <div class=\"colab-df-container\">\n",
              "    <button class=\"colab-df-convert\" onclick=\"convertToInteractive('df-76898aa1-33de-446e-ae6c-5007145082b5')\"\n",
              "            title=\"Convert this dataframe to an interactive table.\"\n",
              "            style=\"display:none;\">\n",
              "\n",
              "  <svg xmlns=\"http://www.w3.org/2000/svg\" height=\"24px\" viewBox=\"0 -960 960 960\">\n",
              "    <path d=\"M120-120v-720h720v720H120Zm60-500h600v-160H180v160Zm220 220h160v-160H400v160Zm0 220h160v-160H400v160ZM180-400h160v-160H180v160Zm440 0h160v-160H620v160ZM180-180h160v-160H180v160Zm440 0h160v-160H620v160Z\"/>\n",
              "  </svg>\n",
              "    </button>\n",
              "\n",
              "  <style>\n",
              "    .colab-df-container {\n",
              "      display:flex;\n",
              "      gap: 12px;\n",
              "    }\n",
              "\n",
              "    .colab-df-convert {\n",
              "      background-color: #E8F0FE;\n",
              "      border: none;\n",
              "      border-radius: 50%;\n",
              "      cursor: pointer;\n",
              "      display: none;\n",
              "      fill: #1967D2;\n",
              "      height: 32px;\n",
              "      padding: 0 0 0 0;\n",
              "      width: 32px;\n",
              "    }\n",
              "\n",
              "    .colab-df-convert:hover {\n",
              "      background-color: #E2EBFA;\n",
              "      box-shadow: 0px 1px 2px rgba(60, 64, 67, 0.3), 0px 1px 3px 1px rgba(60, 64, 67, 0.15);\n",
              "      fill: #174EA6;\n",
              "    }\n",
              "\n",
              "    .colab-df-buttons div {\n",
              "      margin-bottom: 4px;\n",
              "    }\n",
              "\n",
              "    [theme=dark] .colab-df-convert {\n",
              "      background-color: #3B4455;\n",
              "      fill: #D2E3FC;\n",
              "    }\n",
              "\n",
              "    [theme=dark] .colab-df-convert:hover {\n",
              "      background-color: #434B5C;\n",
              "      box-shadow: 0px 1px 3px 1px rgba(0, 0, 0, 0.15);\n",
              "      filter: drop-shadow(0px 1px 2px rgba(0, 0, 0, 0.3));\n",
              "      fill: #FFFFFF;\n",
              "    }\n",
              "  </style>\n",
              "\n",
              "    <script>\n",
              "      const buttonEl =\n",
              "        document.querySelector('#df-76898aa1-33de-446e-ae6c-5007145082b5 button.colab-df-convert');\n",
              "      buttonEl.style.display =\n",
              "        google.colab.kernel.accessAllowed ? 'block' : 'none';\n",
              "\n",
              "      async function convertToInteractive(key) {\n",
              "        const element = document.querySelector('#df-76898aa1-33de-446e-ae6c-5007145082b5');\n",
              "        const dataTable =\n",
              "          await google.colab.kernel.invokeFunction('convertToInteractive',\n",
              "                                                    [key], {});\n",
              "        if (!dataTable) return;\n",
              "\n",
              "        const docLinkHtml = 'Like what you see? Visit the ' +\n",
              "          '<a target=\"_blank\" href=https://colab.research.google.com/notebooks/data_table.ipynb>data table notebook</a>'\n",
              "          + ' to learn more about interactive tables.';\n",
              "        element.innerHTML = '';\n",
              "        dataTable['output_type'] = 'display_data';\n",
              "        await google.colab.output.renderOutput(dataTable, element);\n",
              "        const docLink = document.createElement('div');\n",
              "        docLink.innerHTML = docLinkHtml;\n",
              "        element.appendChild(docLink);\n",
              "      }\n",
              "    </script>\n",
              "  </div>\n",
              "\n",
              "\n",
              "<div id=\"df-00d87e5d-ab9f-4d68-b925-a959c28a4139\">\n",
              "  <button class=\"colab-df-quickchart\" onclick=\"quickchart('df-00d87e5d-ab9f-4d68-b925-a959c28a4139')\"\n",
              "            title=\"Suggest charts\"\n",
              "            style=\"display:none;\">\n",
              "\n",
              "<svg xmlns=\"http://www.w3.org/2000/svg\" height=\"24px\"viewBox=\"0 0 24 24\"\n",
              "     width=\"24px\">\n",
              "    <g>\n",
              "        <path d=\"M19 3H5c-1.1 0-2 .9-2 2v14c0 1.1.9 2 2 2h14c1.1 0 2-.9 2-2V5c0-1.1-.9-2-2-2zM9 17H7v-7h2v7zm4 0h-2V7h2v10zm4 0h-2v-4h2v4z\"/>\n",
              "    </g>\n",
              "</svg>\n",
              "  </button>\n",
              "\n",
              "<style>\n",
              "  .colab-df-quickchart {\n",
              "      --bg-color: #E8F0FE;\n",
              "      --fill-color: #1967D2;\n",
              "      --hover-bg-color: #E2EBFA;\n",
              "      --hover-fill-color: #174EA6;\n",
              "      --disabled-fill-color: #AAA;\n",
              "      --disabled-bg-color: #DDD;\n",
              "  }\n",
              "\n",
              "  [theme=dark] .colab-df-quickchart {\n",
              "      --bg-color: #3B4455;\n",
              "      --fill-color: #D2E3FC;\n",
              "      --hover-bg-color: #434B5C;\n",
              "      --hover-fill-color: #FFFFFF;\n",
              "      --disabled-bg-color: #3B4455;\n",
              "      --disabled-fill-color: #666;\n",
              "  }\n",
              "\n",
              "  .colab-df-quickchart {\n",
              "    background-color: var(--bg-color);\n",
              "    border: none;\n",
              "    border-radius: 50%;\n",
              "    cursor: pointer;\n",
              "    display: none;\n",
              "    fill: var(--fill-color);\n",
              "    height: 32px;\n",
              "    padding: 0;\n",
              "    width: 32px;\n",
              "  }\n",
              "\n",
              "  .colab-df-quickchart:hover {\n",
              "    background-color: var(--hover-bg-color);\n",
              "    box-shadow: 0 1px 2px rgba(60, 64, 67, 0.3), 0 1px 3px 1px rgba(60, 64, 67, 0.15);\n",
              "    fill: var(--button-hover-fill-color);\n",
              "  }\n",
              "\n",
              "  .colab-df-quickchart-complete:disabled,\n",
              "  .colab-df-quickchart-complete:disabled:hover {\n",
              "    background-color: var(--disabled-bg-color);\n",
              "    fill: var(--disabled-fill-color);\n",
              "    box-shadow: none;\n",
              "  }\n",
              "\n",
              "  .colab-df-spinner {\n",
              "    border: 2px solid var(--fill-color);\n",
              "    border-color: transparent;\n",
              "    border-bottom-color: var(--fill-color);\n",
              "    animation:\n",
              "      spin 1s steps(1) infinite;\n",
              "  }\n",
              "\n",
              "  @keyframes spin {\n",
              "    0% {\n",
              "      border-color: transparent;\n",
              "      border-bottom-color: var(--fill-color);\n",
              "      border-left-color: var(--fill-color);\n",
              "    }\n",
              "    20% {\n",
              "      border-color: transparent;\n",
              "      border-left-color: var(--fill-color);\n",
              "      border-top-color: var(--fill-color);\n",
              "    }\n",
              "    30% {\n",
              "      border-color: transparent;\n",
              "      border-left-color: var(--fill-color);\n",
              "      border-top-color: var(--fill-color);\n",
              "      border-right-color: var(--fill-color);\n",
              "    }\n",
              "    40% {\n",
              "      border-color: transparent;\n",
              "      border-right-color: var(--fill-color);\n",
              "      border-top-color: var(--fill-color);\n",
              "    }\n",
              "    60% {\n",
              "      border-color: transparent;\n",
              "      border-right-color: var(--fill-color);\n",
              "    }\n",
              "    80% {\n",
              "      border-color: transparent;\n",
              "      border-right-color: var(--fill-color);\n",
              "      border-bottom-color: var(--fill-color);\n",
              "    }\n",
              "    90% {\n",
              "      border-color: transparent;\n",
              "      border-bottom-color: var(--fill-color);\n",
              "    }\n",
              "  }\n",
              "</style>\n",
              "\n",
              "  <script>\n",
              "    async function quickchart(key) {\n",
              "      const quickchartButtonEl =\n",
              "        document.querySelector('#' + key + ' button');\n",
              "      quickchartButtonEl.disabled = true;  // To prevent multiple clicks.\n",
              "      quickchartButtonEl.classList.add('colab-df-spinner');\n",
              "      try {\n",
              "        const charts = await google.colab.kernel.invokeFunction(\n",
              "            'suggestCharts', [key], {});\n",
              "      } catch (error) {\n",
              "        console.error('Error during call to suggestCharts:', error);\n",
              "      }\n",
              "      quickchartButtonEl.classList.remove('colab-df-spinner');\n",
              "      quickchartButtonEl.classList.add('colab-df-quickchart-complete');\n",
              "    }\n",
              "    (() => {\n",
              "      let quickchartButtonEl =\n",
              "        document.querySelector('#df-00d87e5d-ab9f-4d68-b925-a959c28a4139 button');\n",
              "      quickchartButtonEl.style.display =\n",
              "        google.colab.kernel.accessAllowed ? 'block' : 'none';\n",
              "    })();\n",
              "  </script>\n",
              "</div>\n",
              "\n",
              "    </div>\n",
              "  </div>\n"
            ]
          },
          "metadata": {},
          "execution_count": 24
        }
      ],
      "source": [
        "pd.DataFrame(population, columns=['population'])"
      ]
    },
    {
      "cell_type": "markdown",
      "metadata": {
        "id": "truIlL2Eghdt"
      },
      "source": [
        "#### From a list of dicts\n",
        "\n",
        "Any list of dictionaries can be made into a `DataFrame`.\n",
        "We'll use a simple list comprehension to create some data:"
      ]
    },
    {
      "cell_type": "code",
      "execution_count": 25,
      "metadata": {
        "jupyter": {
          "outputs_hidden": false
        },
        "id": "yaW1iirKghdu",
        "outputId": "03045387-7258-48f3-c6c4-b5708157876e",
        "colab": {
          "base_uri": "https://localhost:8080/",
          "height": 143
        }
      },
      "outputs": [
        {
          "output_type": "execute_result",
          "data": {
            "text/plain": [
              "   a  b\n",
              "0  0  0\n",
              "1  1  2\n",
              "2  2  4"
            ],
            "text/html": [
              "\n",
              "  <div id=\"df-c940dc98-320a-43f2-b0fd-a8328891f5b7\" class=\"colab-df-container\">\n",
              "    <div>\n",
              "<style scoped>\n",
              "    .dataframe tbody tr th:only-of-type {\n",
              "        vertical-align: middle;\n",
              "    }\n",
              "\n",
              "    .dataframe tbody tr th {\n",
              "        vertical-align: top;\n",
              "    }\n",
              "\n",
              "    .dataframe thead th {\n",
              "        text-align: right;\n",
              "    }\n",
              "</style>\n",
              "<table border=\"1\" class=\"dataframe\">\n",
              "  <thead>\n",
              "    <tr style=\"text-align: right;\">\n",
              "      <th></th>\n",
              "      <th>a</th>\n",
              "      <th>b</th>\n",
              "    </tr>\n",
              "  </thead>\n",
              "  <tbody>\n",
              "    <tr>\n",
              "      <th>0</th>\n",
              "      <td>0</td>\n",
              "      <td>0</td>\n",
              "    </tr>\n",
              "    <tr>\n",
              "      <th>1</th>\n",
              "      <td>1</td>\n",
              "      <td>2</td>\n",
              "    </tr>\n",
              "    <tr>\n",
              "      <th>2</th>\n",
              "      <td>2</td>\n",
              "      <td>4</td>\n",
              "    </tr>\n",
              "  </tbody>\n",
              "</table>\n",
              "</div>\n",
              "    <div class=\"colab-df-buttons\">\n",
              "\n",
              "  <div class=\"colab-df-container\">\n",
              "    <button class=\"colab-df-convert\" onclick=\"convertToInteractive('df-c940dc98-320a-43f2-b0fd-a8328891f5b7')\"\n",
              "            title=\"Convert this dataframe to an interactive table.\"\n",
              "            style=\"display:none;\">\n",
              "\n",
              "  <svg xmlns=\"http://www.w3.org/2000/svg\" height=\"24px\" viewBox=\"0 -960 960 960\">\n",
              "    <path d=\"M120-120v-720h720v720H120Zm60-500h600v-160H180v160Zm220 220h160v-160H400v160Zm0 220h160v-160H400v160ZM180-400h160v-160H180v160Zm440 0h160v-160H620v160ZM180-180h160v-160H180v160Zm440 0h160v-160H620v160Z\"/>\n",
              "  </svg>\n",
              "    </button>\n",
              "\n",
              "  <style>\n",
              "    .colab-df-container {\n",
              "      display:flex;\n",
              "      gap: 12px;\n",
              "    }\n",
              "\n",
              "    .colab-df-convert {\n",
              "      background-color: #E8F0FE;\n",
              "      border: none;\n",
              "      border-radius: 50%;\n",
              "      cursor: pointer;\n",
              "      display: none;\n",
              "      fill: #1967D2;\n",
              "      height: 32px;\n",
              "      padding: 0 0 0 0;\n",
              "      width: 32px;\n",
              "    }\n",
              "\n",
              "    .colab-df-convert:hover {\n",
              "      background-color: #E2EBFA;\n",
              "      box-shadow: 0px 1px 2px rgba(60, 64, 67, 0.3), 0px 1px 3px 1px rgba(60, 64, 67, 0.15);\n",
              "      fill: #174EA6;\n",
              "    }\n",
              "\n",
              "    .colab-df-buttons div {\n",
              "      margin-bottom: 4px;\n",
              "    }\n",
              "\n",
              "    [theme=dark] .colab-df-convert {\n",
              "      background-color: #3B4455;\n",
              "      fill: #D2E3FC;\n",
              "    }\n",
              "\n",
              "    [theme=dark] .colab-df-convert:hover {\n",
              "      background-color: #434B5C;\n",
              "      box-shadow: 0px 1px 3px 1px rgba(0, 0, 0, 0.15);\n",
              "      filter: drop-shadow(0px 1px 2px rgba(0, 0, 0, 0.3));\n",
              "      fill: #FFFFFF;\n",
              "    }\n",
              "  </style>\n",
              "\n",
              "    <script>\n",
              "      const buttonEl =\n",
              "        document.querySelector('#df-c940dc98-320a-43f2-b0fd-a8328891f5b7 button.colab-df-convert');\n",
              "      buttonEl.style.display =\n",
              "        google.colab.kernel.accessAllowed ? 'block' : 'none';\n",
              "\n",
              "      async function convertToInteractive(key) {\n",
              "        const element = document.querySelector('#df-c940dc98-320a-43f2-b0fd-a8328891f5b7');\n",
              "        const dataTable =\n",
              "          await google.colab.kernel.invokeFunction('convertToInteractive',\n",
              "                                                    [key], {});\n",
              "        if (!dataTable) return;\n",
              "\n",
              "        const docLinkHtml = 'Like what you see? Visit the ' +\n",
              "          '<a target=\"_blank\" href=https://colab.research.google.com/notebooks/data_table.ipynb>data table notebook</a>'\n",
              "          + ' to learn more about interactive tables.';\n",
              "        element.innerHTML = '';\n",
              "        dataTable['output_type'] = 'display_data';\n",
              "        await google.colab.output.renderOutput(dataTable, element);\n",
              "        const docLink = document.createElement('div');\n",
              "        docLink.innerHTML = docLinkHtml;\n",
              "        element.appendChild(docLink);\n",
              "      }\n",
              "    </script>\n",
              "  </div>\n",
              "\n",
              "\n",
              "<div id=\"df-bb51e9d9-95f1-49b2-85e4-56610d7c8275\">\n",
              "  <button class=\"colab-df-quickchart\" onclick=\"quickchart('df-bb51e9d9-95f1-49b2-85e4-56610d7c8275')\"\n",
              "            title=\"Suggest charts\"\n",
              "            style=\"display:none;\">\n",
              "\n",
              "<svg xmlns=\"http://www.w3.org/2000/svg\" height=\"24px\"viewBox=\"0 0 24 24\"\n",
              "     width=\"24px\">\n",
              "    <g>\n",
              "        <path d=\"M19 3H5c-1.1 0-2 .9-2 2v14c0 1.1.9 2 2 2h14c1.1 0 2-.9 2-2V5c0-1.1-.9-2-2-2zM9 17H7v-7h2v7zm4 0h-2V7h2v10zm4 0h-2v-4h2v4z\"/>\n",
              "    </g>\n",
              "</svg>\n",
              "  </button>\n",
              "\n",
              "<style>\n",
              "  .colab-df-quickchart {\n",
              "      --bg-color: #E8F0FE;\n",
              "      --fill-color: #1967D2;\n",
              "      --hover-bg-color: #E2EBFA;\n",
              "      --hover-fill-color: #174EA6;\n",
              "      --disabled-fill-color: #AAA;\n",
              "      --disabled-bg-color: #DDD;\n",
              "  }\n",
              "\n",
              "  [theme=dark] .colab-df-quickchart {\n",
              "      --bg-color: #3B4455;\n",
              "      --fill-color: #D2E3FC;\n",
              "      --hover-bg-color: #434B5C;\n",
              "      --hover-fill-color: #FFFFFF;\n",
              "      --disabled-bg-color: #3B4455;\n",
              "      --disabled-fill-color: #666;\n",
              "  }\n",
              "\n",
              "  .colab-df-quickchart {\n",
              "    background-color: var(--bg-color);\n",
              "    border: none;\n",
              "    border-radius: 50%;\n",
              "    cursor: pointer;\n",
              "    display: none;\n",
              "    fill: var(--fill-color);\n",
              "    height: 32px;\n",
              "    padding: 0;\n",
              "    width: 32px;\n",
              "  }\n",
              "\n",
              "  .colab-df-quickchart:hover {\n",
              "    background-color: var(--hover-bg-color);\n",
              "    box-shadow: 0 1px 2px rgba(60, 64, 67, 0.3), 0 1px 3px 1px rgba(60, 64, 67, 0.15);\n",
              "    fill: var(--button-hover-fill-color);\n",
              "  }\n",
              "\n",
              "  .colab-df-quickchart-complete:disabled,\n",
              "  .colab-df-quickchart-complete:disabled:hover {\n",
              "    background-color: var(--disabled-bg-color);\n",
              "    fill: var(--disabled-fill-color);\n",
              "    box-shadow: none;\n",
              "  }\n",
              "\n",
              "  .colab-df-spinner {\n",
              "    border: 2px solid var(--fill-color);\n",
              "    border-color: transparent;\n",
              "    border-bottom-color: var(--fill-color);\n",
              "    animation:\n",
              "      spin 1s steps(1) infinite;\n",
              "  }\n",
              "\n",
              "  @keyframes spin {\n",
              "    0% {\n",
              "      border-color: transparent;\n",
              "      border-bottom-color: var(--fill-color);\n",
              "      border-left-color: var(--fill-color);\n",
              "    }\n",
              "    20% {\n",
              "      border-color: transparent;\n",
              "      border-left-color: var(--fill-color);\n",
              "      border-top-color: var(--fill-color);\n",
              "    }\n",
              "    30% {\n",
              "      border-color: transparent;\n",
              "      border-left-color: var(--fill-color);\n",
              "      border-top-color: var(--fill-color);\n",
              "      border-right-color: var(--fill-color);\n",
              "    }\n",
              "    40% {\n",
              "      border-color: transparent;\n",
              "      border-right-color: var(--fill-color);\n",
              "      border-top-color: var(--fill-color);\n",
              "    }\n",
              "    60% {\n",
              "      border-color: transparent;\n",
              "      border-right-color: var(--fill-color);\n",
              "    }\n",
              "    80% {\n",
              "      border-color: transparent;\n",
              "      border-right-color: var(--fill-color);\n",
              "      border-bottom-color: var(--fill-color);\n",
              "    }\n",
              "    90% {\n",
              "      border-color: transparent;\n",
              "      border-bottom-color: var(--fill-color);\n",
              "    }\n",
              "  }\n",
              "</style>\n",
              "\n",
              "  <script>\n",
              "    async function quickchart(key) {\n",
              "      const quickchartButtonEl =\n",
              "        document.querySelector('#' + key + ' button');\n",
              "      quickchartButtonEl.disabled = true;  // To prevent multiple clicks.\n",
              "      quickchartButtonEl.classList.add('colab-df-spinner');\n",
              "      try {\n",
              "        const charts = await google.colab.kernel.invokeFunction(\n",
              "            'suggestCharts', [key], {});\n",
              "      } catch (error) {\n",
              "        console.error('Error during call to suggestCharts:', error);\n",
              "      }\n",
              "      quickchartButtonEl.classList.remove('colab-df-spinner');\n",
              "      quickchartButtonEl.classList.add('colab-df-quickchart-complete');\n",
              "    }\n",
              "    (() => {\n",
              "      let quickchartButtonEl =\n",
              "        document.querySelector('#df-bb51e9d9-95f1-49b2-85e4-56610d7c8275 button');\n",
              "      quickchartButtonEl.style.display =\n",
              "        google.colab.kernel.accessAllowed ? 'block' : 'none';\n",
              "    })();\n",
              "  </script>\n",
              "</div>\n",
              "\n",
              "    </div>\n",
              "  </div>\n"
            ]
          },
          "metadata": {},
          "execution_count": 25
        }
      ],
      "source": [
        "data = [{'a': i, 'b': 2 * i}\n",
        "        for i in range(3)]\n",
        "pd.DataFrame(data)"
      ]
    },
    {
      "cell_type": "markdown",
      "metadata": {
        "id": "1dKiDsiWghdu"
      },
      "source": [
        "Even if some keys in the dictionary are missing, Pandas will fill them in with `NaN` values (i.e., \"Not a Number\"; see [Handling Missing Data](03.04-Missing-Values.ipynb)):"
      ]
    },
    {
      "cell_type": "code",
      "execution_count": 26,
      "metadata": {
        "jupyter": {
          "outputs_hidden": false
        },
        "id": "z-f2ep3Qghdu",
        "outputId": "0dfed67c-1b9d-4785-af8d-f2738f6be0b6",
        "colab": {
          "base_uri": "https://localhost:8080/",
          "height": 112
        }
      },
      "outputs": [
        {
          "output_type": "execute_result",
          "data": {
            "text/plain": [
              "     a  b    c\n",
              "0  1.0  2  NaN\n",
              "1  NaN  3  4.0"
            ],
            "text/html": [
              "\n",
              "  <div id=\"df-0b35b981-2993-4698-8d1e-f3371a59a90a\" class=\"colab-df-container\">\n",
              "    <div>\n",
              "<style scoped>\n",
              "    .dataframe tbody tr th:only-of-type {\n",
              "        vertical-align: middle;\n",
              "    }\n",
              "\n",
              "    .dataframe tbody tr th {\n",
              "        vertical-align: top;\n",
              "    }\n",
              "\n",
              "    .dataframe thead th {\n",
              "        text-align: right;\n",
              "    }\n",
              "</style>\n",
              "<table border=\"1\" class=\"dataframe\">\n",
              "  <thead>\n",
              "    <tr style=\"text-align: right;\">\n",
              "      <th></th>\n",
              "      <th>a</th>\n",
              "      <th>b</th>\n",
              "      <th>c</th>\n",
              "    </tr>\n",
              "  </thead>\n",
              "  <tbody>\n",
              "    <tr>\n",
              "      <th>0</th>\n",
              "      <td>1.0</td>\n",
              "      <td>2</td>\n",
              "      <td>NaN</td>\n",
              "    </tr>\n",
              "    <tr>\n",
              "      <th>1</th>\n",
              "      <td>NaN</td>\n",
              "      <td>3</td>\n",
              "      <td>4.0</td>\n",
              "    </tr>\n",
              "  </tbody>\n",
              "</table>\n",
              "</div>\n",
              "    <div class=\"colab-df-buttons\">\n",
              "\n",
              "  <div class=\"colab-df-container\">\n",
              "    <button class=\"colab-df-convert\" onclick=\"convertToInteractive('df-0b35b981-2993-4698-8d1e-f3371a59a90a')\"\n",
              "            title=\"Convert this dataframe to an interactive table.\"\n",
              "            style=\"display:none;\">\n",
              "\n",
              "  <svg xmlns=\"http://www.w3.org/2000/svg\" height=\"24px\" viewBox=\"0 -960 960 960\">\n",
              "    <path d=\"M120-120v-720h720v720H120Zm60-500h600v-160H180v160Zm220 220h160v-160H400v160Zm0 220h160v-160H400v160ZM180-400h160v-160H180v160Zm440 0h160v-160H620v160ZM180-180h160v-160H180v160Zm440 0h160v-160H620v160Z\"/>\n",
              "  </svg>\n",
              "    </button>\n",
              "\n",
              "  <style>\n",
              "    .colab-df-container {\n",
              "      display:flex;\n",
              "      gap: 12px;\n",
              "    }\n",
              "\n",
              "    .colab-df-convert {\n",
              "      background-color: #E8F0FE;\n",
              "      border: none;\n",
              "      border-radius: 50%;\n",
              "      cursor: pointer;\n",
              "      display: none;\n",
              "      fill: #1967D2;\n",
              "      height: 32px;\n",
              "      padding: 0 0 0 0;\n",
              "      width: 32px;\n",
              "    }\n",
              "\n",
              "    .colab-df-convert:hover {\n",
              "      background-color: #E2EBFA;\n",
              "      box-shadow: 0px 1px 2px rgba(60, 64, 67, 0.3), 0px 1px 3px 1px rgba(60, 64, 67, 0.15);\n",
              "      fill: #174EA6;\n",
              "    }\n",
              "\n",
              "    .colab-df-buttons div {\n",
              "      margin-bottom: 4px;\n",
              "    }\n",
              "\n",
              "    [theme=dark] .colab-df-convert {\n",
              "      background-color: #3B4455;\n",
              "      fill: #D2E3FC;\n",
              "    }\n",
              "\n",
              "    [theme=dark] .colab-df-convert:hover {\n",
              "      background-color: #434B5C;\n",
              "      box-shadow: 0px 1px 3px 1px rgba(0, 0, 0, 0.15);\n",
              "      filter: drop-shadow(0px 1px 2px rgba(0, 0, 0, 0.3));\n",
              "      fill: #FFFFFF;\n",
              "    }\n",
              "  </style>\n",
              "\n",
              "    <script>\n",
              "      const buttonEl =\n",
              "        document.querySelector('#df-0b35b981-2993-4698-8d1e-f3371a59a90a button.colab-df-convert');\n",
              "      buttonEl.style.display =\n",
              "        google.colab.kernel.accessAllowed ? 'block' : 'none';\n",
              "\n",
              "      async function convertToInteractive(key) {\n",
              "        const element = document.querySelector('#df-0b35b981-2993-4698-8d1e-f3371a59a90a');\n",
              "        const dataTable =\n",
              "          await google.colab.kernel.invokeFunction('convertToInteractive',\n",
              "                                                    [key], {});\n",
              "        if (!dataTable) return;\n",
              "\n",
              "        const docLinkHtml = 'Like what you see? Visit the ' +\n",
              "          '<a target=\"_blank\" href=https://colab.research.google.com/notebooks/data_table.ipynb>data table notebook</a>'\n",
              "          + ' to learn more about interactive tables.';\n",
              "        element.innerHTML = '';\n",
              "        dataTable['output_type'] = 'display_data';\n",
              "        await google.colab.output.renderOutput(dataTable, element);\n",
              "        const docLink = document.createElement('div');\n",
              "        docLink.innerHTML = docLinkHtml;\n",
              "        element.appendChild(docLink);\n",
              "      }\n",
              "    </script>\n",
              "  </div>\n",
              "\n",
              "\n",
              "<div id=\"df-7a891e29-95b1-4a3f-a355-9d842c04ef3e\">\n",
              "  <button class=\"colab-df-quickchart\" onclick=\"quickchart('df-7a891e29-95b1-4a3f-a355-9d842c04ef3e')\"\n",
              "            title=\"Suggest charts\"\n",
              "            style=\"display:none;\">\n",
              "\n",
              "<svg xmlns=\"http://www.w3.org/2000/svg\" height=\"24px\"viewBox=\"0 0 24 24\"\n",
              "     width=\"24px\">\n",
              "    <g>\n",
              "        <path d=\"M19 3H5c-1.1 0-2 .9-2 2v14c0 1.1.9 2 2 2h14c1.1 0 2-.9 2-2V5c0-1.1-.9-2-2-2zM9 17H7v-7h2v7zm4 0h-2V7h2v10zm4 0h-2v-4h2v4z\"/>\n",
              "    </g>\n",
              "</svg>\n",
              "  </button>\n",
              "\n",
              "<style>\n",
              "  .colab-df-quickchart {\n",
              "      --bg-color: #E8F0FE;\n",
              "      --fill-color: #1967D2;\n",
              "      --hover-bg-color: #E2EBFA;\n",
              "      --hover-fill-color: #174EA6;\n",
              "      --disabled-fill-color: #AAA;\n",
              "      --disabled-bg-color: #DDD;\n",
              "  }\n",
              "\n",
              "  [theme=dark] .colab-df-quickchart {\n",
              "      --bg-color: #3B4455;\n",
              "      --fill-color: #D2E3FC;\n",
              "      --hover-bg-color: #434B5C;\n",
              "      --hover-fill-color: #FFFFFF;\n",
              "      --disabled-bg-color: #3B4455;\n",
              "      --disabled-fill-color: #666;\n",
              "  }\n",
              "\n",
              "  .colab-df-quickchart {\n",
              "    background-color: var(--bg-color);\n",
              "    border: none;\n",
              "    border-radius: 50%;\n",
              "    cursor: pointer;\n",
              "    display: none;\n",
              "    fill: var(--fill-color);\n",
              "    height: 32px;\n",
              "    padding: 0;\n",
              "    width: 32px;\n",
              "  }\n",
              "\n",
              "  .colab-df-quickchart:hover {\n",
              "    background-color: var(--hover-bg-color);\n",
              "    box-shadow: 0 1px 2px rgba(60, 64, 67, 0.3), 0 1px 3px 1px rgba(60, 64, 67, 0.15);\n",
              "    fill: var(--button-hover-fill-color);\n",
              "  }\n",
              "\n",
              "  .colab-df-quickchart-complete:disabled,\n",
              "  .colab-df-quickchart-complete:disabled:hover {\n",
              "    background-color: var(--disabled-bg-color);\n",
              "    fill: var(--disabled-fill-color);\n",
              "    box-shadow: none;\n",
              "  }\n",
              "\n",
              "  .colab-df-spinner {\n",
              "    border: 2px solid var(--fill-color);\n",
              "    border-color: transparent;\n",
              "    border-bottom-color: var(--fill-color);\n",
              "    animation:\n",
              "      spin 1s steps(1) infinite;\n",
              "  }\n",
              "\n",
              "  @keyframes spin {\n",
              "    0% {\n",
              "      border-color: transparent;\n",
              "      border-bottom-color: var(--fill-color);\n",
              "      border-left-color: var(--fill-color);\n",
              "    }\n",
              "    20% {\n",
              "      border-color: transparent;\n",
              "      border-left-color: var(--fill-color);\n",
              "      border-top-color: var(--fill-color);\n",
              "    }\n",
              "    30% {\n",
              "      border-color: transparent;\n",
              "      border-left-color: var(--fill-color);\n",
              "      border-top-color: var(--fill-color);\n",
              "      border-right-color: var(--fill-color);\n",
              "    }\n",
              "    40% {\n",
              "      border-color: transparent;\n",
              "      border-right-color: var(--fill-color);\n",
              "      border-top-color: var(--fill-color);\n",
              "    }\n",
              "    60% {\n",
              "      border-color: transparent;\n",
              "      border-right-color: var(--fill-color);\n",
              "    }\n",
              "    80% {\n",
              "      border-color: transparent;\n",
              "      border-right-color: var(--fill-color);\n",
              "      border-bottom-color: var(--fill-color);\n",
              "    }\n",
              "    90% {\n",
              "      border-color: transparent;\n",
              "      border-bottom-color: var(--fill-color);\n",
              "    }\n",
              "  }\n",
              "</style>\n",
              "\n",
              "  <script>\n",
              "    async function quickchart(key) {\n",
              "      const quickchartButtonEl =\n",
              "        document.querySelector('#' + key + ' button');\n",
              "      quickchartButtonEl.disabled = true;  // To prevent multiple clicks.\n",
              "      quickchartButtonEl.classList.add('colab-df-spinner');\n",
              "      try {\n",
              "        const charts = await google.colab.kernel.invokeFunction(\n",
              "            'suggestCharts', [key], {});\n",
              "      } catch (error) {\n",
              "        console.error('Error during call to suggestCharts:', error);\n",
              "      }\n",
              "      quickchartButtonEl.classList.remove('colab-df-spinner');\n",
              "      quickchartButtonEl.classList.add('colab-df-quickchart-complete');\n",
              "    }\n",
              "    (() => {\n",
              "      let quickchartButtonEl =\n",
              "        document.querySelector('#df-7a891e29-95b1-4a3f-a355-9d842c04ef3e button');\n",
              "      quickchartButtonEl.style.display =\n",
              "        google.colab.kernel.accessAllowed ? 'block' : 'none';\n",
              "    })();\n",
              "  </script>\n",
              "</div>\n",
              "\n",
              "    </div>\n",
              "  </div>\n"
            ]
          },
          "metadata": {},
          "execution_count": 26
        }
      ],
      "source": [
        "pd.DataFrame([{'a': 1, 'b': 2}, {'b': 3, 'c': 4}])"
      ]
    },
    {
      "cell_type": "markdown",
      "metadata": {
        "id": "FYjeM-J9ghdu"
      },
      "source": [
        "#### From a dictionary of Series objects\n",
        "\n",
        "As we saw before, a `DataFrame` can be constructed from a dictionary of `Series` objects as well:"
      ]
    },
    {
      "cell_type": "code",
      "execution_count": 27,
      "metadata": {
        "jupyter": {
          "outputs_hidden": false
        },
        "id": "CqCvzmkJghdv",
        "outputId": "80c8774f-e0ef-4ef7-f784-d7cdbb01d573",
        "colab": {
          "base_uri": "https://localhost:8080/",
          "height": 206
        }
      },
      "outputs": [
        {
          "output_type": "execute_result",
          "data": {
            "text/plain": [
              "              population    area\n",
              "California      39538223  423967\n",
              "Texas           29145505  695662\n",
              "Florida         21538187  170312\n",
              "New York        20201249  141297\n",
              "Pennsylvania    13002700  119280"
            ],
            "text/html": [
              "\n",
              "  <div id=\"df-ff26e2a5-cd37-42d1-8b95-2a39d426a236\" class=\"colab-df-container\">\n",
              "    <div>\n",
              "<style scoped>\n",
              "    .dataframe tbody tr th:only-of-type {\n",
              "        vertical-align: middle;\n",
              "    }\n",
              "\n",
              "    .dataframe tbody tr th {\n",
              "        vertical-align: top;\n",
              "    }\n",
              "\n",
              "    .dataframe thead th {\n",
              "        text-align: right;\n",
              "    }\n",
              "</style>\n",
              "<table border=\"1\" class=\"dataframe\">\n",
              "  <thead>\n",
              "    <tr style=\"text-align: right;\">\n",
              "      <th></th>\n",
              "      <th>population</th>\n",
              "      <th>area</th>\n",
              "    </tr>\n",
              "  </thead>\n",
              "  <tbody>\n",
              "    <tr>\n",
              "      <th>California</th>\n",
              "      <td>39538223</td>\n",
              "      <td>423967</td>\n",
              "    </tr>\n",
              "    <tr>\n",
              "      <th>Texas</th>\n",
              "      <td>29145505</td>\n",
              "      <td>695662</td>\n",
              "    </tr>\n",
              "    <tr>\n",
              "      <th>Florida</th>\n",
              "      <td>21538187</td>\n",
              "      <td>170312</td>\n",
              "    </tr>\n",
              "    <tr>\n",
              "      <th>New York</th>\n",
              "      <td>20201249</td>\n",
              "      <td>141297</td>\n",
              "    </tr>\n",
              "    <tr>\n",
              "      <th>Pennsylvania</th>\n",
              "      <td>13002700</td>\n",
              "      <td>119280</td>\n",
              "    </tr>\n",
              "  </tbody>\n",
              "</table>\n",
              "</div>\n",
              "    <div class=\"colab-df-buttons\">\n",
              "\n",
              "  <div class=\"colab-df-container\">\n",
              "    <button class=\"colab-df-convert\" onclick=\"convertToInteractive('df-ff26e2a5-cd37-42d1-8b95-2a39d426a236')\"\n",
              "            title=\"Convert this dataframe to an interactive table.\"\n",
              "            style=\"display:none;\">\n",
              "\n",
              "  <svg xmlns=\"http://www.w3.org/2000/svg\" height=\"24px\" viewBox=\"0 -960 960 960\">\n",
              "    <path d=\"M120-120v-720h720v720H120Zm60-500h600v-160H180v160Zm220 220h160v-160H400v160Zm0 220h160v-160H400v160ZM180-400h160v-160H180v160Zm440 0h160v-160H620v160ZM180-180h160v-160H180v160Zm440 0h160v-160H620v160Z\"/>\n",
              "  </svg>\n",
              "    </button>\n",
              "\n",
              "  <style>\n",
              "    .colab-df-container {\n",
              "      display:flex;\n",
              "      gap: 12px;\n",
              "    }\n",
              "\n",
              "    .colab-df-convert {\n",
              "      background-color: #E8F0FE;\n",
              "      border: none;\n",
              "      border-radius: 50%;\n",
              "      cursor: pointer;\n",
              "      display: none;\n",
              "      fill: #1967D2;\n",
              "      height: 32px;\n",
              "      padding: 0 0 0 0;\n",
              "      width: 32px;\n",
              "    }\n",
              "\n",
              "    .colab-df-convert:hover {\n",
              "      background-color: #E2EBFA;\n",
              "      box-shadow: 0px 1px 2px rgba(60, 64, 67, 0.3), 0px 1px 3px 1px rgba(60, 64, 67, 0.15);\n",
              "      fill: #174EA6;\n",
              "    }\n",
              "\n",
              "    .colab-df-buttons div {\n",
              "      margin-bottom: 4px;\n",
              "    }\n",
              "\n",
              "    [theme=dark] .colab-df-convert {\n",
              "      background-color: #3B4455;\n",
              "      fill: #D2E3FC;\n",
              "    }\n",
              "\n",
              "    [theme=dark] .colab-df-convert:hover {\n",
              "      background-color: #434B5C;\n",
              "      box-shadow: 0px 1px 3px 1px rgba(0, 0, 0, 0.15);\n",
              "      filter: drop-shadow(0px 1px 2px rgba(0, 0, 0, 0.3));\n",
              "      fill: #FFFFFF;\n",
              "    }\n",
              "  </style>\n",
              "\n",
              "    <script>\n",
              "      const buttonEl =\n",
              "        document.querySelector('#df-ff26e2a5-cd37-42d1-8b95-2a39d426a236 button.colab-df-convert');\n",
              "      buttonEl.style.display =\n",
              "        google.colab.kernel.accessAllowed ? 'block' : 'none';\n",
              "\n",
              "      async function convertToInteractive(key) {\n",
              "        const element = document.querySelector('#df-ff26e2a5-cd37-42d1-8b95-2a39d426a236');\n",
              "        const dataTable =\n",
              "          await google.colab.kernel.invokeFunction('convertToInteractive',\n",
              "                                                    [key], {});\n",
              "        if (!dataTable) return;\n",
              "\n",
              "        const docLinkHtml = 'Like what you see? Visit the ' +\n",
              "          '<a target=\"_blank\" href=https://colab.research.google.com/notebooks/data_table.ipynb>data table notebook</a>'\n",
              "          + ' to learn more about interactive tables.';\n",
              "        element.innerHTML = '';\n",
              "        dataTable['output_type'] = 'display_data';\n",
              "        await google.colab.output.renderOutput(dataTable, element);\n",
              "        const docLink = document.createElement('div');\n",
              "        docLink.innerHTML = docLinkHtml;\n",
              "        element.appendChild(docLink);\n",
              "      }\n",
              "    </script>\n",
              "  </div>\n",
              "\n",
              "\n",
              "<div id=\"df-f8b83afa-69f6-4de4-9b7f-0e7e883bfa7b\">\n",
              "  <button class=\"colab-df-quickchart\" onclick=\"quickchart('df-f8b83afa-69f6-4de4-9b7f-0e7e883bfa7b')\"\n",
              "            title=\"Suggest charts\"\n",
              "            style=\"display:none;\">\n",
              "\n",
              "<svg xmlns=\"http://www.w3.org/2000/svg\" height=\"24px\"viewBox=\"0 0 24 24\"\n",
              "     width=\"24px\">\n",
              "    <g>\n",
              "        <path d=\"M19 3H5c-1.1 0-2 .9-2 2v14c0 1.1.9 2 2 2h14c1.1 0 2-.9 2-2V5c0-1.1-.9-2-2-2zM9 17H7v-7h2v7zm4 0h-2V7h2v10zm4 0h-2v-4h2v4z\"/>\n",
              "    </g>\n",
              "</svg>\n",
              "  </button>\n",
              "\n",
              "<style>\n",
              "  .colab-df-quickchart {\n",
              "      --bg-color: #E8F0FE;\n",
              "      --fill-color: #1967D2;\n",
              "      --hover-bg-color: #E2EBFA;\n",
              "      --hover-fill-color: #174EA6;\n",
              "      --disabled-fill-color: #AAA;\n",
              "      --disabled-bg-color: #DDD;\n",
              "  }\n",
              "\n",
              "  [theme=dark] .colab-df-quickchart {\n",
              "      --bg-color: #3B4455;\n",
              "      --fill-color: #D2E3FC;\n",
              "      --hover-bg-color: #434B5C;\n",
              "      --hover-fill-color: #FFFFFF;\n",
              "      --disabled-bg-color: #3B4455;\n",
              "      --disabled-fill-color: #666;\n",
              "  }\n",
              "\n",
              "  .colab-df-quickchart {\n",
              "    background-color: var(--bg-color);\n",
              "    border: none;\n",
              "    border-radius: 50%;\n",
              "    cursor: pointer;\n",
              "    display: none;\n",
              "    fill: var(--fill-color);\n",
              "    height: 32px;\n",
              "    padding: 0;\n",
              "    width: 32px;\n",
              "  }\n",
              "\n",
              "  .colab-df-quickchart:hover {\n",
              "    background-color: var(--hover-bg-color);\n",
              "    box-shadow: 0 1px 2px rgba(60, 64, 67, 0.3), 0 1px 3px 1px rgba(60, 64, 67, 0.15);\n",
              "    fill: var(--button-hover-fill-color);\n",
              "  }\n",
              "\n",
              "  .colab-df-quickchart-complete:disabled,\n",
              "  .colab-df-quickchart-complete:disabled:hover {\n",
              "    background-color: var(--disabled-bg-color);\n",
              "    fill: var(--disabled-fill-color);\n",
              "    box-shadow: none;\n",
              "  }\n",
              "\n",
              "  .colab-df-spinner {\n",
              "    border: 2px solid var(--fill-color);\n",
              "    border-color: transparent;\n",
              "    border-bottom-color: var(--fill-color);\n",
              "    animation:\n",
              "      spin 1s steps(1) infinite;\n",
              "  }\n",
              "\n",
              "  @keyframes spin {\n",
              "    0% {\n",
              "      border-color: transparent;\n",
              "      border-bottom-color: var(--fill-color);\n",
              "      border-left-color: var(--fill-color);\n",
              "    }\n",
              "    20% {\n",
              "      border-color: transparent;\n",
              "      border-left-color: var(--fill-color);\n",
              "      border-top-color: var(--fill-color);\n",
              "    }\n",
              "    30% {\n",
              "      border-color: transparent;\n",
              "      border-left-color: var(--fill-color);\n",
              "      border-top-color: var(--fill-color);\n",
              "      border-right-color: var(--fill-color);\n",
              "    }\n",
              "    40% {\n",
              "      border-color: transparent;\n",
              "      border-right-color: var(--fill-color);\n",
              "      border-top-color: var(--fill-color);\n",
              "    }\n",
              "    60% {\n",
              "      border-color: transparent;\n",
              "      border-right-color: var(--fill-color);\n",
              "    }\n",
              "    80% {\n",
              "      border-color: transparent;\n",
              "      border-right-color: var(--fill-color);\n",
              "      border-bottom-color: var(--fill-color);\n",
              "    }\n",
              "    90% {\n",
              "      border-color: transparent;\n",
              "      border-bottom-color: var(--fill-color);\n",
              "    }\n",
              "  }\n",
              "</style>\n",
              "\n",
              "  <script>\n",
              "    async function quickchart(key) {\n",
              "      const quickchartButtonEl =\n",
              "        document.querySelector('#' + key + ' button');\n",
              "      quickchartButtonEl.disabled = true;  // To prevent multiple clicks.\n",
              "      quickchartButtonEl.classList.add('colab-df-spinner');\n",
              "      try {\n",
              "        const charts = await google.colab.kernel.invokeFunction(\n",
              "            'suggestCharts', [key], {});\n",
              "      } catch (error) {\n",
              "        console.error('Error during call to suggestCharts:', error);\n",
              "      }\n",
              "      quickchartButtonEl.classList.remove('colab-df-spinner');\n",
              "      quickchartButtonEl.classList.add('colab-df-quickchart-complete');\n",
              "    }\n",
              "    (() => {\n",
              "      let quickchartButtonEl =\n",
              "        document.querySelector('#df-f8b83afa-69f6-4de4-9b7f-0e7e883bfa7b button');\n",
              "      quickchartButtonEl.style.display =\n",
              "        google.colab.kernel.accessAllowed ? 'block' : 'none';\n",
              "    })();\n",
              "  </script>\n",
              "</div>\n",
              "\n",
              "    </div>\n",
              "  </div>\n"
            ]
          },
          "metadata": {},
          "execution_count": 27
        }
      ],
      "source": [
        "pd.DataFrame({'population': population,\n",
        "              'area': area})"
      ]
    },
    {
      "cell_type": "markdown",
      "metadata": {
        "id": "Um6FvCbnghdv"
      },
      "source": [
        "#### From a two-dimensional NumPy array\n",
        "\n",
        "Given a two-dimensional array of data, we can create a `DataFrame` with any specified column and index names.\n",
        "If omitted, an integer index will be used for each:"
      ]
    },
    {
      "cell_type": "code",
      "execution_count": 28,
      "metadata": {
        "jupyter": {
          "outputs_hidden": false
        },
        "id": "TRsNOjunghdv",
        "outputId": "f67ea934-061a-43f2-d80c-e6dd31644ea9",
        "colab": {
          "base_uri": "https://localhost:8080/",
          "height": 143
        }
      },
      "outputs": [
        {
          "output_type": "execute_result",
          "data": {
            "text/plain": [
              "        foo       bar\n",
              "a  0.542949  0.609616\n",
              "b  0.407089  0.591018\n",
              "c  0.552598  0.133480"
            ],
            "text/html": [
              "\n",
              "  <div id=\"df-dbcdadeb-cfcb-43ed-be68-1ac92357cdc2\" class=\"colab-df-container\">\n",
              "    <div>\n",
              "<style scoped>\n",
              "    .dataframe tbody tr th:only-of-type {\n",
              "        vertical-align: middle;\n",
              "    }\n",
              "\n",
              "    .dataframe tbody tr th {\n",
              "        vertical-align: top;\n",
              "    }\n",
              "\n",
              "    .dataframe thead th {\n",
              "        text-align: right;\n",
              "    }\n",
              "</style>\n",
              "<table border=\"1\" class=\"dataframe\">\n",
              "  <thead>\n",
              "    <tr style=\"text-align: right;\">\n",
              "      <th></th>\n",
              "      <th>foo</th>\n",
              "      <th>bar</th>\n",
              "    </tr>\n",
              "  </thead>\n",
              "  <tbody>\n",
              "    <tr>\n",
              "      <th>a</th>\n",
              "      <td>0.542949</td>\n",
              "      <td>0.609616</td>\n",
              "    </tr>\n",
              "    <tr>\n",
              "      <th>b</th>\n",
              "      <td>0.407089</td>\n",
              "      <td>0.591018</td>\n",
              "    </tr>\n",
              "    <tr>\n",
              "      <th>c</th>\n",
              "      <td>0.552598</td>\n",
              "      <td>0.133480</td>\n",
              "    </tr>\n",
              "  </tbody>\n",
              "</table>\n",
              "</div>\n",
              "    <div class=\"colab-df-buttons\">\n",
              "\n",
              "  <div class=\"colab-df-container\">\n",
              "    <button class=\"colab-df-convert\" onclick=\"convertToInteractive('df-dbcdadeb-cfcb-43ed-be68-1ac92357cdc2')\"\n",
              "            title=\"Convert this dataframe to an interactive table.\"\n",
              "            style=\"display:none;\">\n",
              "\n",
              "  <svg xmlns=\"http://www.w3.org/2000/svg\" height=\"24px\" viewBox=\"0 -960 960 960\">\n",
              "    <path d=\"M120-120v-720h720v720H120Zm60-500h600v-160H180v160Zm220 220h160v-160H400v160Zm0 220h160v-160H400v160ZM180-400h160v-160H180v160Zm440 0h160v-160H620v160ZM180-180h160v-160H180v160Zm440 0h160v-160H620v160Z\"/>\n",
              "  </svg>\n",
              "    </button>\n",
              "\n",
              "  <style>\n",
              "    .colab-df-container {\n",
              "      display:flex;\n",
              "      gap: 12px;\n",
              "    }\n",
              "\n",
              "    .colab-df-convert {\n",
              "      background-color: #E8F0FE;\n",
              "      border: none;\n",
              "      border-radius: 50%;\n",
              "      cursor: pointer;\n",
              "      display: none;\n",
              "      fill: #1967D2;\n",
              "      height: 32px;\n",
              "      padding: 0 0 0 0;\n",
              "      width: 32px;\n",
              "    }\n",
              "\n",
              "    .colab-df-convert:hover {\n",
              "      background-color: #E2EBFA;\n",
              "      box-shadow: 0px 1px 2px rgba(60, 64, 67, 0.3), 0px 1px 3px 1px rgba(60, 64, 67, 0.15);\n",
              "      fill: #174EA6;\n",
              "    }\n",
              "\n",
              "    .colab-df-buttons div {\n",
              "      margin-bottom: 4px;\n",
              "    }\n",
              "\n",
              "    [theme=dark] .colab-df-convert {\n",
              "      background-color: #3B4455;\n",
              "      fill: #D2E3FC;\n",
              "    }\n",
              "\n",
              "    [theme=dark] .colab-df-convert:hover {\n",
              "      background-color: #434B5C;\n",
              "      box-shadow: 0px 1px 3px 1px rgba(0, 0, 0, 0.15);\n",
              "      filter: drop-shadow(0px 1px 2px rgba(0, 0, 0, 0.3));\n",
              "      fill: #FFFFFF;\n",
              "    }\n",
              "  </style>\n",
              "\n",
              "    <script>\n",
              "      const buttonEl =\n",
              "        document.querySelector('#df-dbcdadeb-cfcb-43ed-be68-1ac92357cdc2 button.colab-df-convert');\n",
              "      buttonEl.style.display =\n",
              "        google.colab.kernel.accessAllowed ? 'block' : 'none';\n",
              "\n",
              "      async function convertToInteractive(key) {\n",
              "        const element = document.querySelector('#df-dbcdadeb-cfcb-43ed-be68-1ac92357cdc2');\n",
              "        const dataTable =\n",
              "          await google.colab.kernel.invokeFunction('convertToInteractive',\n",
              "                                                    [key], {});\n",
              "        if (!dataTable) return;\n",
              "\n",
              "        const docLinkHtml = 'Like what you see? Visit the ' +\n",
              "          '<a target=\"_blank\" href=https://colab.research.google.com/notebooks/data_table.ipynb>data table notebook</a>'\n",
              "          + ' to learn more about interactive tables.';\n",
              "        element.innerHTML = '';\n",
              "        dataTable['output_type'] = 'display_data';\n",
              "        await google.colab.output.renderOutput(dataTable, element);\n",
              "        const docLink = document.createElement('div');\n",
              "        docLink.innerHTML = docLinkHtml;\n",
              "        element.appendChild(docLink);\n",
              "      }\n",
              "    </script>\n",
              "  </div>\n",
              "\n",
              "\n",
              "<div id=\"df-d9b6750d-abb8-4cc3-8eff-fc767842e04a\">\n",
              "  <button class=\"colab-df-quickchart\" onclick=\"quickchart('df-d9b6750d-abb8-4cc3-8eff-fc767842e04a')\"\n",
              "            title=\"Suggest charts\"\n",
              "            style=\"display:none;\">\n",
              "\n",
              "<svg xmlns=\"http://www.w3.org/2000/svg\" height=\"24px\"viewBox=\"0 0 24 24\"\n",
              "     width=\"24px\">\n",
              "    <g>\n",
              "        <path d=\"M19 3H5c-1.1 0-2 .9-2 2v14c0 1.1.9 2 2 2h14c1.1 0 2-.9 2-2V5c0-1.1-.9-2-2-2zM9 17H7v-7h2v7zm4 0h-2V7h2v10zm4 0h-2v-4h2v4z\"/>\n",
              "    </g>\n",
              "</svg>\n",
              "  </button>\n",
              "\n",
              "<style>\n",
              "  .colab-df-quickchart {\n",
              "      --bg-color: #E8F0FE;\n",
              "      --fill-color: #1967D2;\n",
              "      --hover-bg-color: #E2EBFA;\n",
              "      --hover-fill-color: #174EA6;\n",
              "      --disabled-fill-color: #AAA;\n",
              "      --disabled-bg-color: #DDD;\n",
              "  }\n",
              "\n",
              "  [theme=dark] .colab-df-quickchart {\n",
              "      --bg-color: #3B4455;\n",
              "      --fill-color: #D2E3FC;\n",
              "      --hover-bg-color: #434B5C;\n",
              "      --hover-fill-color: #FFFFFF;\n",
              "      --disabled-bg-color: #3B4455;\n",
              "      --disabled-fill-color: #666;\n",
              "  }\n",
              "\n",
              "  .colab-df-quickchart {\n",
              "    background-color: var(--bg-color);\n",
              "    border: none;\n",
              "    border-radius: 50%;\n",
              "    cursor: pointer;\n",
              "    display: none;\n",
              "    fill: var(--fill-color);\n",
              "    height: 32px;\n",
              "    padding: 0;\n",
              "    width: 32px;\n",
              "  }\n",
              "\n",
              "  .colab-df-quickchart:hover {\n",
              "    background-color: var(--hover-bg-color);\n",
              "    box-shadow: 0 1px 2px rgba(60, 64, 67, 0.3), 0 1px 3px 1px rgba(60, 64, 67, 0.15);\n",
              "    fill: var(--button-hover-fill-color);\n",
              "  }\n",
              "\n",
              "  .colab-df-quickchart-complete:disabled,\n",
              "  .colab-df-quickchart-complete:disabled:hover {\n",
              "    background-color: var(--disabled-bg-color);\n",
              "    fill: var(--disabled-fill-color);\n",
              "    box-shadow: none;\n",
              "  }\n",
              "\n",
              "  .colab-df-spinner {\n",
              "    border: 2px solid var(--fill-color);\n",
              "    border-color: transparent;\n",
              "    border-bottom-color: var(--fill-color);\n",
              "    animation:\n",
              "      spin 1s steps(1) infinite;\n",
              "  }\n",
              "\n",
              "  @keyframes spin {\n",
              "    0% {\n",
              "      border-color: transparent;\n",
              "      border-bottom-color: var(--fill-color);\n",
              "      border-left-color: var(--fill-color);\n",
              "    }\n",
              "    20% {\n",
              "      border-color: transparent;\n",
              "      border-left-color: var(--fill-color);\n",
              "      border-top-color: var(--fill-color);\n",
              "    }\n",
              "    30% {\n",
              "      border-color: transparent;\n",
              "      border-left-color: var(--fill-color);\n",
              "      border-top-color: var(--fill-color);\n",
              "      border-right-color: var(--fill-color);\n",
              "    }\n",
              "    40% {\n",
              "      border-color: transparent;\n",
              "      border-right-color: var(--fill-color);\n",
              "      border-top-color: var(--fill-color);\n",
              "    }\n",
              "    60% {\n",
              "      border-color: transparent;\n",
              "      border-right-color: var(--fill-color);\n",
              "    }\n",
              "    80% {\n",
              "      border-color: transparent;\n",
              "      border-right-color: var(--fill-color);\n",
              "      border-bottom-color: var(--fill-color);\n",
              "    }\n",
              "    90% {\n",
              "      border-color: transparent;\n",
              "      border-bottom-color: var(--fill-color);\n",
              "    }\n",
              "  }\n",
              "</style>\n",
              "\n",
              "  <script>\n",
              "    async function quickchart(key) {\n",
              "      const quickchartButtonEl =\n",
              "        document.querySelector('#' + key + ' button');\n",
              "      quickchartButtonEl.disabled = true;  // To prevent multiple clicks.\n",
              "      quickchartButtonEl.classList.add('colab-df-spinner');\n",
              "      try {\n",
              "        const charts = await google.colab.kernel.invokeFunction(\n",
              "            'suggestCharts', [key], {});\n",
              "      } catch (error) {\n",
              "        console.error('Error during call to suggestCharts:', error);\n",
              "      }\n",
              "      quickchartButtonEl.classList.remove('colab-df-spinner');\n",
              "      quickchartButtonEl.classList.add('colab-df-quickchart-complete');\n",
              "    }\n",
              "    (() => {\n",
              "      let quickchartButtonEl =\n",
              "        document.querySelector('#df-d9b6750d-abb8-4cc3-8eff-fc767842e04a button');\n",
              "      quickchartButtonEl.style.display =\n",
              "        google.colab.kernel.accessAllowed ? 'block' : 'none';\n",
              "    })();\n",
              "  </script>\n",
              "</div>\n",
              "\n",
              "    </div>\n",
              "  </div>\n"
            ]
          },
          "metadata": {},
          "execution_count": 28
        }
      ],
      "source": [
        "pd.DataFrame(np.random.rand(3, 2),\n",
        "             columns=['foo', 'bar'],\n",
        "             index=['a', 'b', 'c'])"
      ]
    },
    {
      "cell_type": "markdown",
      "metadata": {
        "id": "E-DYmo3Cghdv"
      },
      "source": [
        "#### From a NumPy structured array\n",
        "\n",
        "We covered structured arrays in [Structured Data: NumPy's Structured Arrays](02.09-Structured-Data-NumPy.ipynb).\n",
        "A Pandas `DataFrame` operates much like a structured array, and can be created directly from one:"
      ]
    },
    {
      "cell_type": "code",
      "execution_count": 29,
      "metadata": {
        "jupyter": {
          "outputs_hidden": false
        },
        "id": "Eh16I-Hmghdw",
        "outputId": "ca1656a7-1a50-496d-8785-f665dec6ae9f",
        "colab": {
          "base_uri": "https://localhost:8080/"
        }
      },
      "outputs": [
        {
          "output_type": "execute_result",
          "data": {
            "text/plain": [
              "array([(0, 0.), (0, 0.), (0, 0.)], dtype=[('A', '<i8'), ('B', '<f8')])"
            ]
          },
          "metadata": {},
          "execution_count": 29
        }
      ],
      "source": [
        "A = np.zeros(3, dtype=[('A', 'i8'), ('B', 'f8')])\n",
        "A"
      ]
    },
    {
      "cell_type": "code",
      "execution_count": 30,
      "metadata": {
        "jupyter": {
          "outputs_hidden": false
        },
        "id": "zgflZ2mAghdw",
        "outputId": "e1e754af-93a9-4749-f040-161507807ff3",
        "colab": {
          "base_uri": "https://localhost:8080/",
          "height": 143
        }
      },
      "outputs": [
        {
          "output_type": "execute_result",
          "data": {
            "text/plain": [
              "   A    B\n",
              "0  0  0.0\n",
              "1  0  0.0\n",
              "2  0  0.0"
            ],
            "text/html": [
              "\n",
              "  <div id=\"df-42e2ceb1-32fb-4034-9c88-4875a58f1957\" class=\"colab-df-container\">\n",
              "    <div>\n",
              "<style scoped>\n",
              "    .dataframe tbody tr th:only-of-type {\n",
              "        vertical-align: middle;\n",
              "    }\n",
              "\n",
              "    .dataframe tbody tr th {\n",
              "        vertical-align: top;\n",
              "    }\n",
              "\n",
              "    .dataframe thead th {\n",
              "        text-align: right;\n",
              "    }\n",
              "</style>\n",
              "<table border=\"1\" class=\"dataframe\">\n",
              "  <thead>\n",
              "    <tr style=\"text-align: right;\">\n",
              "      <th></th>\n",
              "      <th>A</th>\n",
              "      <th>B</th>\n",
              "    </tr>\n",
              "  </thead>\n",
              "  <tbody>\n",
              "    <tr>\n",
              "      <th>0</th>\n",
              "      <td>0</td>\n",
              "      <td>0.0</td>\n",
              "    </tr>\n",
              "    <tr>\n",
              "      <th>1</th>\n",
              "      <td>0</td>\n",
              "      <td>0.0</td>\n",
              "    </tr>\n",
              "    <tr>\n",
              "      <th>2</th>\n",
              "      <td>0</td>\n",
              "      <td>0.0</td>\n",
              "    </tr>\n",
              "  </tbody>\n",
              "</table>\n",
              "</div>\n",
              "    <div class=\"colab-df-buttons\">\n",
              "\n",
              "  <div class=\"colab-df-container\">\n",
              "    <button class=\"colab-df-convert\" onclick=\"convertToInteractive('df-42e2ceb1-32fb-4034-9c88-4875a58f1957')\"\n",
              "            title=\"Convert this dataframe to an interactive table.\"\n",
              "            style=\"display:none;\">\n",
              "\n",
              "  <svg xmlns=\"http://www.w3.org/2000/svg\" height=\"24px\" viewBox=\"0 -960 960 960\">\n",
              "    <path d=\"M120-120v-720h720v720H120Zm60-500h600v-160H180v160Zm220 220h160v-160H400v160Zm0 220h160v-160H400v160ZM180-400h160v-160H180v160Zm440 0h160v-160H620v160ZM180-180h160v-160H180v160Zm440 0h160v-160H620v160Z\"/>\n",
              "  </svg>\n",
              "    </button>\n",
              "\n",
              "  <style>\n",
              "    .colab-df-container {\n",
              "      display:flex;\n",
              "      gap: 12px;\n",
              "    }\n",
              "\n",
              "    .colab-df-convert {\n",
              "      background-color: #E8F0FE;\n",
              "      border: none;\n",
              "      border-radius: 50%;\n",
              "      cursor: pointer;\n",
              "      display: none;\n",
              "      fill: #1967D2;\n",
              "      height: 32px;\n",
              "      padding: 0 0 0 0;\n",
              "      width: 32px;\n",
              "    }\n",
              "\n",
              "    .colab-df-convert:hover {\n",
              "      background-color: #E2EBFA;\n",
              "      box-shadow: 0px 1px 2px rgba(60, 64, 67, 0.3), 0px 1px 3px 1px rgba(60, 64, 67, 0.15);\n",
              "      fill: #174EA6;\n",
              "    }\n",
              "\n",
              "    .colab-df-buttons div {\n",
              "      margin-bottom: 4px;\n",
              "    }\n",
              "\n",
              "    [theme=dark] .colab-df-convert {\n",
              "      background-color: #3B4455;\n",
              "      fill: #D2E3FC;\n",
              "    }\n",
              "\n",
              "    [theme=dark] .colab-df-convert:hover {\n",
              "      background-color: #434B5C;\n",
              "      box-shadow: 0px 1px 3px 1px rgba(0, 0, 0, 0.15);\n",
              "      filter: drop-shadow(0px 1px 2px rgba(0, 0, 0, 0.3));\n",
              "      fill: #FFFFFF;\n",
              "    }\n",
              "  </style>\n",
              "\n",
              "    <script>\n",
              "      const buttonEl =\n",
              "        document.querySelector('#df-42e2ceb1-32fb-4034-9c88-4875a58f1957 button.colab-df-convert');\n",
              "      buttonEl.style.display =\n",
              "        google.colab.kernel.accessAllowed ? 'block' : 'none';\n",
              "\n",
              "      async function convertToInteractive(key) {\n",
              "        const element = document.querySelector('#df-42e2ceb1-32fb-4034-9c88-4875a58f1957');\n",
              "        const dataTable =\n",
              "          await google.colab.kernel.invokeFunction('convertToInteractive',\n",
              "                                                    [key], {});\n",
              "        if (!dataTable) return;\n",
              "\n",
              "        const docLinkHtml = 'Like what you see? Visit the ' +\n",
              "          '<a target=\"_blank\" href=https://colab.research.google.com/notebooks/data_table.ipynb>data table notebook</a>'\n",
              "          + ' to learn more about interactive tables.';\n",
              "        element.innerHTML = '';\n",
              "        dataTable['output_type'] = 'display_data';\n",
              "        await google.colab.output.renderOutput(dataTable, element);\n",
              "        const docLink = document.createElement('div');\n",
              "        docLink.innerHTML = docLinkHtml;\n",
              "        element.appendChild(docLink);\n",
              "      }\n",
              "    </script>\n",
              "  </div>\n",
              "\n",
              "\n",
              "<div id=\"df-4106da5e-a0f6-43e2-bf1b-038f8a27d790\">\n",
              "  <button class=\"colab-df-quickchart\" onclick=\"quickchart('df-4106da5e-a0f6-43e2-bf1b-038f8a27d790')\"\n",
              "            title=\"Suggest charts\"\n",
              "            style=\"display:none;\">\n",
              "\n",
              "<svg xmlns=\"http://www.w3.org/2000/svg\" height=\"24px\"viewBox=\"0 0 24 24\"\n",
              "     width=\"24px\">\n",
              "    <g>\n",
              "        <path d=\"M19 3H5c-1.1 0-2 .9-2 2v14c0 1.1.9 2 2 2h14c1.1 0 2-.9 2-2V5c0-1.1-.9-2-2-2zM9 17H7v-7h2v7zm4 0h-2V7h2v10zm4 0h-2v-4h2v4z\"/>\n",
              "    </g>\n",
              "</svg>\n",
              "  </button>\n",
              "\n",
              "<style>\n",
              "  .colab-df-quickchart {\n",
              "      --bg-color: #E8F0FE;\n",
              "      --fill-color: #1967D2;\n",
              "      --hover-bg-color: #E2EBFA;\n",
              "      --hover-fill-color: #174EA6;\n",
              "      --disabled-fill-color: #AAA;\n",
              "      --disabled-bg-color: #DDD;\n",
              "  }\n",
              "\n",
              "  [theme=dark] .colab-df-quickchart {\n",
              "      --bg-color: #3B4455;\n",
              "      --fill-color: #D2E3FC;\n",
              "      --hover-bg-color: #434B5C;\n",
              "      --hover-fill-color: #FFFFFF;\n",
              "      --disabled-bg-color: #3B4455;\n",
              "      --disabled-fill-color: #666;\n",
              "  }\n",
              "\n",
              "  .colab-df-quickchart {\n",
              "    background-color: var(--bg-color);\n",
              "    border: none;\n",
              "    border-radius: 50%;\n",
              "    cursor: pointer;\n",
              "    display: none;\n",
              "    fill: var(--fill-color);\n",
              "    height: 32px;\n",
              "    padding: 0;\n",
              "    width: 32px;\n",
              "  }\n",
              "\n",
              "  .colab-df-quickchart:hover {\n",
              "    background-color: var(--hover-bg-color);\n",
              "    box-shadow: 0 1px 2px rgba(60, 64, 67, 0.3), 0 1px 3px 1px rgba(60, 64, 67, 0.15);\n",
              "    fill: var(--button-hover-fill-color);\n",
              "  }\n",
              "\n",
              "  .colab-df-quickchart-complete:disabled,\n",
              "  .colab-df-quickchart-complete:disabled:hover {\n",
              "    background-color: var(--disabled-bg-color);\n",
              "    fill: var(--disabled-fill-color);\n",
              "    box-shadow: none;\n",
              "  }\n",
              "\n",
              "  .colab-df-spinner {\n",
              "    border: 2px solid var(--fill-color);\n",
              "    border-color: transparent;\n",
              "    border-bottom-color: var(--fill-color);\n",
              "    animation:\n",
              "      spin 1s steps(1) infinite;\n",
              "  }\n",
              "\n",
              "  @keyframes spin {\n",
              "    0% {\n",
              "      border-color: transparent;\n",
              "      border-bottom-color: var(--fill-color);\n",
              "      border-left-color: var(--fill-color);\n",
              "    }\n",
              "    20% {\n",
              "      border-color: transparent;\n",
              "      border-left-color: var(--fill-color);\n",
              "      border-top-color: var(--fill-color);\n",
              "    }\n",
              "    30% {\n",
              "      border-color: transparent;\n",
              "      border-left-color: var(--fill-color);\n",
              "      border-top-color: var(--fill-color);\n",
              "      border-right-color: var(--fill-color);\n",
              "    }\n",
              "    40% {\n",
              "      border-color: transparent;\n",
              "      border-right-color: var(--fill-color);\n",
              "      border-top-color: var(--fill-color);\n",
              "    }\n",
              "    60% {\n",
              "      border-color: transparent;\n",
              "      border-right-color: var(--fill-color);\n",
              "    }\n",
              "    80% {\n",
              "      border-color: transparent;\n",
              "      border-right-color: var(--fill-color);\n",
              "      border-bottom-color: var(--fill-color);\n",
              "    }\n",
              "    90% {\n",
              "      border-color: transparent;\n",
              "      border-bottom-color: var(--fill-color);\n",
              "    }\n",
              "  }\n",
              "</style>\n",
              "\n",
              "  <script>\n",
              "    async function quickchart(key) {\n",
              "      const quickchartButtonEl =\n",
              "        document.querySelector('#' + key + ' button');\n",
              "      quickchartButtonEl.disabled = true;  // To prevent multiple clicks.\n",
              "      quickchartButtonEl.classList.add('colab-df-spinner');\n",
              "      try {\n",
              "        const charts = await google.colab.kernel.invokeFunction(\n",
              "            'suggestCharts', [key], {});\n",
              "      } catch (error) {\n",
              "        console.error('Error during call to suggestCharts:', error);\n",
              "      }\n",
              "      quickchartButtonEl.classList.remove('colab-df-spinner');\n",
              "      quickchartButtonEl.classList.add('colab-df-quickchart-complete');\n",
              "    }\n",
              "    (() => {\n",
              "      let quickchartButtonEl =\n",
              "        document.querySelector('#df-4106da5e-a0f6-43e2-bf1b-038f8a27d790 button');\n",
              "      quickchartButtonEl.style.display =\n",
              "        google.colab.kernel.accessAllowed ? 'block' : 'none';\n",
              "    })();\n",
              "  </script>\n",
              "</div>\n",
              "\n",
              "    </div>\n",
              "  </div>\n"
            ]
          },
          "metadata": {},
          "execution_count": 30
        }
      ],
      "source": [
        "pd.DataFrame(A)"
      ]
    },
    {
      "cell_type": "markdown",
      "metadata": {
        "id": "vyCC_Bx6ghdw"
      },
      "source": [
        "## The Pandas Index Object\n",
        "\n",
        "As you've seen, the `Series` and `DataFrame` objects both contain an explicit *index* that lets you reference and modify data.\n",
        "This `Index` object is an interesting structure in itself, and it can be thought of either as an *immutable array* or as an *ordered set* (technically a multiset, as `Index` objects may contain repeated values).\n",
        "Those views have some interesting consequences in terms of the operations available on `Index` objects.\n",
        "As a simple example, let's construct an `Index` from a list of integers:"
      ]
    },
    {
      "cell_type": "code",
      "execution_count": 31,
      "metadata": {
        "jupyter": {
          "outputs_hidden": false
        },
        "id": "lMAXAXPhghdw",
        "outputId": "4eebc91f-f403-4678-b4e4-106b8325083c",
        "colab": {
          "base_uri": "https://localhost:8080/"
        }
      },
      "outputs": [
        {
          "output_type": "execute_result",
          "data": {
            "text/plain": [
              "Int64Index([2, 3, 5, 7, 11], dtype='int64')"
            ]
          },
          "metadata": {},
          "execution_count": 31
        }
      ],
      "source": [
        "ind = pd.Index([2, 3, 5, 7, 11])\n",
        "ind"
      ]
    },
    {
      "cell_type": "markdown",
      "metadata": {
        "id": "kK8CjNZyghdx"
      },
      "source": [
        "### Index as Immutable Array\n",
        "\n",
        "The `Index` in many ways operates like an array.\n",
        "For example, we can use standard Python indexing notation to retrieve values or slices:"
      ]
    },
    {
      "cell_type": "code",
      "execution_count": 32,
      "metadata": {
        "jupyter": {
          "outputs_hidden": false
        },
        "id": "mbDUobpGghdx",
        "outputId": "4f9c04e5-fe24-45f2-a12a-ef52a665ab0b",
        "colab": {
          "base_uri": "https://localhost:8080/"
        }
      },
      "outputs": [
        {
          "output_type": "execute_result",
          "data": {
            "text/plain": [
              "3"
            ]
          },
          "metadata": {},
          "execution_count": 32
        }
      ],
      "source": [
        "ind[1]"
      ]
    },
    {
      "cell_type": "code",
      "execution_count": 33,
      "metadata": {
        "jupyter": {
          "outputs_hidden": false
        },
        "id": "hi7QULI5ghdx",
        "outputId": "6a6d0b59-c1dd-444b-f7c4-be9fab3b7364",
        "colab": {
          "base_uri": "https://localhost:8080/"
        }
      },
      "outputs": [
        {
          "output_type": "execute_result",
          "data": {
            "text/plain": [
              "Int64Index([2, 5, 11], dtype='int64')"
            ]
          },
          "metadata": {},
          "execution_count": 33
        }
      ],
      "source": [
        "ind[::2]"
      ]
    },
    {
      "cell_type": "markdown",
      "metadata": {
        "id": "OfLrFtcPghdx"
      },
      "source": [
        "`Index` objects also have many of the attributes familiar from NumPy arrays:"
      ]
    },
    {
      "cell_type": "code",
      "execution_count": 34,
      "metadata": {
        "jupyter": {
          "outputs_hidden": false
        },
        "id": "5uY1pfYKghdy",
        "outputId": "dbef9901-ff47-4795-8424-90e1ff65079a",
        "colab": {
          "base_uri": "https://localhost:8080/"
        }
      },
      "outputs": [
        {
          "output_type": "stream",
          "name": "stdout",
          "text": [
            "5 (5,) 1 int64\n"
          ]
        }
      ],
      "source": [
        "print(ind.size, ind.shape, ind.ndim, ind.dtype)"
      ]
    },
    {
      "cell_type": "markdown",
      "metadata": {
        "id": "CUP-r8hUghdy"
      },
      "source": [
        "One difference between `Index` objects and NumPy arrays is that the indices are immutable—that is, they cannot be modified via the normal means:"
      ]
    },
    {
      "cell_type": "code",
      "execution_count": null,
      "metadata": {
        "jupyter": {
          "outputs_hidden": false
        },
        "id": "wFeim0pAghdy",
        "outputId": "3e11f556-f692-4384-ef73-244c5dc7a8e7"
      },
      "outputs": [
        {
          "ename": "TypeError",
          "evalue": "Index does not support mutable operations",
          "output_type": "error",
          "traceback": [
            "\u001b[0;31m---------------------------------------------------------------------------\u001b[0m",
            "\u001b[0;31mTypeError\u001b[0m                                 Traceback (most recent call last)",
            "\u001b[0;32m/var/folders/xc/sptt9bk14s34rgxt7453p03r0000gp/T/ipykernel_83282/393126374.py\u001b[0m in \u001b[0;36m<module>\u001b[0;34m\u001b[0m\n\u001b[0;32m----> 1\u001b[0;31m \u001b[0mind\u001b[0m\u001b[0;34m[\u001b[0m\u001b[0;36m1\u001b[0m\u001b[0;34m]\u001b[0m \u001b[0;34m=\u001b[0m \u001b[0;36m0\u001b[0m\u001b[0;34m\u001b[0m\u001b[0;34m\u001b[0m\u001b[0m\n\u001b[0m",
            "\u001b[0;32m~/.local/share/virtualenvs/python-data-science-handbook-2e-u_kwqDTB/lib/python3.9/site-packages/pandas/core/indexes/base.py\u001b[0m in \u001b[0;36m__setitem__\u001b[0;34m(self, key, value)\u001b[0m\n\u001b[1;32m   4583\u001b[0m     \u001b[0;34m@\u001b[0m\u001b[0mfinal\u001b[0m\u001b[0;34m\u001b[0m\u001b[0;34m\u001b[0m\u001b[0m\n\u001b[1;32m   4584\u001b[0m     \u001b[0;32mdef\u001b[0m \u001b[0m__setitem__\u001b[0m\u001b[0;34m(\u001b[0m\u001b[0mself\u001b[0m\u001b[0;34m,\u001b[0m \u001b[0mkey\u001b[0m\u001b[0;34m,\u001b[0m \u001b[0mvalue\u001b[0m\u001b[0;34m)\u001b[0m\u001b[0;34m:\u001b[0m\u001b[0;34m\u001b[0m\u001b[0;34m\u001b[0m\u001b[0m\n\u001b[0;32m-> 4585\u001b[0;31m         \u001b[0;32mraise\u001b[0m \u001b[0mTypeError\u001b[0m\u001b[0;34m(\u001b[0m\u001b[0;34m\"Index does not support mutable operations\"\u001b[0m\u001b[0;34m)\u001b[0m\u001b[0;34m\u001b[0m\u001b[0;34m\u001b[0m\u001b[0m\n\u001b[0m\u001b[1;32m   4586\u001b[0m \u001b[0;34m\u001b[0m\u001b[0m\n\u001b[1;32m   4587\u001b[0m     \u001b[0;32mdef\u001b[0m \u001b[0m__getitem__\u001b[0m\u001b[0;34m(\u001b[0m\u001b[0mself\u001b[0m\u001b[0;34m,\u001b[0m \u001b[0mkey\u001b[0m\u001b[0;34m)\u001b[0m\u001b[0;34m:\u001b[0m\u001b[0;34m\u001b[0m\u001b[0;34m\u001b[0m\u001b[0m\n",
            "\u001b[0;31mTypeError\u001b[0m: Index does not support mutable operations"
          ]
        }
      ],
      "source": [
        "ind[1] = 0"
      ]
    },
    {
      "cell_type": "markdown",
      "metadata": {
        "id": "LdxQmMEjghdy"
      },
      "source": [
        "This immutability makes it safer to share indices between multiple ``DataFrame``s and arrays, without the potential for side effects from inadvertent index modification."
      ]
    },
    {
      "cell_type": "markdown",
      "metadata": {
        "id": "vmelmsMFghdz"
      },
      "source": [
        "### Index as Ordered Set\n",
        "\n",
        "Pandas objects are designed to facilitate operations such as joins across datasets, which depend on many aspects of set arithmetic.\n",
        "The `Index` object follows many of the conventions used by Python's built-in `set` data structure, so that unions, intersections, differences, and other combinations can be computed in a familiar way:"
      ]
    },
    {
      "cell_type": "code",
      "execution_count": 35,
      "metadata": {
        "jupyter": {
          "outputs_hidden": false
        },
        "id": "lYMP4tvtghdz"
      },
      "outputs": [],
      "source": [
        "indA = pd.Index([1, 3, 5, 7, 9])\n",
        "indB = pd.Index([2, 3, 5, 7, 11])"
      ]
    },
    {
      "cell_type": "code",
      "execution_count": 36,
      "metadata": {
        "jupyter": {
          "outputs_hidden": false
        },
        "id": "7UHNw6KLghdz",
        "outputId": "f8647d20-e2f0-4829-a295-83e0e647ff4d",
        "colab": {
          "base_uri": "https://localhost:8080/"
        }
      },
      "outputs": [
        {
          "output_type": "execute_result",
          "data": {
            "text/plain": [
              "Int64Index([3, 5, 7], dtype='int64')"
            ]
          },
          "metadata": {},
          "execution_count": 36
        }
      ],
      "source": [
        "indA.intersection(indB)"
      ]
    },
    {
      "cell_type": "code",
      "execution_count": 37,
      "metadata": {
        "jupyter": {
          "outputs_hidden": false
        },
        "id": "i_Oxu0D4ghd0",
        "outputId": "6153267b-247b-47d2-dfdb-3be8af2263e4",
        "colab": {
          "base_uri": "https://localhost:8080/"
        }
      },
      "outputs": [
        {
          "output_type": "execute_result",
          "data": {
            "text/plain": [
              "Int64Index([1, 2, 3, 5, 7, 9, 11], dtype='int64')"
            ]
          },
          "metadata": {},
          "execution_count": 37
        }
      ],
      "source": [
        "indA.union(indB)"
      ]
    },
    {
      "cell_type": "code",
      "execution_count": 38,
      "metadata": {
        "jupyter": {
          "outputs_hidden": false
        },
        "id": "XJM5R_oughd0",
        "outputId": "bf3fc3f3-feb0-40ad-d22e-d346e0977706",
        "colab": {
          "base_uri": "https://localhost:8080/"
        }
      },
      "outputs": [
        {
          "output_type": "execute_result",
          "data": {
            "text/plain": [
              "Int64Index([1, 2, 9, 11], dtype='int64')"
            ]
          },
          "metadata": {},
          "execution_count": 38
        }
      ],
      "source": [
        "indA.symmetric_difference(indB)"
      ]
    }
  ],
  "metadata": {
    "anaconda-cloud": {},
    "jupytext": {
      "formats": "ipynb,md"
    },
    "kernelspec": {
      "display_name": "Python 3 (ipykernel)",
      "language": "python",
      "name": "python3"
    },
    "language_info": {
      "codemirror_mode": {
        "name": "ipython",
        "version": 3
      },
      "file_extension": ".py",
      "mimetype": "text/x-python",
      "name": "python",
      "nbconvert_exporter": "python",
      "pygments_lexer": "ipython3",
      "version": "3.9.2"
    },
    "colab": {
      "provenance": []
    }
  },
  "nbformat": 4,
  "nbformat_minor": 0
}